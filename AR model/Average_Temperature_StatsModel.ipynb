{
  "nbformat": 4,
  "nbformat_minor": 0,
  "metadata": {
    "colab": {
      "provenance": []
    },
    "kernelspec": {
      "name": "python3",
      "display_name": "Python 3"
    },
    "language_info": {
      "name": "python"
    }
  },
  "cells": [
    {
      "cell_type": "code",
      "execution_count": 1,
      "metadata": {
        "id": "AYc0SdL-VMaP"
      },
      "outputs": [],
      "source": [
        "import pandas as pd\n",
        "import numpy as np\n",
        "import matplotlib.pyplot as plt\n",
        "import plotly.express as px\n",
        "import plotly.graph_objects as go\n",
        "from plotly.subplots import make_subplots\n",
        "import warnings\n",
        "warnings.filterwarnings('ignore')"
      ]
    },
    {
      "cell_type": "code",
      "source": [
        "df = pd.read_csv('data_24july.csv', header = 1, index_col = 'Date/Time')\n",
        "df.head()"
      ],
      "metadata": {
        "colab": {
          "base_uri": "https://localhost:8080/",
          "height": 311
        },
        "id": "PN6n9wz5Va1E",
        "outputId": "6c803500-05d0-4622-bebb-2a6894e7e3ff"
      },
      "execution_count": 2,
      "outputs": [
        {
          "output_type": "execute_result",
          "data": {
            "text/plain": [
              "                       avg    max    min  avg.1  min.1  avg.2  avg.3  min.2  \\\n",
              "Date/Time                                                                     \n",
              "2023-07-24 20:00:00  22.57  22.68  22.49   22.5   22.4      0   0.00   0.00   \n",
              "2023-07-24 19:00:00  22.98  23.48  22.58   22.5   22.3      0   0.07   0.00   \n",
              "2023-07-24 18:00:00  23.38  23.66  23.27   22.9   22.6     45   0.07   0.03   \n",
              "2023-07-24 17:00:00  24.01  24.47  23.76   22.9   22.8     74   0.18   0.13   \n",
              "2023-07-24 16:00:00  24.34  24.93  23.93   23.2   23.0    133   0.19   0.07   \n",
              "\n",
              "                     avg.4   max.1  ...  max.9  min.9  last.1  last.2  avg.23  \\\n",
              "Date/Time                           ...                                         \n",
              "2023-07-24 20:00:00  99.97  100.00  ...   25.5   25.5     0.0    6514       0   \n",
              "2023-07-24 19:00:00  97.55  100.00  ...   25.6   25.5     0.0    6528       0   \n",
              "2023-07-24 18:00:00  97.36   98.83  ...   25.5   25.5  1150.0    6559       0   \n",
              "2023-07-24 17:00:00  93.75   95.47  ...   25.5   25.5  5075.0    6588       1   \n",
              "2023-07-24 16:00:00  93.63   97.48  ...   25.6   25.5  6849.0    6636       1   \n",
              "\n",
              "                     max.10  min.10  time.1  Daily ET0 [mm]  Unnamed: 54  \n",
              "Date/Time                                                                 \n",
              "2023-07-24 20:00:00       0       0       0             NaN          NaN  \n",
              "2023-07-24 19:00:00       1       0       0             NaN          NaN  \n",
              "2023-07-24 18:00:00       1       0       0             NaN          NaN  \n",
              "2023-07-24 17:00:00       1       1       0             NaN          NaN  \n",
              "2023-07-24 16:00:00       1       0      35             NaN          NaN  \n",
              "\n",
              "[5 rows x 54 columns]"
            ],
            "text/html": [
              "\n",
              "\n",
              "  <div id=\"df-21c48a28-c438-4ec9-ae75-8fb64f9b073c\">\n",
              "    <div class=\"colab-df-container\">\n",
              "      <div>\n",
              "<style scoped>\n",
              "    .dataframe tbody tr th:only-of-type {\n",
              "        vertical-align: middle;\n",
              "    }\n",
              "\n",
              "    .dataframe tbody tr th {\n",
              "        vertical-align: top;\n",
              "    }\n",
              "\n",
              "    .dataframe thead th {\n",
              "        text-align: right;\n",
              "    }\n",
              "</style>\n",
              "<table border=\"1\" class=\"dataframe\">\n",
              "  <thead>\n",
              "    <tr style=\"text-align: right;\">\n",
              "      <th></th>\n",
              "      <th>avg</th>\n",
              "      <th>max</th>\n",
              "      <th>min</th>\n",
              "      <th>avg.1</th>\n",
              "      <th>min.1</th>\n",
              "      <th>avg.2</th>\n",
              "      <th>avg.3</th>\n",
              "      <th>min.2</th>\n",
              "      <th>avg.4</th>\n",
              "      <th>max.1</th>\n",
              "      <th>...</th>\n",
              "      <th>max.9</th>\n",
              "      <th>min.9</th>\n",
              "      <th>last.1</th>\n",
              "      <th>last.2</th>\n",
              "      <th>avg.23</th>\n",
              "      <th>max.10</th>\n",
              "      <th>min.10</th>\n",
              "      <th>time.1</th>\n",
              "      <th>Daily ET0 [mm]</th>\n",
              "      <th>Unnamed: 54</th>\n",
              "    </tr>\n",
              "    <tr>\n",
              "      <th>Date/Time</th>\n",
              "      <th></th>\n",
              "      <th></th>\n",
              "      <th></th>\n",
              "      <th></th>\n",
              "      <th></th>\n",
              "      <th></th>\n",
              "      <th></th>\n",
              "      <th></th>\n",
              "      <th></th>\n",
              "      <th></th>\n",
              "      <th></th>\n",
              "      <th></th>\n",
              "      <th></th>\n",
              "      <th></th>\n",
              "      <th></th>\n",
              "      <th></th>\n",
              "      <th></th>\n",
              "      <th></th>\n",
              "      <th></th>\n",
              "      <th></th>\n",
              "      <th></th>\n",
              "    </tr>\n",
              "  </thead>\n",
              "  <tbody>\n",
              "    <tr>\n",
              "      <th>2023-07-24 20:00:00</th>\n",
              "      <td>22.57</td>\n",
              "      <td>22.68</td>\n",
              "      <td>22.49</td>\n",
              "      <td>22.5</td>\n",
              "      <td>22.4</td>\n",
              "      <td>0</td>\n",
              "      <td>0.00</td>\n",
              "      <td>0.00</td>\n",
              "      <td>99.97</td>\n",
              "      <td>100.00</td>\n",
              "      <td>...</td>\n",
              "      <td>25.5</td>\n",
              "      <td>25.5</td>\n",
              "      <td>0.0</td>\n",
              "      <td>6514</td>\n",
              "      <td>0</td>\n",
              "      <td>0</td>\n",
              "      <td>0</td>\n",
              "      <td>0</td>\n",
              "      <td>NaN</td>\n",
              "      <td>NaN</td>\n",
              "    </tr>\n",
              "    <tr>\n",
              "      <th>2023-07-24 19:00:00</th>\n",
              "      <td>22.98</td>\n",
              "      <td>23.48</td>\n",
              "      <td>22.58</td>\n",
              "      <td>22.5</td>\n",
              "      <td>22.3</td>\n",
              "      <td>0</td>\n",
              "      <td>0.07</td>\n",
              "      <td>0.00</td>\n",
              "      <td>97.55</td>\n",
              "      <td>100.00</td>\n",
              "      <td>...</td>\n",
              "      <td>25.6</td>\n",
              "      <td>25.5</td>\n",
              "      <td>0.0</td>\n",
              "      <td>6528</td>\n",
              "      <td>0</td>\n",
              "      <td>1</td>\n",
              "      <td>0</td>\n",
              "      <td>0</td>\n",
              "      <td>NaN</td>\n",
              "      <td>NaN</td>\n",
              "    </tr>\n",
              "    <tr>\n",
              "      <th>2023-07-24 18:00:00</th>\n",
              "      <td>23.38</td>\n",
              "      <td>23.66</td>\n",
              "      <td>23.27</td>\n",
              "      <td>22.9</td>\n",
              "      <td>22.6</td>\n",
              "      <td>45</td>\n",
              "      <td>0.07</td>\n",
              "      <td>0.03</td>\n",
              "      <td>97.36</td>\n",
              "      <td>98.83</td>\n",
              "      <td>...</td>\n",
              "      <td>25.5</td>\n",
              "      <td>25.5</td>\n",
              "      <td>1150.0</td>\n",
              "      <td>6559</td>\n",
              "      <td>0</td>\n",
              "      <td>1</td>\n",
              "      <td>0</td>\n",
              "      <td>0</td>\n",
              "      <td>NaN</td>\n",
              "      <td>NaN</td>\n",
              "    </tr>\n",
              "    <tr>\n",
              "      <th>2023-07-24 17:00:00</th>\n",
              "      <td>24.01</td>\n",
              "      <td>24.47</td>\n",
              "      <td>23.76</td>\n",
              "      <td>22.9</td>\n",
              "      <td>22.8</td>\n",
              "      <td>74</td>\n",
              "      <td>0.18</td>\n",
              "      <td>0.13</td>\n",
              "      <td>93.75</td>\n",
              "      <td>95.47</td>\n",
              "      <td>...</td>\n",
              "      <td>25.5</td>\n",
              "      <td>25.5</td>\n",
              "      <td>5075.0</td>\n",
              "      <td>6588</td>\n",
              "      <td>1</td>\n",
              "      <td>1</td>\n",
              "      <td>1</td>\n",
              "      <td>0</td>\n",
              "      <td>NaN</td>\n",
              "      <td>NaN</td>\n",
              "    </tr>\n",
              "    <tr>\n",
              "      <th>2023-07-24 16:00:00</th>\n",
              "      <td>24.34</td>\n",
              "      <td>24.93</td>\n",
              "      <td>23.93</td>\n",
              "      <td>23.2</td>\n",
              "      <td>23.0</td>\n",
              "      <td>133</td>\n",
              "      <td>0.19</td>\n",
              "      <td>0.07</td>\n",
              "      <td>93.63</td>\n",
              "      <td>97.48</td>\n",
              "      <td>...</td>\n",
              "      <td>25.6</td>\n",
              "      <td>25.5</td>\n",
              "      <td>6849.0</td>\n",
              "      <td>6636</td>\n",
              "      <td>1</td>\n",
              "      <td>1</td>\n",
              "      <td>0</td>\n",
              "      <td>35</td>\n",
              "      <td>NaN</td>\n",
              "      <td>NaN</td>\n",
              "    </tr>\n",
              "  </tbody>\n",
              "</table>\n",
              "<p>5 rows × 54 columns</p>\n",
              "</div>\n",
              "      <button class=\"colab-df-convert\" onclick=\"convertToInteractive('df-21c48a28-c438-4ec9-ae75-8fb64f9b073c')\"\n",
              "              title=\"Convert this dataframe to an interactive table.\"\n",
              "              style=\"display:none;\">\n",
              "\n",
              "  <svg xmlns=\"http://www.w3.org/2000/svg\" height=\"24px\"viewBox=\"0 0 24 24\"\n",
              "       width=\"24px\">\n",
              "    <path d=\"M0 0h24v24H0V0z\" fill=\"none\"/>\n",
              "    <path d=\"M18.56 5.44l.94 2.06.94-2.06 2.06-.94-2.06-.94-.94-2.06-.94 2.06-2.06.94zm-11 1L8.5 8.5l.94-2.06 2.06-.94-2.06-.94L8.5 2.5l-.94 2.06-2.06.94zm10 10l.94 2.06.94-2.06 2.06-.94-2.06-.94-.94-2.06-.94 2.06-2.06.94z\"/><path d=\"M17.41 7.96l-1.37-1.37c-.4-.4-.92-.59-1.43-.59-.52 0-1.04.2-1.43.59L10.3 9.45l-7.72 7.72c-.78.78-.78 2.05 0 2.83L4 21.41c.39.39.9.59 1.41.59.51 0 1.02-.2 1.41-.59l7.78-7.78 2.81-2.81c.8-.78.8-2.07 0-2.86zM5.41 20L4 18.59l7.72-7.72 1.47 1.35L5.41 20z\"/>\n",
              "  </svg>\n",
              "      </button>\n",
              "\n",
              "\n",
              "\n",
              "    <div id=\"df-ba7fe73c-703b-409a-b045-4450ab67ec42\">\n",
              "      <button class=\"colab-df-quickchart\" onclick=\"quickchart('df-ba7fe73c-703b-409a-b045-4450ab67ec42')\"\n",
              "              title=\"Suggest charts.\"\n",
              "              style=\"display:none;\">\n",
              "\n",
              "<svg xmlns=\"http://www.w3.org/2000/svg\" height=\"24px\"viewBox=\"0 0 24 24\"\n",
              "     width=\"24px\">\n",
              "    <g>\n",
              "        <path d=\"M19 3H5c-1.1 0-2 .9-2 2v14c0 1.1.9 2 2 2h14c1.1 0 2-.9 2-2V5c0-1.1-.9-2-2-2zM9 17H7v-7h2v7zm4 0h-2V7h2v10zm4 0h-2v-4h2v4z\"/>\n",
              "    </g>\n",
              "</svg>\n",
              "      </button>\n",
              "    </div>\n",
              "\n",
              "<style>\n",
              "  .colab-df-quickchart {\n",
              "    background-color: #E8F0FE;\n",
              "    border: none;\n",
              "    border-radius: 50%;\n",
              "    cursor: pointer;\n",
              "    display: none;\n",
              "    fill: #1967D2;\n",
              "    height: 32px;\n",
              "    padding: 0 0 0 0;\n",
              "    width: 32px;\n",
              "  }\n",
              "\n",
              "  .colab-df-quickchart:hover {\n",
              "    background-color: #E2EBFA;\n",
              "    box-shadow: 0px 1px 2px rgba(60, 64, 67, 0.3), 0px 1px 3px 1px rgba(60, 64, 67, 0.15);\n",
              "    fill: #174EA6;\n",
              "  }\n",
              "\n",
              "  [theme=dark] .colab-df-quickchart {\n",
              "    background-color: #3B4455;\n",
              "    fill: #D2E3FC;\n",
              "  }\n",
              "\n",
              "  [theme=dark] .colab-df-quickchart:hover {\n",
              "    background-color: #434B5C;\n",
              "    box-shadow: 0px 1px 3px 1px rgba(0, 0, 0, 0.15);\n",
              "    filter: drop-shadow(0px 1px 2px rgba(0, 0, 0, 0.3));\n",
              "    fill: #FFFFFF;\n",
              "  }\n",
              "</style>\n",
              "\n",
              "    <script>\n",
              "      async function quickchart(key) {\n",
              "        const containerElement = document.querySelector('#' + key);\n",
              "        const charts = await google.colab.kernel.invokeFunction(\n",
              "            'suggestCharts', [key], {});\n",
              "      }\n",
              "    </script>\n",
              "\n",
              "      <script>\n",
              "\n",
              "function displayQuickchartButton(domScope) {\n",
              "  let quickchartButtonEl =\n",
              "    domScope.querySelector('#df-ba7fe73c-703b-409a-b045-4450ab67ec42 button.colab-df-quickchart');\n",
              "  quickchartButtonEl.style.display =\n",
              "    google.colab.kernel.accessAllowed ? 'block' : 'none';\n",
              "}\n",
              "\n",
              "        displayQuickchartButton(document);\n",
              "      </script>\n",
              "      <style>\n",
              "    .colab-df-container {\n",
              "      display:flex;\n",
              "      flex-wrap:wrap;\n",
              "      gap: 12px;\n",
              "    }\n",
              "\n",
              "    .colab-df-convert {\n",
              "      background-color: #E8F0FE;\n",
              "      border: none;\n",
              "      border-radius: 50%;\n",
              "      cursor: pointer;\n",
              "      display: none;\n",
              "      fill: #1967D2;\n",
              "      height: 32px;\n",
              "      padding: 0 0 0 0;\n",
              "      width: 32px;\n",
              "    }\n",
              "\n",
              "    .colab-df-convert:hover {\n",
              "      background-color: #E2EBFA;\n",
              "      box-shadow: 0px 1px 2px rgba(60, 64, 67, 0.3), 0px 1px 3px 1px rgba(60, 64, 67, 0.15);\n",
              "      fill: #174EA6;\n",
              "    }\n",
              "\n",
              "    [theme=dark] .colab-df-convert {\n",
              "      background-color: #3B4455;\n",
              "      fill: #D2E3FC;\n",
              "    }\n",
              "\n",
              "    [theme=dark] .colab-df-convert:hover {\n",
              "      background-color: #434B5C;\n",
              "      box-shadow: 0px 1px 3px 1px rgba(0, 0, 0, 0.15);\n",
              "      filter: drop-shadow(0px 1px 2px rgba(0, 0, 0, 0.3));\n",
              "      fill: #FFFFFF;\n",
              "    }\n",
              "  </style>\n",
              "\n",
              "      <script>\n",
              "        const buttonEl =\n",
              "          document.querySelector('#df-21c48a28-c438-4ec9-ae75-8fb64f9b073c button.colab-df-convert');\n",
              "        buttonEl.style.display =\n",
              "          google.colab.kernel.accessAllowed ? 'block' : 'none';\n",
              "\n",
              "        async function convertToInteractive(key) {\n",
              "          const element = document.querySelector('#df-21c48a28-c438-4ec9-ae75-8fb64f9b073c');\n",
              "          const dataTable =\n",
              "            await google.colab.kernel.invokeFunction('convertToInteractive',\n",
              "                                                     [key], {});\n",
              "          if (!dataTable) return;\n",
              "\n",
              "          const docLinkHtml = 'Like what you see? Visit the ' +\n",
              "            '<a target=\"_blank\" href=https://colab.research.google.com/notebooks/data_table.ipynb>data table notebook</a>'\n",
              "            + ' to learn more about interactive tables.';\n",
              "          element.innerHTML = '';\n",
              "          dataTable['output_type'] = 'display_data';\n",
              "          await google.colab.output.renderOutput(dataTable, element);\n",
              "          const docLink = document.createElement('div');\n",
              "          docLink.innerHTML = docLinkHtml;\n",
              "          element.appendChild(docLink);\n",
              "        }\n",
              "      </script>\n",
              "    </div>\n",
              "  </div>\n"
            ]
          },
          "metadata": {},
          "execution_count": 2
        }
      ]
    },
    {
      "cell_type": "markdown",
      "source": [
        "## Renaming The Columns:"
      ],
      "metadata": {
        "id": "N7Uq8NQcWMAk"
      }
    },
    {
      "cell_type": "code",
      "source": [
        "df.columns = [ 'air_temp_avg', 'air_temp_max', 'air_temp_min', 'dew_avg',\n",
        "       'dew_min', 'solar_rad_avg', 'vpd_avg', 'vpd_min', 'rel_humi_avg',\n",
        "       'rel_humi_max', 'rel_humi_min', 'precp_sum', 'leaf_wetness_time(min)',\n",
        "       'wind_speed_avg', 'wind_speed_max', 'wind_gust_max', 'wind_dir_last',\n",
        "       'eag_sm1_avg', 'eag_sm2_avg', 'eag_sm3_avg', 'eag_sm4_avg',\n",
        "       'eag_sm5_avg', 'eag_sm6_avg', 'VIC1_avg', 'VIC2_avg', 'VIC3_avg',\n",
        "       'VIC4_avg', 'VIC5_avg', 'VIC6_avg', 'soil_temp1_avg', 'soil_temp1_max',\n",
        "       'soil_temp1_min', 'soil_temp2_avg', 'soil_temp2_max', 'soil_temp2_min',\n",
        "       'soil_temp3_avg', 'soil_temp3_max', 'soil_temp3_min', 'soil_temp4_avg',\n",
        "       'soil_temp4_max', 'soil_temp4_min', 'soil_temp5_avg', 'soil_temp5_max',\n",
        "       'soil_temp5_min', 'soil_temp6_avg', 'soil_temp6_max', 'soil_temp6_min',\n",
        "       'sp_last', 'bat_last', 'del_avg', 'del_max', 'del_min', 'sun_time',\n",
        "       'Daily ET0 [mm]']"
      ],
      "metadata": {
        "id": "AY0-tTXXWOXd"
      },
      "execution_count": 3,
      "outputs": []
    },
    {
      "cell_type": "markdown",
      "source": [
        "## Reversing and Handling Null Values:"
      ],
      "metadata": {
        "id": "hZHaJMRRWa_m"
      }
    },
    {
      "cell_type": "code",
      "source": [
        "df = df[::-1]\n",
        "df['Daily ET0 [mm]'].fillna(0, inplace = True)"
      ],
      "metadata": {
        "id": "5ceEeesbWdEI"
      },
      "execution_count": 4,
      "outputs": []
    },
    {
      "cell_type": "markdown",
      "source": [
        "## Selecting only Average Air Temperature:"
      ],
      "metadata": {
        "id": "A1zjaKzDWf-L"
      }
    },
    {
      "cell_type": "code",
      "source": [
        "df1 = pd.DataFrame(df['air_temp_avg'], index = df.index, columns = ['air_temp_avg'])\n",
        "df1.head()"
      ],
      "metadata": {
        "colab": {
          "base_uri": "https://localhost:8080/",
          "height": 237
        },
        "id": "8qCbuR4TWe0X",
        "outputId": "7481a5d0-ad2b-433d-dc17-70da42ef67e7"
      },
      "execution_count": 5,
      "outputs": [
        {
          "output_type": "execute_result",
          "data": {
            "text/plain": [
              "                     air_temp_avg\n",
              "Date/Time                        \n",
              "2023-04-25 13:00:00         35.27\n",
              "2023-04-25 14:00:00         35.97\n",
              "2023-04-25 15:00:00         36.33\n",
              "2023-04-25 16:00:00         36.58\n",
              "2023-04-25 17:00:00         36.27"
            ],
            "text/html": [
              "\n",
              "\n",
              "  <div id=\"df-3b00f758-2ead-4e30-b22f-621730ff2460\">\n",
              "    <div class=\"colab-df-container\">\n",
              "      <div>\n",
              "<style scoped>\n",
              "    .dataframe tbody tr th:only-of-type {\n",
              "        vertical-align: middle;\n",
              "    }\n",
              "\n",
              "    .dataframe tbody tr th {\n",
              "        vertical-align: top;\n",
              "    }\n",
              "\n",
              "    .dataframe thead th {\n",
              "        text-align: right;\n",
              "    }\n",
              "</style>\n",
              "<table border=\"1\" class=\"dataframe\">\n",
              "  <thead>\n",
              "    <tr style=\"text-align: right;\">\n",
              "      <th></th>\n",
              "      <th>air_temp_avg</th>\n",
              "    </tr>\n",
              "    <tr>\n",
              "      <th>Date/Time</th>\n",
              "      <th></th>\n",
              "    </tr>\n",
              "  </thead>\n",
              "  <tbody>\n",
              "    <tr>\n",
              "      <th>2023-04-25 13:00:00</th>\n",
              "      <td>35.27</td>\n",
              "    </tr>\n",
              "    <tr>\n",
              "      <th>2023-04-25 14:00:00</th>\n",
              "      <td>35.97</td>\n",
              "    </tr>\n",
              "    <tr>\n",
              "      <th>2023-04-25 15:00:00</th>\n",
              "      <td>36.33</td>\n",
              "    </tr>\n",
              "    <tr>\n",
              "      <th>2023-04-25 16:00:00</th>\n",
              "      <td>36.58</td>\n",
              "    </tr>\n",
              "    <tr>\n",
              "      <th>2023-04-25 17:00:00</th>\n",
              "      <td>36.27</td>\n",
              "    </tr>\n",
              "  </tbody>\n",
              "</table>\n",
              "</div>\n",
              "      <button class=\"colab-df-convert\" onclick=\"convertToInteractive('df-3b00f758-2ead-4e30-b22f-621730ff2460')\"\n",
              "              title=\"Convert this dataframe to an interactive table.\"\n",
              "              style=\"display:none;\">\n",
              "\n",
              "  <svg xmlns=\"http://www.w3.org/2000/svg\" height=\"24px\"viewBox=\"0 0 24 24\"\n",
              "       width=\"24px\">\n",
              "    <path d=\"M0 0h24v24H0V0z\" fill=\"none\"/>\n",
              "    <path d=\"M18.56 5.44l.94 2.06.94-2.06 2.06-.94-2.06-.94-.94-2.06-.94 2.06-2.06.94zm-11 1L8.5 8.5l.94-2.06 2.06-.94-2.06-.94L8.5 2.5l-.94 2.06-2.06.94zm10 10l.94 2.06.94-2.06 2.06-.94-2.06-.94-.94-2.06-.94 2.06-2.06.94z\"/><path d=\"M17.41 7.96l-1.37-1.37c-.4-.4-.92-.59-1.43-.59-.52 0-1.04.2-1.43.59L10.3 9.45l-7.72 7.72c-.78.78-.78 2.05 0 2.83L4 21.41c.39.39.9.59 1.41.59.51 0 1.02-.2 1.41-.59l7.78-7.78 2.81-2.81c.8-.78.8-2.07 0-2.86zM5.41 20L4 18.59l7.72-7.72 1.47 1.35L5.41 20z\"/>\n",
              "  </svg>\n",
              "      </button>\n",
              "\n",
              "\n",
              "\n",
              "    <div id=\"df-ce9b1e0e-a085-4b7a-b13f-a9a68c83cbd4\">\n",
              "      <button class=\"colab-df-quickchart\" onclick=\"quickchart('df-ce9b1e0e-a085-4b7a-b13f-a9a68c83cbd4')\"\n",
              "              title=\"Suggest charts.\"\n",
              "              style=\"display:none;\">\n",
              "\n",
              "<svg xmlns=\"http://www.w3.org/2000/svg\" height=\"24px\"viewBox=\"0 0 24 24\"\n",
              "     width=\"24px\">\n",
              "    <g>\n",
              "        <path d=\"M19 3H5c-1.1 0-2 .9-2 2v14c0 1.1.9 2 2 2h14c1.1 0 2-.9 2-2V5c0-1.1-.9-2-2-2zM9 17H7v-7h2v7zm4 0h-2V7h2v10zm4 0h-2v-4h2v4z\"/>\n",
              "    </g>\n",
              "</svg>\n",
              "      </button>\n",
              "    </div>\n",
              "\n",
              "<style>\n",
              "  .colab-df-quickchart {\n",
              "    background-color: #E8F0FE;\n",
              "    border: none;\n",
              "    border-radius: 50%;\n",
              "    cursor: pointer;\n",
              "    display: none;\n",
              "    fill: #1967D2;\n",
              "    height: 32px;\n",
              "    padding: 0 0 0 0;\n",
              "    width: 32px;\n",
              "  }\n",
              "\n",
              "  .colab-df-quickchart:hover {\n",
              "    background-color: #E2EBFA;\n",
              "    box-shadow: 0px 1px 2px rgba(60, 64, 67, 0.3), 0px 1px 3px 1px rgba(60, 64, 67, 0.15);\n",
              "    fill: #174EA6;\n",
              "  }\n",
              "\n",
              "  [theme=dark] .colab-df-quickchart {\n",
              "    background-color: #3B4455;\n",
              "    fill: #D2E3FC;\n",
              "  }\n",
              "\n",
              "  [theme=dark] .colab-df-quickchart:hover {\n",
              "    background-color: #434B5C;\n",
              "    box-shadow: 0px 1px 3px 1px rgba(0, 0, 0, 0.15);\n",
              "    filter: drop-shadow(0px 1px 2px rgba(0, 0, 0, 0.3));\n",
              "    fill: #FFFFFF;\n",
              "  }\n",
              "</style>\n",
              "\n",
              "    <script>\n",
              "      async function quickchart(key) {\n",
              "        const containerElement = document.querySelector('#' + key);\n",
              "        const charts = await google.colab.kernel.invokeFunction(\n",
              "            'suggestCharts', [key], {});\n",
              "      }\n",
              "    </script>\n",
              "\n",
              "      <script>\n",
              "\n",
              "function displayQuickchartButton(domScope) {\n",
              "  let quickchartButtonEl =\n",
              "    domScope.querySelector('#df-ce9b1e0e-a085-4b7a-b13f-a9a68c83cbd4 button.colab-df-quickchart');\n",
              "  quickchartButtonEl.style.display =\n",
              "    google.colab.kernel.accessAllowed ? 'block' : 'none';\n",
              "}\n",
              "\n",
              "        displayQuickchartButton(document);\n",
              "      </script>\n",
              "      <style>\n",
              "    .colab-df-container {\n",
              "      display:flex;\n",
              "      flex-wrap:wrap;\n",
              "      gap: 12px;\n",
              "    }\n",
              "\n",
              "    .colab-df-convert {\n",
              "      background-color: #E8F0FE;\n",
              "      border: none;\n",
              "      border-radius: 50%;\n",
              "      cursor: pointer;\n",
              "      display: none;\n",
              "      fill: #1967D2;\n",
              "      height: 32px;\n",
              "      padding: 0 0 0 0;\n",
              "      width: 32px;\n",
              "    }\n",
              "\n",
              "    .colab-df-convert:hover {\n",
              "      background-color: #E2EBFA;\n",
              "      box-shadow: 0px 1px 2px rgba(60, 64, 67, 0.3), 0px 1px 3px 1px rgba(60, 64, 67, 0.15);\n",
              "      fill: #174EA6;\n",
              "    }\n",
              "\n",
              "    [theme=dark] .colab-df-convert {\n",
              "      background-color: #3B4455;\n",
              "      fill: #D2E3FC;\n",
              "    }\n",
              "\n",
              "    [theme=dark] .colab-df-convert:hover {\n",
              "      background-color: #434B5C;\n",
              "      box-shadow: 0px 1px 3px 1px rgba(0, 0, 0, 0.15);\n",
              "      filter: drop-shadow(0px 1px 2px rgba(0, 0, 0, 0.3));\n",
              "      fill: #FFFFFF;\n",
              "    }\n",
              "  </style>\n",
              "\n",
              "      <script>\n",
              "        const buttonEl =\n",
              "          document.querySelector('#df-3b00f758-2ead-4e30-b22f-621730ff2460 button.colab-df-convert');\n",
              "        buttonEl.style.display =\n",
              "          google.colab.kernel.accessAllowed ? 'block' : 'none';\n",
              "\n",
              "        async function convertToInteractive(key) {\n",
              "          const element = document.querySelector('#df-3b00f758-2ead-4e30-b22f-621730ff2460');\n",
              "          const dataTable =\n",
              "            await google.colab.kernel.invokeFunction('convertToInteractive',\n",
              "                                                     [key], {});\n",
              "          if (!dataTable) return;\n",
              "\n",
              "          const docLinkHtml = 'Like what you see? Visit the ' +\n",
              "            '<a target=\"_blank\" href=https://colab.research.google.com/notebooks/data_table.ipynb>data table notebook</a>'\n",
              "            + ' to learn more about interactive tables.';\n",
              "          element.innerHTML = '';\n",
              "          dataTable['output_type'] = 'display_data';\n",
              "          await google.colab.output.renderOutput(dataTable, element);\n",
              "          const docLink = document.createElement('div');\n",
              "          docLink.innerHTML = docLinkHtml;\n",
              "          element.appendChild(docLink);\n",
              "        }\n",
              "      </script>\n",
              "    </div>\n",
              "  </div>\n"
            ]
          },
          "metadata": {},
          "execution_count": 5
        }
      ]
    },
    {
      "cell_type": "markdown",
      "source": [
        "## Plot of Average Air Temperature:"
      ],
      "metadata": {
        "id": "Q9sDeFl4W9vN"
      }
    },
    {
      "cell_type": "code",
      "source": [
        "fig = go.Figure()\n",
        "\n",
        "fig.add_trace(go.Scatter(x = df1.index, y = df1['air_temp_avg'], mode = 'lines+markers'))\n",
        "\n",
        "fig.update_layout(title = \"Average Air Temperature\")\n",
        "fig.update_yaxes(title_text = \"Average Air Temperature\")\n",
        "fig.update_xaxes(title_text = \"Datetime\")\n",
        "\n",
        "fig.show()"
      ],
      "metadata": {
        "colab": {
          "base_uri": "https://localhost:8080/",
          "height": 542
        },
        "id": "r8CoUK_rWosY",
        "outputId": "18d4a3e8-20bb-4bd0-e96f-e239c3c4d03b"
      },
      "execution_count": 6,
      "outputs": [
        {
          "output_type": "display_data",
          "data": {
            "text/html": [
              "<html>\n",
              "<head><meta charset=\"utf-8\" /></head>\n",
              "<body>\n",
              "    <div>            <script src=\"https://cdnjs.cloudflare.com/ajax/libs/mathjax/2.7.5/MathJax.js?config=TeX-AMS-MML_SVG\"></script><script type=\"text/javascript\">if (window.MathJax && window.MathJax.Hub && window.MathJax.Hub.Config) {window.MathJax.Hub.Config({SVG: {font: \"STIX-Web\"}});}</script>                <script type=\"text/javascript\">window.PlotlyConfig = {MathJaxConfig: 'local'};</script>\n",
              "        <script src=\"https://cdn.plot.ly/plotly-2.18.2.min.js\"></script>                <div id=\"e2427c4a-a829-4cf8-95e1-960f7f6847a7\" class=\"plotly-graph-div\" style=\"height:525px; width:100%;\"></div>            <script type=\"text/javascript\">                                    window.PLOTLYENV=window.PLOTLYENV || {};                                    if (document.getElementById(\"e2427c4a-a829-4cf8-95e1-960f7f6847a7\")) {                    Plotly.newPlot(                        \"e2427c4a-a829-4cf8-95e1-960f7f6847a7\",                        [{\"mode\":\"lines+markers\",\"x\":[\"2023-04-25 13:00:00\",\"2023-04-25 14:00:00\",\"2023-04-25 15:00:00\",\"2023-04-25 16:00:00\",\"2023-04-25 17:00:00\",\"2023-04-25 18:00:00\",\"2023-04-25 19:00:00\",\"2023-04-25 20:00:00\",\"2023-04-25 21:00:00\",\"2023-04-25 22:00:00\",\"2023-04-25 23:00:00\",\"2023-04-26 00:00:00\",\"2023-04-26 01:00:00\",\"2023-04-26 02:00:00\",\"2023-04-26 03:00:00\",\"2023-04-26 04:00:00\",\"2023-04-26 05:00:00\",\"2023-04-26 06:00:00\",\"2023-04-26 07:00:00\",\"2023-04-26 08:00:00\",\"2023-04-26 09:00:00\",\"2023-04-26 10:00:00\",\"2023-04-26 11:00:00\",\"2023-04-26 12:00:00\",\"2023-04-26 13:00:00\",\"2023-04-26 14:00:00\",\"2023-04-26 15:00:00\",\"2023-04-26 16:00:00\",\"2023-04-26 17:00:00\",\"2023-04-26 18:00:00\",\"2023-04-26 19:00:00\",\"2023-04-26 20:00:00\",\"2023-04-26 21:00:00\",\"2023-04-26 22:00:00\",\"2023-04-26 23:00:00\",\"2023-04-27 00:00:00\",\"2023-04-27 01:00:00\",\"2023-04-27 02:00:00\",\"2023-04-27 03:00:00\",\"2023-04-27 04:00:00\",\"2023-04-27 05:00:00\",\"2023-04-27 06:00:00\",\"2023-04-27 07:00:00\",\"2023-04-27 08:00:00\",\"2023-04-27 09:00:00\",\"2023-04-27 10:00:00\",\"2023-04-27 11:00:00\",\"2023-04-27 12:00:00\",\"2023-04-27 13:00:00\",\"2023-04-27 14:00:00\",\"2023-04-27 15:00:00\",\"2023-04-27 16:00:00\",\"2023-04-27 17:00:00\",\"2023-04-27 18:00:00\",\"2023-04-27 19:00:00\",\"2023-04-27 20:00:00\",\"2023-04-27 21:00:00\",\"2023-04-27 22:00:00\",\"2023-04-27 23:00:00\",\"2023-04-28 00:00:00\",\"2023-04-28 01:00:00\",\"2023-04-28 02:00:00\",\"2023-04-28 03:00:00\",\"2023-04-28 04:00:00\",\"2023-04-28 05:00:00\",\"2023-04-28 06:00:00\",\"2023-04-28 07:00:00\",\"2023-04-28 08:00:00\",\"2023-04-28 09:00:00\",\"2023-04-28 10:00:00\",\"2023-04-28 11:00:00\",\"2023-04-28 12:00:00\",\"2023-04-28 13:00:00\",\"2023-04-28 14:00:00\",\"2023-04-28 15:00:00\",\"2023-04-28 16:00:00\",\"2023-04-28 17:00:00\",\"2023-04-28 18:00:00\",\"2023-04-28 19:00:00\",\"2023-04-28 20:00:00\",\"2023-04-28 21:00:00\",\"2023-04-28 22:00:00\",\"2023-04-28 23:00:00\",\"2023-04-29 00:00:00\",\"2023-04-29 01:00:00\",\"2023-04-29 02:00:00\",\"2023-04-29 03:00:00\",\"2023-04-29 04:00:00\",\"2023-04-29 05:00:00\",\"2023-04-29 06:00:00\",\"2023-04-29 07:00:00\",\"2023-04-29 08:00:00\",\"2023-04-29 09:00:00\",\"2023-04-29 10:00:00\",\"2023-04-29 11:00:00\",\"2023-04-29 12:00:00\",\"2023-04-29 13:00:00\",\"2023-04-29 14:00:00\",\"2023-04-29 15:00:00\",\"2023-04-29 16:00:00\",\"2023-04-29 17:00:00\",\"2023-04-29 18:00:00\",\"2023-04-29 19:00:00\",\"2023-04-29 20:00:00\",\"2023-04-29 21:00:00\",\"2023-04-29 22:00:00\",\"2023-04-29 23:00:00\",\"2023-04-30 00:00:00\",\"2023-04-30 01:00:00\",\"2023-04-30 02:00:00\",\"2023-04-30 03:00:00\",\"2023-04-30 04:00:00\",\"2023-04-30 05:00:00\",\"2023-04-30 06:00:00\",\"2023-04-30 07:00:00\",\"2023-04-30 08:00:00\",\"2023-04-30 09:00:00\",\"2023-04-30 10:00:00\",\"2023-04-30 11:00:00\",\"2023-04-30 12:00:00\",\"2023-04-30 13:00:00\",\"2023-04-30 14:00:00\",\"2023-04-30 15:00:00\",\"2023-04-30 16:00:00\",\"2023-04-30 17:00:00\",\"2023-04-30 18:00:00\",\"2023-04-30 19:00:00\",\"2023-04-30 20:00:00\",\"2023-04-30 21:00:00\",\"2023-04-30 22:00:00\",\"2023-04-30 23:00:00\",\"2023-05-01 00:00:00\",\"2023-05-01 01:00:00\",\"2023-05-01 02:00:00\",\"2023-05-01 03:00:00\",\"2023-05-01 04:00:00\",\"2023-05-01 05:00:00\",\"2023-05-01 06:00:00\",\"2023-05-01 07:00:00\",\"2023-05-01 08:00:00\",\"2023-05-01 09:00:00\",\"2023-05-01 10:00:00\",\"2023-05-01 11:00:00\",\"2023-05-01 12:00:00\",\"2023-05-01 13:00:00\",\"2023-05-01 14:00:00\",\"2023-05-01 15:00:00\",\"2023-05-01 16:00:00\",\"2023-05-01 17:00:00\",\"2023-05-01 18:00:00\",\"2023-05-01 19:00:00\",\"2023-05-01 20:00:00\",\"2023-05-01 21:00:00\",\"2023-05-01 22:00:00\",\"2023-05-01 23:00:00\",\"2023-05-02 00:00:00\",\"2023-05-02 01:00:00\",\"2023-05-02 02:00:00\",\"2023-05-02 03:00:00\",\"2023-05-02 04:00:00\",\"2023-05-02 05:00:00\",\"2023-05-02 06:00:00\",\"2023-05-02 07:00:00\",\"2023-05-02 08:00:00\",\"2023-05-02 09:00:00\",\"2023-05-02 10:00:00\",\"2023-05-02 11:00:00\",\"2023-05-02 12:00:00\",\"2023-05-02 13:00:00\",\"2023-05-02 14:00:00\",\"2023-05-02 15:00:00\",\"2023-05-02 16:00:00\",\"2023-05-02 17:00:00\",\"2023-05-02 18:00:00\",\"2023-05-02 19:00:00\",\"2023-05-02 20:00:00\",\"2023-05-02 21:00:00\",\"2023-05-02 22:00:00\",\"2023-05-02 23:00:00\",\"2023-05-03 00:00:00\",\"2023-05-03 01:00:00\",\"2023-05-03 02:00:00\",\"2023-05-03 03:00:00\",\"2023-05-03 04:00:00\",\"2023-05-03 05:00:00\",\"2023-05-03 06:00:00\",\"2023-05-03 07:00:00\",\"2023-05-03 08:00:00\",\"2023-05-03 09:00:00\",\"2023-05-03 10:00:00\",\"2023-05-03 11:00:00\",\"2023-05-03 12:00:00\",\"2023-05-03 13:00:00\",\"2023-05-03 14:00:00\",\"2023-05-03 15:00:00\",\"2023-05-03 16:00:00\",\"2023-05-03 17:00:00\",\"2023-05-03 18:00:00\",\"2023-05-03 19:00:00\",\"2023-05-03 20:00:00\",\"2023-05-03 21:00:00\",\"2023-05-03 22:00:00\",\"2023-05-03 23:00:00\",\"2023-05-04 00:00:00\",\"2023-05-04 01:00:00\",\"2023-05-04 02:00:00\",\"2023-05-04 03:00:00\",\"2023-05-04 04:00:00\",\"2023-05-04 05:00:00\",\"2023-05-04 06:00:00\",\"2023-05-04 07:00:00\",\"2023-05-04 08:00:00\",\"2023-05-04 09:00:00\",\"2023-05-04 10:00:00\",\"2023-05-04 11:00:00\",\"2023-05-04 12:00:00\",\"2023-05-04 13:00:00\",\"2023-05-04 14:00:00\",\"2023-05-04 15:00:00\",\"2023-05-04 16:00:00\",\"2023-05-04 17:00:00\",\"2023-05-04 18:00:00\",\"2023-05-04 19:00:00\",\"2023-05-04 20:00:00\",\"2023-05-04 21:00:00\",\"2023-05-04 22:00:00\",\"2023-05-04 23:00:00\",\"2023-05-05 00:00:00\",\"2023-05-05 01:00:00\",\"2023-05-05 02:00:00\",\"2023-05-05 03:00:00\",\"2023-05-05 04:00:00\",\"2023-05-05 05:00:00\",\"2023-05-05 06:00:00\",\"2023-05-05 07:00:00\",\"2023-05-05 08:00:00\",\"2023-05-05 09:00:00\",\"2023-05-05 10:00:00\",\"2023-05-05 11:00:00\",\"2023-05-05 12:00:00\",\"2023-05-05 13:00:00\",\"2023-05-05 14:00:00\",\"2023-05-05 15:00:00\",\"2023-05-05 16:00:00\",\"2023-05-05 17:00:00\",\"2023-05-05 18:00:00\",\"2023-05-05 19:00:00\",\"2023-05-05 20:00:00\",\"2023-05-05 21:00:00\",\"2023-05-05 22:00:00\",\"2023-05-05 23:00:00\",\"2023-05-06 00:00:00\",\"2023-05-06 01:00:00\",\"2023-05-06 02:00:00\",\"2023-05-06 03:00:00\",\"2023-05-06 04:00:00\",\"2023-05-06 05:00:00\",\"2023-05-06 06:00:00\",\"2023-05-06 07:00:00\",\"2023-05-06 08:00:00\",\"2023-05-06 09:00:00\",\"2023-05-06 10:00:00\",\"2023-05-06 11:00:00\",\"2023-05-06 12:00:00\",\"2023-05-06 13:00:00\",\"2023-05-06 14:00:00\",\"2023-05-06 15:00:00\",\"2023-05-06 16:00:00\",\"2023-05-06 17:00:00\",\"2023-05-06 18:00:00\",\"2023-05-06 19:00:00\",\"2023-05-06 20:00:00\",\"2023-05-06 21:00:00\",\"2023-05-06 22:00:00\",\"2023-05-06 23:00:00\",\"2023-05-07 00:00:00\",\"2023-05-07 01:00:00\",\"2023-05-07 02:00:00\",\"2023-05-07 03:00:00\",\"2023-05-07 04:00:00\",\"2023-05-07 05:00:00\",\"2023-05-07 06:00:00\",\"2023-05-07 07:00:00\",\"2023-05-07 08:00:00\",\"2023-05-07 09:00:00\",\"2023-05-07 10:00:00\",\"2023-05-07 11:00:00\",\"2023-05-07 12:00:00\",\"2023-05-07 13:00:00\",\"2023-05-07 14:00:00\",\"2023-05-07 15:00:00\",\"2023-05-07 16:00:00\",\"2023-05-07 17:00:00\",\"2023-05-07 18:00:00\",\"2023-05-07 19:00:00\",\"2023-05-07 20:00:00\",\"2023-05-07 21:00:00\",\"2023-05-07 22:00:00\",\"2023-05-07 23:00:00\",\"2023-05-08 00:00:00\",\"2023-05-08 01:00:00\",\"2023-05-08 02:00:00\",\"2023-05-08 03:00:00\",\"2023-05-08 04:00:00\",\"2023-05-08 05:00:00\",\"2023-05-08 06:00:00\",\"2023-05-08 07:00:00\",\"2023-05-08 08:00:00\",\"2023-05-08 09:00:00\",\"2023-05-08 10:00:00\",\"2023-05-08 11:00:00\",\"2023-05-08 12:00:00\",\"2023-05-08 13:00:00\",\"2023-05-08 14:00:00\",\"2023-05-08 15:00:00\",\"2023-05-08 16:00:00\",\"2023-05-08 17:00:00\",\"2023-05-08 18:00:00\",\"2023-05-08 19:00:00\",\"2023-05-08 20:00:00\",\"2023-05-08 21:00:00\",\"2023-05-08 22:00:00\",\"2023-05-08 23:00:00\",\"2023-05-09 00:00:00\",\"2023-05-09 01:00:00\",\"2023-05-09 02:00:00\",\"2023-05-09 03:00:00\",\"2023-05-09 04:00:00\",\"2023-05-09 05:00:00\",\"2023-05-09 06:00:00\",\"2023-05-09 07:00:00\",\"2023-05-09 08:00:00\",\"2023-05-09 09:00:00\",\"2023-05-09 10:00:00\",\"2023-05-09 11:00:00\",\"2023-05-09 12:00:00\",\"2023-05-09 13:00:00\",\"2023-05-09 14:00:00\",\"2023-05-09 15:00:00\",\"2023-05-09 16:00:00\",\"2023-05-09 17:00:00\",\"2023-05-09 18:00:00\",\"2023-05-09 19:00:00\",\"2023-05-09 20:00:00\",\"2023-05-09 21:00:00\",\"2023-05-09 22:00:00\",\"2023-05-09 23:00:00\",\"2023-05-10 00:00:00\",\"2023-05-10 01:00:00\",\"2023-05-10 02:00:00\",\"2023-05-10 03:00:00\",\"2023-05-10 04:00:00\",\"2023-05-10 05:00:00\",\"2023-05-10 06:00:00\",\"2023-05-10 07:00:00\",\"2023-05-10 08:00:00\",\"2023-05-10 09:00:00\",\"2023-05-10 10:00:00\",\"2023-05-10 11:00:00\",\"2023-05-10 12:00:00\",\"2023-05-10 13:00:00\",\"2023-05-10 14:00:00\",\"2023-05-10 15:00:00\",\"2023-05-10 16:00:00\",\"2023-05-10 17:00:00\",\"2023-05-10 18:00:00\",\"2023-05-10 19:00:00\",\"2023-05-10 20:00:00\",\"2023-05-10 21:00:00\",\"2023-05-10 22:00:00\",\"2023-05-10 23:00:00\",\"2023-05-11 00:00:00\",\"2023-05-11 01:00:00\",\"2023-05-11 02:00:00\",\"2023-05-11 03:00:00\",\"2023-05-11 04:00:00\",\"2023-05-11 05:00:00\",\"2023-05-11 06:00:00\",\"2023-05-11 07:00:00\",\"2023-05-11 08:00:00\",\"2023-05-11 09:00:00\",\"2023-05-11 10:00:00\",\"2023-05-11 11:00:00\",\"2023-05-11 12:00:00\",\"2023-05-11 13:00:00\",\"2023-05-11 14:00:00\",\"2023-05-11 15:00:00\",\"2023-05-11 16:00:00\",\"2023-05-11 17:00:00\",\"2023-05-11 18:00:00\",\"2023-05-11 19:00:00\",\"2023-05-11 20:00:00\",\"2023-05-11 21:00:00\",\"2023-05-11 22:00:00\",\"2023-05-11 23:00:00\",\"2023-05-12 00:00:00\",\"2023-05-12 01:00:00\",\"2023-05-12 02:00:00\",\"2023-05-12 03:00:00\",\"2023-05-12 04:00:00\",\"2023-05-12 05:00:00\",\"2023-05-12 06:00:00\",\"2023-05-12 07:00:00\",\"2023-05-12 08:00:00\",\"2023-05-12 09:00:00\",\"2023-05-12 10:00:00\",\"2023-05-12 11:00:00\",\"2023-05-12 12:00:00\",\"2023-05-12 13:00:00\",\"2023-05-12 14:00:00\",\"2023-05-12 15:00:00\",\"2023-05-12 16:00:00\",\"2023-05-12 17:00:00\",\"2023-05-12 18:00:00\",\"2023-05-12 19:00:00\",\"2023-05-12 20:00:00\",\"2023-05-12 21:00:00\",\"2023-05-12 22:00:00\",\"2023-05-12 23:00:00\",\"2023-05-13 00:00:00\",\"2023-05-13 01:00:00\",\"2023-05-13 02:00:00\",\"2023-05-13 03:00:00\",\"2023-05-13 04:00:00\",\"2023-05-13 05:00:00\",\"2023-05-13 06:00:00\",\"2023-05-13 07:00:00\",\"2023-05-13 08:00:00\",\"2023-05-13 09:00:00\",\"2023-05-13 10:00:00\",\"2023-05-13 11:00:00\",\"2023-05-13 12:00:00\",\"2023-05-13 13:00:00\",\"2023-05-13 14:00:00\",\"2023-05-13 15:00:00\",\"2023-05-13 16:00:00\",\"2023-05-13 17:00:00\",\"2023-05-13 18:00:00\",\"2023-05-13 19:00:00\",\"2023-05-13 20:00:00\",\"2023-05-13 21:00:00\",\"2023-05-13 22:00:00\",\"2023-05-13 23:00:00\",\"2023-05-14 00:00:00\",\"2023-05-14 01:00:00\",\"2023-05-14 02:00:00\",\"2023-05-14 03:00:00\",\"2023-05-14 04:00:00\",\"2023-05-14 05:00:00\",\"2023-05-14 06:00:00\",\"2023-05-14 07:00:00\",\"2023-05-14 08:00:00\",\"2023-05-14 09:00:00\",\"2023-05-14 10:00:00\",\"2023-05-14 11:00:00\",\"2023-05-14 12:00:00\",\"2023-05-14 13:00:00\",\"2023-05-14 14:00:00\",\"2023-05-14 15:00:00\",\"2023-05-14 16:00:00\",\"2023-05-14 17:00:00\",\"2023-05-14 18:00:00\",\"2023-05-14 19:00:00\",\"2023-05-14 20:00:00\",\"2023-05-14 21:00:00\",\"2023-05-14 22:00:00\",\"2023-05-14 23:00:00\",\"2023-05-15 00:00:00\",\"2023-05-15 01:00:00\",\"2023-05-15 02:00:00\",\"2023-05-15 03:00:00\",\"2023-05-15 04:00:00\",\"2023-05-15 05:00:00\",\"2023-05-15 06:00:00\",\"2023-05-15 07:00:00\",\"2023-05-15 08:00:00\",\"2023-05-15 09:00:00\",\"2023-05-15 10:00:00\",\"2023-05-15 11:00:00\",\"2023-05-15 12:00:00\",\"2023-05-15 13:00:00\",\"2023-05-15 14:00:00\",\"2023-05-15 15:00:00\",\"2023-05-15 16:00:00\",\"2023-05-15 17:00:00\",\"2023-05-15 18:00:00\",\"2023-05-15 19:00:00\",\"2023-05-15 20:00:00\",\"2023-05-15 21:00:00\",\"2023-05-15 22:00:00\",\"2023-05-15 23:00:00\",\"2023-05-16 00:00:00\",\"2023-05-16 01:00:00\",\"2023-05-16 02:00:00\",\"2023-05-16 03:00:00\",\"2023-05-16 04:00:00\",\"2023-05-16 05:00:00\",\"2023-05-16 06:00:00\",\"2023-05-16 07:00:00\",\"2023-05-16 08:00:00\",\"2023-05-16 09:00:00\",\"2023-05-16 10:00:00\",\"2023-05-16 11:00:00\",\"2023-05-16 12:00:00\",\"2023-05-16 13:00:00\",\"2023-05-16 14:00:00\",\"2023-05-16 15:00:00\",\"2023-05-16 16:00:00\",\"2023-05-16 17:00:00\",\"2023-05-16 18:00:00\",\"2023-05-16 19:00:00\",\"2023-05-16 20:00:00\",\"2023-05-16 21:00:00\",\"2023-05-16 22:00:00\",\"2023-05-16 23:00:00\",\"2023-05-17 00:00:00\",\"2023-05-17 01:00:00\",\"2023-05-17 02:00:00\",\"2023-05-17 03:00:00\",\"2023-05-17 04:00:00\",\"2023-05-17 05:00:00\",\"2023-05-17 06:00:00\",\"2023-05-17 07:00:00\",\"2023-05-17 08:00:00\",\"2023-05-17 09:00:00\",\"2023-05-17 10:00:00\",\"2023-05-17 11:00:00\",\"2023-05-17 12:00:00\",\"2023-05-17 13:00:00\",\"2023-05-17 14:00:00\",\"2023-05-17 15:00:00\",\"2023-05-17 16:00:00\",\"2023-05-17 17:00:00\",\"2023-05-17 18:00:00\",\"2023-05-17 19:00:00\",\"2023-05-17 20:00:00\",\"2023-05-17 21:00:00\",\"2023-05-17 22:00:00\",\"2023-05-17 23:00:00\",\"2023-05-18 00:00:00\",\"2023-05-18 01:00:00\",\"2023-05-18 02:00:00\",\"2023-05-18 03:00:00\",\"2023-05-18 04:00:00\",\"2023-05-18 05:00:00\",\"2023-05-18 06:00:00\",\"2023-05-18 07:00:00\",\"2023-05-18 08:00:00\",\"2023-05-18 09:00:00\",\"2023-05-18 10:00:00\",\"2023-05-18 11:00:00\",\"2023-05-18 12:00:00\",\"2023-05-18 13:00:00\",\"2023-05-18 14:00:00\",\"2023-05-18 15:00:00\",\"2023-05-18 16:00:00\",\"2023-05-18 17:00:00\",\"2023-05-18 18:00:00\",\"2023-05-18 19:00:00\",\"2023-05-18 20:00:00\",\"2023-05-18 21:00:00\",\"2023-05-18 22:00:00\",\"2023-05-18 23:00:00\",\"2023-05-19 00:00:00\",\"2023-05-19 01:00:00\",\"2023-05-19 02:00:00\",\"2023-05-19 03:00:00\",\"2023-05-19 04:00:00\",\"2023-05-19 05:00:00\",\"2023-05-19 06:00:00\",\"2023-05-19 07:00:00\",\"2023-05-19 08:00:00\",\"2023-05-19 09:00:00\",\"2023-05-19 10:00:00\",\"2023-05-19 11:00:00\",\"2023-05-19 12:00:00\",\"2023-05-19 13:00:00\",\"2023-05-19 14:00:00\",\"2023-05-19 15:00:00\",\"2023-05-19 16:00:00\",\"2023-05-19 17:00:00\",\"2023-05-19 18:00:00\",\"2023-05-19 19:00:00\",\"2023-05-19 20:00:00\",\"2023-05-19 21:00:00\",\"2023-05-19 22:00:00\",\"2023-05-19 23:00:00\",\"2023-05-20 00:00:00\",\"2023-05-20 01:00:00\",\"2023-05-20 02:00:00\",\"2023-05-20 03:00:00\",\"2023-05-20 04:00:00\",\"2023-05-20 05:00:00\",\"2023-05-20 06:00:00\",\"2023-05-20 07:00:00\",\"2023-05-20 08:00:00\",\"2023-05-20 09:00:00\",\"2023-05-20 10:00:00\",\"2023-05-20 11:00:00\",\"2023-05-20 12:00:00\",\"2023-05-20 13:00:00\",\"2023-05-20 14:00:00\",\"2023-05-20 15:00:00\",\"2023-05-20 16:00:00\",\"2023-05-20 17:00:00\",\"2023-05-20 18:00:00\",\"2023-05-20 19:00:00\",\"2023-05-20 20:00:00\",\"2023-05-20 21:00:00\",\"2023-05-20 22:00:00\",\"2023-05-20 23:00:00\",\"2023-05-21 00:00:00\",\"2023-05-21 01:00:00\",\"2023-05-21 02:00:00\",\"2023-05-21 03:00:00\",\"2023-05-21 04:00:00\",\"2023-05-21 05:00:00\",\"2023-05-21 06:00:00\",\"2023-05-21 07:00:00\",\"2023-05-21 08:00:00\",\"2023-05-21 09:00:00\",\"2023-05-21 10:00:00\",\"2023-05-21 11:00:00\",\"2023-05-21 12:00:00\",\"2023-05-21 13:00:00\",\"2023-05-21 14:00:00\",\"2023-05-21 15:00:00\",\"2023-05-21 16:00:00\",\"2023-05-21 17:00:00\",\"2023-05-21 18:00:00\",\"2023-05-21 19:00:00\",\"2023-05-21 20:00:00\",\"2023-05-21 21:00:00\",\"2023-05-21 22:00:00\",\"2023-05-21 23:00:00\",\"2023-05-22 00:00:00\",\"2023-05-22 01:00:00\",\"2023-05-22 02:00:00\",\"2023-05-22 03:00:00\",\"2023-05-22 04:00:00\",\"2023-05-22 05:00:00\",\"2023-05-22 06:00:00\",\"2023-05-22 07:00:00\",\"2023-05-22 08:00:00\",\"2023-05-22 09:00:00\",\"2023-05-22 10:00:00\",\"2023-05-22 11:00:00\",\"2023-05-22 12:00:00\",\"2023-05-22 13:00:00\",\"2023-05-22 14:00:00\",\"2023-05-22 15:00:00\",\"2023-05-22 16:00:00\",\"2023-05-22 17:00:00\",\"2023-05-22 18:00:00\",\"2023-05-22 19:00:00\",\"2023-05-22 20:00:00\",\"2023-05-22 21:00:00\",\"2023-05-22 22:00:00\",\"2023-05-22 23:00:00\",\"2023-05-23 00:00:00\",\"2023-05-23 01:00:00\",\"2023-05-23 02:00:00\",\"2023-05-23 03:00:00\",\"2023-05-23 04:00:00\",\"2023-05-23 05:00:00\",\"2023-05-23 06:00:00\",\"2023-05-23 07:00:00\",\"2023-05-23 08:00:00\",\"2023-05-23 09:00:00\",\"2023-05-23 10:00:00\",\"2023-05-23 11:00:00\",\"2023-05-23 12:00:00\",\"2023-05-23 13:00:00\",\"2023-05-23 14:00:00\",\"2023-05-23 15:00:00\",\"2023-05-23 16:00:00\",\"2023-05-23 17:00:00\",\"2023-05-23 18:00:00\",\"2023-05-23 19:00:00\",\"2023-05-23 20:00:00\",\"2023-05-23 21:00:00\",\"2023-05-23 22:00:00\",\"2023-05-23 23:00:00\",\"2023-05-24 00:00:00\",\"2023-05-24 01:00:00\",\"2023-05-24 02:00:00\",\"2023-05-24 03:00:00\",\"2023-05-24 04:00:00\",\"2023-05-24 05:00:00\",\"2023-05-24 06:00:00\",\"2023-05-24 07:00:00\",\"2023-05-24 08:00:00\",\"2023-05-24 09:00:00\",\"2023-05-24 10:00:00\",\"2023-05-24 11:00:00\",\"2023-05-24 12:00:00\",\"2023-05-24 13:00:00\",\"2023-05-24 14:00:00\",\"2023-05-24 15:00:00\",\"2023-05-24 16:00:00\",\"2023-05-24 17:00:00\",\"2023-05-24 18:00:00\",\"2023-05-24 19:00:00\",\"2023-05-24 20:00:00\",\"2023-05-24 21:00:00\",\"2023-05-24 22:00:00\",\"2023-05-24 23:00:00\",\"2023-05-25 00:00:00\",\"2023-05-25 01:00:00\",\"2023-05-25 02:00:00\",\"2023-05-25 03:00:00\",\"2023-05-25 04:00:00\",\"2023-05-25 05:00:00\",\"2023-05-25 06:00:00\",\"2023-05-25 07:00:00\",\"2023-05-25 08:00:00\",\"2023-05-25 09:00:00\",\"2023-05-25 10:00:00\",\"2023-05-25 11:00:00\",\"2023-05-25 12:00:00\",\"2023-05-25 13:00:00\",\"2023-05-25 14:00:00\",\"2023-05-25 15:00:00\",\"2023-05-25 16:00:00\",\"2023-05-25 17:00:00\",\"2023-05-25 18:00:00\",\"2023-05-25 19:00:00\",\"2023-05-25 20:00:00\",\"2023-05-25 21:00:00\",\"2023-05-25 22:00:00\",\"2023-05-25 23:00:00\",\"2023-05-26 00:00:00\",\"2023-05-26 01:00:00\",\"2023-05-26 02:00:00\",\"2023-05-26 03:00:00\",\"2023-05-26 04:00:00\",\"2023-05-26 05:00:00\",\"2023-05-26 06:00:00\",\"2023-05-26 07:00:00\",\"2023-05-26 08:00:00\",\"2023-05-26 09:00:00\",\"2023-05-26 10:00:00\",\"2023-05-26 11:00:00\",\"2023-05-26 12:00:00\",\"2023-05-26 13:00:00\",\"2023-05-26 14:00:00\",\"2023-05-26 15:00:00\",\"2023-05-26 16:00:00\",\"2023-05-26 17:00:00\",\"2023-05-26 18:00:00\",\"2023-05-26 19:00:00\",\"2023-05-26 20:00:00\",\"2023-05-26 21:00:00\",\"2023-05-26 22:00:00\",\"2023-05-26 23:00:00\",\"2023-05-27 00:00:00\",\"2023-05-27 01:00:00\",\"2023-05-27 02:00:00\",\"2023-05-27 03:00:00\",\"2023-05-27 04:00:00\",\"2023-05-27 05:00:00\",\"2023-05-27 06:00:00\",\"2023-05-27 07:00:00\",\"2023-05-27 08:00:00\",\"2023-05-27 09:00:00\",\"2023-05-27 10:00:00\",\"2023-05-27 11:00:00\",\"2023-05-27 12:00:00\",\"2023-05-27 13:00:00\",\"2023-05-27 14:00:00\",\"2023-05-27 15:00:00\",\"2023-05-27 16:00:00\",\"2023-05-27 17:00:00\",\"2023-05-27 18:00:00\",\"2023-05-27 19:00:00\",\"2023-05-27 20:00:00\",\"2023-05-27 21:00:00\",\"2023-05-27 22:00:00\",\"2023-05-27 23:00:00\",\"2023-05-28 00:00:00\",\"2023-05-28 01:00:00\",\"2023-05-28 02:00:00\",\"2023-05-28 03:00:00\",\"2023-05-28 04:00:00\",\"2023-05-28 05:00:00\",\"2023-05-28 06:00:00\",\"2023-05-28 07:00:00\",\"2023-05-28 08:00:00\",\"2023-05-28 09:00:00\",\"2023-05-28 10:00:00\",\"2023-05-28 11:00:00\",\"2023-05-28 12:00:00\",\"2023-05-28 13:00:00\",\"2023-05-28 14:00:00\",\"2023-05-28 15:00:00\",\"2023-05-28 16:00:00\",\"2023-05-28 17:00:00\",\"2023-05-28 18:00:00\",\"2023-05-28 19:00:00\",\"2023-05-28 20:00:00\",\"2023-05-28 21:00:00\",\"2023-05-28 22:00:00\",\"2023-05-28 23:00:00\",\"2023-05-29 00:00:00\",\"2023-05-29 01:00:00\",\"2023-05-29 02:00:00\",\"2023-05-29 03:00:00\",\"2023-05-29 04:00:00\",\"2023-05-29 05:00:00\",\"2023-05-29 06:00:00\",\"2023-05-29 07:00:00\",\"2023-05-29 08:00:00\",\"2023-05-29 09:00:00\",\"2023-05-29 10:00:00\",\"2023-05-29 11:00:00\",\"2023-05-29 12:00:00\",\"2023-05-29 13:00:00\",\"2023-05-29 14:00:00\",\"2023-05-29 15:00:00\",\"2023-05-29 16:00:00\",\"2023-05-29 17:00:00\",\"2023-05-29 18:00:00\",\"2023-05-29 19:00:00\",\"2023-05-29 20:00:00\",\"2023-05-29 21:00:00\",\"2023-05-29 22:00:00\",\"2023-05-29 23:00:00\",\"2023-05-30 00:00:00\",\"2023-05-30 01:00:00\",\"2023-05-30 02:00:00\",\"2023-05-30 03:00:00\",\"2023-05-30 04:00:00\",\"2023-05-30 05:00:00\",\"2023-05-30 06:00:00\",\"2023-05-30 07:00:00\",\"2023-05-30 08:00:00\",\"2023-05-30 09:00:00\",\"2023-05-30 10:00:00\",\"2023-05-30 11:00:00\",\"2023-05-30 12:00:00\",\"2023-05-30 13:00:00\",\"2023-05-30 14:00:00\",\"2023-05-30 15:00:00\",\"2023-05-30 16:00:00\",\"2023-05-30 17:00:00\",\"2023-05-30 18:00:00\",\"2023-05-30 19:00:00\",\"2023-05-30 20:00:00\",\"2023-05-30 21:00:00\",\"2023-05-30 22:00:00\",\"2023-05-30 23:00:00\",\"2023-05-31 00:00:00\",\"2023-05-31 01:00:00\",\"2023-05-31 02:00:00\",\"2023-05-31 03:00:00\",\"2023-05-31 04:00:00\",\"2023-05-31 05:00:00\",\"2023-05-31 06:00:00\",\"2023-05-31 07:00:00\",\"2023-05-31 08:00:00\",\"2023-05-31 09:00:00\",\"2023-05-31 10:00:00\",\"2023-05-31 11:00:00\",\"2023-05-31 12:00:00\",\"2023-05-31 13:00:00\",\"2023-05-31 14:00:00\",\"2023-05-31 15:00:00\",\"2023-05-31 16:00:00\",\"2023-05-31 17:00:00\",\"2023-05-31 18:00:00\",\"2023-05-31 19:00:00\",\"2023-05-31 20:00:00\",\"2023-05-31 21:00:00\",\"2023-05-31 22:00:00\",\"2023-05-31 23:00:00\",\"2023-06-01 00:00:00\",\"2023-06-01 01:00:00\",\"2023-06-01 02:00:00\",\"2023-06-01 03:00:00\",\"2023-06-01 04:00:00\",\"2023-06-01 05:00:00\",\"2023-06-01 06:00:00\",\"2023-06-01 07:00:00\",\"2023-06-01 08:00:00\",\"2023-06-01 09:00:00\",\"2023-06-01 10:00:00\",\"2023-06-01 11:00:00\",\"2023-06-01 12:00:00\",\"2023-06-01 13:00:00\",\"2023-06-01 14:00:00\",\"2023-06-01 15:00:00\",\"2023-06-01 16:00:00\",\"2023-06-01 17:00:00\",\"2023-06-01 18:00:00\",\"2023-06-01 19:00:00\",\"2023-06-01 20:00:00\",\"2023-06-01 21:00:00\",\"2023-06-01 22:00:00\",\"2023-06-01 23:00:00\",\"2023-06-02 00:00:00\",\"2023-06-02 01:00:00\",\"2023-06-02 02:00:00\",\"2023-06-02 03:00:00\",\"2023-06-02 04:00:00\",\"2023-06-02 05:00:00\",\"2023-06-02 06:00:00\",\"2023-06-02 07:00:00\",\"2023-06-02 08:00:00\",\"2023-06-02 09:00:00\",\"2023-06-02 10:00:00\",\"2023-06-02 11:00:00\",\"2023-06-02 12:00:00\",\"2023-06-02 13:00:00\",\"2023-06-02 14:00:00\",\"2023-06-02 15:00:00\",\"2023-06-02 16:00:00\",\"2023-06-02 17:00:00\",\"2023-06-02 18:00:00\",\"2023-06-02 19:00:00\",\"2023-06-02 20:00:00\",\"2023-06-02 21:00:00\",\"2023-06-02 22:00:00\",\"2023-06-02 23:00:00\",\"2023-06-03 00:00:00\",\"2023-06-03 01:00:00\",\"2023-06-03 02:00:00\",\"2023-06-03 03:00:00\",\"2023-06-03 04:00:00\",\"2023-06-03 05:00:00\",\"2023-06-03 06:00:00\",\"2023-06-03 07:00:00\",\"2023-06-03 08:00:00\",\"2023-06-03 09:00:00\",\"2023-06-03 10:00:00\",\"2023-06-03 11:00:00\",\"2023-06-03 12:00:00\",\"2023-06-03 13:00:00\",\"2023-06-03 14:00:00\",\"2023-06-03 15:00:00\",\"2023-06-03 16:00:00\",\"2023-06-03 17:00:00\",\"2023-06-03 18:00:00\",\"2023-06-03 19:00:00\",\"2023-06-03 20:00:00\",\"2023-06-03 21:00:00\",\"2023-06-03 22:00:00\",\"2023-06-03 23:00:00\",\"2023-06-04 00:00:00\",\"2023-06-04 01:00:00\",\"2023-06-04 02:00:00\",\"2023-06-04 03:00:00\",\"2023-06-04 04:00:00\",\"2023-06-04 05:00:00\",\"2023-06-04 06:00:00\",\"2023-06-04 07:00:00\",\"2023-06-04 08:00:00\",\"2023-06-04 09:00:00\",\"2023-06-04 10:00:00\",\"2023-06-04 11:00:00\",\"2023-06-04 12:00:00\",\"2023-06-04 13:00:00\",\"2023-06-04 14:00:00\",\"2023-06-04 15:00:00\",\"2023-06-04 16:00:00\",\"2023-06-04 17:00:00\",\"2023-06-04 18:00:00\",\"2023-06-04 19:00:00\",\"2023-06-04 20:00:00\",\"2023-06-04 21:00:00\",\"2023-06-04 22:00:00\",\"2023-06-04 23:00:00\",\"2023-06-05 00:00:00\",\"2023-06-05 01:00:00\",\"2023-06-05 02:00:00\",\"2023-06-05 03:00:00\",\"2023-06-05 04:00:00\",\"2023-06-05 05:00:00\",\"2023-06-05 06:00:00\",\"2023-06-05 07:00:00\",\"2023-06-05 08:00:00\",\"2023-06-05 09:00:00\",\"2023-06-05 10:00:00\",\"2023-06-05 11:00:00\",\"2023-06-05 12:00:00\",\"2023-06-05 13:00:00\",\"2023-06-05 14:00:00\",\"2023-06-05 15:00:00\",\"2023-06-05 16:00:00\",\"2023-06-05 17:00:00\",\"2023-06-05 18:00:00\",\"2023-06-05 19:00:00\",\"2023-06-05 20:00:00\",\"2023-06-05 21:00:00\",\"2023-06-05 22:00:00\",\"2023-06-05 23:00:00\",\"2023-06-06 00:00:00\",\"2023-06-06 01:00:00\",\"2023-06-06 02:00:00\",\"2023-06-06 03:00:00\",\"2023-06-06 04:00:00\",\"2023-06-06 05:00:00\",\"2023-06-06 06:00:00\",\"2023-06-06 07:00:00\",\"2023-06-06 08:00:00\",\"2023-06-06 09:00:00\",\"2023-06-06 10:00:00\",\"2023-06-06 11:00:00\",\"2023-06-06 12:00:00\",\"2023-06-06 13:00:00\",\"2023-06-06 14:00:00\",\"2023-06-06 15:00:00\",\"2023-06-06 16:00:00\",\"2023-06-06 17:00:00\",\"2023-06-06 18:00:00\",\"2023-06-06 19:00:00\",\"2023-06-06 20:00:00\",\"2023-06-06 21:00:00\",\"2023-06-06 22:00:00\",\"2023-06-06 23:00:00\",\"2023-06-07 00:00:00\",\"2023-06-07 01:00:00\",\"2023-06-07 02:00:00\",\"2023-06-07 03:00:00\",\"2023-06-07 04:00:00\",\"2023-06-07 05:00:00\",\"2023-06-07 06:00:00\",\"2023-06-07 07:00:00\",\"2023-06-07 08:00:00\",\"2023-06-07 09:00:00\",\"2023-06-07 10:00:00\",\"2023-06-07 11:00:00\",\"2023-06-07 12:00:00\",\"2023-06-07 13:00:00\",\"2023-06-07 14:00:00\",\"2023-06-07 15:00:00\",\"2023-06-07 16:00:00\",\"2023-06-07 17:00:00\",\"2023-06-07 18:00:00\",\"2023-06-07 19:00:00\",\"2023-06-07 20:00:00\",\"2023-06-07 21:00:00\",\"2023-06-07 22:00:00\",\"2023-06-07 23:00:00\",\"2023-06-08 00:00:00\",\"2023-06-08 01:00:00\",\"2023-06-08 02:00:00\",\"2023-06-08 03:00:00\",\"2023-06-08 04:00:00\",\"2023-06-08 05:00:00\",\"2023-06-08 06:00:00\",\"2023-06-08 07:00:00\",\"2023-06-08 08:00:00\",\"2023-06-08 09:00:00\",\"2023-06-08 10:00:00\",\"2023-06-08 11:00:00\",\"2023-06-08 12:00:00\",\"2023-06-08 13:00:00\",\"2023-06-08 14:00:00\",\"2023-06-08 15:00:00\",\"2023-06-08 16:00:00\",\"2023-06-08 17:00:00\",\"2023-06-08 18:00:00\",\"2023-06-08 19:00:00\",\"2023-06-08 20:00:00\",\"2023-06-08 21:00:00\",\"2023-06-08 22:00:00\",\"2023-06-08 23:00:00\",\"2023-06-09 00:00:00\",\"2023-06-09 01:00:00\",\"2023-06-09 02:00:00\",\"2023-06-09 03:00:00\",\"2023-06-09 04:00:00\",\"2023-06-09 05:00:00\",\"2023-06-09 06:00:00\",\"2023-06-09 07:00:00\",\"2023-06-09 08:00:00\",\"2023-06-09 09:00:00\",\"2023-06-09 10:00:00\",\"2023-06-09 11:00:00\",\"2023-06-09 12:00:00\",\"2023-06-09 13:00:00\",\"2023-06-09 14:00:00\",\"2023-06-09 15:00:00\",\"2023-06-09 16:00:00\",\"2023-06-09 17:00:00\",\"2023-06-09 18:00:00\",\"2023-06-09 19:00:00\",\"2023-06-09 20:00:00\",\"2023-06-09 21:00:00\",\"2023-06-09 22:00:00\",\"2023-06-09 23:00:00\",\"2023-06-10 00:00:00\",\"2023-06-10 01:00:00\",\"2023-06-10 02:00:00\",\"2023-06-10 03:00:00\",\"2023-06-10 04:00:00\",\"2023-06-10 05:00:00\",\"2023-06-10 06:00:00\",\"2023-06-10 07:00:00\",\"2023-06-10 08:00:00\",\"2023-06-10 09:00:00\",\"2023-06-10 10:00:00\",\"2023-06-10 11:00:00\",\"2023-06-10 12:00:00\",\"2023-06-10 13:00:00\",\"2023-06-10 14:00:00\",\"2023-06-10 15:00:00\",\"2023-06-10 16:00:00\",\"2023-06-10 17:00:00\",\"2023-06-10 18:00:00\",\"2023-06-10 19:00:00\",\"2023-06-10 20:00:00\",\"2023-06-10 21:00:00\",\"2023-06-10 22:00:00\",\"2023-06-10 23:00:00\",\"2023-06-11 00:00:00\",\"2023-06-11 01:00:00\",\"2023-06-11 02:00:00\",\"2023-06-11 03:00:00\",\"2023-06-11 04:00:00\",\"2023-06-11 05:00:00\",\"2023-06-11 06:00:00\",\"2023-06-11 07:00:00\",\"2023-06-11 08:00:00\",\"2023-06-11 09:00:00\",\"2023-06-11 10:00:00\",\"2023-06-11 11:00:00\",\"2023-06-11 12:00:00\",\"2023-06-11 13:00:00\",\"2023-06-11 14:00:00\",\"2023-06-11 15:00:00\",\"2023-06-11 16:00:00\",\"2023-06-11 17:00:00\",\"2023-06-11 18:00:00\",\"2023-06-11 19:00:00\",\"2023-06-11 20:00:00\",\"2023-06-11 21:00:00\",\"2023-06-11 22:00:00\",\"2023-06-11 23:00:00\",\"2023-06-12 00:00:00\",\"2023-06-12 01:00:00\",\"2023-06-12 02:00:00\",\"2023-06-12 03:00:00\",\"2023-06-12 04:00:00\",\"2023-06-12 05:00:00\",\"2023-06-12 06:00:00\",\"2023-06-12 07:00:00\",\"2023-06-12 08:00:00\",\"2023-06-12 09:00:00\",\"2023-06-12 10:00:00\",\"2023-06-12 11:00:00\",\"2023-06-12 12:00:00\",\"2023-06-12 13:00:00\",\"2023-06-12 14:00:00\",\"2023-06-12 15:00:00\",\"2023-06-12 16:00:00\",\"2023-06-12 17:00:00\",\"2023-06-12 18:00:00\",\"2023-06-12 19:00:00\",\"2023-06-12 20:00:00\",\"2023-06-12 21:00:00\",\"2023-06-12 22:00:00\",\"2023-06-12 23:00:00\",\"2023-06-13 00:00:00\",\"2023-06-13 01:00:00\",\"2023-06-13 02:00:00\",\"2023-06-13 03:00:00\",\"2023-06-13 04:00:00\",\"2023-06-13 05:00:00\",\"2023-06-13 06:00:00\",\"2023-06-13 07:00:00\",\"2023-06-13 08:00:00\",\"2023-06-13 09:00:00\",\"2023-06-13 10:00:00\",\"2023-06-13 11:00:00\",\"2023-06-13 12:00:00\",\"2023-06-13 13:00:00\",\"2023-06-13 14:00:00\",\"2023-06-13 15:00:00\",\"2023-06-13 16:00:00\",\"2023-06-13 17:00:00\",\"2023-06-13 18:00:00\",\"2023-06-13 19:00:00\",\"2023-06-13 20:00:00\",\"2023-06-13 21:00:00\",\"2023-06-13 22:00:00\",\"2023-06-13 23:00:00\",\"2023-06-14 00:00:00\",\"2023-06-14 01:00:00\",\"2023-06-14 02:00:00\",\"2023-06-14 03:00:00\",\"2023-06-14 04:00:00\",\"2023-06-14 05:00:00\",\"2023-06-14 06:00:00\",\"2023-06-14 07:00:00\",\"2023-06-14 08:00:00\",\"2023-06-14 09:00:00\",\"2023-06-14 10:00:00\",\"2023-06-14 11:00:00\",\"2023-06-14 12:00:00\",\"2023-06-14 13:00:00\",\"2023-06-14 14:00:00\",\"2023-06-14 15:00:00\",\"2023-06-14 16:00:00\",\"2023-06-14 17:00:00\",\"2023-06-14 18:00:00\",\"2023-06-14 19:00:00\",\"2023-06-14 20:00:00\",\"2023-06-14 21:00:00\",\"2023-06-14 22:00:00\",\"2023-06-14 23:00:00\",\"2023-06-15 00:00:00\",\"2023-06-15 01:00:00\",\"2023-06-15 02:00:00\",\"2023-06-15 03:00:00\",\"2023-06-15 04:00:00\",\"2023-06-15 05:00:00\",\"2023-06-15 06:00:00\",\"2023-06-15 07:00:00\",\"2023-06-15 08:00:00\",\"2023-06-15 09:00:00\",\"2023-06-15 10:00:00\",\"2023-06-15 11:00:00\",\"2023-06-15 12:00:00\",\"2023-06-15 13:00:00\",\"2023-06-15 14:00:00\",\"2023-06-15 15:00:00\",\"2023-06-15 16:00:00\",\"2023-06-15 17:00:00\",\"2023-06-15 18:00:00\",\"2023-06-15 19:00:00\",\"2023-06-15 20:00:00\",\"2023-06-15 21:00:00\",\"2023-06-15 22:00:00\",\"2023-06-15 23:00:00\",\"2023-06-16 00:00:00\",\"2023-06-16 01:00:00\",\"2023-06-16 02:00:00\",\"2023-06-16 03:00:00\",\"2023-06-16 04:00:00\",\"2023-06-16 05:00:00\",\"2023-06-16 06:00:00\",\"2023-06-16 07:00:00\",\"2023-06-16 08:00:00\",\"2023-06-16 09:00:00\",\"2023-06-16 10:00:00\",\"2023-06-16 11:00:00\",\"2023-06-16 12:00:00\",\"2023-06-16 13:00:00\",\"2023-06-16 14:00:00\",\"2023-06-16 15:00:00\",\"2023-06-16 16:00:00\",\"2023-06-16 17:00:00\",\"2023-06-16 18:00:00\",\"2023-06-16 19:00:00\",\"2023-06-16 20:00:00\",\"2023-06-16 21:00:00\",\"2023-06-16 22:00:00\",\"2023-06-16 23:00:00\",\"2023-06-17 00:00:00\",\"2023-06-17 01:00:00\",\"2023-06-17 02:00:00\",\"2023-06-17 03:00:00\",\"2023-06-17 04:00:00\",\"2023-06-17 05:00:00\",\"2023-06-17 06:00:00\",\"2023-06-17 07:00:00\",\"2023-06-17 08:00:00\",\"2023-06-17 09:00:00\",\"2023-06-17 10:00:00\",\"2023-06-17 11:00:00\",\"2023-06-17 12:00:00\",\"2023-06-17 13:00:00\",\"2023-06-17 14:00:00\",\"2023-06-17 15:00:00\",\"2023-06-17 16:00:00\",\"2023-06-17 17:00:00\",\"2023-06-17 18:00:00\",\"2023-06-17 19:00:00\",\"2023-06-17 20:00:00\",\"2023-06-17 21:00:00\",\"2023-06-17 22:00:00\",\"2023-06-17 23:00:00\",\"2023-06-18 00:00:00\",\"2023-06-18 01:00:00\",\"2023-06-18 02:00:00\",\"2023-06-18 03:00:00\",\"2023-06-18 04:00:00\",\"2023-06-18 05:00:00\",\"2023-06-18 06:00:00\",\"2023-06-18 07:00:00\",\"2023-06-18 08:00:00\",\"2023-06-18 09:00:00\",\"2023-06-18 10:00:00\",\"2023-06-18 11:00:00\",\"2023-06-18 12:00:00\",\"2023-06-18 13:00:00\",\"2023-06-18 14:00:00\",\"2023-06-18 15:00:00\",\"2023-06-18 16:00:00\",\"2023-06-18 17:00:00\",\"2023-06-18 18:00:00\",\"2023-06-18 19:00:00\",\"2023-06-18 20:00:00\",\"2023-06-18 21:00:00\",\"2023-06-18 22:00:00\",\"2023-06-18 23:00:00\",\"2023-06-19 00:00:00\",\"2023-06-19 01:00:00\",\"2023-06-19 02:00:00\",\"2023-06-19 03:00:00\",\"2023-06-19 04:00:00\",\"2023-06-19 05:00:00\",\"2023-06-19 06:00:00\",\"2023-06-19 07:00:00\",\"2023-06-19 08:00:00\",\"2023-06-19 09:00:00\",\"2023-06-19 10:00:00\",\"2023-06-19 11:00:00\",\"2023-06-19 12:00:00\",\"2023-06-19 13:00:00\",\"2023-06-19 14:00:00\",\"2023-06-19 15:00:00\",\"2023-06-19 16:00:00\",\"2023-06-19 17:00:00\",\"2023-06-19 18:00:00\",\"2023-06-19 19:00:00\",\"2023-06-19 20:00:00\",\"2023-06-19 21:00:00\",\"2023-06-19 22:00:00\",\"2023-06-19 23:00:00\",\"2023-06-20 00:00:00\",\"2023-06-20 01:00:00\",\"2023-06-20 02:00:00\",\"2023-06-20 03:00:00\",\"2023-06-20 04:00:00\",\"2023-06-20 05:00:00\",\"2023-06-20 06:00:00\",\"2023-06-20 07:00:00\",\"2023-06-20 08:00:00\",\"2023-06-20 09:00:00\",\"2023-06-20 10:00:00\",\"2023-06-20 11:00:00\",\"2023-06-20 12:00:00\",\"2023-06-20 13:00:00\",\"2023-06-20 14:00:00\",\"2023-06-20 15:00:00\",\"2023-06-20 16:00:00\",\"2023-06-20 17:00:00\",\"2023-06-20 18:00:00\",\"2023-06-20 19:00:00\",\"2023-06-20 20:00:00\",\"2023-06-20 21:00:00\",\"2023-06-20 22:00:00\",\"2023-06-20 23:00:00\",\"2023-06-21 00:00:00\",\"2023-06-21 01:00:00\",\"2023-06-21 02:00:00\",\"2023-06-21 03:00:00\",\"2023-06-21 04:00:00\",\"2023-06-21 05:00:00\",\"2023-06-21 06:00:00\",\"2023-06-21 07:00:00\",\"2023-06-21 08:00:00\",\"2023-06-21 09:00:00\",\"2023-06-21 10:00:00\",\"2023-06-21 11:00:00\",\"2023-06-21 12:00:00\",\"2023-06-21 13:00:00\",\"2023-06-21 14:00:00\",\"2023-06-21 15:00:00\",\"2023-06-21 16:00:00\",\"2023-06-21 17:00:00\",\"2023-06-21 18:00:00\",\"2023-06-21 19:00:00\",\"2023-06-21 20:00:00\",\"2023-06-21 21:00:00\",\"2023-06-21 22:00:00\",\"2023-06-21 23:00:00\",\"2023-06-22 00:00:00\",\"2023-06-22 01:00:00\",\"2023-06-22 02:00:00\",\"2023-06-22 03:00:00\",\"2023-06-22 04:00:00\",\"2023-06-22 05:00:00\",\"2023-06-22 06:00:00\",\"2023-06-22 07:00:00\",\"2023-06-22 08:00:00\",\"2023-06-22 09:00:00\",\"2023-06-22 10:00:00\",\"2023-06-22 11:00:00\",\"2023-06-22 12:00:00\",\"2023-06-22 13:00:00\",\"2023-06-22 14:00:00\",\"2023-06-22 15:00:00\",\"2023-06-22 16:00:00\",\"2023-06-22 17:00:00\",\"2023-06-22 18:00:00\",\"2023-06-22 19:00:00\",\"2023-06-22 20:00:00\",\"2023-06-22 21:00:00\",\"2023-06-22 22:00:00\",\"2023-06-22 23:00:00\",\"2023-06-23 00:00:00\",\"2023-06-23 01:00:00\",\"2023-06-23 02:00:00\",\"2023-06-23 03:00:00\",\"2023-06-23 04:00:00\",\"2023-06-23 05:00:00\",\"2023-06-23 06:00:00\",\"2023-06-23 07:00:00\",\"2023-06-23 08:00:00\",\"2023-06-23 09:00:00\",\"2023-06-23 10:00:00\",\"2023-06-23 11:00:00\",\"2023-06-23 12:00:00\",\"2023-06-23 13:00:00\",\"2023-06-23 14:00:00\",\"2023-06-23 15:00:00\",\"2023-06-23 16:00:00\",\"2023-06-23 17:00:00\",\"2023-06-23 18:00:00\",\"2023-06-23 19:00:00\",\"2023-06-23 20:00:00\",\"2023-06-23 21:00:00\",\"2023-06-23 22:00:00\",\"2023-06-23 23:00:00\",\"2023-06-24 00:00:00\",\"2023-06-24 01:00:00\",\"2023-06-24 02:00:00\",\"2023-06-24 03:00:00\",\"2023-06-24 04:00:00\",\"2023-06-24 05:00:00\",\"2023-06-24 06:00:00\",\"2023-06-24 07:00:00\",\"2023-06-24 08:00:00\",\"2023-06-24 09:00:00\",\"2023-06-24 10:00:00\",\"2023-06-24 11:00:00\",\"2023-06-24 12:00:00\",\"2023-06-24 13:00:00\",\"2023-06-24 14:00:00\",\"2023-06-24 15:00:00\",\"2023-06-24 16:00:00\",\"2023-06-24 17:00:00\",\"2023-06-24 18:00:00\",\"2023-06-24 19:00:00\",\"2023-06-24 20:00:00\",\"2023-06-24 21:00:00\",\"2023-06-24 22:00:00\",\"2023-06-24 23:00:00\",\"2023-06-25 00:00:00\",\"2023-06-25 01:00:00\",\"2023-06-25 02:00:00\",\"2023-06-25 03:00:00\",\"2023-06-25 04:00:00\",\"2023-06-25 05:00:00\",\"2023-06-25 06:00:00\",\"2023-06-25 07:00:00\",\"2023-06-25 08:00:00\",\"2023-06-25 09:00:00\",\"2023-06-25 10:00:00\",\"2023-06-25 11:00:00\",\"2023-06-25 12:00:00\",\"2023-06-25 13:00:00\",\"2023-06-25 14:00:00\",\"2023-06-25 15:00:00\",\"2023-06-25 16:00:00\",\"2023-06-25 17:00:00\",\"2023-06-25 18:00:00\",\"2023-06-25 19:00:00\",\"2023-06-25 20:00:00\",\"2023-06-25 21:00:00\",\"2023-06-25 22:00:00\",\"2023-06-25 23:00:00\",\"2023-06-26 00:00:00\",\"2023-06-26 01:00:00\",\"2023-06-26 02:00:00\",\"2023-06-26 03:00:00\",\"2023-06-26 04:00:00\",\"2023-06-26 05:00:00\",\"2023-06-26 06:00:00\",\"2023-06-26 07:00:00\",\"2023-06-26 08:00:00\",\"2023-06-26 09:00:00\",\"2023-06-26 10:00:00\",\"2023-06-26 11:00:00\",\"2023-06-26 12:00:00\",\"2023-06-26 13:00:00\",\"2023-06-26 14:00:00\",\"2023-06-26 15:00:00\",\"2023-06-26 16:00:00\",\"2023-06-26 17:00:00\",\"2023-06-26 18:00:00\",\"2023-06-26 19:00:00\",\"2023-06-26 20:00:00\",\"2023-06-26 21:00:00\",\"2023-06-26 22:00:00\",\"2023-06-26 23:00:00\",\"2023-06-27 00:00:00\",\"2023-06-27 01:00:00\",\"2023-06-27 02:00:00\",\"2023-06-27 03:00:00\",\"2023-06-27 04:00:00\",\"2023-06-27 05:00:00\",\"2023-06-27 06:00:00\",\"2023-06-27 07:00:00\",\"2023-06-27 08:00:00\",\"2023-06-27 09:00:00\",\"2023-06-27 10:00:00\",\"2023-06-27 11:00:00\",\"2023-06-27 12:00:00\",\"2023-06-27 13:00:00\",\"2023-06-27 14:00:00\",\"2023-06-27 15:00:00\",\"2023-06-27 16:00:00\",\"2023-06-27 17:00:00\",\"2023-06-27 18:00:00\",\"2023-06-27 19:00:00\",\"2023-06-27 20:00:00\",\"2023-06-27 21:00:00\",\"2023-06-27 22:00:00\",\"2023-06-27 23:00:00\",\"2023-06-28 00:00:00\",\"2023-06-28 01:00:00\",\"2023-06-28 02:00:00\",\"2023-06-28 03:00:00\",\"2023-06-28 04:00:00\",\"2023-06-28 05:00:00\",\"2023-06-28 06:00:00\",\"2023-06-28 07:00:00\",\"2023-06-28 08:00:00\",\"2023-06-28 09:00:00\",\"2023-06-28 10:00:00\",\"2023-06-28 11:00:00\",\"2023-06-28 12:00:00\",\"2023-06-28 13:00:00\",\"2023-06-28 14:00:00\",\"2023-06-28 15:00:00\",\"2023-06-28 16:00:00\",\"2023-06-28 17:00:00\",\"2023-06-28 18:00:00\",\"2023-06-28 19:00:00\",\"2023-06-28 20:00:00\",\"2023-06-28 21:00:00\",\"2023-06-28 22:00:00\",\"2023-06-28 23:00:00\",\"2023-06-29 00:00:00\",\"2023-06-29 01:00:00\",\"2023-06-29 02:00:00\",\"2023-06-29 03:00:00\",\"2023-06-29 04:00:00\",\"2023-06-29 05:00:00\",\"2023-06-29 06:00:00\",\"2023-06-29 07:00:00\",\"2023-06-29 08:00:00\",\"2023-06-29 09:00:00\",\"2023-06-29 10:00:00\",\"2023-06-29 11:00:00\",\"2023-06-29 12:00:00\",\"2023-06-29 13:00:00\",\"2023-06-29 14:00:00\",\"2023-06-29 15:00:00\",\"2023-06-29 16:00:00\",\"2023-06-29 17:00:00\",\"2023-06-29 18:00:00\",\"2023-06-29 19:00:00\",\"2023-06-29 20:00:00\",\"2023-06-29 21:00:00\",\"2023-06-29 22:00:00\",\"2023-06-29 23:00:00\",\"2023-06-30 00:00:00\",\"2023-06-30 01:00:00\",\"2023-06-30 02:00:00\",\"2023-06-30 03:00:00\",\"2023-06-30 04:00:00\",\"2023-06-30 05:00:00\",\"2023-06-30 06:00:00\",\"2023-06-30 07:00:00\",\"2023-06-30 08:00:00\",\"2023-06-30 09:00:00\",\"2023-06-30 10:00:00\",\"2023-06-30 11:00:00\",\"2023-06-30 12:00:00\",\"2023-06-30 13:00:00\",\"2023-06-30 14:00:00\",\"2023-06-30 15:00:00\",\"2023-06-30 16:00:00\",\"2023-06-30 17:00:00\",\"2023-06-30 18:00:00\",\"2023-06-30 19:00:00\",\"2023-06-30 20:00:00\",\"2023-06-30 21:00:00\",\"2023-06-30 22:00:00\",\"2023-06-30 23:00:00\",\"2023-07-01 00:00:00\",\"2023-07-01 01:00:00\",\"2023-07-01 02:00:00\",\"2023-07-01 03:00:00\",\"2023-07-01 04:00:00\",\"2023-07-01 05:00:00\",\"2023-07-01 06:00:00\",\"2023-07-01 07:00:00\",\"2023-07-01 08:00:00\",\"2023-07-01 09:00:00\",\"2023-07-01 10:00:00\",\"2023-07-01 11:00:00\",\"2023-07-01 12:00:00\",\"2023-07-01 15:00:00\",\"2023-07-01 16:00:00\",\"2023-07-01 17:00:00\",\"2023-07-01 18:00:00\",\"2023-07-01 19:00:00\",\"2023-07-01 20:00:00\",\"2023-07-01 21:00:00\",\"2023-07-01 22:00:00\",\"2023-07-01 23:00:00\",\"2023-07-02 00:00:00\",\"2023-07-02 01:00:00\",\"2023-07-02 02:00:00\",\"2023-07-02 03:00:00\",\"2023-07-02 04:00:00\",\"2023-07-02 05:00:00\",\"2023-07-02 06:00:00\",\"2023-07-02 07:00:00\",\"2023-07-02 08:00:00\",\"2023-07-02 09:00:00\",\"2023-07-02 10:00:00\",\"2023-07-02 11:00:00\",\"2023-07-02 12:00:00\",\"2023-07-02 13:00:00\",\"2023-07-02 14:00:00\",\"2023-07-02 15:00:00\",\"2023-07-02 16:00:00\",\"2023-07-02 17:00:00\",\"2023-07-02 18:00:00\",\"2023-07-02 19:00:00\",\"2023-07-02 20:00:00\",\"2023-07-02 21:00:00\",\"2023-07-02 22:00:00\",\"2023-07-02 23:00:00\",\"2023-07-03 00:00:00\",\"2023-07-03 01:00:00\",\"2023-07-03 02:00:00\",\"2023-07-03 03:00:00\",\"2023-07-03 04:00:00\",\"2023-07-03 05:00:00\",\"2023-07-03 06:00:00\",\"2023-07-03 07:00:00\",\"2023-07-03 08:00:00\",\"2023-07-03 09:00:00\",\"2023-07-03 10:00:00\",\"2023-07-03 11:00:00\",\"2023-07-03 12:00:00\",\"2023-07-03 13:00:00\",\"2023-07-03 14:00:00\",\"2023-07-03 15:00:00\",\"2023-07-03 16:00:00\",\"2023-07-03 17:00:00\",\"2023-07-03 18:00:00\",\"2023-07-03 19:00:00\",\"2023-07-03 20:00:00\",\"2023-07-03 21:00:00\",\"2023-07-03 22:00:00\",\"2023-07-03 23:00:00\",\"2023-07-04 00:00:00\",\"2023-07-04 01:00:00\",\"2023-07-04 02:00:00\",\"2023-07-04 03:00:00\",\"2023-07-04 04:00:00\",\"2023-07-04 05:00:00\",\"2023-07-04 06:00:00\",\"2023-07-04 07:00:00\",\"2023-07-04 08:00:00\",\"2023-07-04 09:00:00\",\"2023-07-04 10:00:00\",\"2023-07-04 11:00:00\",\"2023-07-04 12:00:00\",\"2023-07-04 13:00:00\",\"2023-07-04 14:00:00\",\"2023-07-04 15:00:00\",\"2023-07-04 16:00:00\",\"2023-07-04 17:00:00\",\"2023-07-04 18:00:00\",\"2023-07-04 19:00:00\",\"2023-07-04 20:00:00\",\"2023-07-04 21:00:00\",\"2023-07-04 22:00:00\",\"2023-07-04 23:00:00\",\"2023-07-05 00:00:00\",\"2023-07-05 01:00:00\",\"2023-07-05 02:00:00\",\"2023-07-05 03:00:00\",\"2023-07-05 04:00:00\",\"2023-07-05 05:00:00\",\"2023-07-05 06:00:00\",\"2023-07-05 07:00:00\",\"2023-07-05 08:00:00\",\"2023-07-05 09:00:00\",\"2023-07-05 10:00:00\",\"2023-07-05 11:00:00\",\"2023-07-05 12:00:00\",\"2023-07-05 13:00:00\",\"2023-07-05 14:00:00\",\"2023-07-05 15:00:00\",\"2023-07-05 16:00:00\",\"2023-07-05 17:00:00\",\"2023-07-05 18:00:00\",\"2023-07-05 19:00:00\",\"2023-07-05 20:00:00\",\"2023-07-05 21:00:00\",\"2023-07-05 22:00:00\",\"2023-07-05 23:00:00\",\"2023-07-06 00:00:00\",\"2023-07-06 01:00:00\",\"2023-07-06 02:00:00\",\"2023-07-06 03:00:00\",\"2023-07-06 04:00:00\",\"2023-07-06 05:00:00\",\"2023-07-06 06:00:00\",\"2023-07-06 07:00:00\",\"2023-07-06 08:00:00\",\"2023-07-06 09:00:00\",\"2023-07-06 10:00:00\",\"2023-07-06 11:00:00\",\"2023-07-06 12:00:00\",\"2023-07-06 13:00:00\",\"2023-07-06 14:00:00\",\"2023-07-06 15:00:00\",\"2023-07-06 16:00:00\",\"2023-07-06 17:00:00\",\"2023-07-06 18:00:00\",\"2023-07-06 19:00:00\",\"2023-07-06 20:00:00\",\"2023-07-06 21:00:00\",\"2023-07-06 22:00:00\",\"2023-07-06 23:00:00\",\"2023-07-07 00:00:00\",\"2023-07-07 01:00:00\",\"2023-07-07 02:00:00\",\"2023-07-07 03:00:00\",\"2023-07-07 04:00:00\",\"2023-07-07 05:00:00\",\"2023-07-07 06:00:00\",\"2023-07-07 07:00:00\",\"2023-07-07 08:00:00\",\"2023-07-07 09:00:00\",\"2023-07-07 10:00:00\",\"2023-07-07 11:00:00\",\"2023-07-07 12:00:00\",\"2023-07-07 13:00:00\",\"2023-07-07 14:00:00\",\"2023-07-07 15:00:00\",\"2023-07-07 16:00:00\",\"2023-07-07 17:00:00\",\"2023-07-07 18:00:00\",\"2023-07-07 19:00:00\",\"2023-07-07 20:00:00\",\"2023-07-07 21:00:00\",\"2023-07-07 22:00:00\",\"2023-07-07 23:00:00\",\"2023-07-08 00:00:00\",\"2023-07-08 01:00:00\",\"2023-07-08 02:00:00\",\"2023-07-08 03:00:00\",\"2023-07-08 04:00:00\",\"2023-07-08 05:00:00\",\"2023-07-08 06:00:00\",\"2023-07-08 07:00:00\",\"2023-07-08 08:00:00\",\"2023-07-08 09:00:00\",\"2023-07-08 10:00:00\",\"2023-07-08 11:00:00\",\"2023-07-08 12:00:00\",\"2023-07-08 13:00:00\",\"2023-07-08 14:00:00\",\"2023-07-08 15:00:00\",\"2023-07-08 16:00:00\",\"2023-07-08 17:00:00\",\"2023-07-08 18:00:00\",\"2023-07-08 19:00:00\",\"2023-07-08 20:00:00\",\"2023-07-08 21:00:00\",\"2023-07-08 22:00:00\",\"2023-07-08 23:00:00\",\"2023-07-09 00:00:00\",\"2023-07-09 01:00:00\",\"2023-07-09 02:00:00\",\"2023-07-09 03:00:00\",\"2023-07-09 04:00:00\",\"2023-07-09 05:00:00\",\"2023-07-09 06:00:00\",\"2023-07-09 07:00:00\",\"2023-07-09 08:00:00\",\"2023-07-09 09:00:00\",\"2023-07-09 10:00:00\",\"2023-07-09 11:00:00\",\"2023-07-09 12:00:00\",\"2023-07-09 13:00:00\",\"2023-07-09 14:00:00\",\"2023-07-09 15:00:00\",\"2023-07-09 16:00:00\",\"2023-07-09 17:00:00\",\"2023-07-09 18:00:00\",\"2023-07-09 19:00:00\",\"2023-07-09 20:00:00\",\"2023-07-09 21:00:00\",\"2023-07-09 22:00:00\",\"2023-07-09 23:00:00\",\"2023-07-10 00:00:00\",\"2023-07-10 01:00:00\",\"2023-07-10 02:00:00\",\"2023-07-10 03:00:00\",\"2023-07-10 04:00:00\",\"2023-07-10 05:00:00\",\"2023-07-10 06:00:00\",\"2023-07-10 07:00:00\",\"2023-07-10 08:00:00\",\"2023-07-10 09:00:00\",\"2023-07-10 10:00:00\",\"2023-07-10 11:00:00\",\"2023-07-10 12:00:00\",\"2023-07-10 13:00:00\",\"2023-07-10 14:00:00\",\"2023-07-10 15:00:00\",\"2023-07-10 16:00:00\",\"2023-07-10 17:00:00\",\"2023-07-10 18:00:00\",\"2023-07-10 19:00:00\",\"2023-07-10 20:00:00\",\"2023-07-10 21:00:00\",\"2023-07-10 22:00:00\",\"2023-07-10 23:00:00\",\"2023-07-11 00:00:00\",\"2023-07-11 01:00:00\",\"2023-07-11 02:00:00\",\"2023-07-11 03:00:00\",\"2023-07-11 04:00:00\",\"2023-07-11 05:00:00\",\"2023-07-11 06:00:00\",\"2023-07-11 07:00:00\",\"2023-07-11 08:00:00\",\"2023-07-11 09:00:00\",\"2023-07-11 10:00:00\",\"2023-07-11 11:00:00\",\"2023-07-11 12:00:00\",\"2023-07-11 13:00:00\",\"2023-07-11 14:00:00\",\"2023-07-11 15:00:00\",\"2023-07-11 16:00:00\",\"2023-07-11 17:00:00\",\"2023-07-11 18:00:00\",\"2023-07-11 19:00:00\",\"2023-07-11 20:00:00\",\"2023-07-11 21:00:00\",\"2023-07-11 22:00:00\",\"2023-07-11 23:00:00\",\"2023-07-12 00:00:00\",\"2023-07-12 01:00:00\",\"2023-07-12 02:00:00\",\"2023-07-12 03:00:00\",\"2023-07-12 04:00:00\",\"2023-07-12 05:00:00\",\"2023-07-12 06:00:00\",\"2023-07-12 07:00:00\",\"2023-07-12 08:00:00\",\"2023-07-12 09:00:00\",\"2023-07-12 10:00:00\",\"2023-07-12 11:00:00\",\"2023-07-12 12:00:00\",\"2023-07-12 13:00:00\",\"2023-07-12 14:00:00\",\"2023-07-12 15:00:00\",\"2023-07-12 16:00:00\",\"2023-07-12 17:00:00\",\"2023-07-12 18:00:00\",\"2023-07-12 19:00:00\",\"2023-07-12 20:00:00\",\"2023-07-12 21:00:00\",\"2023-07-12 22:00:00\",\"2023-07-12 23:00:00\",\"2023-07-13 00:00:00\",\"2023-07-13 01:00:00\",\"2023-07-13 02:00:00\",\"2023-07-13 03:00:00\",\"2023-07-13 04:00:00\",\"2023-07-13 05:00:00\",\"2023-07-13 06:00:00\",\"2023-07-13 07:00:00\",\"2023-07-13 08:00:00\",\"2023-07-13 09:00:00\",\"2023-07-13 10:00:00\",\"2023-07-13 11:00:00\",\"2023-07-13 12:00:00\",\"2023-07-13 13:00:00\",\"2023-07-13 14:00:00\",\"2023-07-13 15:00:00\",\"2023-07-13 16:00:00\",\"2023-07-13 17:00:00\",\"2023-07-13 18:00:00\",\"2023-07-13 19:00:00\",\"2023-07-13 20:00:00\",\"2023-07-13 21:00:00\",\"2023-07-13 22:00:00\",\"2023-07-13 23:00:00\",\"2023-07-14 00:00:00\",\"2023-07-14 01:00:00\",\"2023-07-14 02:00:00\",\"2023-07-14 03:00:00\",\"2023-07-14 04:00:00\",\"2023-07-14 05:00:00\",\"2023-07-14 06:00:00\",\"2023-07-14 07:00:00\",\"2023-07-14 08:00:00\",\"2023-07-14 09:00:00\",\"2023-07-14 10:00:00\",\"2023-07-14 11:00:00\",\"2023-07-14 12:00:00\",\"2023-07-14 13:00:00\",\"2023-07-14 14:00:00\",\"2023-07-14 15:00:00\",\"2023-07-14 16:00:00\",\"2023-07-14 17:00:00\",\"2023-07-14 18:00:00\",\"2023-07-14 19:00:00\",\"2023-07-14 20:00:00\",\"2023-07-14 21:00:00\",\"2023-07-14 22:00:00\",\"2023-07-14 23:00:00\",\"2023-07-15 00:00:00\",\"2023-07-15 01:00:00\",\"2023-07-15 02:00:00\",\"2023-07-15 03:00:00\",\"2023-07-15 04:00:00\",\"2023-07-15 05:00:00\",\"2023-07-15 06:00:00\",\"2023-07-15 07:00:00\",\"2023-07-15 08:00:00\",\"2023-07-15 09:00:00\",\"2023-07-15 10:00:00\",\"2023-07-15 11:00:00\",\"2023-07-15 12:00:00\",\"2023-07-15 13:00:00\",\"2023-07-15 14:00:00\",\"2023-07-15 15:00:00\",\"2023-07-15 16:00:00\",\"2023-07-15 17:00:00\",\"2023-07-15 18:00:00\",\"2023-07-15 19:00:00\",\"2023-07-15 20:00:00\",\"2023-07-15 21:00:00\",\"2023-07-15 22:00:00\",\"2023-07-15 23:00:00\",\"2023-07-16 00:00:00\",\"2023-07-16 01:00:00\",\"2023-07-16 02:00:00\",\"2023-07-16 03:00:00\",\"2023-07-16 04:00:00\",\"2023-07-16 05:00:00\",\"2023-07-16 06:00:00\",\"2023-07-16 07:00:00\",\"2023-07-16 08:00:00\",\"2023-07-16 09:00:00\",\"2023-07-16 10:00:00\",\"2023-07-16 11:00:00\",\"2023-07-16 12:00:00\",\"2023-07-16 13:00:00\",\"2023-07-16 14:00:00\",\"2023-07-16 15:00:00\",\"2023-07-16 16:00:00\",\"2023-07-16 17:00:00\",\"2023-07-16 18:00:00\",\"2023-07-16 19:00:00\",\"2023-07-16 20:00:00\",\"2023-07-16 21:00:00\",\"2023-07-16 22:00:00\",\"2023-07-16 23:00:00\",\"2023-07-17 00:00:00\",\"2023-07-17 01:00:00\",\"2023-07-17 02:00:00\",\"2023-07-17 03:00:00\",\"2023-07-17 04:00:00\",\"2023-07-17 05:00:00\",\"2023-07-17 06:00:00\",\"2023-07-17 07:00:00\",\"2023-07-17 08:00:00\",\"2023-07-17 09:00:00\",\"2023-07-17 10:00:00\",\"2023-07-17 11:00:00\",\"2023-07-17 12:00:00\",\"2023-07-17 13:00:00\",\"2023-07-17 14:00:00\",\"2023-07-17 15:00:00\",\"2023-07-17 16:00:00\",\"2023-07-17 17:00:00\",\"2023-07-17 18:00:00\",\"2023-07-17 19:00:00\",\"2023-07-17 20:00:00\",\"2023-07-17 21:00:00\",\"2023-07-17 22:00:00\",\"2023-07-17 23:00:00\",\"2023-07-18 00:00:00\",\"2023-07-18 01:00:00\",\"2023-07-18 02:00:00\",\"2023-07-18 03:00:00\",\"2023-07-18 04:00:00\",\"2023-07-18 05:00:00\",\"2023-07-18 06:00:00\",\"2023-07-18 07:00:00\",\"2023-07-18 08:00:00\",\"2023-07-18 09:00:00\",\"2023-07-18 10:00:00\",\"2023-07-18 11:00:00\",\"2023-07-18 12:00:00\",\"2023-07-18 13:00:00\",\"2023-07-18 14:00:00\",\"2023-07-18 15:00:00\",\"2023-07-18 16:00:00\",\"2023-07-18 17:00:00\",\"2023-07-18 18:00:00\",\"2023-07-18 19:00:00\",\"2023-07-18 20:00:00\",\"2023-07-18 21:00:00\",\"2023-07-18 22:00:00\",\"2023-07-18 23:00:00\",\"2023-07-19 00:00:00\",\"2023-07-19 01:00:00\",\"2023-07-19 02:00:00\",\"2023-07-19 03:00:00\",\"2023-07-19 04:00:00\",\"2023-07-19 05:00:00\",\"2023-07-19 06:00:00\",\"2023-07-19 07:00:00\",\"2023-07-19 08:00:00\",\"2023-07-19 09:00:00\",\"2023-07-19 10:00:00\",\"2023-07-19 11:00:00\",\"2023-07-19 12:00:00\",\"2023-07-19 13:00:00\",\"2023-07-19 14:00:00\",\"2023-07-19 15:00:00\",\"2023-07-19 16:00:00\",\"2023-07-19 17:00:00\",\"2023-07-19 18:00:00\",\"2023-07-19 19:00:00\",\"2023-07-19 20:00:00\",\"2023-07-19 21:00:00\",\"2023-07-19 22:00:00\",\"2023-07-19 23:00:00\",\"2023-07-20 00:00:00\",\"2023-07-20 01:00:00\",\"2023-07-20 02:00:00\",\"2023-07-20 03:00:00\",\"2023-07-20 04:00:00\",\"2023-07-20 05:00:00\",\"2023-07-20 06:00:00\",\"2023-07-20 07:00:00\",\"2023-07-20 08:00:00\",\"2023-07-20 09:00:00\",\"2023-07-20 10:00:00\",\"2023-07-20 11:00:00\",\"2023-07-20 12:00:00\",\"2023-07-20 13:00:00\",\"2023-07-20 14:00:00\",\"2023-07-20 15:00:00\",\"2023-07-20 16:00:00\",\"2023-07-20 17:00:00\",\"2023-07-20 18:00:00\",\"2023-07-20 19:00:00\",\"2023-07-20 20:00:00\",\"2023-07-20 21:00:00\",\"2023-07-20 22:00:00\",\"2023-07-20 23:00:00\",\"2023-07-21 00:00:00\",\"2023-07-21 01:00:00\",\"2023-07-21 02:00:00\",\"2023-07-21 03:00:00\",\"2023-07-21 04:00:00\",\"2023-07-21 05:00:00\",\"2023-07-21 06:00:00\",\"2023-07-21 07:00:00\",\"2023-07-21 08:00:00\",\"2023-07-21 09:00:00\",\"2023-07-21 10:00:00\",\"2023-07-21 11:00:00\",\"2023-07-21 12:00:00\",\"2023-07-21 13:00:00\",\"2023-07-21 14:00:00\",\"2023-07-21 15:00:00\",\"2023-07-21 16:00:00\",\"2023-07-21 17:00:00\",\"2023-07-21 18:00:00\",\"2023-07-21 19:00:00\",\"2023-07-21 20:00:00\",\"2023-07-21 21:00:00\",\"2023-07-21 22:00:00\",\"2023-07-21 23:00:00\",\"2023-07-22 00:00:00\",\"2023-07-22 01:00:00\",\"2023-07-22 02:00:00\",\"2023-07-22 03:00:00\",\"2023-07-22 04:00:00\",\"2023-07-22 05:00:00\",\"2023-07-22 06:00:00\",\"2023-07-22 07:00:00\",\"2023-07-22 08:00:00\",\"2023-07-22 09:00:00\",\"2023-07-22 10:00:00\",\"2023-07-22 11:00:00\",\"2023-07-22 12:00:00\",\"2023-07-22 13:00:00\",\"2023-07-22 14:00:00\",\"2023-07-22 15:00:00\",\"2023-07-22 16:00:00\",\"2023-07-22 17:00:00\",\"2023-07-22 18:00:00\",\"2023-07-22 19:00:00\",\"2023-07-22 20:00:00\",\"2023-07-22 21:00:00\",\"2023-07-22 22:00:00\",\"2023-07-22 23:00:00\",\"2023-07-23 00:00:00\",\"2023-07-23 01:00:00\",\"2023-07-23 02:00:00\",\"2023-07-23 03:00:00\",\"2023-07-23 04:00:00\",\"2023-07-23 05:00:00\",\"2023-07-23 06:00:00\",\"2023-07-23 07:00:00\",\"2023-07-23 08:00:00\",\"2023-07-23 09:00:00\",\"2023-07-23 10:00:00\",\"2023-07-23 11:00:00\",\"2023-07-23 12:00:00\",\"2023-07-23 13:00:00\",\"2023-07-23 14:00:00\",\"2023-07-23 15:00:00\",\"2023-07-23 16:00:00\",\"2023-07-23 17:00:00\",\"2023-07-23 18:00:00\",\"2023-07-23 19:00:00\",\"2023-07-23 20:00:00\",\"2023-07-23 21:00:00\",\"2023-07-23 22:00:00\",\"2023-07-23 23:00:00\",\"2023-07-24 00:00:00\",\"2023-07-24 01:00:00\",\"2023-07-24 02:00:00\",\"2023-07-24 03:00:00\",\"2023-07-24 04:00:00\",\"2023-07-24 05:00:00\",\"2023-07-24 06:00:00\",\"2023-07-24 07:00:00\",\"2023-07-24 08:00:00\",\"2023-07-24 09:00:00\",\"2023-07-24 10:00:00\",\"2023-07-24 11:00:00\",\"2023-07-24 12:00:00\",\"2023-07-24 13:00:00\",\"2023-07-24 14:00:00\",\"2023-07-24 15:00:00\",\"2023-07-24 16:00:00\",\"2023-07-24 17:00:00\",\"2023-07-24 18:00:00\",\"2023-07-24 19:00:00\",\"2023-07-24 20:00:00\"],\"y\":[35.27,35.97,36.33,36.58,36.27,34.13,31.15,29.69,27.51,26.59,25.88,25.29,23.93,22.25,21.94,21.73,22.13,20.94,20.46,23.24,26.21,28.36,30.92,32.56,33.96,33.84,33.3,33.2,32.59,32.53,30.05,27.72,26.03,24.73,23.86,23.26,22.26,20.91,19.84,19.72,19.07,19.19,19.37,22.16,25.24,27.39,27.13,29.02,31.16,32.15,33.27,33.36,33.2,32.11,30.41,28.18,26.71,26.02,24.97,23.89,23.06,22.38,22.3,21.01,20.01,19.95,22.24,24.94,26.7,26.24,28.89,29.75,31.97,32.9,32.99,32.94,30.53,27.05,26.19,26.01,25.06,24.09,23.46,23.08,22.02,22.08,21.06,20.05,19.58,20.66,21.4,23.5,26.38,29.12,29.99,30.52,31.54,32.23,32.82,33.32,32.5,30.77,29.19,27.32,25.34,23.99,22.25,20.97,19.66,18.36,17.62,17.49,18.65,18.44,19.08,23.24,25.83,27.82,29.87,31.2,31.72,32.97,32.89,31.51,30.83,28.81,26.84,25.45,24.37,23.03,22.47,21.37,21.09,20.5,19.9,18.73,17.54,16.68,18.43,22.07,25.34,27.84,29.56,30.82,31.8,32.7,32.81,31.43,29.0,27.56,26.31,25.58,25.02,24.09,23.61,22.91,21.12,20.25,19.77,18.15,19.04,18.37,19.45,22.75,25.21,27.65,28.9,28.81,28.52,29.65,31.25,30.46,29.19,26.95,25.48,24.28,24.43,24.02,23.25,22.63,22.46,22.01,21.51,21.84,20.49,18.81,20.74,24.17,26.4,27.97,29.79,31.29,31.41,30.89,31.31,32.81,31.49,29.54,26.11,25.21,25.2,24.05,23.81,23.28,22.83,22.03,21.66,20.71,19.95,19.1,20.68,24.2,26.75,29.14,30.79,32.04,32.23,29.57,28.36,29.92,29.96,29.3,27.16,25.99,25.28,24.52,23.37,23.15,22.09,20.68,20.45,20.37,19.27,18.81,20.7,23.45,26.31,29.23,31.55,32.47,32.58,33.43,31.3,31.85,30.24,28.18,23.2,23.71,23.77,23.83,23.47,22.92,23.25,22.81,22.58,22.58,22.03,22.02,22.43,24.77,27.18,29.32,31.1,32.86,34.07,32.18,31.6,31.08,31.51,28.38,27.56,26.79,25.92,25.23,24.87,24.59,23.93,22.55,22.37,22.53,21.66,21.0,21.29,22.22,23.03,23.85,26.09,29.67,31.2,31.32,32.27,32.61,32.0,30.83,28.73,27.37,26.39,26.19,25.59,25.49,25.15,24.44,23.79,23.43,22.39,22.4,23.11,25.49,26.91,28.64,31.15,33.0,34.48,34.36,34.99,34.21,33.73,32.47,30.74,28.73,27.65,26.7,25.72,25.27,24.53,24.51,24.63,24.02,23.71,23.87,24.19,26.09,27.87,30.01,31.4,32.58,34.07,34.98,35.01,35.65,35.0,33.42,30.96,29.28,27.76,26.77,26.12,24.89,24.1,23.58,23.02,22.68,22.2,21.72,23.19,25.91,29.1,32.99,35.31,36.7,37.48,37.95,37.91,37.29,36.98,35.21,31.24,30.79,27.87,26.36,25.77,23.98,23.34,22.6,23.01,22.61,21.74,21.28,23.0,27.46,32.72,35.22,36.99,37.9,38.48,39.05,38.85,38.05,37.64,35.67,33.46,32.08,30.71,27.38,25.27,23.34,23.68,22.57,22.22,22.46,22.32,20.84,22.26,26.7,30.92,34.0,36.18,38.0,38.63,38.6,38.34,36.04,35.53,34.6,32.78,31.34,29.69,27.54,25.45,23.41,22.53,25.23,25.4,25.22,23.42,21.67,24.81,28.76,31.71,34.49,36.08,37.15,37.35,37.11,36.91,36.4,34.82,32.76,31.04,29.66,28.5,27.52,26.52,25.26,24.7,23.82,23.41,23.3,23.57,23.72,25.37,27.56,30.19,32.02,33.37,34.23,34.97,35.21,35.25,34.78,33.75,31.99,30.03,28.46,27.34,26.0,24.76,24.14,23.32,23.56,23.73,23.54,23.65,23.6,24.55,26.46,28.81,30.73,32.19,33.64,34.71,35.25,35.09,34.76,33.68,31.63,29.83,28.28,26.77,25.75,24.68,24.08,23.35,23.3,23.12,22.63,22.25,22.42,23.93,26.38,28.54,30.48,31.74,32.94,33.81,34.1,34.06,34.11,32.83,30.85,28.95,27.61,26.24,25.32,24.67,23.24,23.16,22.39,22.21,22.04,21.0,18.8,21.38,26.1,27.88,30.39,33.45,34.76,35.75,36.26,36.51,36.28,35.2,33.49,31.17,29.54,28.26,27.09,26.22,25.48,23.65,22.97,21.24,21.93,22.18,20.56,22.11,26.35,30.24,33.19,34.81,36.43,37.39,37.77,36.97,36.45,35.89,34.27,31.76,30.21,29.01,27.34,25.66,24.0,23.23,22.4,21.62,20.24,20.12,20.01,21.88,27.0,31.37,34.12,35.85,37.17,38.08,38.29,37.96,37.57,36.41,34.33,32.03,30.34,28.95,27.82,26.71,25.66,24.99,23.86,21.73,21.66,20.16,19.25,21.6,26.61,30.45,33.28,35.22,36.46,37.22,37.06,36.59,36.33,35.39,33.63,31.63,30.02,28.45,27.06,25.95,24.74,22.96,22.8,22.26,20.58,19.08,18.99,21.71,26.2,29.64,32.32,34.61,36.24,37.31,38.11,37.77,36.51,35.06,33.25,30.94,29.13,27.72,26.5,25.66,25.05,23.71,22.76,22.2,21.02,20.8,20.25,22.57,25.77,29.07,32.73,35.4,36.23,36.98,37.8,37.15,35.79,34.5,32.75,30.7,29.09,28.06,26.9,24.11,22.42,22.58,22.33,20.09,19.53,19.34,18.73,21.61,26.31,29.57,32.5,34.92,36.44,37.26,37.96,38.21,38.02,35.91,33.8,31.74,29.94,28.47,27.51,26.68,25.91,25.02,24.26,23.65,23.48,23.14,22.53,23.9,26.52,28.27,30.99,32.87,34.31,35.47,36.34,36.41,35.56,34.36,32.57,30.35,28.6,27.38,26.29,25.36,24.8,23.88,23.51,23.34,23.26,23.2,23.09,24.2,26.34,28.32,30.38,31.73,33.25,34.1,34.53,34.78,34.32,33.36,31.64,29.47,27.55,26.14,24.98,24.11,22.82,22.76,23.6,24.01,23.37,23.85,22.8,25.14,27.47,28.99,30.83,32.23,33.37,33.73,34.42,34.29,33.71,32.5,30.44,28.74,27.22,25.93,25.06,24.31,23.64,23.13,22.97,21.91,19.44,19.98,20.23,22.5,25.52,27.73,29.57,31.11,32.29,33.13,33.85,33.7,33.31,32.41,30.76,28.81,27.37,26.0,25.07,22.99,23.56,23.68,23.3,23.17,22.54,22.23,22.01,23.72,26.2,28.81,30.67,32.3,33.98,35.54,36.06,36.26,35.69,34.23,32.49,30.49,28.64,27.26,26.11,25.42,24.88,24.41,24.34,23.47,21.82,22.14,21.17,22.95,27.33,29.71,32.08,34.54,36.24,37.59,36.99,38.05,37.63,36.57,34.3,30.1,23.24,24.69,26.2,25.5,23.91,22.35,21.75,21.82,21.67,21.29,21.07,22.66,26.14,28.87,31.71,33.5,34.95,35.84,34.14,30.71,32.99,30.03,27.99,25.67,24.34,22.66,24.26,23.48,23.36,23.15,22.1,21.81,21.0,19.99,19.73,21.18,25.31,29.97,32.89,34.81,36.2,37.0,37.29,37.62,37.7,35.44,34.31,32.12,29.79,29.71,28.12,26.87,23.87,22.36,21.76,21.34,21.37,21.26,21.02,22.71,28.05,31.69,33.69,35.55,36.51,37.34,38.15,36.94,36.31,33.44,31.34,29.49,28.1,27.83,26.92,25.79,25.17,24.56,24.02,23.39,23.02,22.08,21.02,23.11,26.68,29.35,31.02,32.83,34.04,34.63,34.95,35.05,35.01,33.89,31.9,29.86,28.33,27.18,26.36,25.48,24.7,23.68,23.97,23.04,21.61,20.99,20.55,23.5,27.02,28.75,30.48,31.76,33.29,34.19,35.25,35.29,34.92,33.91,32.14,30.31,28.84,27.66,26.8,25.97,25.38,24.92,24.6,24.23,23.62,23.16,23.68,25.72,27.88,29.84,31.09,32.35,33.02,33.94,28.26,22.18,23.31,24.99,25.32,23.65,21.93,21.02,20.93,21.37,21.5,21.93,22.48,23.03,23.09,22.36,21.11,22.48,26.08,28.16,29.98,31.35,32.22,33.41,34.01,34.25,33.85,32.76,31.13,29.53,28.12,27.06,26.02,25.52,24.42,24.02,23.52,22.85,23.16,22.2,21.98,24.24,26.79,28.75,30.24,31.89,33.42,34.51,35.4,35.43,35.02,34.14,32.6,30.98,29.53,28.16,27.18,26.59,25.86,25.36,23.83,23.75,23.47,23.4,22.63,24.27,27.1,29.22,30.89,32.77,34.39,35.53,36.35,36.72,35.8,34.36,32.63,30.71,29.3,28.14,26.78,26.04,25.02,24.2,24.03,23.0,22.52,21.8,22.14,23.49,26.69,29.4,31.39,32.95,34.06,35.31,35.87,35.91,35.41,34.24,33.02,31.33,29.69,27.93,27.1,26.08,25.97,25.49,25.01,24.55,23.87,23.11,22.53,23.51,27.27,29.99,31.89,33.94,34.58,34.08,33.67,34.5,36.15,34.0,30.93,28.96,27.87,26.78,26.24,25.74,25.46,24.86,23.24,22.23,21.8,20.81,20.6,23.07,27.44,29.4,31.33,32.79,33.77,34.35,33.8,32.28,31.77,32.27,31.98,30.57,29.45,27.96,27.14,26.3,24.84,24.64,24.35,24.85,23.18,21.43,21.23,23.45,26.82,28.72,30.05,30.51,32.13,33.3,33.79,34.47,34.11,33.01,31.68,30.27,29.18,27.26,23.7,22.13,21.07,22.28,24.82,23.37,23.05,23.73,21.72,23.8,27.42,29.07,30.46,31.98,32.92,33.42,34.1,34.46,34.14,33.19,31.75,30.27,29.12,28.08,27.35,26.64,26.12,25.86,25.44,25.04,24.82,24.04,23.74,24.78,27.02,28.62,30.63,32.18,32.66,32.43,31.4,29.16,30.66,30.44,29.31,27.82,26.87,26.08,25.73,25.48,24.44,25.16,24.85,23.9,23.64,23.78,24.12,25.36,26.93,28.16,28.84,30.32,31.14,31.67,31.8,30.49,30.37,30.29,29.08,27.72,26.73,25.91,25.54,25.47,24.67,24.73,23.77,24.26,23.66,22.83,23.22,25.11,26.87,28.71,30.11,30.99,31.96,32.72,33.62,32.45,32.76,31.23,29.83,28.4,26.96,26.4,25.75,24.87,24.44,22.75,23.34,23.38,23.43,22.45,23.6,25.07,26.98,28.56,29.58,29.82,30.69,31.47,32.27,31.83,30.06,26.15,26.6,25.5,25.18,25.04,24.84,25.09,25.22,25.02,24.87,24.75,24.57,24.43,24.37,24.65,25.47,27.66,29.33,30.97,31.11,32.48,32.73,33.06,31.6,30.06,28.72,27.08,26.23,25.74,25.22,24.82,24.63,24.45,24.54,24.49,24.38,24.59,24.57,25.26,26.91,28.05,29.67,30.44,31.29,31.96,32.55,31.14,30.87,30.18,28.73,27.18,26.21,25.44,24.95,24.26,24.04,23.51,23.68,23.26,22.77,22.79,23.46,24.52,26.69,28.43,29.16,29.86,31.77,32.43,33.26,32.15,31.63,30.79,29.64,27.86,26.8,25.71,24.86,23.85,23.29,22.53,22.35,21.54,21.95,20.98,19.99,21.51,25.88,28.2,29.75,31.75,33.21,34.09,33.95,33.65,33.06,31.49,29.79,27.92,26.58,25.8,25.12,24.8,24.68,24.31,23.66,23.61,23.37,22.27,21.11,22.84,26.0,28.42,29.52,31.82,32.81,32.47,31.44,31.58,32.08,31.5,29.98,28.38,26.97,25.89,24.74,24.57,24.05,23.61,23.48,23.89,23.51,23.29,21.94,23.1,26.06,27.68,30.12,31.65,33.26,33.99,31.04,31.89,30.92,29.04,28.87,27.76,26.77,25.61,25.11,24.25,23.99,23.25,22.45,21.79,20.79,20.67,20.87,22.58,26.45,29.21,30.04,31.44,32.41,33.61,32.34,33.17,32.49,31.6,29.8,28.24,26.87,26.31,25.65,25.29,25.05,24.73,24.32,23.48,23.66,22.22,22.05,23.86,26.17,28.31,30.51,31.28,30.99,31.73,31.93,32.15,29.2,27.83,26.14,24.58,24.15,22.77,22.62,22.33,22.57,22.35,22.27,21.89,21.37,21.11,20.95,21.96,23.27,25.62,25.85,27.29,25.47,24.61,24.86,26.2,26.22,25.91,25.36,24.44,24.25,23.68,23.48,23.75,23.54,22.94,23.2,22.98,22.81,22.8,22.28,22.2,22.63,23.31,23.83,24.01,24.96,24.79,25.82,26.69,25.75,24.82,24.55,23.95,23.49,22.9,22.18,22.04,22.14,21.86,21.71,21.94,21.9,21.7,21.9,22.12,23.27,25.21,25.48,26.06,26.47,27.05,27.65,24.05,23.7,23.62,23.51,23.08,23.33,22.85,23.2,23.43,23.41,23.37,22.85,22.84,23.02,23.0,23.1,23.7,24.03,25.06,26.33,26.88,25.6,24.65,25.61,23.9,23.66,23.28,23.01,22.9,22.8,23.03,23.36,23.4,23.14,22.85,22.83,22.74,22.31,22.62,22.3,22.61,23.68,24.91,24.8,25.08,26.32,25.57,25.94,26.06,25.83,24.25,23.63,23.93,23.78,22.88,23.11,22.6,22.26,22.3,22.01,22.2,22.19,22.69,22.38,23.24,23.78,24.86,24.52,23.5,23.93,25.32,25.53,25.12,24.13,23.32,23.08,22.53,22.26,22.17,22.5,22.55,22.81,23.09,22.88,23.32,23.23,23.2,22.81,22.67,23.8,25.27,25.89,25.99,26.44,25.49,25.36,25.58,24.76,24.35,24.17,24.05,23.72,23.78,23.78,23.2,23.01,23.14,22.99,23.09,23.12,23.33,24.1,26.07,26.46,27.72,27.87,27.52,28.28,28.61,28.21,26.86,25.92,25.11,24.56,24.17,24.17,23.98,23.34,23.25,23.29,23.05,22.76,22.67,22.48,23.54,25.44,26.54,28.45,28.97,29.45,28.33,27.58,28.82,26.1,27.06,25.08,24.68,24.32,23.65,23.54,23.96,23.75,22.84,22.84,22.98,22.49,22.33,22.02,23.03,24.91,27.23,28.52,30.3,30.3,30.65,29.56,28.66,30.05,29.02,27.02,25.54,24.99,24.39,24.0,23.53,23.32,23.87,23.35,23.55,23.35,22.98,22.91,23.6,24.69,26.54,27.59,28.3,27.55,28.51,29.81,30.12,28.14,26.37,25.71,24.91,24.87,24.52,24.07,23.88,23.78,23.4,23.12,22.86,23.03,23.25,23.4,23.74,24.93,25.62,27.08,26.74,27.4,28.21,25.54,24.52,24.81,25.78,24.77,24.21,23.66,23.11,23.4,22.62,22.93,23.16,23.24,22.91,22.3,22.31,22.71,23.77,24.86,25.81,25.24,27.03,28.56,28.58,28.06,25.08,26.07,26.16,24.86,24.37,24.04,23.8,23.83,23.6,23.37,23.35,22.67,22.48,22.68,22.84,23.01,23.59,24.71,26.2,25.9,26.99,28.01,26.99,28.05,27.55,26.49,26.63,25.41,24.61,23.29,23.29,23.63,23.71,23.31,23.01,23.25,23.43,22.11,22.07,22.23,22.75,23.85,25.16,27.29,27.89,28.15,29.04,27.76,27.36,28.05,27.41,26.25,25.15,24.4,24.04,23.6,23.5,23.55,23.56,23.57,23.47,23.48,23.49,23.41,23.99,24.83,25.94,26.68,27.28,29.25,30.2,30.13,29.92,28.92,28.28,26.88,25.44,24.83,24.21,23.59,22.38,22.19,22.78,22.29,21.89,21.42,21.99,20.52,22.05,23.95,25.99,27.58,28.26,28.06,28.69,28.11,28.2,27.74,27.2,26.33,25.42,24.65,23.97,23.68,23.91,23.39,23.12,22.8,22.66,22.63,22.25,22.45,22.84,23.73,24.86,25.86,27.01,27.8,27.67,27.71,27.26,26.86,26.6,25.86,25.12,24.38,24.21,23.94,23.65,23.63,23.15,22.78,23.14,22.94,22.76,22.91,23.67,25.01,26.67,25.51,27.5,27.54,27.66,26.39,26.35,26.86,27.39,26.34,25.22,24.51,24.12,23.77,23.23,22.87,22.99,22.71,22.72,22.58,22.83,22.17,23.28,23.81,24.33,25.81,27.94,27.43,26.71,26.37,26.31,25.73,24.72,23.99,23.51,23.44,23.52,23.25,22.99,23.41,23.44,23.42,23.18,23.58,22.32,22.85,24.08,25.69,26.9,27.46,26.58,26.28,27.55,28.22,27.34,27.19,26.05,25.3,25.0,24.36,24.21,23.9,23.75,23.18,22.92,23.01,22.88,22.75,22.31,22.78,22.54,23.5,24.68,26.61,27.79,26.57,25.2,23.31,23.6,24.13,24.47,23.59,22.85,22.14,22.03,22.02,22.15,21.94,21.73,22.21,22.17,21.9,21.52,21.42,22.08,23.17,24.59,25.51,26.55,27.22,26.79,25.41,24.46,25.59,24.28,23.71,23.01,22.84,22.66,22.62,22.68,22.66,22.92,22.95,23.01,22.58,22.37,22.64,22.86,23.2,24.31,25.18,25.19,26.15,26.37,26.97,25.78,25.24,23.87,23.8,23.59,23.43,23.37,23.43,23.58,23.69,23.38,22.95,22.85,22.59,22.43,22.34,21.81,22.39,23.63,24.04,25.52,26.71,27.16,27.25,25.46,25.34,25.2,24.74,24.14,23.55,23.33,22.87,22.67,22.59,22.48,22.41,22.52,22.97,22.94,23.14,22.94,23.04,23.66,23.78,24.96,25.66,26.54,25.83,27.24,26.45,26.38,24.55,23.26,23.06,23.0,23.11,23.16,23.06,22.88,22.71,22.49,22.33,22.39,22.41,22.63,23.06,23.74,23.66,24.7,26.96,24.95,25.31,24.17,23.85,23.83,23.09,22.62,22.67,22.73,22.29,22.57,22.35,22.31,22.52,22.52,22.25,22.43,22.7,22.9,23.96,24.44,25.85,25.79,24.56,25.34,24.54,24.44,24.75,24.74,24.12,23.43,23.31,23.16,22.97,23.0,22.8,22.23,22.14,22.2,22.16,22.35,22.66,22.78,24.06,25.22,25.7,26.57,26.16,26.26,26.56,25.69,25.68,25.6,24.43,24.05,23.81,23.53,22.74,22.79,22.64,22.68,22.51,22.51,22.44,22.32,22.33,22.64,23.03,23.45,24.21,25.01,26.07,24.5,24.26,25.17,24.34,24.01,23.38,22.98,22.57],\"type\":\"scatter\"}],                        {\"template\":{\"data\":{\"histogram2dcontour\":[{\"type\":\"histogram2dcontour\",\"colorbar\":{\"outlinewidth\":0,\"ticks\":\"\"},\"colorscale\":[[0.0,\"#0d0887\"],[0.1111111111111111,\"#46039f\"],[0.2222222222222222,\"#7201a8\"],[0.3333333333333333,\"#9c179e\"],[0.4444444444444444,\"#bd3786\"],[0.5555555555555556,\"#d8576b\"],[0.6666666666666666,\"#ed7953\"],[0.7777777777777778,\"#fb9f3a\"],[0.8888888888888888,\"#fdca26\"],[1.0,\"#f0f921\"]]}],\"choropleth\":[{\"type\":\"choropleth\",\"colorbar\":{\"outlinewidth\":0,\"ticks\":\"\"}}],\"histogram2d\":[{\"type\":\"histogram2d\",\"colorbar\":{\"outlinewidth\":0,\"ticks\":\"\"},\"colorscale\":[[0.0,\"#0d0887\"],[0.1111111111111111,\"#46039f\"],[0.2222222222222222,\"#7201a8\"],[0.3333333333333333,\"#9c179e\"],[0.4444444444444444,\"#bd3786\"],[0.5555555555555556,\"#d8576b\"],[0.6666666666666666,\"#ed7953\"],[0.7777777777777778,\"#fb9f3a\"],[0.8888888888888888,\"#fdca26\"],[1.0,\"#f0f921\"]]}],\"heatmap\":[{\"type\":\"heatmap\",\"colorbar\":{\"outlinewidth\":0,\"ticks\":\"\"},\"colorscale\":[[0.0,\"#0d0887\"],[0.1111111111111111,\"#46039f\"],[0.2222222222222222,\"#7201a8\"],[0.3333333333333333,\"#9c179e\"],[0.4444444444444444,\"#bd3786\"],[0.5555555555555556,\"#d8576b\"],[0.6666666666666666,\"#ed7953\"],[0.7777777777777778,\"#fb9f3a\"],[0.8888888888888888,\"#fdca26\"],[1.0,\"#f0f921\"]]}],\"heatmapgl\":[{\"type\":\"heatmapgl\",\"colorbar\":{\"outlinewidth\":0,\"ticks\":\"\"},\"colorscale\":[[0.0,\"#0d0887\"],[0.1111111111111111,\"#46039f\"],[0.2222222222222222,\"#7201a8\"],[0.3333333333333333,\"#9c179e\"],[0.4444444444444444,\"#bd3786\"],[0.5555555555555556,\"#d8576b\"],[0.6666666666666666,\"#ed7953\"],[0.7777777777777778,\"#fb9f3a\"],[0.8888888888888888,\"#fdca26\"],[1.0,\"#f0f921\"]]}],\"contourcarpet\":[{\"type\":\"contourcarpet\",\"colorbar\":{\"outlinewidth\":0,\"ticks\":\"\"}}],\"contour\":[{\"type\":\"contour\",\"colorbar\":{\"outlinewidth\":0,\"ticks\":\"\"},\"colorscale\":[[0.0,\"#0d0887\"],[0.1111111111111111,\"#46039f\"],[0.2222222222222222,\"#7201a8\"],[0.3333333333333333,\"#9c179e\"],[0.4444444444444444,\"#bd3786\"],[0.5555555555555556,\"#d8576b\"],[0.6666666666666666,\"#ed7953\"],[0.7777777777777778,\"#fb9f3a\"],[0.8888888888888888,\"#fdca26\"],[1.0,\"#f0f921\"]]}],\"surface\":[{\"type\":\"surface\",\"colorbar\":{\"outlinewidth\":0,\"ticks\":\"\"},\"colorscale\":[[0.0,\"#0d0887\"],[0.1111111111111111,\"#46039f\"],[0.2222222222222222,\"#7201a8\"],[0.3333333333333333,\"#9c179e\"],[0.4444444444444444,\"#bd3786\"],[0.5555555555555556,\"#d8576b\"],[0.6666666666666666,\"#ed7953\"],[0.7777777777777778,\"#fb9f3a\"],[0.8888888888888888,\"#fdca26\"],[1.0,\"#f0f921\"]]}],\"mesh3d\":[{\"type\":\"mesh3d\",\"colorbar\":{\"outlinewidth\":0,\"ticks\":\"\"}}],\"scatter\":[{\"fillpattern\":{\"fillmode\":\"overlay\",\"size\":10,\"solidity\":0.2},\"type\":\"scatter\"}],\"parcoords\":[{\"type\":\"parcoords\",\"line\":{\"colorbar\":{\"outlinewidth\":0,\"ticks\":\"\"}}}],\"scatterpolargl\":[{\"type\":\"scatterpolargl\",\"marker\":{\"colorbar\":{\"outlinewidth\":0,\"ticks\":\"\"}}}],\"bar\":[{\"error_x\":{\"color\":\"#2a3f5f\"},\"error_y\":{\"color\":\"#2a3f5f\"},\"marker\":{\"line\":{\"color\":\"#E5ECF6\",\"width\":0.5},\"pattern\":{\"fillmode\":\"overlay\",\"size\":10,\"solidity\":0.2}},\"type\":\"bar\"}],\"scattergeo\":[{\"type\":\"scattergeo\",\"marker\":{\"colorbar\":{\"outlinewidth\":0,\"ticks\":\"\"}}}],\"scatterpolar\":[{\"type\":\"scatterpolar\",\"marker\":{\"colorbar\":{\"outlinewidth\":0,\"ticks\":\"\"}}}],\"histogram\":[{\"marker\":{\"pattern\":{\"fillmode\":\"overlay\",\"size\":10,\"solidity\":0.2}},\"type\":\"histogram\"}],\"scattergl\":[{\"type\":\"scattergl\",\"marker\":{\"colorbar\":{\"outlinewidth\":0,\"ticks\":\"\"}}}],\"scatter3d\":[{\"type\":\"scatter3d\",\"line\":{\"colorbar\":{\"outlinewidth\":0,\"ticks\":\"\"}},\"marker\":{\"colorbar\":{\"outlinewidth\":0,\"ticks\":\"\"}}}],\"scattermapbox\":[{\"type\":\"scattermapbox\",\"marker\":{\"colorbar\":{\"outlinewidth\":0,\"ticks\":\"\"}}}],\"scatterternary\":[{\"type\":\"scatterternary\",\"marker\":{\"colorbar\":{\"outlinewidth\":0,\"ticks\":\"\"}}}],\"scattercarpet\":[{\"type\":\"scattercarpet\",\"marker\":{\"colorbar\":{\"outlinewidth\":0,\"ticks\":\"\"}}}],\"carpet\":[{\"aaxis\":{\"endlinecolor\":\"#2a3f5f\",\"gridcolor\":\"white\",\"linecolor\":\"white\",\"minorgridcolor\":\"white\",\"startlinecolor\":\"#2a3f5f\"},\"baxis\":{\"endlinecolor\":\"#2a3f5f\",\"gridcolor\":\"white\",\"linecolor\":\"white\",\"minorgridcolor\":\"white\",\"startlinecolor\":\"#2a3f5f\"},\"type\":\"carpet\"}],\"table\":[{\"cells\":{\"fill\":{\"color\":\"#EBF0F8\"},\"line\":{\"color\":\"white\"}},\"header\":{\"fill\":{\"color\":\"#C8D4E3\"},\"line\":{\"color\":\"white\"}},\"type\":\"table\"}],\"barpolar\":[{\"marker\":{\"line\":{\"color\":\"#E5ECF6\",\"width\":0.5},\"pattern\":{\"fillmode\":\"overlay\",\"size\":10,\"solidity\":0.2}},\"type\":\"barpolar\"}],\"pie\":[{\"automargin\":true,\"type\":\"pie\"}]},\"layout\":{\"autotypenumbers\":\"strict\",\"colorway\":[\"#636efa\",\"#EF553B\",\"#00cc96\",\"#ab63fa\",\"#FFA15A\",\"#19d3f3\",\"#FF6692\",\"#B6E880\",\"#FF97FF\",\"#FECB52\"],\"font\":{\"color\":\"#2a3f5f\"},\"hovermode\":\"closest\",\"hoverlabel\":{\"align\":\"left\"},\"paper_bgcolor\":\"white\",\"plot_bgcolor\":\"#E5ECF6\",\"polar\":{\"bgcolor\":\"#E5ECF6\",\"angularaxis\":{\"gridcolor\":\"white\",\"linecolor\":\"white\",\"ticks\":\"\"},\"radialaxis\":{\"gridcolor\":\"white\",\"linecolor\":\"white\",\"ticks\":\"\"}},\"ternary\":{\"bgcolor\":\"#E5ECF6\",\"aaxis\":{\"gridcolor\":\"white\",\"linecolor\":\"white\",\"ticks\":\"\"},\"baxis\":{\"gridcolor\":\"white\",\"linecolor\":\"white\",\"ticks\":\"\"},\"caxis\":{\"gridcolor\":\"white\",\"linecolor\":\"white\",\"ticks\":\"\"}},\"coloraxis\":{\"colorbar\":{\"outlinewidth\":0,\"ticks\":\"\"}},\"colorscale\":{\"sequential\":[[0.0,\"#0d0887\"],[0.1111111111111111,\"#46039f\"],[0.2222222222222222,\"#7201a8\"],[0.3333333333333333,\"#9c179e\"],[0.4444444444444444,\"#bd3786\"],[0.5555555555555556,\"#d8576b\"],[0.6666666666666666,\"#ed7953\"],[0.7777777777777778,\"#fb9f3a\"],[0.8888888888888888,\"#fdca26\"],[1.0,\"#f0f921\"]],\"sequentialminus\":[[0.0,\"#0d0887\"],[0.1111111111111111,\"#46039f\"],[0.2222222222222222,\"#7201a8\"],[0.3333333333333333,\"#9c179e\"],[0.4444444444444444,\"#bd3786\"],[0.5555555555555556,\"#d8576b\"],[0.6666666666666666,\"#ed7953\"],[0.7777777777777778,\"#fb9f3a\"],[0.8888888888888888,\"#fdca26\"],[1.0,\"#f0f921\"]],\"diverging\":[[0,\"#8e0152\"],[0.1,\"#c51b7d\"],[0.2,\"#de77ae\"],[0.3,\"#f1b6da\"],[0.4,\"#fde0ef\"],[0.5,\"#f7f7f7\"],[0.6,\"#e6f5d0\"],[0.7,\"#b8e186\"],[0.8,\"#7fbc41\"],[0.9,\"#4d9221\"],[1,\"#276419\"]]},\"xaxis\":{\"gridcolor\":\"white\",\"linecolor\":\"white\",\"ticks\":\"\",\"title\":{\"standoff\":15},\"zerolinecolor\":\"white\",\"automargin\":true,\"zerolinewidth\":2},\"yaxis\":{\"gridcolor\":\"white\",\"linecolor\":\"white\",\"ticks\":\"\",\"title\":{\"standoff\":15},\"zerolinecolor\":\"white\",\"automargin\":true,\"zerolinewidth\":2},\"scene\":{\"xaxis\":{\"backgroundcolor\":\"#E5ECF6\",\"gridcolor\":\"white\",\"linecolor\":\"white\",\"showbackground\":true,\"ticks\":\"\",\"zerolinecolor\":\"white\",\"gridwidth\":2},\"yaxis\":{\"backgroundcolor\":\"#E5ECF6\",\"gridcolor\":\"white\",\"linecolor\":\"white\",\"showbackground\":true,\"ticks\":\"\",\"zerolinecolor\":\"white\",\"gridwidth\":2},\"zaxis\":{\"backgroundcolor\":\"#E5ECF6\",\"gridcolor\":\"white\",\"linecolor\":\"white\",\"showbackground\":true,\"ticks\":\"\",\"zerolinecolor\":\"white\",\"gridwidth\":2}},\"shapedefaults\":{\"line\":{\"color\":\"#2a3f5f\"}},\"annotationdefaults\":{\"arrowcolor\":\"#2a3f5f\",\"arrowhead\":0,\"arrowwidth\":1},\"geo\":{\"bgcolor\":\"white\",\"landcolor\":\"#E5ECF6\",\"subunitcolor\":\"white\",\"showland\":true,\"showlakes\":true,\"lakecolor\":\"white\"},\"title\":{\"x\":0.05},\"mapbox\":{\"style\":\"light\"}}},\"title\":{\"text\":\"Average Air Temperature\"},\"yaxis\":{\"title\":{\"text\":\"Average Air Temperature\"}},\"xaxis\":{\"title\":{\"text\":\"Datetime\"}}},                        {\"responsive\": true}                    ).then(function(){\n",
              "                            \n",
              "var gd = document.getElementById('e2427c4a-a829-4cf8-95e1-960f7f6847a7');\n",
              "var x = new MutationObserver(function (mutations, observer) {{\n",
              "        var display = window.getComputedStyle(gd).display;\n",
              "        if (!display || display === 'none') {{\n",
              "            console.log([gd, 'removed!']);\n",
              "            Plotly.purge(gd);\n",
              "            observer.disconnect();\n",
              "        }}\n",
              "}});\n",
              "\n",
              "// Listen for the removal of the full notebook cells\n",
              "var notebookContainer = gd.closest('#notebook-container');\n",
              "if (notebookContainer) {{\n",
              "    x.observe(notebookContainer, {childList: true});\n",
              "}}\n",
              "\n",
              "// Listen for the clearing of the current output cell\n",
              "var outputEl = gd.closest('.output');\n",
              "if (outputEl) {{\n",
              "    x.observe(outputEl, {childList: true});\n",
              "}}\n",
              "\n",
              "                        })                };                            </script>        </div>\n",
              "</body>\n",
              "</html>"
            ]
          },
          "metadata": {}
        }
      ]
    },
    {
      "cell_type": "markdown",
      "source": [
        "## Components of Time Series:"
      ],
      "metadata": {
        "id": "M5k1gIKPgXY5"
      }
    },
    {
      "cell_type": "code",
      "source": [
        "from statsmodels.tsa.seasonal import seasonal_decompose"
      ],
      "metadata": {
        "id": "WwcmcaBhTJkp"
      },
      "execution_count": 7,
      "outputs": []
    },
    {
      "cell_type": "code",
      "source": [
        "series = df['air_temp_avg']\n",
        "\n",
        "series.index = pd.date_range(start = df.index[0], periods = len(df1), freq='1H')\n",
        "\n",
        "decomposition = seasonal_decompose(series, model = 'additive')\n",
        "decomposition.plot()\n",
        "plt.show()"
      ],
      "metadata": {
        "colab": {
          "base_uri": "https://localhost:8080/",
          "height": 487
        },
        "id": "TWaOpaBpll6e",
        "outputId": "e8bf035a-ed49-47e5-db7c-569b1bbb545a"
      },
      "execution_count": 8,
      "outputs": [
        {
          "output_type": "display_data",
          "data": {
            "text/plain": [
              "<Figure size 640x480 with 4 Axes>"
            ],
            "image/png": "[encoded data removed]"
          },
          "metadata": {}
        }
      ]
    },
    {
      "cell_type": "markdown",
      "source": [
        "## From above results, we can see the data consists of seasonality and there is no particular trend in the data but still irregular trend is present."
      ],
      "metadata": {
        "id": "4_Vdnx9Qpvz4"
      }
    },
    {
      "cell_type": "markdown",
      "source": [
        "## Checking Stationarity:"
      ],
      "metadata": {
        "id": "vTJcFCiNYkJ8"
      }
    },
    {
      "cell_type": "code",
      "source": [
        "from statsmodels.tsa.stattools import adfuller, kpss"
      ],
      "metadata": {
        "id": "qyqw7S2YXF80"
      },
      "execution_count": 9,
      "outputs": []
    },
    {
      "cell_type": "markdown",
      "source": [
        "## Dicky Fuller Test:"
      ],
      "metadata": {
        "id": "Hlg8neYYrRJO"
      }
    },
    {
      "cell_type": "code",
      "source": [
        "result = adfuller(df1['air_temp_avg'].values, autolag = 'AIC')"
      ],
      "metadata": {
        "id": "LzXZ4UP1Y-3s"
      },
      "execution_count": 10,
      "outputs": []
    },
    {
      "cell_type": "code",
      "source": [
        "print(f'ADF Statistic: {result[0]}')\n",
        "print(f'p-value: {result[1]}')\n",
        "for key, value in result[4].items():\n",
        "    print(f'Critial Value at {key} = {value}')"
      ],
      "metadata": {
        "colab": {
          "base_uri": "https://localhost:8080/"
        },
        "id": "BefUsvWzZO3_",
        "outputId": "15367419-3306-4227-ae60-0ffa6f61e5e6"
      },
      "execution_count": 11,
      "outputs": [
        {
          "output_type": "stream",
          "name": "stdout",
          "text": [
            "ADF Statistic: -2.103531236738463\n",
            "p-value: 0.24309704633855367\n",
            "Critial Value at 1% = -3.4334094211542983\n",
            "Critial Value at 5% = -2.8628915360971003\n",
            "Critial Value at 10% = -2.5674894918770197\n"
          ]
        }
      ]
    },
    {
      "cell_type": "markdown",
      "source": [
        "### From above results, since p-value is greater than 0.05 we can conclude we can not reject the null hypothesis and hence the series is non-stationary."
      ],
      "metadata": {
        "id": "NdKWqOZYZdkQ"
      }
    },
    {
      "cell_type": "markdown",
      "source": [
        "## Checking with KPSS Test:"
      ],
      "metadata": {
        "id": "uNAiRBnCrT93"
      }
    },
    {
      "cell_type": "code",
      "source": [
        "result = kpss(df1['air_temp_avg'].values)\n",
        "\n",
        "print(f'KPSS Statistic: {result[0]}')\n",
        "print(f'p-value: {result[1]}')"
      ],
      "metadata": {
        "colab": {
          "base_uri": "https://localhost:8080/"
        },
        "id": "5kf1zzvurWP5",
        "outputId": "222be621-2235-4db9-a720-a2b07972891c"
      },
      "execution_count": 12,
      "outputs": [
        {
          "output_type": "stream",
          "name": "stdout",
          "text": [
            "KPSS Statistic: 4.135876194776187\n",
            "p-value: 0.01\n"
          ]
        },
        {
          "output_type": "stream",
          "name": "stderr",
          "text": [
            "/usr/local/lib/python3.10/dist-packages/statsmodels/tsa/stattools.py:2018: InterpolationWarning:\n",
            "\n",
            "The test statistic is outside of the range of p-values available in the\n",
            "look-up table. The actual p-value is smaller than the p-value returned.\n",
            "\n",
            "\n"
          ]
        }
      ]
    },
    {
      "cell_type": "markdown",
      "source": [
        "## Based on KPSS p-value, we reject Null Hypothesis and hence time series is not stationary."
      ],
      "metadata": {
        "id": "MVXWSHZNr4Ua"
      }
    },
    {
      "cell_type": "markdown",
      "source": [
        "## Making Time Series Stationary:"
      ],
      "metadata": {
        "id": "-mSLTtr4Zh1s"
      }
    },
    {
      "cell_type": "markdown",
      "source": [
        "## Differencing:"
      ],
      "metadata": {
        "id": "J9fk0dtJZqmx"
      }
    },
    {
      "cell_type": "code",
      "source": [
        "df1['M1'] = df1['air_temp_avg'] - df1['air_temp_avg'].shift(1)"
      ],
      "metadata": {
        "id": "5JfsQBT4ZPjy"
      },
      "execution_count": 13,
      "outputs": []
    },
    {
      "cell_type": "code",
      "source": [
        "fig = go.Figure()\n",
        "\n",
        "fig.add_trace(go.Scatter(x = df1.index, y = df1['M1'], mode = 'lines+markers'))\n",
        "\n",
        "fig.update_layout(title = \"Average Air Temperature (After first order differencing)\")\n",
        "fig.update_yaxes(title_text = \"Average Air Temperature\")\n",
        "fig.update_xaxes(title_text = \"Datetime\")\n",
        "\n",
        "fig.show()"
      ],
      "metadata": {
        "colab": {
          "base_uri": "https://localhost:8080/",
          "height": 542
        },
        "id": "U4EtXef2aRfK",
        "outputId": "d5a431ed-8824-4d8c-f8e2-864a282fa86c"
      },
      "execution_count": 14,
      "outputs": [
        {
          "output_type": "display_data",
          "data": {
            "text/html": [
              "<html>\n",
              "<head><meta charset=\"utf-8\" /></head>\n",
              "<body>\n",
              "    <div>            <script src=\"https://cdnjs.cloudflare.com/ajax/libs/mathjax/2.7.5/MathJax.js?config=TeX-AMS-MML_SVG\"></script><script type=\"text/javascript\">if (window.MathJax && window.MathJax.Hub && window.MathJax.Hub.Config) {window.MathJax.Hub.Config({SVG: {font: \"STIX-Web\"}});}</script>                <script type=\"text/javascript\">window.PlotlyConfig = {MathJaxConfig: 'local'};</script>\n",
              "        <script src=\"https://cdn.plot.ly/plotly-2.18.2.min.js\"></script>                <div id=\"9e059f0d-c6d4-4d9c-b4be-b0d004e1b987\" class=\"plotly-graph-div\" style=\"height:525px; width:100%;\"></div>            <script type=\"text/javascript\">                                    window.PLOTLYENV=window.PLOTLYENV || {};                                    if (document.getElementById(\"9e059f0d-c6d4-4d9c-b4be-b0d004e1b987\")) {                    Plotly.newPlot(                        \"9e059f0d-c6d4-4d9c-b4be-b0d004e1b987\",                        [{\"mode\":\"lines+markers\",\"x\":[\"2023-04-25 13:00:00\",\"2023-04-25 14:00:00\",\"2023-04-25 15:00:00\",\"2023-04-25 16:00:00\",\"2023-04-25 17:00:00\",\"2023-04-25 18:00:00\",\"2023-04-25 19:00:00\",\"2023-04-25 20:00:00\",\"2023-04-25 21:00:00\",\"2023-04-25 22:00:00\",\"2023-04-25 23:00:00\",\"2023-04-26 00:00:00\",\"2023-04-26 01:00:00\",\"2023-04-26 02:00:00\",\"2023-04-26 03:00:00\",\"2023-04-26 04:00:00\",\"2023-04-26 05:00:00\",\"2023-04-26 06:00:00\",\"2023-04-26 07:00:00\",\"2023-04-26 08:00:00\",\"2023-04-26 09:00:00\",\"2023-04-26 10:00:00\",\"2023-04-26 11:00:00\",\"2023-04-26 12:00:00\",\"2023-04-26 13:00:00\",\"2023-04-26 14:00:00\",\"2023-04-26 15:00:00\",\"2023-04-26 16:00:00\",\"2023-04-26 17:00:00\",\"2023-04-26 18:00:00\",\"2023-04-26 19:00:00\",\"2023-04-26 20:00:00\",\"2023-04-26 21:00:00\",\"2023-04-26 22:00:00\",\"2023-04-26 23:00:00\",\"2023-04-27 00:00:00\",\"2023-04-27 01:00:00\",\"2023-04-27 02:00:00\",\"2023-04-27 03:00:00\",\"2023-04-27 04:00:00\",\"2023-04-27 05:00:00\",\"2023-04-27 06:00:00\",\"2023-04-27 07:00:00\",\"2023-04-27 08:00:00\",\"2023-04-27 09:00:00\",\"2023-04-27 10:00:00\",\"2023-04-27 11:00:00\",\"2023-04-27 12:00:00\",\"2023-04-27 13:00:00\",\"2023-04-27 14:00:00\",\"2023-04-27 15:00:00\",\"2023-04-27 16:00:00\",\"2023-04-27 17:00:00\",\"2023-04-27 18:00:00\",\"2023-04-27 19:00:00\",\"2023-04-27 20:00:00\",\"2023-04-27 21:00:00\",\"2023-04-27 22:00:00\",\"2023-04-27 23:00:00\",\"2023-04-28 00:00:00\",\"2023-04-28 01:00:00\",\"2023-04-28 02:00:00\",\"2023-04-28 03:00:00\",\"2023-04-28 04:00:00\",\"2023-04-28 05:00:00\",\"2023-04-28 06:00:00\",\"2023-04-28 07:00:00\",\"2023-04-28 08:00:00\",\"2023-04-28 09:00:00\",\"2023-04-28 10:00:00\",\"2023-04-28 11:00:00\",\"2023-04-28 12:00:00\",\"2023-04-28 13:00:00\",\"2023-04-28 14:00:00\",\"2023-04-28 15:00:00\",\"2023-04-28 16:00:00\",\"2023-04-28 17:00:00\",\"2023-04-28 18:00:00\",\"2023-04-28 19:00:00\",\"2023-04-28 20:00:00\",\"2023-04-28 21:00:00\",\"2023-04-28 22:00:00\",\"2023-04-28 23:00:00\",\"2023-04-29 00:00:00\",\"2023-04-29 01:00:00\",\"2023-04-29 02:00:00\",\"2023-04-29 03:00:00\",\"2023-04-29 04:00:00\",\"2023-04-29 05:00:00\",\"2023-04-29 06:00:00\",\"2023-04-29 07:00:00\",\"2023-04-29 08:00:00\",\"2023-04-29 09:00:00\",\"2023-04-29 10:00:00\",\"2023-04-29 11:00:00\",\"2023-04-29 12:00:00\",\"2023-04-29 13:00:00\",\"2023-04-29 14:00:00\",\"2023-04-29 15:00:00\",\"2023-04-29 16:00:00\",\"2023-04-29 17:00:00\",\"2023-04-29 18:00:00\",\"2023-04-29 19:00:00\",\"2023-04-29 20:00:00\",\"2023-04-29 21:00:00\",\"2023-04-29 22:00:00\",\"2023-04-29 23:00:00\",\"2023-04-30 00:00:00\",\"2023-04-30 01:00:00\",\"2023-04-30 02:00:00\",\"2023-04-30 03:00:00\",\"2023-04-30 04:00:00\",\"2023-04-30 05:00:00\",\"2023-04-30 06:00:00\",\"2023-04-30 07:00:00\",\"2023-04-30 08:00:00\",\"2023-04-30 09:00:00\",\"2023-04-30 10:00:00\",\"2023-04-30 11:00:00\",\"2023-04-30 12:00:00\",\"2023-04-30 13:00:00\",\"2023-04-30 14:00:00\",\"2023-04-30 15:00:00\",\"2023-04-30 16:00:00\",\"2023-04-30 17:00:00\",\"2023-04-30 18:00:00\",\"2023-04-30 19:00:00\",\"2023-04-30 20:00:00\",\"2023-04-30 21:00:00\",\"2023-04-30 22:00:00\",\"2023-04-30 23:00:00\",\"2023-05-01 00:00:00\",\"2023-05-01 01:00:00\",\"2023-05-01 02:00:00\",\"2023-05-01 03:00:00\",\"2023-05-01 04:00:00\",\"2023-05-01 05:00:00\",\"2023-05-01 06:00:00\",\"2023-05-01 07:00:00\",\"2023-05-01 08:00:00\",\"2023-05-01 09:00:00\",\"2023-05-01 10:00:00\",\"2023-05-01 11:00:00\",\"2023-05-01 12:00:00\",\"2023-05-01 13:00:00\",\"2023-05-01 14:00:00\",\"2023-05-01 15:00:00\",\"2023-05-01 16:00:00\",\"2023-05-01 17:00:00\",\"2023-05-01 18:00:00\",\"2023-05-01 19:00:00\",\"2023-05-01 20:00:00\",\"2023-05-01 21:00:00\",\"2023-05-01 22:00:00\",\"2023-05-01 23:00:00\",\"2023-05-02 00:00:00\",\"2023-05-02 01:00:00\",\"2023-05-02 02:00:00\",\"2023-05-02 03:00:00\",\"2023-05-02 04:00:00\",\"2023-05-02 05:00:00\",\"2023-05-02 06:00:00\",\"2023-05-02 07:00:00\",\"2023-05-02 08:00:00\",\"2023-05-02 09:00:00\",\"2023-05-02 10:00:00\",\"2023-05-02 11:00:00\",\"2023-05-02 12:00:00\",\"2023-05-02 13:00:00\",\"2023-05-02 14:00:00\",\"2023-05-02 15:00:00\",\"2023-05-02 16:00:00\",\"2023-05-02 17:00:00\",\"2023-05-02 18:00:00\",\"2023-05-02 19:00:00\",\"2023-05-02 20:00:00\",\"2023-05-02 21:00:00\",\"2023-05-02 22:00:00\",\"2023-05-02 23:00:00\",\"2023-05-03 00:00:00\",\"2023-05-03 01:00:00\",\"2023-05-03 02:00:00\",\"2023-05-03 03:00:00\",\"2023-05-03 04:00:00\",\"2023-05-03 05:00:00\",\"2023-05-03 06:00:00\",\"2023-05-03 07:00:00\",\"2023-05-03 08:00:00\",\"2023-05-03 09:00:00\",\"2023-05-03 10:00:00\",\"2023-05-03 11:00:00\",\"2023-05-03 12:00:00\",\"2023-05-03 13:00:00\",\"2023-05-03 14:00:00\",\"2023-05-03 15:00:00\",\"2023-05-03 16:00:00\",\"2023-05-03 17:00:00\",\"2023-05-03 18:00:00\",\"2023-05-03 19:00:00\",\"2023-05-03 20:00:00\",\"2023-05-03 21:00:00\",\"2023-05-03 22:00:00\",\"2023-05-03 23:00:00\",\"2023-05-04 00:00:00\",\"2023-05-04 01:00:00\",\"2023-05-04 02:00:00\",\"2023-05-04 03:00:00\",\"2023-05-04 04:00:00\",\"2023-05-04 05:00:00\",\"2023-05-04 06:00:00\",\"2023-05-04 07:00:00\",\"2023-05-04 08:00:00\",\"2023-05-04 09:00:00\",\"2023-05-04 10:00:00\",\"2023-05-04 11:00:00\",\"2023-05-04 12:00:00\",\"2023-05-04 13:00:00\",\"2023-05-04 14:00:00\",\"2023-05-04 15:00:00\",\"2023-05-04 16:00:00\",\"2023-05-04 17:00:00\",\"2023-05-04 18:00:00\",\"2023-05-04 19:00:00\",\"2023-05-04 20:00:00\",\"2023-05-04 21:00:00\",\"2023-05-04 22:00:00\",\"2023-05-04 23:00:00\",\"2023-05-05 00:00:00\",\"2023-05-05 01:00:00\",\"2023-05-05 02:00:00\",\"2023-05-05 03:00:00\",\"2023-05-05 04:00:00\",\"2023-05-05 05:00:00\",\"2023-05-05 06:00:00\",\"2023-05-05 07:00:00\",\"2023-05-05 08:00:00\",\"2023-05-05 09:00:00\",\"2023-05-05 10:00:00\",\"2023-05-05 11:00:00\",\"2023-05-05 12:00:00\",\"2023-05-05 13:00:00\",\"2023-05-05 14:00:00\",\"2023-05-05 15:00:00\",\"2023-05-05 16:00:00\",\"2023-05-05 17:00:00\",\"2023-05-05 18:00:00\",\"2023-05-05 19:00:00\",\"2023-05-05 20:00:00\",\"2023-05-05 21:00:00\",\"2023-05-05 22:00:00\",\"2023-05-05 23:00:00\",\"2023-05-06 00:00:00\",\"2023-05-06 01:00:00\",\"2023-05-06 02:00:00\",\"2023-05-06 03:00:00\",\"2023-05-06 04:00:00\",\"2023-05-06 05:00:00\",\"2023-05-06 06:00:00\",\"2023-05-06 07:00:00\",\"2023-05-06 08:00:00\",\"2023-05-06 09:00:00\",\"2023-05-06 10:00:00\",\"2023-05-06 11:00:00\",\"2023-05-06 12:00:00\",\"2023-05-06 13:00:00\",\"2023-05-06 14:00:00\",\"2023-05-06 15:00:00\",\"2023-05-06 16:00:00\",\"2023-05-06 17:00:00\",\"2023-05-06 18:00:00\",\"2023-05-06 19:00:00\",\"2023-05-06 20:00:00\",\"2023-05-06 21:00:00\",\"2023-05-06 22:00:00\",\"2023-05-06 23:00:00\",\"2023-05-07 00:00:00\",\"2023-05-07 01:00:00\",\"2023-05-07 02:00:00\",\"2023-05-07 03:00:00\",\"2023-05-07 04:00:00\",\"2023-05-07 05:00:00\",\"2023-05-07 06:00:00\",\"2023-05-07 07:00:00\",\"2023-05-07 08:00:00\",\"2023-05-07 09:00:00\",\"2023-05-07 10:00:00\",\"2023-05-07 11:00:00\",\"2023-05-07 12:00:00\",\"2023-05-07 13:00:00\",\"2023-05-07 14:00:00\",\"2023-05-07 15:00:00\",\"2023-05-07 16:00:00\",\"2023-05-07 17:00:00\",\"2023-05-07 18:00:00\",\"2023-05-07 19:00:00\",\"2023-05-07 20:00:00\",\"2023-05-07 21:00:00\",\"2023-05-07 22:00:00\",\"2023-05-07 23:00:00\",\"2023-05-08 00:00:00\",\"2023-05-08 01:00:00\",\"2023-05-08 02:00:00\",\"2023-05-08 03:00:00\",\"2023-05-08 04:00:00\",\"2023-05-08 05:00:00\",\"2023-05-08 06:00:00\",\"2023-05-08 07:00:00\",\"2023-05-08 08:00:00\",\"2023-05-08 09:00:00\",\"2023-05-08 10:00:00\",\"2023-05-08 11:00:00\",\"2023-05-08 12:00:00\",\"2023-05-08 13:00:00\",\"2023-05-08 14:00:00\",\"2023-05-08 15:00:00\",\"2023-05-08 16:00:00\",\"2023-05-08 17:00:00\",\"2023-05-08 18:00:00\",\"2023-05-08 19:00:00\",\"2023-05-08 20:00:00\",\"2023-05-08 21:00:00\",\"2023-05-08 22:00:00\",\"2023-05-08 23:00:00\",\"2023-05-09 00:00:00\",\"2023-05-09 01:00:00\",\"2023-05-09 02:00:00\",\"2023-05-09 03:00:00\",\"2023-05-09 04:00:00\",\"2023-05-09 05:00:00\",\"2023-05-09 06:00:00\",\"2023-05-09 07:00:00\",\"2023-05-09 08:00:00\",\"2023-05-09 09:00:00\",\"2023-05-09 10:00:00\",\"2023-05-09 11:00:00\",\"2023-05-09 12:00:00\",\"2023-05-09 13:00:00\",\"2023-05-09 14:00:00\",\"2023-05-09 15:00:00\",\"2023-05-09 16:00:00\",\"2023-05-09 17:00:00\",\"2023-05-09 18:00:00\",\"2023-05-09 19:00:00\",\"2023-05-09 20:00:00\",\"2023-05-09 21:00:00\",\"2023-05-09 22:00:00\",\"2023-05-09 23:00:00\",\"2023-05-10 00:00:00\",\"2023-05-10 01:00:00\",\"2023-05-10 02:00:00\",\"2023-05-10 03:00:00\",\"2023-05-10 04:00:00\",\"2023-05-10 05:00:00\",\"2023-05-10 06:00:00\",\"2023-05-10 07:00:00\",\"2023-05-10 08:00:00\",\"2023-05-10 09:00:00\",\"2023-05-10 10:00:00\",\"2023-05-10 11:00:00\",\"2023-05-10 12:00:00\",\"2023-05-10 13:00:00\",\"2023-05-10 14:00:00\",\"2023-05-10 15:00:00\",\"2023-05-10 16:00:00\",\"2023-05-10 17:00:00\",\"2023-05-10 18:00:00\",\"2023-05-10 19:00:00\",\"2023-05-10 20:00:00\",\"2023-05-10 21:00:00\",\"2023-05-10 22:00:00\",\"2023-05-10 23:00:00\",\"2023-05-11 00:00:00\",\"2023-05-11 01:00:00\",\"2023-05-11 02:00:00\",\"2023-05-11 03:00:00\",\"2023-05-11 04:00:00\",\"2023-05-11 05:00:00\",\"2023-05-11 06:00:00\",\"2023-05-11 07:00:00\",\"2023-05-11 08:00:00\",\"2023-05-11 09:00:00\",\"2023-05-11 10:00:00\",\"2023-05-11 11:00:00\",\"2023-05-11 12:00:00\",\"2023-05-11 13:00:00\",\"2023-05-11 14:00:00\",\"2023-05-11 15:00:00\",\"2023-05-11 16:00:00\",\"2023-05-11 17:00:00\",\"2023-05-11 18:00:00\",\"2023-05-11 19:00:00\",\"2023-05-11 20:00:00\",\"2023-05-11 21:00:00\",\"2023-05-11 22:00:00\",\"2023-05-11 23:00:00\",\"2023-05-12 00:00:00\",\"2023-05-12 01:00:00\",\"2023-05-12 02:00:00\",\"2023-05-12 03:00:00\",\"2023-05-12 04:00:00\",\"2023-05-12 05:00:00\",\"2023-05-12 06:00:00\",\"2023-05-12 07:00:00\",\"2023-05-12 08:00:00\",\"2023-05-12 09:00:00\",\"2023-05-12 10:00:00\",\"2023-05-12 11:00:00\",\"2023-05-12 12:00:00\",\"2023-05-12 13:00:00\",\"2023-05-12 14:00:00\",\"2023-05-12 15:00:00\",\"2023-05-12 16:00:00\",\"2023-05-12 17:00:00\",\"2023-05-12 18:00:00\",\"2023-05-12 19:00:00\",\"2023-05-12 20:00:00\",\"2023-05-12 21:00:00\",\"2023-05-12 22:00:00\",\"2023-05-12 23:00:00\",\"2023-05-13 00:00:00\",\"2023-05-13 01:00:00\",\"2023-05-13 02:00:00\",\"2023-05-13 03:00:00\",\"2023-05-13 04:00:00\",\"2023-05-13 05:00:00\",\"2023-05-13 06:00:00\",\"2023-05-13 07:00:00\",\"2023-05-13 08:00:00\",\"2023-05-13 09:00:00\",\"2023-05-13 10:00:00\",\"2023-05-13 11:00:00\",\"2023-05-13 12:00:00\",\"2023-05-13 13:00:00\",\"2023-05-13 14:00:00\",\"2023-05-13 15:00:00\",\"2023-05-13 16:00:00\",\"2023-05-13 17:00:00\",\"2023-05-13 18:00:00\",\"2023-05-13 19:00:00\",\"2023-05-13 20:00:00\",\"2023-05-13 21:00:00\",\"2023-05-13 22:00:00\",\"2023-05-13 23:00:00\",\"2023-05-14 00:00:00\",\"2023-05-14 01:00:00\",\"2023-05-14 02:00:00\",\"2023-05-14 03:00:00\",\"2023-05-14 04:00:00\",\"2023-05-14 05:00:00\",\"2023-05-14 06:00:00\",\"2023-05-14 07:00:00\",\"2023-05-14 08:00:00\",\"2023-05-14 09:00:00\",\"2023-05-14 10:00:00\",\"2023-05-14 11:00:00\",\"2023-05-14 12:00:00\",\"2023-05-14 13:00:00\",\"2023-05-14 14:00:00\",\"2023-05-14 15:00:00\",\"2023-05-14 16:00:00\",\"2023-05-14 17:00:00\",\"2023-05-14 18:00:00\",\"2023-05-14 19:00:00\",\"2023-05-14 20:00:00\",\"2023-05-14 21:00:00\",\"2023-05-14 22:00:00\",\"2023-05-14 23:00:00\",\"2023-05-15 00:00:00\",\"2023-05-15 01:00:00\",\"2023-05-15 02:00:00\",\"2023-05-15 03:00:00\",\"2023-05-15 04:00:00\",\"2023-05-15 05:00:00\",\"2023-05-15 06:00:00\",\"2023-05-15 07:00:00\",\"2023-05-15 08:00:00\",\"2023-05-15 09:00:00\",\"2023-05-15 10:00:00\",\"2023-05-15 11:00:00\",\"2023-05-15 12:00:00\",\"2023-05-15 13:00:00\",\"2023-05-15 14:00:00\",\"2023-05-15 15:00:00\",\"2023-05-15 16:00:00\",\"2023-05-15 17:00:00\",\"2023-05-15 18:00:00\",\"2023-05-15 19:00:00\",\"2023-05-15 20:00:00\",\"2023-05-15 21:00:00\",\"2023-05-15 22:00:00\",\"2023-05-15 23:00:00\",\"2023-05-16 00:00:00\",\"2023-05-16 01:00:00\",\"2023-05-16 02:00:00\",\"2023-05-16 03:00:00\",\"2023-05-16 04:00:00\",\"2023-05-16 05:00:00\",\"2023-05-16 06:00:00\",\"2023-05-16 07:00:00\",\"2023-05-16 08:00:00\",\"2023-05-16 09:00:00\",\"2023-05-16 10:00:00\",\"2023-05-16 11:00:00\",\"2023-05-16 12:00:00\",\"2023-05-16 13:00:00\",\"2023-05-16 14:00:00\",\"2023-05-16 15:00:00\",\"2023-05-16 16:00:00\",\"2023-05-16 17:00:00\",\"2023-05-16 18:00:00\",\"2023-05-16 19:00:00\",\"2023-05-16 20:00:00\",\"2023-05-16 21:00:00\",\"2023-05-16 22:00:00\",\"2023-05-16 23:00:00\",\"2023-05-17 00:00:00\",\"2023-05-17 01:00:00\",\"2023-05-17 02:00:00\",\"2023-05-17 03:00:00\",\"2023-05-17 04:00:00\",\"2023-05-17 05:00:00\",\"2023-05-17 06:00:00\",\"2023-05-17 07:00:00\",\"2023-05-17 08:00:00\",\"2023-05-17 09:00:00\",\"2023-05-17 10:00:00\",\"2023-05-17 11:00:00\",\"2023-05-17 12:00:00\",\"2023-05-17 13:00:00\",\"2023-05-17 14:00:00\",\"2023-05-17 15:00:00\",\"2023-05-17 16:00:00\",\"2023-05-17 17:00:00\",\"2023-05-17 18:00:00\",\"2023-05-17 19:00:00\",\"2023-05-17 20:00:00\",\"2023-05-17 21:00:00\",\"2023-05-17 22:00:00\",\"2023-05-17 23:00:00\",\"2023-05-18 00:00:00\",\"2023-05-18 01:00:00\",\"2023-05-18 02:00:00\",\"2023-05-18 03:00:00\",\"2023-05-18 04:00:00\",\"2023-05-18 05:00:00\",\"2023-05-18 06:00:00\",\"2023-05-18 07:00:00\",\"2023-05-18 08:00:00\",\"2023-05-18 09:00:00\",\"2023-05-18 10:00:00\",\"2023-05-18 11:00:00\",\"2023-05-18 12:00:00\",\"2023-05-18 13:00:00\",\"2023-05-18 14:00:00\",\"2023-05-18 15:00:00\",\"2023-05-18 16:00:00\",\"2023-05-18 17:00:00\",\"2023-05-18 18:00:00\",\"2023-05-18 19:00:00\",\"2023-05-18 20:00:00\",\"2023-05-18 21:00:00\",\"2023-05-18 22:00:00\",\"2023-05-18 23:00:00\",\"2023-05-19 00:00:00\",\"2023-05-19 01:00:00\",\"2023-05-19 02:00:00\",\"2023-05-19 03:00:00\",\"2023-05-19 04:00:00\",\"2023-05-19 05:00:00\",\"2023-05-19 06:00:00\",\"2023-05-19 07:00:00\",\"2023-05-19 08:00:00\",\"2023-05-19 09:00:00\",\"2023-05-19 10:00:00\",\"2023-05-19 11:00:00\",\"2023-05-19 12:00:00\",\"2023-05-19 13:00:00\",\"2023-05-19 14:00:00\",\"2023-05-19 15:00:00\",\"2023-05-19 16:00:00\",\"2023-05-19 17:00:00\",\"2023-05-19 18:00:00\",\"2023-05-19 19:00:00\",\"2023-05-19 20:00:00\",\"2023-05-19 21:00:00\",\"2023-05-19 22:00:00\",\"2023-05-19 23:00:00\",\"2023-05-20 00:00:00\",\"2023-05-20 01:00:00\",\"2023-05-20 02:00:00\",\"2023-05-20 03:00:00\",\"2023-05-20 04:00:00\",\"2023-05-20 05:00:00\",\"2023-05-20 06:00:00\",\"2023-05-20 07:00:00\",\"2023-05-20 08:00:00\",\"2023-05-20 09:00:00\",\"2023-05-20 10:00:00\",\"2023-05-20 11:00:00\",\"2023-05-20 12:00:00\",\"2023-05-20 13:00:00\",\"2023-05-20 14:00:00\",\"2023-05-20 15:00:00\",\"2023-05-20 16:00:00\",\"2023-05-20 17:00:00\",\"2023-05-20 18:00:00\",\"2023-05-20 19:00:00\",\"2023-05-20 20:00:00\",\"2023-05-20 21:00:00\",\"2023-05-20 22:00:00\",\"2023-05-20 23:00:00\",\"2023-05-21 00:00:00\",\"2023-05-21 01:00:00\",\"2023-05-21 02:00:00\",\"2023-05-21 03:00:00\",\"2023-05-21 04:00:00\",\"2023-05-21 05:00:00\",\"2023-05-21 06:00:00\",\"2023-05-21 07:00:00\",\"2023-05-21 08:00:00\",\"2023-05-21 09:00:00\",\"2023-05-21 10:00:00\",\"2023-05-21 11:00:00\",\"2023-05-21 12:00:00\",\"2023-05-21 13:00:00\",\"2023-05-21 14:00:00\",\"2023-05-21 15:00:00\",\"2023-05-21 16:00:00\",\"2023-05-21 17:00:00\",\"2023-05-21 18:00:00\",\"2023-05-21 19:00:00\",\"2023-05-21 20:00:00\",\"2023-05-21 21:00:00\",\"2023-05-21 22:00:00\",\"2023-05-21 23:00:00\",\"2023-05-22 00:00:00\",\"2023-05-22 01:00:00\",\"2023-05-22 02:00:00\",\"2023-05-22 03:00:00\",\"2023-05-22 04:00:00\",\"2023-05-22 05:00:00\",\"2023-05-22 06:00:00\",\"2023-05-22 07:00:00\",\"2023-05-22 08:00:00\",\"2023-05-22 09:00:00\",\"2023-05-22 10:00:00\",\"2023-05-22 11:00:00\",\"2023-05-22 12:00:00\",\"2023-05-22 13:00:00\",\"2023-05-22 14:00:00\",\"2023-05-22 15:00:00\",\"2023-05-22 16:00:00\",\"2023-05-22 17:00:00\",\"2023-05-22 18:00:00\",\"2023-05-22 19:00:00\",\"2023-05-22 20:00:00\",\"2023-05-22 21:00:00\",\"2023-05-22 22:00:00\",\"2023-05-22 23:00:00\",\"2023-05-23 00:00:00\",\"2023-05-23 01:00:00\",\"2023-05-23 02:00:00\",\"2023-05-23 03:00:00\",\"2023-05-23 04:00:00\",\"2023-05-23 05:00:00\",\"2023-05-23 06:00:00\",\"2023-05-23 07:00:00\",\"2023-05-23 08:00:00\",\"2023-05-23 09:00:00\",\"2023-05-23 10:00:00\",\"2023-05-23 11:00:00\",\"2023-05-23 12:00:00\",\"2023-05-23 13:00:00\",\"2023-05-23 14:00:00\",\"2023-05-23 15:00:00\",\"2023-05-23 16:00:00\",\"2023-05-23 17:00:00\",\"2023-05-23 18:00:00\",\"2023-05-23 19:00:00\",\"2023-05-23 20:00:00\",\"2023-05-23 21:00:00\",\"2023-05-23 22:00:00\",\"2023-05-23 23:00:00\",\"2023-05-24 00:00:00\",\"2023-05-24 01:00:00\",\"2023-05-24 02:00:00\",\"2023-05-24 03:00:00\",\"2023-05-24 04:00:00\",\"2023-05-24 05:00:00\",\"2023-05-24 06:00:00\",\"2023-05-24 07:00:00\",\"2023-05-24 08:00:00\",\"2023-05-24 09:00:00\",\"2023-05-24 10:00:00\",\"2023-05-24 11:00:00\",\"2023-05-24 12:00:00\",\"2023-05-24 13:00:00\",\"2023-05-24 14:00:00\",\"2023-05-24 15:00:00\",\"2023-05-24 16:00:00\",\"2023-05-24 17:00:00\",\"2023-05-24 18:00:00\",\"2023-05-24 19:00:00\",\"2023-05-24 20:00:00\",\"2023-05-24 21:00:00\",\"2023-05-24 22:00:00\",\"2023-05-24 23:00:00\",\"2023-05-25 00:00:00\",\"2023-05-25 01:00:00\",\"2023-05-25 02:00:00\",\"2023-05-25 03:00:00\",\"2023-05-25 04:00:00\",\"2023-05-25 05:00:00\",\"2023-05-25 06:00:00\",\"2023-05-25 07:00:00\",\"2023-05-25 08:00:00\",\"2023-05-25 09:00:00\",\"2023-05-25 10:00:00\",\"2023-05-25 11:00:00\",\"2023-05-25 12:00:00\",\"2023-05-25 13:00:00\",\"2023-05-25 14:00:00\",\"2023-05-25 15:00:00\",\"2023-05-25 16:00:00\",\"2023-05-25 17:00:00\",\"2023-05-25 18:00:00\",\"2023-05-25 19:00:00\",\"2023-05-25 20:00:00\",\"2023-05-25 21:00:00\",\"2023-05-25 22:00:00\",\"2023-05-25 23:00:00\",\"2023-05-26 00:00:00\",\"2023-05-26 01:00:00\",\"2023-05-26 02:00:00\",\"2023-05-26 03:00:00\",\"2023-05-26 04:00:00\",\"2023-05-26 05:00:00\",\"2023-05-26 06:00:00\",\"2023-05-26 07:00:00\",\"2023-05-26 08:00:00\",\"2023-05-26 09:00:00\",\"2023-05-26 10:00:00\",\"2023-05-26 11:00:00\",\"2023-05-26 12:00:00\",\"2023-05-26 13:00:00\",\"2023-05-26 14:00:00\",\"2023-05-26 15:00:00\",\"2023-05-26 16:00:00\",\"2023-05-26 17:00:00\",\"2023-05-26 18:00:00\",\"2023-05-26 19:00:00\",\"2023-05-26 20:00:00\",\"2023-05-26 21:00:00\",\"2023-05-26 22:00:00\",\"2023-05-26 23:00:00\",\"2023-05-27 00:00:00\",\"2023-05-27 01:00:00\",\"2023-05-27 02:00:00\",\"2023-05-27 03:00:00\",\"2023-05-27 04:00:00\",\"2023-05-27 05:00:00\",\"2023-05-27 06:00:00\",\"2023-05-27 07:00:00\",\"2023-05-27 08:00:00\",\"2023-05-27 09:00:00\",\"2023-05-27 10:00:00\",\"2023-05-27 11:00:00\",\"2023-05-27 12:00:00\",\"2023-05-27 13:00:00\",\"2023-05-27 14:00:00\",\"2023-05-27 15:00:00\",\"2023-05-27 16:00:00\",\"2023-05-27 17:00:00\",\"2023-05-27 18:00:00\",\"2023-05-27 19:00:00\",\"2023-05-27 20:00:00\",\"2023-05-27 21:00:00\",\"2023-05-27 22:00:00\",\"2023-05-27 23:00:00\",\"2023-05-28 00:00:00\",\"2023-05-28 01:00:00\",\"2023-05-28 02:00:00\",\"2023-05-28 03:00:00\",\"2023-05-28 04:00:00\",\"2023-05-28 05:00:00\",\"2023-05-28 06:00:00\",\"2023-05-28 07:00:00\",\"2023-05-28 08:00:00\",\"2023-05-28 09:00:00\",\"2023-05-28 10:00:00\",\"2023-05-28 11:00:00\",\"2023-05-28 12:00:00\",\"2023-05-28 13:00:00\",\"2023-05-28 14:00:00\",\"2023-05-28 15:00:00\",\"2023-05-28 16:00:00\",\"2023-05-28 17:00:00\",\"2023-05-28 18:00:00\",\"2023-05-28 19:00:00\",\"2023-05-28 20:00:00\",\"2023-05-28 21:00:00\",\"2023-05-28 22:00:00\",\"2023-05-28 23:00:00\",\"2023-05-29 00:00:00\",\"2023-05-29 01:00:00\",\"2023-05-29 02:00:00\",\"2023-05-29 03:00:00\",\"2023-05-29 04:00:00\",\"2023-05-29 05:00:00\",\"2023-05-29 06:00:00\",\"2023-05-29 07:00:00\",\"2023-05-29 08:00:00\",\"2023-05-29 09:00:00\",\"2023-05-29 10:00:00\",\"2023-05-29 11:00:00\",\"2023-05-29 12:00:00\",\"2023-05-29 13:00:00\",\"2023-05-29 14:00:00\",\"2023-05-29 15:00:00\",\"2023-05-29 16:00:00\",\"2023-05-29 17:00:00\",\"2023-05-29 18:00:00\",\"2023-05-29 19:00:00\",\"2023-05-29 20:00:00\",\"2023-05-29 21:00:00\",\"2023-05-29 22:00:00\",\"2023-05-29 23:00:00\",\"2023-05-30 00:00:00\",\"2023-05-30 01:00:00\",\"2023-05-30 02:00:00\",\"2023-05-30 03:00:00\",\"2023-05-30 04:00:00\",\"2023-05-30 05:00:00\",\"2023-05-30 06:00:00\",\"2023-05-30 07:00:00\",\"2023-05-30 08:00:00\",\"2023-05-30 09:00:00\",\"2023-05-30 10:00:00\",\"2023-05-30 11:00:00\",\"2023-05-30 12:00:00\",\"2023-05-30 13:00:00\",\"2023-05-30 14:00:00\",\"2023-05-30 15:00:00\",\"2023-05-30 16:00:00\",\"2023-05-30 17:00:00\",\"2023-05-30 18:00:00\",\"2023-05-30 19:00:00\",\"2023-05-30 20:00:00\",\"2023-05-30 21:00:00\",\"2023-05-30 22:00:00\",\"2023-05-30 23:00:00\",\"2023-05-31 00:00:00\",\"2023-05-31 01:00:00\",\"2023-05-31 02:00:00\",\"2023-05-31 03:00:00\",\"2023-05-31 04:00:00\",\"2023-05-31 05:00:00\",\"2023-05-31 06:00:00\",\"2023-05-31 07:00:00\",\"2023-05-31 08:00:00\",\"2023-05-31 09:00:00\",\"2023-05-31 10:00:00\",\"2023-05-31 11:00:00\",\"2023-05-31 12:00:00\",\"2023-05-31 13:00:00\",\"2023-05-31 14:00:00\",\"2023-05-31 15:00:00\",\"2023-05-31 16:00:00\",\"2023-05-31 17:00:00\",\"2023-05-31 18:00:00\",\"2023-05-31 19:00:00\",\"2023-05-31 20:00:00\",\"2023-05-31 21:00:00\",\"2023-05-31 22:00:00\",\"2023-05-31 23:00:00\",\"2023-06-01 00:00:00\",\"2023-06-01 01:00:00\",\"2023-06-01 02:00:00\",\"2023-06-01 03:00:00\",\"2023-06-01 04:00:00\",\"2023-06-01 05:00:00\",\"2023-06-01 06:00:00\",\"2023-06-01 07:00:00\",\"2023-06-01 08:00:00\",\"2023-06-01 09:00:00\",\"2023-06-01 10:00:00\",\"2023-06-01 11:00:00\",\"2023-06-01 12:00:00\",\"2023-06-01 13:00:00\",\"2023-06-01 14:00:00\",\"2023-06-01 15:00:00\",\"2023-06-01 16:00:00\",\"2023-06-01 17:00:00\",\"2023-06-01 18:00:00\",\"2023-06-01 19:00:00\",\"2023-06-01 20:00:00\",\"2023-06-01 21:00:00\",\"2023-06-01 22:00:00\",\"2023-06-01 23:00:00\",\"2023-06-02 00:00:00\",\"2023-06-02 01:00:00\",\"2023-06-02 02:00:00\",\"2023-06-02 03:00:00\",\"2023-06-02 04:00:00\",\"2023-06-02 05:00:00\",\"2023-06-02 06:00:00\",\"2023-06-02 07:00:00\",\"2023-06-02 08:00:00\",\"2023-06-02 09:00:00\",\"2023-06-02 10:00:00\",\"2023-06-02 11:00:00\",\"2023-06-02 12:00:00\",\"2023-06-02 13:00:00\",\"2023-06-02 14:00:00\",\"2023-06-02 15:00:00\",\"2023-06-02 16:00:00\",\"2023-06-02 17:00:00\",\"2023-06-02 18:00:00\",\"2023-06-02 19:00:00\",\"2023-06-02 20:00:00\",\"2023-06-02 21:00:00\",\"2023-06-02 22:00:00\",\"2023-06-02 23:00:00\",\"2023-06-03 00:00:00\",\"2023-06-03 01:00:00\",\"2023-06-03 02:00:00\",\"2023-06-03 03:00:00\",\"2023-06-03 04:00:00\",\"2023-06-03 05:00:00\",\"2023-06-03 06:00:00\",\"2023-06-03 07:00:00\",\"2023-06-03 08:00:00\",\"2023-06-03 09:00:00\",\"2023-06-03 10:00:00\",\"2023-06-03 11:00:00\",\"2023-06-03 12:00:00\",\"2023-06-03 13:00:00\",\"2023-06-03 14:00:00\",\"2023-06-03 15:00:00\",\"2023-06-03 16:00:00\",\"2023-06-03 17:00:00\",\"2023-06-03 18:00:00\",\"2023-06-03 19:00:00\",\"2023-06-03 20:00:00\",\"2023-06-03 21:00:00\",\"2023-06-03 22:00:00\",\"2023-06-03 23:00:00\",\"2023-06-04 00:00:00\",\"2023-06-04 01:00:00\",\"2023-06-04 02:00:00\",\"2023-06-04 03:00:00\",\"2023-06-04 04:00:00\",\"2023-06-04 05:00:00\",\"2023-06-04 06:00:00\",\"2023-06-04 07:00:00\",\"2023-06-04 08:00:00\",\"2023-06-04 09:00:00\",\"2023-06-04 10:00:00\",\"2023-06-04 11:00:00\",\"2023-06-04 12:00:00\",\"2023-06-04 13:00:00\",\"2023-06-04 14:00:00\",\"2023-06-04 15:00:00\",\"2023-06-04 16:00:00\",\"2023-06-04 17:00:00\",\"2023-06-04 18:00:00\",\"2023-06-04 19:00:00\",\"2023-06-04 20:00:00\",\"2023-06-04 21:00:00\",\"2023-06-04 22:00:00\",\"2023-06-04 23:00:00\",\"2023-06-05 00:00:00\",\"2023-06-05 01:00:00\",\"2023-06-05 02:00:00\",\"2023-06-05 03:00:00\",\"2023-06-05 04:00:00\",\"2023-06-05 05:00:00\",\"2023-06-05 06:00:00\",\"2023-06-05 07:00:00\",\"2023-06-05 08:00:00\",\"2023-06-05 09:00:00\",\"2023-06-05 10:00:00\",\"2023-06-05 11:00:00\",\"2023-06-05 12:00:00\",\"2023-06-05 13:00:00\",\"2023-06-05 14:00:00\",\"2023-06-05 15:00:00\",\"2023-06-05 16:00:00\",\"2023-06-05 17:00:00\",\"2023-06-05 18:00:00\",\"2023-06-05 19:00:00\",\"2023-06-05 20:00:00\",\"2023-06-05 21:00:00\",\"2023-06-05 22:00:00\",\"2023-06-05 23:00:00\",\"2023-06-06 00:00:00\",\"2023-06-06 01:00:00\",\"2023-06-06 02:00:00\",\"2023-06-06 03:00:00\",\"2023-06-06 04:00:00\",\"2023-06-06 05:00:00\",\"2023-06-06 06:00:00\",\"2023-06-06 07:00:00\",\"2023-06-06 08:00:00\",\"2023-06-06 09:00:00\",\"2023-06-06 10:00:00\",\"2023-06-06 11:00:00\",\"2023-06-06 12:00:00\",\"2023-06-06 13:00:00\",\"2023-06-06 14:00:00\",\"2023-06-06 15:00:00\",\"2023-06-06 16:00:00\",\"2023-06-06 17:00:00\",\"2023-06-06 18:00:00\",\"2023-06-06 19:00:00\",\"2023-06-06 20:00:00\",\"2023-06-06 21:00:00\",\"2023-06-06 22:00:00\",\"2023-06-06 23:00:00\",\"2023-06-07 00:00:00\",\"2023-06-07 01:00:00\",\"2023-06-07 02:00:00\",\"2023-06-07 03:00:00\",\"2023-06-07 04:00:00\",\"2023-06-07 05:00:00\",\"2023-06-07 06:00:00\",\"2023-06-07 07:00:00\",\"2023-06-07 08:00:00\",\"2023-06-07 09:00:00\",\"2023-06-07 10:00:00\",\"2023-06-07 11:00:00\",\"2023-06-07 12:00:00\",\"2023-06-07 13:00:00\",\"2023-06-07 14:00:00\",\"2023-06-07 15:00:00\",\"2023-06-07 16:00:00\",\"2023-06-07 17:00:00\",\"2023-06-07 18:00:00\",\"2023-06-07 19:00:00\",\"2023-06-07 20:00:00\",\"2023-06-07 21:00:00\",\"2023-06-07 22:00:00\",\"2023-06-07 23:00:00\",\"2023-06-08 00:00:00\",\"2023-06-08 01:00:00\",\"2023-06-08 02:00:00\",\"2023-06-08 03:00:00\",\"2023-06-08 04:00:00\",\"2023-06-08 05:00:00\",\"2023-06-08 06:00:00\",\"2023-06-08 07:00:00\",\"2023-06-08 08:00:00\",\"2023-06-08 09:00:00\",\"2023-06-08 10:00:00\",\"2023-06-08 11:00:00\",\"2023-06-08 12:00:00\",\"2023-06-08 13:00:00\",\"2023-06-08 14:00:00\",\"2023-06-08 15:00:00\",\"2023-06-08 16:00:00\",\"2023-06-08 17:00:00\",\"2023-06-08 18:00:00\",\"2023-06-08 19:00:00\",\"2023-06-08 20:00:00\",\"2023-06-08 21:00:00\",\"2023-06-08 22:00:00\",\"2023-06-08 23:00:00\",\"2023-06-09 00:00:00\",\"2023-06-09 01:00:00\",\"2023-06-09 02:00:00\",\"2023-06-09 03:00:00\",\"2023-06-09 04:00:00\",\"2023-06-09 05:00:00\",\"2023-06-09 06:00:00\",\"2023-06-09 07:00:00\",\"2023-06-09 08:00:00\",\"2023-06-09 09:00:00\",\"2023-06-09 10:00:00\",\"2023-06-09 11:00:00\",\"2023-06-09 12:00:00\",\"2023-06-09 13:00:00\",\"2023-06-09 14:00:00\",\"2023-06-09 15:00:00\",\"2023-06-09 16:00:00\",\"2023-06-09 17:00:00\",\"2023-06-09 18:00:00\",\"2023-06-09 19:00:00\",\"2023-06-09 20:00:00\",\"2023-06-09 21:00:00\",\"2023-06-09 22:00:00\",\"2023-06-09 23:00:00\",\"2023-06-10 00:00:00\",\"2023-06-10 01:00:00\",\"2023-06-10 02:00:00\",\"2023-06-10 03:00:00\",\"2023-06-10 04:00:00\",\"2023-06-10 05:00:00\",\"2023-06-10 06:00:00\",\"2023-06-10 07:00:00\",\"2023-06-10 08:00:00\",\"2023-06-10 09:00:00\",\"2023-06-10 10:00:00\",\"2023-06-10 11:00:00\",\"2023-06-10 12:00:00\",\"2023-06-10 13:00:00\",\"2023-06-10 14:00:00\",\"2023-06-10 15:00:00\",\"2023-06-10 16:00:00\",\"2023-06-10 17:00:00\",\"2023-06-10 18:00:00\",\"2023-06-10 19:00:00\",\"2023-06-10 20:00:00\",\"2023-06-10 21:00:00\",\"2023-06-10 22:00:00\",\"2023-06-10 23:00:00\",\"2023-06-11 00:00:00\",\"2023-06-11 01:00:00\",\"2023-06-11 02:00:00\",\"2023-06-11 03:00:00\",\"2023-06-11 04:00:00\",\"2023-06-11 05:00:00\",\"2023-06-11 06:00:00\",\"2023-06-11 07:00:00\",\"2023-06-11 08:00:00\",\"2023-06-11 09:00:00\",\"2023-06-11 10:00:00\",\"2023-06-11 11:00:00\",\"2023-06-11 12:00:00\",\"2023-06-11 13:00:00\",\"2023-06-11 14:00:00\",\"2023-06-11 15:00:00\",\"2023-06-11 16:00:00\",\"2023-06-11 17:00:00\",\"2023-06-11 18:00:00\",\"2023-06-11 19:00:00\",\"2023-06-11 20:00:00\",\"2023-06-11 21:00:00\",\"2023-06-11 22:00:00\",\"2023-06-11 23:00:00\",\"2023-06-12 00:00:00\",\"2023-06-12 01:00:00\",\"2023-06-12 02:00:00\",\"2023-06-12 03:00:00\",\"2023-06-12 04:00:00\",\"2023-06-12 05:00:00\",\"2023-06-12 06:00:00\",\"2023-06-12 07:00:00\",\"2023-06-12 08:00:00\",\"2023-06-12 09:00:00\",\"2023-06-12 10:00:00\",\"2023-06-12 11:00:00\",\"2023-06-12 12:00:00\",\"2023-06-12 13:00:00\",\"2023-06-12 14:00:00\",\"2023-06-12 15:00:00\",\"2023-06-12 16:00:00\",\"2023-06-12 17:00:00\",\"2023-06-12 18:00:00\",\"2023-06-12 19:00:00\",\"2023-06-12 20:00:00\",\"2023-06-12 21:00:00\",\"2023-06-12 22:00:00\",\"2023-06-12 23:00:00\",\"2023-06-13 00:00:00\",\"2023-06-13 01:00:00\",\"2023-06-13 02:00:00\",\"2023-06-13 03:00:00\",\"2023-06-13 04:00:00\",\"2023-06-13 05:00:00\",\"2023-06-13 06:00:00\",\"2023-06-13 07:00:00\",\"2023-06-13 08:00:00\",\"2023-06-13 09:00:00\",\"2023-06-13 10:00:00\",\"2023-06-13 11:00:00\",\"2023-06-13 12:00:00\",\"2023-06-13 13:00:00\",\"2023-06-13 14:00:00\",\"2023-06-13 15:00:00\",\"2023-06-13 16:00:00\",\"2023-06-13 17:00:00\",\"2023-06-13 18:00:00\",\"2023-06-13 19:00:00\",\"2023-06-13 20:00:00\",\"2023-06-13 21:00:00\",\"2023-06-13 22:00:00\",\"2023-06-13 23:00:00\",\"2023-06-14 00:00:00\",\"2023-06-14 01:00:00\",\"2023-06-14 02:00:00\",\"2023-06-14 03:00:00\",\"2023-06-14 04:00:00\",\"2023-06-14 05:00:00\",\"2023-06-14 06:00:00\",\"2023-06-14 07:00:00\",\"2023-06-14 08:00:00\",\"2023-06-14 09:00:00\",\"2023-06-14 10:00:00\",\"2023-06-14 11:00:00\",\"2023-06-14 12:00:00\",\"2023-06-14 13:00:00\",\"2023-06-14 14:00:00\",\"2023-06-14 15:00:00\",\"2023-06-14 16:00:00\",\"2023-06-14 17:00:00\",\"2023-06-14 18:00:00\",\"2023-06-14 19:00:00\",\"2023-06-14 20:00:00\",\"2023-06-14 21:00:00\",\"2023-06-14 22:00:00\",\"2023-06-14 23:00:00\",\"2023-06-15 00:00:00\",\"2023-06-15 01:00:00\",\"2023-06-15 02:00:00\",\"2023-06-15 03:00:00\",\"2023-06-15 04:00:00\",\"2023-06-15 05:00:00\",\"2023-06-15 06:00:00\",\"2023-06-15 07:00:00\",\"2023-06-15 08:00:00\",\"2023-06-15 09:00:00\",\"2023-06-15 10:00:00\",\"2023-06-15 11:00:00\",\"2023-06-15 12:00:00\",\"2023-06-15 13:00:00\",\"2023-06-15 14:00:00\",\"2023-06-15 15:00:00\",\"2023-06-15 16:00:00\",\"2023-06-15 17:00:00\",\"2023-06-15 18:00:00\",\"2023-06-15 19:00:00\",\"2023-06-15 20:00:00\",\"2023-06-15 21:00:00\",\"2023-06-15 22:00:00\",\"2023-06-15 23:00:00\",\"2023-06-16 00:00:00\",\"2023-06-16 01:00:00\",\"2023-06-16 02:00:00\",\"2023-06-16 03:00:00\",\"2023-06-16 04:00:00\",\"2023-06-16 05:00:00\",\"2023-06-16 06:00:00\",\"2023-06-16 07:00:00\",\"2023-06-16 08:00:00\",\"2023-06-16 09:00:00\",\"2023-06-16 10:00:00\",\"2023-06-16 11:00:00\",\"2023-06-16 12:00:00\",\"2023-06-16 13:00:00\",\"2023-06-16 14:00:00\",\"2023-06-16 15:00:00\",\"2023-06-16 16:00:00\",\"2023-06-16 17:00:00\",\"2023-06-16 18:00:00\",\"2023-06-16 19:00:00\",\"2023-06-16 20:00:00\",\"2023-06-16 21:00:00\",\"2023-06-16 22:00:00\",\"2023-06-16 23:00:00\",\"2023-06-17 00:00:00\",\"2023-06-17 01:00:00\",\"2023-06-17 02:00:00\",\"2023-06-17 03:00:00\",\"2023-06-17 04:00:00\",\"2023-06-17 05:00:00\",\"2023-06-17 06:00:00\",\"2023-06-17 07:00:00\",\"2023-06-17 08:00:00\",\"2023-06-17 09:00:00\",\"2023-06-17 10:00:00\",\"2023-06-17 11:00:00\",\"2023-06-17 12:00:00\",\"2023-06-17 13:00:00\",\"2023-06-17 14:00:00\",\"2023-06-17 15:00:00\",\"2023-06-17 16:00:00\",\"2023-06-17 17:00:00\",\"2023-06-17 18:00:00\",\"2023-06-17 19:00:00\",\"2023-06-17 20:00:00\",\"2023-06-17 21:00:00\",\"2023-06-17 22:00:00\",\"2023-06-17 23:00:00\",\"2023-06-18 00:00:00\",\"2023-06-18 01:00:00\",\"2023-06-18 02:00:00\",\"2023-06-18 03:00:00\",\"2023-06-18 04:00:00\",\"2023-06-18 05:00:00\",\"2023-06-18 06:00:00\",\"2023-06-18 07:00:00\",\"2023-06-18 08:00:00\",\"2023-06-18 09:00:00\",\"2023-06-18 10:00:00\",\"2023-06-18 11:00:00\",\"2023-06-18 12:00:00\",\"2023-06-18 13:00:00\",\"2023-06-18 14:00:00\",\"2023-06-18 15:00:00\",\"2023-06-18 16:00:00\",\"2023-06-18 17:00:00\",\"2023-06-18 18:00:00\",\"2023-06-18 19:00:00\",\"2023-06-18 20:00:00\",\"2023-06-18 21:00:00\",\"2023-06-18 22:00:00\",\"2023-06-18 23:00:00\",\"2023-06-19 00:00:00\",\"2023-06-19 01:00:00\",\"2023-06-19 02:00:00\",\"2023-06-19 03:00:00\",\"2023-06-19 04:00:00\",\"2023-06-19 05:00:00\",\"2023-06-19 06:00:00\",\"2023-06-19 07:00:00\",\"2023-06-19 08:00:00\",\"2023-06-19 09:00:00\",\"2023-06-19 10:00:00\",\"2023-06-19 11:00:00\",\"2023-06-19 12:00:00\",\"2023-06-19 13:00:00\",\"2023-06-19 14:00:00\",\"2023-06-19 15:00:00\",\"2023-06-19 16:00:00\",\"2023-06-19 17:00:00\",\"2023-06-19 18:00:00\",\"2023-06-19 19:00:00\",\"2023-06-19 20:00:00\",\"2023-06-19 21:00:00\",\"2023-06-19 22:00:00\",\"2023-06-19 23:00:00\",\"2023-06-20 00:00:00\",\"2023-06-20 01:00:00\",\"2023-06-20 02:00:00\",\"2023-06-20 03:00:00\",\"2023-06-20 04:00:00\",\"2023-06-20 05:00:00\",\"2023-06-20 06:00:00\",\"2023-06-20 07:00:00\",\"2023-06-20 08:00:00\",\"2023-06-20 09:00:00\",\"2023-06-20 10:00:00\",\"2023-06-20 11:00:00\",\"2023-06-20 12:00:00\",\"2023-06-20 13:00:00\",\"2023-06-20 14:00:00\",\"2023-06-20 15:00:00\",\"2023-06-20 16:00:00\",\"2023-06-20 17:00:00\",\"2023-06-20 18:00:00\",\"2023-06-20 19:00:00\",\"2023-06-20 20:00:00\",\"2023-06-20 21:00:00\",\"2023-06-20 22:00:00\",\"2023-06-20 23:00:00\",\"2023-06-21 00:00:00\",\"2023-06-21 01:00:00\",\"2023-06-21 02:00:00\",\"2023-06-21 03:00:00\",\"2023-06-21 04:00:00\",\"2023-06-21 05:00:00\",\"2023-06-21 06:00:00\",\"2023-06-21 07:00:00\",\"2023-06-21 08:00:00\",\"2023-06-21 09:00:00\",\"2023-06-21 10:00:00\",\"2023-06-21 11:00:00\",\"2023-06-21 12:00:00\",\"2023-06-21 13:00:00\",\"2023-06-21 14:00:00\",\"2023-06-21 15:00:00\",\"2023-06-21 16:00:00\",\"2023-06-21 17:00:00\",\"2023-06-21 18:00:00\",\"2023-06-21 19:00:00\",\"2023-06-21 20:00:00\",\"2023-06-21 21:00:00\",\"2023-06-21 22:00:00\",\"2023-06-21 23:00:00\",\"2023-06-22 00:00:00\",\"2023-06-22 01:00:00\",\"2023-06-22 02:00:00\",\"2023-06-22 03:00:00\",\"2023-06-22 04:00:00\",\"2023-06-22 05:00:00\",\"2023-06-22 06:00:00\",\"2023-06-22 07:00:00\",\"2023-06-22 08:00:00\",\"2023-06-22 09:00:00\",\"2023-06-22 10:00:00\",\"2023-06-22 11:00:00\",\"2023-06-22 12:00:00\",\"2023-06-22 13:00:00\",\"2023-06-22 14:00:00\",\"2023-06-22 15:00:00\",\"2023-06-22 16:00:00\",\"2023-06-22 17:00:00\",\"2023-06-22 18:00:00\",\"2023-06-22 19:00:00\",\"2023-06-22 20:00:00\",\"2023-06-22 21:00:00\",\"2023-06-22 22:00:00\",\"2023-06-22 23:00:00\",\"2023-06-23 00:00:00\",\"2023-06-23 01:00:00\",\"2023-06-23 02:00:00\",\"2023-06-23 03:00:00\",\"2023-06-23 04:00:00\",\"2023-06-23 05:00:00\",\"2023-06-23 06:00:00\",\"2023-06-23 07:00:00\",\"2023-06-23 08:00:00\",\"2023-06-23 09:00:00\",\"2023-06-23 10:00:00\",\"2023-06-23 11:00:00\",\"2023-06-23 12:00:00\",\"2023-06-23 13:00:00\",\"2023-06-23 14:00:00\",\"2023-06-23 15:00:00\",\"2023-06-23 16:00:00\",\"2023-06-23 17:00:00\",\"2023-06-23 18:00:00\",\"2023-06-23 19:00:00\",\"2023-06-23 20:00:00\",\"2023-06-23 21:00:00\",\"2023-06-23 22:00:00\",\"2023-06-23 23:00:00\",\"2023-06-24 00:00:00\",\"2023-06-24 01:00:00\",\"2023-06-24 02:00:00\",\"2023-06-24 03:00:00\",\"2023-06-24 04:00:00\",\"2023-06-24 05:00:00\",\"2023-06-24 06:00:00\",\"2023-06-24 07:00:00\",\"2023-06-24 08:00:00\",\"2023-06-24 09:00:00\",\"2023-06-24 10:00:00\",\"2023-06-24 11:00:00\",\"2023-06-24 12:00:00\",\"2023-06-24 13:00:00\",\"2023-06-24 14:00:00\",\"2023-06-24 15:00:00\",\"2023-06-24 16:00:00\",\"2023-06-24 17:00:00\",\"2023-06-24 18:00:00\",\"2023-06-24 19:00:00\",\"2023-06-24 20:00:00\",\"2023-06-24 21:00:00\",\"2023-06-24 22:00:00\",\"2023-06-24 23:00:00\",\"2023-06-25 00:00:00\",\"2023-06-25 01:00:00\",\"2023-06-25 02:00:00\",\"2023-06-25 03:00:00\",\"2023-06-25 04:00:00\",\"2023-06-25 05:00:00\",\"2023-06-25 06:00:00\",\"2023-06-25 07:00:00\",\"2023-06-25 08:00:00\",\"2023-06-25 09:00:00\",\"2023-06-25 10:00:00\",\"2023-06-25 11:00:00\",\"2023-06-25 12:00:00\",\"2023-06-25 13:00:00\",\"2023-06-25 14:00:00\",\"2023-06-25 15:00:00\",\"2023-06-25 16:00:00\",\"2023-06-25 17:00:00\",\"2023-06-25 18:00:00\",\"2023-06-25 19:00:00\",\"2023-06-25 20:00:00\",\"2023-06-25 21:00:00\",\"2023-06-25 22:00:00\",\"2023-06-25 23:00:00\",\"2023-06-26 00:00:00\",\"2023-06-26 01:00:00\",\"2023-06-26 02:00:00\",\"2023-06-26 03:00:00\",\"2023-06-26 04:00:00\",\"2023-06-26 05:00:00\",\"2023-06-26 06:00:00\",\"2023-06-26 07:00:00\",\"2023-06-26 08:00:00\",\"2023-06-26 09:00:00\",\"2023-06-26 10:00:00\",\"2023-06-26 11:00:00\",\"2023-06-26 12:00:00\",\"2023-06-26 13:00:00\",\"2023-06-26 14:00:00\",\"2023-06-26 15:00:00\",\"2023-06-26 16:00:00\",\"2023-06-26 17:00:00\",\"2023-06-26 18:00:00\",\"2023-06-26 19:00:00\",\"2023-06-26 20:00:00\",\"2023-06-26 21:00:00\",\"2023-06-26 22:00:00\",\"2023-06-26 23:00:00\",\"2023-06-27 00:00:00\",\"2023-06-27 01:00:00\",\"2023-06-27 02:00:00\",\"2023-06-27 03:00:00\",\"2023-06-27 04:00:00\",\"2023-06-27 05:00:00\",\"2023-06-27 06:00:00\",\"2023-06-27 07:00:00\",\"2023-06-27 08:00:00\",\"2023-06-27 09:00:00\",\"2023-06-27 10:00:00\",\"2023-06-27 11:00:00\",\"2023-06-27 12:00:00\",\"2023-06-27 13:00:00\",\"2023-06-27 14:00:00\",\"2023-06-27 15:00:00\",\"2023-06-27 16:00:00\",\"2023-06-27 17:00:00\",\"2023-06-27 18:00:00\",\"2023-06-27 19:00:00\",\"2023-06-27 20:00:00\",\"2023-06-27 21:00:00\",\"2023-06-27 22:00:00\",\"2023-06-27 23:00:00\",\"2023-06-28 00:00:00\",\"2023-06-28 01:00:00\",\"2023-06-28 02:00:00\",\"2023-06-28 03:00:00\",\"2023-06-28 04:00:00\",\"2023-06-28 05:00:00\",\"2023-06-28 06:00:00\",\"2023-06-28 07:00:00\",\"2023-06-28 08:00:00\",\"2023-06-28 09:00:00\",\"2023-06-28 10:00:00\",\"2023-06-28 11:00:00\",\"2023-06-28 12:00:00\",\"2023-06-28 13:00:00\",\"2023-06-28 14:00:00\",\"2023-06-28 15:00:00\",\"2023-06-28 16:00:00\",\"2023-06-28 17:00:00\",\"2023-06-28 18:00:00\",\"2023-06-28 19:00:00\",\"2023-06-28 20:00:00\",\"2023-06-28 21:00:00\",\"2023-06-28 22:00:00\",\"2023-06-28 23:00:00\",\"2023-06-29 00:00:00\",\"2023-06-29 01:00:00\",\"2023-06-29 02:00:00\",\"2023-06-29 03:00:00\",\"2023-06-29 04:00:00\",\"2023-06-29 05:00:00\",\"2023-06-29 06:00:00\",\"2023-06-29 07:00:00\",\"2023-06-29 08:00:00\",\"2023-06-29 09:00:00\",\"2023-06-29 10:00:00\",\"2023-06-29 11:00:00\",\"2023-06-29 12:00:00\",\"2023-06-29 13:00:00\",\"2023-06-29 14:00:00\",\"2023-06-29 15:00:00\",\"2023-06-29 16:00:00\",\"2023-06-29 17:00:00\",\"2023-06-29 18:00:00\",\"2023-06-29 19:00:00\",\"2023-06-29 20:00:00\",\"2023-06-29 21:00:00\",\"2023-06-29 22:00:00\",\"2023-06-29 23:00:00\",\"2023-06-30 00:00:00\",\"2023-06-30 01:00:00\",\"2023-06-30 02:00:00\",\"2023-06-30 03:00:00\",\"2023-06-30 04:00:00\",\"2023-06-30 05:00:00\",\"2023-06-30 06:00:00\",\"2023-06-30 07:00:00\",\"2023-06-30 08:00:00\",\"2023-06-30 09:00:00\",\"2023-06-30 10:00:00\",\"2023-06-30 11:00:00\",\"2023-06-30 12:00:00\",\"2023-06-30 13:00:00\",\"2023-06-30 14:00:00\",\"2023-06-30 15:00:00\",\"2023-06-30 16:00:00\",\"2023-06-30 17:00:00\",\"2023-06-30 18:00:00\",\"2023-06-30 19:00:00\",\"2023-06-30 20:00:00\",\"2023-06-30 21:00:00\",\"2023-06-30 22:00:00\",\"2023-06-30 23:00:00\",\"2023-07-01 00:00:00\",\"2023-07-01 01:00:00\",\"2023-07-01 02:00:00\",\"2023-07-01 03:00:00\",\"2023-07-01 04:00:00\",\"2023-07-01 05:00:00\",\"2023-07-01 06:00:00\",\"2023-07-01 07:00:00\",\"2023-07-01 08:00:00\",\"2023-07-01 09:00:00\",\"2023-07-01 10:00:00\",\"2023-07-01 11:00:00\",\"2023-07-01 12:00:00\",\"2023-07-01 15:00:00\",\"2023-07-01 16:00:00\",\"2023-07-01 17:00:00\",\"2023-07-01 18:00:00\",\"2023-07-01 19:00:00\",\"2023-07-01 20:00:00\",\"2023-07-01 21:00:00\",\"2023-07-01 22:00:00\",\"2023-07-01 23:00:00\",\"2023-07-02 00:00:00\",\"2023-07-02 01:00:00\",\"2023-07-02 02:00:00\",\"2023-07-02 03:00:00\",\"2023-07-02 04:00:00\",\"2023-07-02 05:00:00\",\"2023-07-02 06:00:00\",\"2023-07-02 07:00:00\",\"2023-07-02 08:00:00\",\"2023-07-02 09:00:00\",\"2023-07-02 10:00:00\",\"2023-07-02 11:00:00\",\"2023-07-02 12:00:00\",\"2023-07-02 13:00:00\",\"2023-07-02 14:00:00\",\"2023-07-02 15:00:00\",\"2023-07-02 16:00:00\",\"2023-07-02 17:00:00\",\"2023-07-02 18:00:00\",\"2023-07-02 19:00:00\",\"2023-07-02 20:00:00\",\"2023-07-02 21:00:00\",\"2023-07-02 22:00:00\",\"2023-07-02 23:00:00\",\"2023-07-03 00:00:00\",\"2023-07-03 01:00:00\",\"2023-07-03 02:00:00\",\"2023-07-03 03:00:00\",\"2023-07-03 04:00:00\",\"2023-07-03 05:00:00\",\"2023-07-03 06:00:00\",\"2023-07-03 07:00:00\",\"2023-07-03 08:00:00\",\"2023-07-03 09:00:00\",\"2023-07-03 10:00:00\",\"2023-07-03 11:00:00\",\"2023-07-03 12:00:00\",\"2023-07-03 13:00:00\",\"2023-07-03 14:00:00\",\"2023-07-03 15:00:00\",\"2023-07-03 16:00:00\",\"2023-07-03 17:00:00\",\"2023-07-03 18:00:00\",\"2023-07-03 19:00:00\",\"2023-07-03 20:00:00\",\"2023-07-03 21:00:00\",\"2023-07-03 22:00:00\",\"2023-07-03 23:00:00\",\"2023-07-04 00:00:00\",\"2023-07-04 01:00:00\",\"2023-07-04 02:00:00\",\"2023-07-04 03:00:00\",\"2023-07-04 04:00:00\",\"2023-07-04 05:00:00\",\"2023-07-04 06:00:00\",\"2023-07-04 07:00:00\",\"2023-07-04 08:00:00\",\"2023-07-04 09:00:00\",\"2023-07-04 10:00:00\",\"2023-07-04 11:00:00\",\"2023-07-04 12:00:00\",\"2023-07-04 13:00:00\",\"2023-07-04 14:00:00\",\"2023-07-04 15:00:00\",\"2023-07-04 16:00:00\",\"2023-07-04 17:00:00\",\"2023-07-04 18:00:00\",\"2023-07-04 19:00:00\",\"2023-07-04 20:00:00\",\"2023-07-04 21:00:00\",\"2023-07-04 22:00:00\",\"2023-07-04 23:00:00\",\"2023-07-05 00:00:00\",\"2023-07-05 01:00:00\",\"2023-07-05 02:00:00\",\"2023-07-05 03:00:00\",\"2023-07-05 04:00:00\",\"2023-07-05 05:00:00\",\"2023-07-05 06:00:00\",\"2023-07-05 07:00:00\",\"2023-07-05 08:00:00\",\"2023-07-05 09:00:00\",\"2023-07-05 10:00:00\",\"2023-07-05 11:00:00\",\"2023-07-05 12:00:00\",\"2023-07-05 13:00:00\",\"2023-07-05 14:00:00\",\"2023-07-05 15:00:00\",\"2023-07-05 16:00:00\",\"2023-07-05 17:00:00\",\"2023-07-05 18:00:00\",\"2023-07-05 19:00:00\",\"2023-07-05 20:00:00\",\"2023-07-05 21:00:00\",\"2023-07-05 22:00:00\",\"2023-07-05 23:00:00\",\"2023-07-06 00:00:00\",\"2023-07-06 01:00:00\",\"2023-07-06 02:00:00\",\"2023-07-06 03:00:00\",\"2023-07-06 04:00:00\",\"2023-07-06 05:00:00\",\"2023-07-06 06:00:00\",\"2023-07-06 07:00:00\",\"2023-07-06 08:00:00\",\"2023-07-06 09:00:00\",\"2023-07-06 10:00:00\",\"2023-07-06 11:00:00\",\"2023-07-06 12:00:00\",\"2023-07-06 13:00:00\",\"2023-07-06 14:00:00\",\"2023-07-06 15:00:00\",\"2023-07-06 16:00:00\",\"2023-07-06 17:00:00\",\"2023-07-06 18:00:00\",\"2023-07-06 19:00:00\",\"2023-07-06 20:00:00\",\"2023-07-06 21:00:00\",\"2023-07-06 22:00:00\",\"2023-07-06 23:00:00\",\"2023-07-07 00:00:00\",\"2023-07-07 01:00:00\",\"2023-07-07 02:00:00\",\"2023-07-07 03:00:00\",\"2023-07-07 04:00:00\",\"2023-07-07 05:00:00\",\"2023-07-07 06:00:00\",\"2023-07-07 07:00:00\",\"2023-07-07 08:00:00\",\"2023-07-07 09:00:00\",\"2023-07-07 10:00:00\",\"2023-07-07 11:00:00\",\"2023-07-07 12:00:00\",\"2023-07-07 13:00:00\",\"2023-07-07 14:00:00\",\"2023-07-07 15:00:00\",\"2023-07-07 16:00:00\",\"2023-07-07 17:00:00\",\"2023-07-07 18:00:00\",\"2023-07-07 19:00:00\",\"2023-07-07 20:00:00\",\"2023-07-07 21:00:00\",\"2023-07-07 22:00:00\",\"2023-07-07 23:00:00\",\"2023-07-08 00:00:00\",\"2023-07-08 01:00:00\",\"2023-07-08 02:00:00\",\"2023-07-08 03:00:00\",\"2023-07-08 04:00:00\",\"2023-07-08 05:00:00\",\"2023-07-08 06:00:00\",\"2023-07-08 07:00:00\",\"2023-07-08 08:00:00\",\"2023-07-08 09:00:00\",\"2023-07-08 10:00:00\",\"2023-07-08 11:00:00\",\"2023-07-08 12:00:00\",\"2023-07-08 13:00:00\",\"2023-07-08 14:00:00\",\"2023-07-08 15:00:00\",\"2023-07-08 16:00:00\",\"2023-07-08 17:00:00\",\"2023-07-08 18:00:00\",\"2023-07-08 19:00:00\",\"2023-07-08 20:00:00\",\"2023-07-08 21:00:00\",\"2023-07-08 22:00:00\",\"2023-07-08 23:00:00\",\"2023-07-09 00:00:00\",\"2023-07-09 01:00:00\",\"2023-07-09 02:00:00\",\"2023-07-09 03:00:00\",\"2023-07-09 04:00:00\",\"2023-07-09 05:00:00\",\"2023-07-09 06:00:00\",\"2023-07-09 07:00:00\",\"2023-07-09 08:00:00\",\"2023-07-09 09:00:00\",\"2023-07-09 10:00:00\",\"2023-07-09 11:00:00\",\"2023-07-09 12:00:00\",\"2023-07-09 13:00:00\",\"2023-07-09 14:00:00\",\"2023-07-09 15:00:00\",\"2023-07-09 16:00:00\",\"2023-07-09 17:00:00\",\"2023-07-09 18:00:00\",\"2023-07-09 19:00:00\",\"2023-07-09 20:00:00\",\"2023-07-09 21:00:00\",\"2023-07-09 22:00:00\",\"2023-07-09 23:00:00\",\"2023-07-10 00:00:00\",\"2023-07-10 01:00:00\",\"2023-07-10 02:00:00\",\"2023-07-10 03:00:00\",\"2023-07-10 04:00:00\",\"2023-07-10 05:00:00\",\"2023-07-10 06:00:00\",\"2023-07-10 07:00:00\",\"2023-07-10 08:00:00\",\"2023-07-10 09:00:00\",\"2023-07-10 10:00:00\",\"2023-07-10 11:00:00\",\"2023-07-10 12:00:00\",\"2023-07-10 13:00:00\",\"2023-07-10 14:00:00\",\"2023-07-10 15:00:00\",\"2023-07-10 16:00:00\",\"2023-07-10 17:00:00\",\"2023-07-10 18:00:00\",\"2023-07-10 19:00:00\",\"2023-07-10 20:00:00\",\"2023-07-10 21:00:00\",\"2023-07-10 22:00:00\",\"2023-07-10 23:00:00\",\"2023-07-11 00:00:00\",\"2023-07-11 01:00:00\",\"2023-07-11 02:00:00\",\"2023-07-11 03:00:00\",\"2023-07-11 04:00:00\",\"2023-07-11 05:00:00\",\"2023-07-11 06:00:00\",\"2023-07-11 07:00:00\",\"2023-07-11 08:00:00\",\"2023-07-11 09:00:00\",\"2023-07-11 10:00:00\",\"2023-07-11 11:00:00\",\"2023-07-11 12:00:00\",\"2023-07-11 13:00:00\",\"2023-07-11 14:00:00\",\"2023-07-11 15:00:00\",\"2023-07-11 16:00:00\",\"2023-07-11 17:00:00\",\"2023-07-11 18:00:00\",\"2023-07-11 19:00:00\",\"2023-07-11 20:00:00\",\"2023-07-11 21:00:00\",\"2023-07-11 22:00:00\",\"2023-07-11 23:00:00\",\"2023-07-12 00:00:00\",\"2023-07-12 01:00:00\",\"2023-07-12 02:00:00\",\"2023-07-12 03:00:00\",\"2023-07-12 04:00:00\",\"2023-07-12 05:00:00\",\"2023-07-12 06:00:00\",\"2023-07-12 07:00:00\",\"2023-07-12 08:00:00\",\"2023-07-12 09:00:00\",\"2023-07-12 10:00:00\",\"2023-07-12 11:00:00\",\"2023-07-12 12:00:00\",\"2023-07-12 13:00:00\",\"2023-07-12 14:00:00\",\"2023-07-12 15:00:00\",\"2023-07-12 16:00:00\",\"2023-07-12 17:00:00\",\"2023-07-12 18:00:00\",\"2023-07-12 19:00:00\",\"2023-07-12 20:00:00\",\"2023-07-12 21:00:00\",\"2023-07-12 22:00:00\",\"2023-07-12 23:00:00\",\"2023-07-13 00:00:00\",\"2023-07-13 01:00:00\",\"2023-07-13 02:00:00\",\"2023-07-13 03:00:00\",\"2023-07-13 04:00:00\",\"2023-07-13 05:00:00\",\"2023-07-13 06:00:00\",\"2023-07-13 07:00:00\",\"2023-07-13 08:00:00\",\"2023-07-13 09:00:00\",\"2023-07-13 10:00:00\",\"2023-07-13 11:00:00\",\"2023-07-13 12:00:00\",\"2023-07-13 13:00:00\",\"2023-07-13 14:00:00\",\"2023-07-13 15:00:00\",\"2023-07-13 16:00:00\",\"2023-07-13 17:00:00\",\"2023-07-13 18:00:00\",\"2023-07-13 19:00:00\",\"2023-07-13 20:00:00\",\"2023-07-13 21:00:00\",\"2023-07-13 22:00:00\",\"2023-07-13 23:00:00\",\"2023-07-14 00:00:00\",\"2023-07-14 01:00:00\",\"2023-07-14 02:00:00\",\"2023-07-14 03:00:00\",\"2023-07-14 04:00:00\",\"2023-07-14 05:00:00\",\"2023-07-14 06:00:00\",\"2023-07-14 07:00:00\",\"2023-07-14 08:00:00\",\"2023-07-14 09:00:00\",\"2023-07-14 10:00:00\",\"2023-07-14 11:00:00\",\"2023-07-14 12:00:00\",\"2023-07-14 13:00:00\",\"2023-07-14 14:00:00\",\"2023-07-14 15:00:00\",\"2023-07-14 16:00:00\",\"2023-07-14 17:00:00\",\"2023-07-14 18:00:00\",\"2023-07-14 19:00:00\",\"2023-07-14 20:00:00\",\"2023-07-14 21:00:00\",\"2023-07-14 22:00:00\",\"2023-07-14 23:00:00\",\"2023-07-15 00:00:00\",\"2023-07-15 01:00:00\",\"2023-07-15 02:00:00\",\"2023-07-15 03:00:00\",\"2023-07-15 04:00:00\",\"2023-07-15 05:00:00\",\"2023-07-15 06:00:00\",\"2023-07-15 07:00:00\",\"2023-07-15 08:00:00\",\"2023-07-15 09:00:00\",\"2023-07-15 10:00:00\",\"2023-07-15 11:00:00\",\"2023-07-15 12:00:00\",\"2023-07-15 13:00:00\",\"2023-07-15 14:00:00\",\"2023-07-15 15:00:00\",\"2023-07-15 16:00:00\",\"2023-07-15 17:00:00\",\"2023-07-15 18:00:00\",\"2023-07-15 19:00:00\",\"2023-07-15 20:00:00\",\"2023-07-15 21:00:00\",\"2023-07-15 22:00:00\",\"2023-07-15 23:00:00\",\"2023-07-16 00:00:00\",\"2023-07-16 01:00:00\",\"2023-07-16 02:00:00\",\"2023-07-16 03:00:00\",\"2023-07-16 04:00:00\",\"2023-07-16 05:00:00\",\"2023-07-16 06:00:00\",\"2023-07-16 07:00:00\",\"2023-07-16 08:00:00\",\"2023-07-16 09:00:00\",\"2023-07-16 10:00:00\",\"2023-07-16 11:00:00\",\"2023-07-16 12:00:00\",\"2023-07-16 13:00:00\",\"2023-07-16 14:00:00\",\"2023-07-16 15:00:00\",\"2023-07-16 16:00:00\",\"2023-07-16 17:00:00\",\"2023-07-16 18:00:00\",\"2023-07-16 19:00:00\",\"2023-07-16 20:00:00\",\"2023-07-16 21:00:00\",\"2023-07-16 22:00:00\",\"2023-07-16 23:00:00\",\"2023-07-17 00:00:00\",\"2023-07-17 01:00:00\",\"2023-07-17 02:00:00\",\"2023-07-17 03:00:00\",\"2023-07-17 04:00:00\",\"2023-07-17 05:00:00\",\"2023-07-17 06:00:00\",\"2023-07-17 07:00:00\",\"2023-07-17 08:00:00\",\"2023-07-17 09:00:00\",\"2023-07-17 10:00:00\",\"2023-07-17 11:00:00\",\"2023-07-17 12:00:00\",\"2023-07-17 13:00:00\",\"2023-07-17 14:00:00\",\"2023-07-17 15:00:00\",\"2023-07-17 16:00:00\",\"2023-07-17 17:00:00\",\"2023-07-17 18:00:00\",\"2023-07-17 19:00:00\",\"2023-07-17 20:00:00\",\"2023-07-17 21:00:00\",\"2023-07-17 22:00:00\",\"2023-07-17 23:00:00\",\"2023-07-18 00:00:00\",\"2023-07-18 01:00:00\",\"2023-07-18 02:00:00\",\"2023-07-18 03:00:00\",\"2023-07-18 04:00:00\",\"2023-07-18 05:00:00\",\"2023-07-18 06:00:00\",\"2023-07-18 07:00:00\",\"2023-07-18 08:00:00\",\"2023-07-18 09:00:00\",\"2023-07-18 10:00:00\",\"2023-07-18 11:00:00\",\"2023-07-18 12:00:00\",\"2023-07-18 13:00:00\",\"2023-07-18 14:00:00\",\"2023-07-18 15:00:00\",\"2023-07-18 16:00:00\",\"2023-07-18 17:00:00\",\"2023-07-18 18:00:00\",\"2023-07-18 19:00:00\",\"2023-07-18 20:00:00\",\"2023-07-18 21:00:00\",\"2023-07-18 22:00:00\",\"2023-07-18 23:00:00\",\"2023-07-19 00:00:00\",\"2023-07-19 01:00:00\",\"2023-07-19 02:00:00\",\"2023-07-19 03:00:00\",\"2023-07-19 04:00:00\",\"2023-07-19 05:00:00\",\"2023-07-19 06:00:00\",\"2023-07-19 07:00:00\",\"2023-07-19 08:00:00\",\"2023-07-19 09:00:00\",\"2023-07-19 10:00:00\",\"2023-07-19 11:00:00\",\"2023-07-19 12:00:00\",\"2023-07-19 13:00:00\",\"2023-07-19 14:00:00\",\"2023-07-19 15:00:00\",\"2023-07-19 16:00:00\",\"2023-07-19 17:00:00\",\"2023-07-19 18:00:00\",\"2023-07-19 19:00:00\",\"2023-07-19 20:00:00\",\"2023-07-19 21:00:00\",\"2023-07-19 22:00:00\",\"2023-07-19 23:00:00\",\"2023-07-20 00:00:00\",\"2023-07-20 01:00:00\",\"2023-07-20 02:00:00\",\"2023-07-20 03:00:00\",\"2023-07-20 04:00:00\",\"2023-07-20 05:00:00\",\"2023-07-20 06:00:00\",\"2023-07-20 07:00:00\",\"2023-07-20 08:00:00\",\"2023-07-20 09:00:00\",\"2023-07-20 10:00:00\",\"2023-07-20 11:00:00\",\"2023-07-20 12:00:00\",\"2023-07-20 13:00:00\",\"2023-07-20 14:00:00\",\"2023-07-20 15:00:00\",\"2023-07-20 16:00:00\",\"2023-07-20 17:00:00\",\"2023-07-20 18:00:00\",\"2023-07-20 19:00:00\",\"2023-07-20 20:00:00\",\"2023-07-20 21:00:00\",\"2023-07-20 22:00:00\",\"2023-07-20 23:00:00\",\"2023-07-21 00:00:00\",\"2023-07-21 01:00:00\",\"2023-07-21 02:00:00\",\"2023-07-21 03:00:00\",\"2023-07-21 04:00:00\",\"2023-07-21 05:00:00\",\"2023-07-21 06:00:00\",\"2023-07-21 07:00:00\",\"2023-07-21 08:00:00\",\"2023-07-21 09:00:00\",\"2023-07-21 10:00:00\",\"2023-07-21 11:00:00\",\"2023-07-21 12:00:00\",\"2023-07-21 13:00:00\",\"2023-07-21 14:00:00\",\"2023-07-21 15:00:00\",\"2023-07-21 16:00:00\",\"2023-07-21 17:00:00\",\"2023-07-21 18:00:00\",\"2023-07-21 19:00:00\",\"2023-07-21 20:00:00\",\"2023-07-21 21:00:00\",\"2023-07-21 22:00:00\",\"2023-07-21 23:00:00\",\"2023-07-22 00:00:00\",\"2023-07-22 01:00:00\",\"2023-07-22 02:00:00\",\"2023-07-22 03:00:00\",\"2023-07-22 04:00:00\",\"2023-07-22 05:00:00\",\"2023-07-22 06:00:00\",\"2023-07-22 07:00:00\",\"2023-07-22 08:00:00\",\"2023-07-22 09:00:00\",\"2023-07-22 10:00:00\",\"2023-07-22 11:00:00\",\"2023-07-22 12:00:00\",\"2023-07-22 13:00:00\",\"2023-07-22 14:00:00\",\"2023-07-22 15:00:00\",\"2023-07-22 16:00:00\",\"2023-07-22 17:00:00\",\"2023-07-22 18:00:00\",\"2023-07-22 19:00:00\",\"2023-07-22 20:00:00\",\"2023-07-22 21:00:00\",\"2023-07-22 22:00:00\",\"2023-07-22 23:00:00\",\"2023-07-23 00:00:00\",\"2023-07-23 01:00:00\",\"2023-07-23 02:00:00\",\"2023-07-23 03:00:00\",\"2023-07-23 04:00:00\",\"2023-07-23 05:00:00\",\"2023-07-23 06:00:00\",\"2023-07-23 07:00:00\",\"2023-07-23 08:00:00\",\"2023-07-23 09:00:00\",\"2023-07-23 10:00:00\",\"2023-07-23 11:00:00\",\"2023-07-23 12:00:00\",\"2023-07-23 13:00:00\",\"2023-07-23 14:00:00\",\"2023-07-23 15:00:00\",\"2023-07-23 16:00:00\",\"2023-07-23 17:00:00\",\"2023-07-23 18:00:00\",\"2023-07-23 19:00:00\",\"2023-07-23 20:00:00\",\"2023-07-23 21:00:00\",\"2023-07-23 22:00:00\",\"2023-07-23 23:00:00\",\"2023-07-24 00:00:00\",\"2023-07-24 01:00:00\",\"2023-07-24 02:00:00\",\"2023-07-24 03:00:00\",\"2023-07-24 04:00:00\",\"2023-07-24 05:00:00\",\"2023-07-24 06:00:00\",\"2023-07-24 07:00:00\",\"2023-07-24 08:00:00\",\"2023-07-24 09:00:00\",\"2023-07-24 10:00:00\",\"2023-07-24 11:00:00\",\"2023-07-24 12:00:00\",\"2023-07-24 13:00:00\",\"2023-07-24 14:00:00\",\"2023-07-24 15:00:00\",\"2023-07-24 16:00:00\",\"2023-07-24 17:00:00\",\"2023-07-24 18:00:00\",\"2023-07-24 19:00:00\",\"2023-07-24 20:00:00\"],\"y\":[null,0.6999999999999957,0.35999999999999943,0.25,-0.30999999999999517,-2.1400000000000006,-2.980000000000004,-1.4599999999999973,-2.1799999999999997,-0.9200000000000017,-0.7100000000000009,-0.5899999999999999,-1.3599999999999994,-1.6799999999999997,-0.3099999999999987,-0.21000000000000085,0.3999999999999986,-1.1899999999999977,-0.4800000000000004,2.7799999999999976,2.9700000000000024,2.1499999999999986,2.5600000000000023,1.6400000000000006,1.3999999999999986,-0.11999999999999744,-0.5400000000000063,-0.09999999999999432,-0.6099999999999994,-0.060000000000002274,-2.4800000000000004,-2.330000000000002,-1.6899999999999977,-1.3000000000000007,-0.870000000000001,-0.5999999999999979,-1.0,-1.3500000000000014,-1.0700000000000003,-0.120000000000001,-0.6499999999999986,0.120000000000001,0.17999999999999972,2.789999999999999,3.0799999999999983,2.150000000000002,-0.26000000000000156,1.8900000000000006,2.1400000000000006,0.9899999999999984,1.1200000000000045,0.0899999999999963,-0.1599999999999966,-1.0900000000000034,-1.6999999999999993,-2.2300000000000004,-1.4699999999999989,-0.6900000000000013,-1.0500000000000007,-1.0799999999999983,-0.8300000000000018,-0.6799999999999997,-0.0799999999999983,-1.2899999999999991,-1.0,-0.060000000000002274,2.289999999999999,2.700000000000003,1.759999999999998,-0.46000000000000085,2.650000000000002,0.8599999999999994,2.219999999999999,0.9299999999999997,0.09000000000000341,-0.05000000000000426,-2.4099999999999966,-3.4800000000000004,-0.8599999999999994,-0.17999999999999972,-0.9500000000000028,-0.9699999999999989,-0.629999999999999,-0.38000000000000256,-1.0599999999999987,0.05999999999999872,-1.0199999999999996,-1.009999999999998,-0.4700000000000024,1.0800000000000018,0.7399999999999984,2.1000000000000014,2.879999999999999,2.740000000000002,0.8699999999999974,0.5300000000000011,1.0199999999999996,0.6899999999999977,0.5900000000000034,0.5,-0.8200000000000003,-1.7300000000000004,-1.5799999999999983,-1.870000000000001,-1.9800000000000004,-1.3500000000000014,-1.7399999999999984,-1.2800000000000011,-1.3099999999999987,-1.3000000000000007,-0.7399999999999984,-0.13000000000000256,1.1600000000000001,-0.2099999999999973,0.639999999999997,4.16,2.59,1.990000000000002,2.0500000000000007,1.3299999999999983,0.5199999999999996,1.25,-0.0799999999999983,-1.379999999999999,-0.6800000000000033,-2.0199999999999996,-1.9699999999999989,-1.3900000000000006,-1.0799999999999983,-1.3399999999999999,-0.5600000000000023,-1.0999999999999979,-0.28000000000000114,-0.5899999999999999,-0.6000000000000014,-1.1699999999999982,-1.1900000000000013,-0.8599999999999994,1.75,3.6400000000000006,3.2699999999999996,2.5,1.7199999999999989,1.2600000000000016,0.9800000000000004,0.9000000000000021,0.10999999999999943,-1.3800000000000026,-2.4299999999999997,-1.4400000000000013,-1.25,-0.7300000000000004,-0.5599999999999987,-0.9299999999999997,-0.4800000000000004,-0.6999999999999993,-1.7899999999999991,-0.870000000000001,-0.4800000000000004,-1.620000000000001,0.8900000000000006,-0.6699999999999982,1.0799999999999983,3.3000000000000007,2.460000000000001,2.4399999999999977,1.25,-0.08999999999999986,-0.28999999999999915,1.129999999999999,1.6000000000000014,-0.7899999999999991,-1.2699999999999996,-2.240000000000002,-1.4699999999999989,-1.1999999999999993,0.14999999999999858,-0.41000000000000014,-0.7699999999999996,-0.620000000000001,-0.16999999999999815,-0.4499999999999993,-0.5,0.3299999999999983,-1.3500000000000014,-1.6799999999999997,1.9299999999999997,3.4300000000000033,2.229999999999997,1.5700000000000003,1.8200000000000003,1.5,0.120000000000001,-0.5199999999999996,0.41999999999999815,1.5000000000000036,-1.3200000000000038,-1.9499999999999993,-3.4299999999999997,-0.8999999999999986,-0.010000000000001563,-1.1499999999999986,-0.240000000000002,-0.5299999999999976,-0.45000000000000284,-0.7999999999999972,-0.370000000000001,-0.9499999999999993,-0.7600000000000016,-0.8499999999999979,1.5799999999999983,3.5199999999999996,2.5500000000000007,2.3900000000000006,1.6499999999999986,1.25,0.18999999999999773,-2.6599999999999966,-1.2100000000000009,1.5600000000000023,0.03999999999999915,-0.6600000000000001,-2.1400000000000006,-1.1700000000000017,-0.7099999999999973,-0.7600000000000016,-1.1499999999999986,-0.22000000000000242,-1.0599999999999987,-1.4100000000000001,-0.23000000000000043,-0.0799999999999983,-1.1000000000000014,-0.46000000000000085,1.8900000000000006,2.75,2.8599999999999994,2.9200000000000017,2.3200000000000003,0.9199999999999982,0.10999999999999943,0.8500000000000014,-2.129999999999999,0.5500000000000007,-1.610000000000003,-2.0599999999999987,-4.98,0.5100000000000016,0.05999999999999872,0.05999999999999872,-0.35999999999999943,-0.5499999999999972,0.3299999999999983,-0.4400000000000013,-0.23000000000000043,0.0,-0.5499999999999972,-0.010000000000001563,0.41000000000000014,2.34,2.41,2.1400000000000006,1.7800000000000011,1.759999999999998,1.2100000000000009,-1.8900000000000006,-0.5799999999999983,-0.5200000000000031,0.43000000000000327,-3.1300000000000026,-0.8200000000000003,-0.7699999999999996,-0.8699999999999974,-0.6900000000000013,-0.35999999999999943,-0.28000000000000114,-0.6600000000000001,-1.379999999999999,-0.17999999999999972,0.16000000000000014,-0.870000000000001,-0.6600000000000001,0.28999999999999915,0.9299999999999997,0.8100000000000023,0.8200000000000003,2.2399999999999984,3.580000000000002,1.5299999999999976,0.120000000000001,0.9500000000000028,0.3399999999999963,-0.6099999999999994,-1.1700000000000017,-2.099999999999998,-1.3599999999999994,-0.9800000000000004,-0.1999999999999993,-0.6000000000000014,-0.10000000000000142,-0.33999999999999986,-0.7099999999999973,-0.6500000000000021,-0.35999999999999943,-1.0399999999999991,0.00999999999999801,0.7100000000000009,2.379999999999999,1.4200000000000017,1.7300000000000004,2.509999999999998,1.8500000000000014,1.4799999999999969,-0.11999999999999744,0.6300000000000026,-0.7800000000000011,-0.480000000000004,-1.259999999999998,-1.7300000000000004,-2.009999999999998,-1.0800000000000018,-0.9499999999999993,-0.9800000000000004,-0.4499999999999993,-0.7399999999999984,-0.019999999999999574,0.11999999999999744,-0.6099999999999994,-0.3099999999999987,0.16000000000000014,0.3200000000000003,1.8999999999999986,1.7800000000000011,2.1400000000000006,1.389999999999997,1.1799999999999997,1.490000000000002,0.9099999999999966,0.030000000000001137,0.6400000000000006,-0.6499999999999986,-1.5799999999999983,-2.460000000000001,-1.6799999999999997,-1.5199999999999996,-0.990000000000002,-0.6499999999999986,-1.2300000000000004,-0.7899999999999991,-0.5200000000000031,-0.5599999999999987,-0.33999999999999986,-0.4800000000000004,-0.4800000000000004,1.4700000000000024,2.719999999999999,3.1900000000000013,3.8900000000000006,2.3200000000000003,1.3900000000000006,0.779999999999994,0.47000000000000597,-0.04000000000000625,-0.6199999999999974,-0.3100000000000023,-1.769999999999996,-3.9700000000000024,-0.4499999999999993,-2.919999999999998,-1.5100000000000016,-0.5899999999999999,-1.7899999999999991,-0.6400000000000006,-0.7399999999999984,0.41000000000000014,-0.40000000000000213,-0.870000000000001,-0.4599999999999973,1.7199999999999989,4.460000000000001,5.259999999999998,2.5,1.7700000000000031,0.9099999999999966,0.5799999999999983,0.5700000000000003,-0.19999999999999574,-0.8000000000000043,-0.4099999999999966,-1.9699999999999989,-2.210000000000001,-1.3800000000000026,-1.3699999999999974,-3.330000000000002,-2.1099999999999994,-1.9299999999999997,0.33999999999999986,-1.1099999999999994,-0.3500000000000014,0.240000000000002,-0.14000000000000057,-1.4800000000000004,1.4200000000000017,4.439999999999998,4.220000000000002,3.0799999999999983,2.1799999999999997,1.8200000000000003,0.6300000000000026,-0.030000000000001137,-0.259999999999998,-2.3000000000000043,-0.509999999999998,-0.9299999999999997,-1.8200000000000003,-1.4400000000000013,-1.6499999999999986,-2.150000000000002,-2.09,-2.039999999999999,-0.879999999999999,2.6999999999999993,0.16999999999999815,-0.17999999999999972,-1.7999999999999972,-1.75,3.139999999999997,3.950000000000003,2.9499999999999993,2.780000000000001,1.5899999999999963,1.0700000000000003,0.20000000000000284,-0.240000000000002,-0.20000000000000284,-0.509999999999998,-1.5799999999999983,-2.0600000000000023,-1.7199999999999989,-1.379999999999999,-1.1600000000000001,-0.9800000000000004,-1.0,-1.259999999999998,-0.5600000000000023,-0.879999999999999,-0.41000000000000014,-0.10999999999999943,0.2699999999999996,0.14999999999999858,1.6500000000000021,2.1899999999999977,2.6300000000000026,1.8300000000000018,1.3499999999999943,0.8599999999999994,0.740000000000002,0.240000000000002,0.03999999999999915,-0.46999999999999886,-1.0300000000000011,-1.7600000000000016,-1.9599999999999973,-1.5700000000000003,-1.120000000000001,-1.3399999999999999,-1.2399999999999984,-0.620000000000001,-0.8200000000000003,0.23999999999999844,0.1700000000000017,-0.19000000000000128,0.10999999999999943,-0.04999999999999716,0.9499999999999993,1.9100000000000001,2.349999999999998,1.9200000000000017,1.4599999999999973,1.4500000000000028,1.0700000000000003,0.5399999999999991,-0.1599999999999966,-0.3300000000000054,-1.0799999999999983,-2.0500000000000007,-1.8000000000000007,-1.5499999999999972,-1.5100000000000016,-1.0199999999999996,-1.0700000000000003,-0.6000000000000014,-0.7299999999999969,-0.05000000000000071,-0.17999999999999972,-0.490000000000002,-0.379999999999999,0.1700000000000017,1.509999999999998,2.4499999999999993,2.16,1.9400000000000013,1.259999999999998,1.1999999999999993,0.8700000000000045,0.28999999999999915,-0.03999999999999915,0.04999999999999716,-1.2800000000000011,-1.9799999999999969,-1.9000000000000021,-1.3399999999999999,-1.370000000000001,-0.9199999999999982,-0.6499999999999986,-1.4300000000000033,-0.0799999999999983,-0.7699999999999996,-0.17999999999999972,-0.1700000000000017,-1.0399999999999991,-2.1999999999999993,2.5799999999999983,4.720000000000002,1.7799999999999976,2.5100000000000016,3.0600000000000023,1.3099999999999952,0.990000000000002,0.509999999999998,0.25,-0.22999999999999687,-1.0799999999999983,-1.7100000000000009,-2.3200000000000003,-1.6300000000000026,-1.2799999999999976,-1.1700000000000017,-0.870000000000001,-0.7399999999999984,-1.8300000000000018,-0.6799999999999997,-1.7300000000000004,0.6900000000000013,0.25,-1.620000000000001,1.5500000000000007,4.240000000000002,3.889999999999997,2.9499999999999993,1.6200000000000045,1.6199999999999974,0.9600000000000009,0.38000000000000256,-0.8000000000000043,-0.519999999999996,-0.5600000000000023,-1.6199999999999974,-2.5100000000000016,-1.5500000000000007,-1.1999999999999993,-1.6700000000000017,-1.6799999999999997,-1.6600000000000001,-0.7699999999999996,-0.8300000000000018,-0.7799999999999976,-1.3800000000000026,-0.11999999999999744,-0.10999999999999943,1.8699999999999974,5.120000000000001,4.370000000000001,2.7499999999999964,1.730000000000004,1.3200000000000003,0.9099999999999966,0.21000000000000085,-0.3299999999999983,-0.39000000000000057,-1.1600000000000037,-2.0799999999999983,-2.299999999999997,-1.6900000000000013,-1.3900000000000006,-1.129999999999999,-1.1099999999999994,-1.0500000000000007,-0.6700000000000017,-1.129999999999999,-2.129999999999999,-0.07000000000000028,-1.5,-0.9100000000000001,2.3500000000000014,5.009999999999998,3.84,2.830000000000002,1.9399999999999977,1.240000000000002,0.759999999999998,-0.1599999999999966,-0.46999999999999886,-0.2600000000000051,-0.9399999999999977,-1.759999999999998,-2.0000000000000036,-1.6099999999999994,-1.5700000000000003,-1.3900000000000006,-1.1099999999999994,-1.2100000000000009,-1.7799999999999976,-0.16000000000000014,-0.5399999999999991,-1.6800000000000033,-1.5,-0.08999999999999986,2.7200000000000024,4.489999999999998,3.4400000000000013,2.6799999999999997,2.289999999999999,1.6300000000000026,1.0700000000000003,0.7999999999999972,-0.3399999999999963,-1.2600000000000051,-1.4499999999999957,-1.8100000000000023,-2.3099999999999987,-1.8100000000000023,-1.4100000000000001,-1.2199999999999989,-0.8399999999999999,-0.6099999999999994,-1.3399999999999999,-0.9499999999999993,-0.5600000000000023,-1.1799999999999997,-0.21999999999999886,-0.5500000000000007,2.3200000000000003,3.1999999999999993,3.3000000000000007,3.6599999999999966,2.6700000000000017,0.8299999999999983,0.75,0.8200000000000003,-0.6499999999999986,-1.3599999999999994,-1.2899999999999991,-1.75,-2.0500000000000007,-1.6099999999999994,-1.0300000000000011,-1.1600000000000001,-2.789999999999999,-1.6899999999999977,0.1599999999999966,-0.25,-2.2399999999999984,-0.5599999999999987,-0.19000000000000128,-0.6099999999999994,2.879999999999999,4.699999999999999,3.2600000000000016,2.9299999999999997,2.4200000000000017,1.519999999999996,0.8200000000000003,0.7000000000000028,0.25,-0.18999999999999773,-2.1100000000000065,-2.1099999999999994,-2.0599999999999987,-1.7999999999999972,-1.4700000000000024,-0.9599999999999973,-0.8300000000000018,-0.7699999999999996,-0.8900000000000006,-0.759999999999998,-0.610000000000003,-0.16999999999999815,-0.33999999999999986,-0.6099999999999994,1.3699999999999974,2.620000000000001,1.75,2.719999999999999,1.879999999999999,1.4400000000000048,1.1599999999999966,0.8700000000000045,0.06999999999999318,-0.8499999999999943,-1.2000000000000028,-1.7899999999999991,-2.219999999999999,-1.75,-1.2200000000000024,-1.0899999999999999,-0.9299999999999997,-0.5599999999999987,-0.9200000000000017,-0.36999999999999744,-0.1700000000000017,-0.0799999999999983,-0.060000000000002274,-0.10999999999999943,1.1099999999999994,2.1400000000000006,1.9800000000000004,2.0599999999999987,1.3500000000000014,1.5199999999999996,0.8500000000000014,0.4299999999999997,0.25,-0.46000000000000085,-0.9600000000000009,-1.7199999999999989,-2.1700000000000017,-1.9199999999999982,-1.4100000000000001,-1.1600000000000001,-0.870000000000001,-1.2899999999999991,-0.05999999999999872,0.8399999999999999,0.41000000000000014,-0.6400000000000006,0.4800000000000004,-1.0500000000000007,2.34,2.3299999999999983,1.5199999999999996,1.8399999999999999,1.3999999999999986,1.1400000000000006,0.35999999999999943,0.6900000000000048,-0.13000000000000256,-0.5799999999999983,-1.2100000000000009,-2.0599999999999987,-1.7000000000000028,-1.5199999999999996,-1.2899999999999991,-0.870000000000001,-0.75,-0.6699999999999982,-0.5100000000000016,-0.16000000000000014,-1.0599999999999987,-2.469999999999999,0.5399999999999991,0.25,2.2699999999999996,3.0199999999999996,2.210000000000001,1.8399999999999999,1.5399999999999991,1.1799999999999997,0.8400000000000034,0.7199999999999989,-0.14999999999999858,-0.39000000000000057,-0.9000000000000057,-1.649999999999995,-1.9500000000000028,-1.4399999999999977,-1.370000000000001,-0.9299999999999997,-2.080000000000002,0.5700000000000003,0.120000000000001,-0.379999999999999,-0.129999999999999,-0.6300000000000026,-0.3099999999999987,-0.21999999999999886,1.7099999999999973,2.4800000000000004,2.6099999999999994,1.860000000000003,1.6299999999999955,1.6799999999999997,1.5600000000000023,0.5200000000000031,0.19999999999999574,-0.5700000000000003,-1.4600000000000009,-1.7399999999999949,-2.0000000000000036,-1.8499999999999979,-1.379999999999999,-1.1500000000000021,-0.6899999999999977,-0.5400000000000027,-0.46999999999999886,-0.07000000000000028,-0.870000000000001,-1.6499999999999986,0.3200000000000003,-0.9699999999999989,1.7799999999999976,4.379999999999999,2.3800000000000026,2.3699999999999974,2.460000000000001,1.7000000000000028,1.3500000000000014,-0.6000000000000014,1.0599999999999952,-0.4199999999999946,-1.0600000000000023,-2.270000000000003,-4.199999999999996,-6.860000000000003,1.4500000000000028,1.509999999999998,-0.6999999999999993,-1.5899999999999999,-1.5599999999999987,-0.6000000000000014,0.07000000000000028,-0.14999999999999858,-0.38000000000000256,-0.21999999999999886,1.5899999999999999,3.4800000000000004,2.7300000000000004,2.84,1.7899999999999991,1.4500000000000028,0.8900000000000006,-1.7000000000000028,-3.4299999999999997,2.280000000000001,-2.960000000000001,-2.0400000000000027,-2.3199999999999967,-1.3300000000000018,-1.6799999999999997,1.6000000000000014,-0.7800000000000011,-0.120000000000001,-0.21000000000000085,-1.0499999999999972,-0.2900000000000027,-0.8099999999999987,-1.0100000000000016,-0.259999999999998,1.4499999999999993,4.129999999999999,4.66,2.9200000000000017,1.9200000000000017,1.3900000000000006,0.7999999999999972,0.28999999999999915,0.3299999999999983,0.0800000000000054,-2.260000000000005,-1.1299999999999955,-2.190000000000005,-2.3299999999999983,-0.0799999999999983,-1.5899999999999999,-1.25,-3.0,-1.5100000000000016,-0.5999999999999979,-0.4200000000000017,0.030000000000001137,-0.10999999999999943,-0.240000000000002,1.6900000000000013,5.34,3.6400000000000006,1.9999999999999964,1.8599999999999994,0.9600000000000009,0.8300000000000054,0.8099999999999952,-1.2100000000000009,-0.6299999999999955,-2.8700000000000045,-2.099999999999998,-1.8500000000000014,-1.389999999999997,-0.2700000000000031,-0.9099999999999966,-1.1300000000000026,-0.6199999999999974,-0.610000000000003,-0.5399999999999991,-0.629999999999999,-0.370000000000001,-0.9400000000000013,-1.0599999999999987,2.09,3.5700000000000003,2.6700000000000017,1.6699999999999982,1.8099999999999987,1.2100000000000009,0.5900000000000034,0.3200000000000003,0.09999999999999432,-0.03999999999999915,-1.1199999999999974,-1.990000000000002,-2.039999999999999,-1.5300000000000011,-1.1499999999999986,-0.8200000000000003,-0.879999999999999,-0.7800000000000011,-1.0199999999999996,0.28999999999999915,-0.9299999999999997,-1.4299999999999997,-0.620000000000001,-0.4399999999999977,2.9499999999999993,3.5199999999999996,1.7300000000000004,1.7300000000000004,1.2800000000000011,1.5299999999999976,0.8999999999999986,1.0600000000000023,0.03999999999999915,-0.36999999999999744,-1.0100000000000051,-1.769999999999996,-1.8300000000000018,-1.4699999999999989,-1.1799999999999997,-0.8599999999999994,-0.8300000000000018,-0.5899999999999999,-0.4599999999999973,-0.3200000000000003,-0.370000000000001,-0.6099999999999994,-0.46000000000000085,0.5199999999999996,2.039999999999999,2.16,1.9600000000000009,1.25,1.2600000000000016,0.6700000000000017,0.9199999999999946,-5.679999999999996,-6.080000000000002,1.129999999999999,1.6799999999999997,0.33000000000000185,-1.6700000000000017,-1.7199999999999989,-0.9100000000000001,-0.08999999999999986,0.4400000000000013,0.129999999999999,0.4299999999999997,0.5500000000000007,0.5500000000000007,0.05999999999999872,-0.7300000000000004,-1.25,1.370000000000001,3.599999999999998,2.080000000000002,1.8200000000000003,1.370000000000001,0.8699999999999974,1.1899999999999977,0.6000000000000014,0.240000000000002,-0.3999999999999986,-1.0900000000000034,-1.629999999999999,-1.5999999999999979,-1.4100000000000001,-1.0600000000000023,-1.0399999999999991,-0.5,-1.0999999999999979,-0.40000000000000213,-0.5,-0.6699999999999982,0.3099999999999987,-0.9600000000000009,-0.21999999999999886,2.259999999999998,2.5500000000000007,1.9600000000000009,1.4899999999999984,1.6500000000000021,1.5300000000000011,1.0899999999999963,0.8900000000000006,0.030000000000001137,-0.4099999999999966,-0.8800000000000026,-1.5399999999999991,-1.620000000000001,-1.4499999999999993,-1.370000000000001,-0.9800000000000004,-0.5899999999999999,-0.7300000000000004,-0.5,-1.5300000000000011,-0.0799999999999983,-0.28000000000000114,-0.07000000000000028,-0.7699999999999996,1.6400000000000006,2.830000000000002,2.1199999999999974,1.6700000000000017,1.8800000000000026,1.6199999999999974,1.1400000000000006,0.8200000000000003,0.36999999999999744,-0.9200000000000017,-1.4399999999999977,-1.7299999999999969,-1.9200000000000017,-1.4100000000000001,-1.1600000000000001,-1.3599999999999994,-0.740000000000002,-1.0199999999999996,-0.8200000000000003,-0.16999999999999815,-1.0300000000000011,-0.4800000000000004,-0.7199999999999989,0.33999999999999986,1.3499999999999979,3.200000000000003,2.7099999999999973,1.990000000000002,1.5600000000000023,1.1099999999999994,1.25,0.5599999999999952,0.03999999999999915,-0.5,-1.1699999999999946,-1.2199999999999989,-1.6900000000000048,-1.639999999999997,-1.7600000000000016,-0.8299999999999983,-1.0200000000000031,-0.10999999999999943,-0.4800000000000004,-0.4799999999999969,-0.46000000000000085,-0.6799999999999997,-0.7600000000000016,-0.5799999999999983,0.9800000000000004,3.759999999999998,2.719999999999999,1.9000000000000021,2.049999999999997,0.6400000000000006,-0.5,-0.4099999999999966,0.8299999999999983,1.6499999999999986,-2.1499999999999986,-3.0700000000000003,-1.9699999999999989,-1.0899999999999999,-1.0899999999999999,-0.5400000000000027,-0.5,-0.2799999999999976,-0.6000000000000014,-1.620000000000001,-1.009999999999998,-0.4299999999999997,-0.990000000000002,-0.2099999999999973,2.469999999999999,4.370000000000001,1.9599999999999973,1.9299999999999997,1.4600000000000009,0.980000000000004,0.5799999999999983,-0.5500000000000043,-1.519999999999996,-0.5100000000000016,0.5000000000000036,-0.2900000000000027,-1.4100000000000001,-1.120000000000001,-1.4899999999999984,-0.8200000000000003,-0.8399999999999999,-1.4600000000000009,-0.1999999999999993,-0.28999999999999915,0.5,-1.6700000000000017,-1.75,-0.1999999999999993,2.219999999999999,3.370000000000001,1.8999999999999986,1.3300000000000018,0.46000000000000085,1.620000000000001,1.1699999999999946,0.490000000000002,0.6799999999999997,-0.35999999999999943,-1.1000000000000014,-1.3299999999999983,-1.4100000000000001,-1.0899999999999999,-1.9199999999999982,-3.5600000000000023,-1.5700000000000003,-1.0599999999999987,1.2100000000000009,2.539999999999999,-1.4499999999999993,-0.3200000000000003,0.6799999999999997,-2.0100000000000016,2.080000000000002,3.620000000000001,1.6499999999999986,1.3900000000000006,1.5199999999999996,0.9400000000000013,0.5,0.6799999999999997,0.35999999999999943,-0.3200000000000003,-0.9500000000000028,-1.4399999999999977,-1.4800000000000004,-1.1499999999999986,-1.0400000000000027,-0.7299999999999969,-0.7100000000000009,-0.5199999999999996,-0.26000000000000156,-0.41999999999999815,-0.40000000000000213,-0.21999999999999886,-0.7800000000000011,-0.3000000000000007,1.0400000000000027,2.2399999999999984,1.6000000000000014,2.009999999999998,1.5500000000000007,0.4799999999999969,-0.22999999999999687,-1.0300000000000011,-2.2399999999999984,1.5,-0.21999999999999886,-1.1300000000000026,-1.4899999999999984,-0.9499999999999993,-0.7900000000000027,-0.34999999999999787,-0.25,-1.0399999999999991,0.7199999999999989,-0.3099999999999987,-0.9500000000000028,-0.259999999999998,0.14000000000000057,0.33999999999999986,1.2399999999999984,1.5700000000000003,1.2300000000000004,0.6799999999999997,1.4800000000000004,0.8200000000000003,0.5300000000000011,0.129999999999999,-1.3100000000000023,-0.11999999999999744,-0.08000000000000185,-1.2100000000000009,-1.3599999999999994,-0.9899999999999984,-0.8200000000000003,-0.370000000000001,-0.07000000000000028,-0.7999999999999972,0.05999999999999872,-0.9600000000000009,0.490000000000002,-0.6000000000000014,-0.8300000000000018,0.39000000000000057,1.8900000000000006,1.7600000000000016,1.8399999999999999,1.3999999999999986,0.879999999999999,0.9700000000000024,0.759999999999998,0.8999999999999986,-1.1699999999999946,0.30999999999999517,-1.5299999999999976,-1.4000000000000021,-1.4299999999999997,-1.4399999999999977,-0.5600000000000023,-0.6499999999999986,-0.879999999999999,-0.4299999999999997,-1.6900000000000013,0.5899999999999999,0.03999999999999915,0.05000000000000071,-0.9800000000000004,1.1500000000000021,1.4699999999999989,1.9100000000000001,1.5799999999999983,1.0199999999999996,0.240000000000002,0.870000000000001,0.7799999999999976,0.8000000000000043,-0.44000000000000483,-1.7699999999999996,-3.91,0.45000000000000284,-1.1000000000000014,-0.3200000000000003,-0.14000000000000057,-0.1999999999999993,0.25,0.129999999999999,-0.1999999999999993,-0.14999999999999858,-0.120000000000001,-0.17999999999999972,-0.14000000000000057,-0.05999999999999872,0.2799999999999976,0.8200000000000003,2.1900000000000013,1.6699999999999982,1.6400000000000006,0.14000000000000057,1.3699999999999974,0.25,0.3300000000000054,-1.4600000000000009,-1.5400000000000027,-1.3399999999999999,-1.6400000000000006,-0.8499999999999979,-0.490000000000002,-0.5199999999999996,-0.3999999999999986,-0.19000000000000128,-0.17999999999999972,0.08999999999999986,-0.05000000000000071,-0.10999999999999943,0.21000000000000085,-0.019999999999999574,0.6900000000000013,1.6499999999999986,1.1400000000000006,1.620000000000001,0.7699999999999996,0.8499999999999979,0.6700000000000017,0.5899999999999963,-1.4099999999999966,-0.2699999999999996,-0.6900000000000013,-1.4499999999999993,-1.5500000000000007,-0.9699999999999989,-0.7699999999999996,-0.490000000000002,-0.6899999999999977,-0.22000000000000242,-0.5299999999999976,0.16999999999999815,-0.41999999999999815,-0.490000000000002,0.019999999999999574,0.6700000000000017,1.0599999999999987,2.1700000000000017,1.7399999999999984,0.7300000000000004,0.6999999999999993,1.9100000000000001,0.6600000000000001,0.8299999999999983,-1.1099999999999994,-0.5199999999999996,-0.8399999999999999,-1.1499999999999986,-1.7800000000000011,-1.0599999999999987,-1.0899999999999999,-0.8500000000000014,-1.009999999999998,-0.5600000000000023,-0.759999999999998,-0.17999999999999972,-0.8100000000000023,0.41000000000000014,-0.9699999999999989,-0.990000000000002,1.5200000000000031,4.369999999999997,2.3200000000000003,1.5500000000000007,2.0,1.4600000000000009,0.8800000000000026,-0.14000000000000057,-0.30000000000000426,-0.5899999999999963,-1.5700000000000038,-1.6999999999999993,-1.8699999999999974,-1.3400000000000034,-0.7799999999999976,-0.6799999999999997,-0.3200000000000003,-0.120000000000001,-0.370000000000001,-0.6499999999999986,-0.05000000000000071,-0.23999999999999844,-1.1000000000000014,-1.1600000000000001,1.7300000000000004,3.16,2.4200000000000017,1.0999999999999979,2.3000000000000007,0.990000000000002,-0.3400000000000034,-1.0299999999999976,0.13999999999999702,0.5,-0.5799999999999983,-1.5199999999999996,-1.6000000000000014,-1.4100000000000001,-1.0799999999999983,-1.1500000000000021,-0.16999999999999815,-0.5199999999999996,-0.4400000000000013,-0.129999999999999,0.41000000000000014,-0.379999999999999,-0.22000000000000242,-1.3499999999999979,1.1600000000000001,2.9599999999999973,1.620000000000001,2.4400000000000013,1.5299999999999976,1.6099999999999994,0.730000000000004,-2.950000000000003,0.8500000000000014,-0.9699999999999989,-1.8800000000000026,-0.16999999999999815,-1.1099999999999994,-0.990000000000002,-1.1600000000000001,-0.5,-0.8599999999999994,-0.26000000000000156,-0.7399999999999984,-0.8000000000000007,-0.6600000000000001,-1.0,-0.11999999999999744,0.1999999999999993,1.7099999999999973,3.870000000000001,2.7600000000000016,0.8299999999999983,1.4000000000000021,0.9699999999999953,1.2000000000000028,-1.269999999999996,0.8299999999999983,-0.6799999999999997,-0.8900000000000006,-1.8000000000000007,-1.5600000000000023,-1.3699999999999974,-0.5600000000000023,-0.6600000000000001,-0.35999999999999943,-0.23999999999999844,-0.3200000000000003,-0.41000000000000014,-0.8399999999999999,0.17999999999999972,-1.4400000000000013,-0.16999999999999815,1.8099999999999987,2.3100000000000023,2.139999999999997,2.200000000000003,0.7699999999999996,-0.2900000000000027,0.740000000000002,0.1999999999999993,0.21999999999999886,-2.9499999999999993,-1.370000000000001,-1.6899999999999977,-1.5600000000000023,-0.4299999999999997,-1.379999999999999,-0.14999999999999858,-0.2900000000000027,0.240000000000002,-0.21999999999999886,-0.08000000000000185,-0.379999999999999,-0.5199999999999996,-0.26000000000000156,-0.16000000000000014,1.0100000000000016,1.3099999999999987,2.3500000000000014,0.23000000000000043,1.4399999999999977,-1.8200000000000003,-0.8599999999999994,0.25,1.3399999999999999,0.019999999999999574,-0.3099999999999987,-0.5500000000000007,-0.9199999999999982,-0.19000000000000128,-0.5700000000000003,-0.1999999999999993,0.2699999999999996,-0.21000000000000085,-0.5999999999999979,0.259999999999998,-0.21999999999999886,-0.1700000000000017,-0.00999999999999801,-0.5199999999999996,-0.08000000000000185,0.4299999999999997,0.6799999999999997,0.5199999999999996,0.18000000000000327,0.9499999999999993,-0.1700000000000017,1.0300000000000011,0.870000000000001,-0.9400000000000013,-0.9299999999999997,-0.2699999999999996,-0.6000000000000014,-0.46000000000000085,-0.5899999999999999,-0.7199999999999989,-0.14000000000000057,0.10000000000000142,-0.28000000000000114,-0.14999999999999858,0.23000000000000043,-0.0400000000000027,-0.1999999999999993,0.1999999999999993,0.22000000000000242,1.1499999999999986,1.9400000000000013,0.2699999999999996,0.5799999999999983,0.41000000000000014,0.5800000000000018,0.5999999999999979,-3.599999999999998,-0.3500000000000014,-0.0799999999999983,-0.10999999999999943,-0.43000000000000327,0.25,-0.4799999999999969,0.34999999999999787,0.23000000000000043,-0.019999999999999574,-0.03999999999999915,-0.5199999999999996,-0.010000000000001563,0.17999999999999972,-0.019999999999999574,0.10000000000000142,0.5999999999999979,0.33000000000000185,1.0299999999999976,1.2699999999999996,0.5500000000000007,-1.2799999999999976,-0.9500000000000028,0.9600000000000009,-1.7100000000000009,-0.23999999999999844,-0.379999999999999,-0.2699999999999996,-0.11000000000000298,-0.09999999999999787,0.23000000000000043,0.3299999999999983,0.03999999999999915,-0.259999999999998,-0.28999999999999915,-0.020000000000003126,-0.08999999999999986,-0.4299999999999997,0.3100000000000023,-0.3200000000000003,0.3099999999999987,1.0700000000000003,1.2300000000000004,-0.10999999999999943,0.2799999999999976,1.240000000000002,-0.75,0.370000000000001,0.11999999999999744,-0.23000000000000043,-1.5799999999999983,-0.620000000000001,0.3000000000000007,-0.14999999999999858,-0.9000000000000021,0.23000000000000043,-0.509999999999998,-0.33999999999999986,0.03999999999999915,-0.28999999999999915,0.18999999999999773,-0.00999999999999801,0.5,-0.3100000000000023,0.8599999999999994,0.5400000000000027,1.0799999999999983,-0.33999999999999986,-1.0199999999999996,0.4299999999999997,1.3900000000000006,0.21000000000000085,-0.41000000000000014,-0.990000000000002,-0.8099999999999987,-0.240000000000002,-0.5499999999999972,-0.2699999999999996,-0.08999999999999986,0.3299999999999983,0.05000000000000071,0.259999999999998,0.28000000000000114,-0.21000000000000085,0.4400000000000013,-0.08999999999999986,-0.030000000000001137,-0.39000000000000057,-0.13999999999999702,1.129999999999999,1.4699999999999989,0.620000000000001,0.09999999999999787,0.45000000000000284,-0.9500000000000028,-0.129999999999999,0.21999999999999886,-0.8199999999999967,-0.41000000000000014,-0.17999999999999972,-0.120000000000001,-0.33000000000000185,0.060000000000002274,0.0,-0.5800000000000018,-0.18999999999999773,0.129999999999999,-0.15000000000000213,0.10000000000000142,0.030000000000001137,0.2099999999999973,0.7700000000000031,1.9699999999999989,0.39000000000000057,1.259999999999998,0.15000000000000213,-0.3500000000000014,0.7600000000000016,0.3299999999999983,-0.3999999999999986,-1.3500000000000014,-0.9399999999999977,-0.8100000000000023,-0.5500000000000007,-0.389999999999997,0.0,-0.19000000000000128,-0.6400000000000006,-0.08999999999999986,0.03999999999999915,-0.23999999999999844,-0.28999999999999915,-0.08999999999999986,-0.19000000000000128,1.0599999999999987,1.9000000000000021,1.0999999999999979,1.9100000000000001,0.5199999999999996,0.4800000000000004,-1.120000000000001,-0.75,1.240000000000002,-2.719999999999999,0.9599999999999973,-1.9800000000000004,-0.3999999999999986,-0.35999999999999943,-0.6700000000000017,-0.10999999999999943,0.4200000000000017,-0.21000000000000085,-0.9100000000000001,0.0,0.14000000000000057,-0.490000000000002,-0.16000000000000014,-0.3099999999999987,1.0100000000000016,1.879999999999999,2.3200000000000003,1.2899999999999991,1.7800000000000011,0.0,0.34999999999999787,-1.0899999999999999,-0.8999999999999986,1.3900000000000006,-1.0300000000000011,-2.0,-1.4800000000000004,-0.5500000000000007,-0.5999999999999979,-0.39000000000000057,-0.46999999999999886,-0.21000000000000085,0.5500000000000007,-0.5199999999999996,0.1999999999999993,-0.1999999999999993,-0.370000000000001,-0.07000000000000028,0.6900000000000013,1.0899999999999999,1.8499999999999979,1.0500000000000007,0.7100000000000009,-0.75,0.9600000000000009,1.2999999999999972,0.3100000000000023,-1.9800000000000004,-1.7699999999999996,-0.6600000000000001,-0.8000000000000007,-0.03999999999999915,-0.3500000000000014,-0.4499999999999993,-0.19000000000000128,-0.09999999999999787,-0.38000000000000256,-0.2799999999999976,-0.26000000000000156,0.1700000000000017,0.21999999999999886,0.14999999999999858,0.33999999999999986,1.1900000000000013,0.6900000000000013,1.4599999999999973,-0.33999999999999986,0.6600000000000001,0.8100000000000023,-2.6700000000000017,-1.0199999999999996,0.28999999999999915,0.9700000000000024,-1.0100000000000016,-0.5599999999999987,-0.5500000000000007,-0.5500000000000007,0.28999999999999915,-0.7799999999999976,0.3099999999999987,0.23000000000000043,0.0799999999999983,-0.3299999999999983,-0.6099999999999994,0.00999999999999801,0.40000000000000213,1.0599999999999987,1.0899999999999999,0.9499999999999993,-0.5700000000000003,1.7900000000000027,1.5299999999999976,0.019999999999999574,-0.5199999999999996,-2.9800000000000004,0.990000000000002,0.08999999999999986,-1.3000000000000007,-0.48999999999999844,-0.33000000000000185,-0.23999999999999844,0.029999999999997584,-0.22999999999999687,-0.23000000000000043,-0.019999999999999574,-0.6799999999999997,-0.19000000000000128,0.1999999999999993,0.16000000000000014,0.1700000000000017,0.5799999999999983,1.120000000000001,1.4899999999999984,-0.3000000000000007,1.0899999999999999,1.0200000000000031,-1.0200000000000031,1.0600000000000023,-0.5,-1.0600000000000023,0.14000000000000057,-1.2199999999999989,-0.8000000000000007,-1.3200000000000003,0.0,0.33999999999999986,0.08000000000000185,-0.40000000000000213,-0.29999999999999716,0.23999999999999844,0.17999999999999972,-1.3200000000000003,-0.03999999999999915,0.16000000000000014,0.5199999999999996,1.1000000000000014,1.3099999999999987,2.129999999999999,0.6000000000000014,0.259999999999998,0.8900000000000006,-1.2799999999999976,-0.40000000000000213,0.6900000000000013,-0.6400000000000006,-1.1600000000000001,-1.1000000000000014,-0.75,-0.35999999999999943,-0.4399999999999977,-0.10000000000000142,0.05000000000000071,0.00999999999999801,0.010000000000001563,-0.10000000000000142,0.010000000000001563,0.00999999999999801,-0.0799999999999983,0.5799999999999983,0.8399999999999999,1.110000000000003,0.7399999999999984,0.6000000000000014,1.9699999999999989,0.9499999999999993,-0.07000000000000028,-0.2099999999999973,-1.0,-0.6400000000000006,-1.4000000000000021,-1.4399999999999977,-0.610000000000003,-0.6199999999999974,-0.620000000000001,-1.2100000000000009,-0.18999999999999773,0.5899999999999999,-0.490000000000002,-0.3999999999999986,-0.46999999999999886,0.5699999999999967,-1.4699999999999989,1.5300000000000011,1.8999999999999986,2.039999999999999,1.5899999999999999,0.6800000000000033,-0.20000000000000284,0.6300000000000026,-0.5800000000000018,0.08999999999999986,-0.46000000000000085,-0.5399999999999991,-0.870000000000001,-0.9099999999999966,-0.7700000000000031,-0.6799999999999997,-0.28999999999999915,0.23000000000000043,-0.5199999999999996,-0.2699999999999996,-0.3200000000000003,-0.14000000000000057,-0.030000000000001137,-0.379999999999999,0.1999999999999993,0.39000000000000057,0.8900000000000006,1.129999999999999,1.0,1.1500000000000021,0.7899999999999991,-0.129999999999999,0.03999999999999915,-0.4499999999999993,-0.40000000000000213,-0.259999999999998,-0.740000000000002,-0.7399999999999984,-0.740000000000002,-0.16999999999999815,-0.2699999999999996,-0.2900000000000027,-0.019999999999999574,-0.4800000000000004,-0.36999999999999744,0.35999999999999943,-0.1999999999999993,-0.17999999999999972,0.14999999999999858,0.7600000000000016,1.3399999999999999,1.6600000000000001,-1.1600000000000001,1.9899999999999984,0.03999999999999915,0.120000000000001,-1.2699999999999996,-0.03999999999999915,0.509999999999998,0.5300000000000011,-1.0500000000000007,-1.120000000000001,-0.7099999999999973,-0.39000000000000057,-0.3500000000000014,-0.5399999999999991,-0.35999999999999943,0.11999999999999744,-0.2799999999999976,0.00999999999999801,-0.14000000000000057,0.25,-0.6599999999999966,1.1099999999999994,0.5299999999999976,0.5199999999999996,1.4800000000000004,2.1300000000000026,-0.5100000000000016,-0.7199999999999989,-0.33999999999999986,-0.060000000000002274,-0.5799999999999983,-1.0100000000000016,-0.7300000000000004,-0.4799999999999969,-0.07000000000000028,0.0799999999999983,-0.2699999999999996,-0.26000000000000156,0.4200000000000017,0.030000000000001137,-0.019999999999999574,-0.240000000000002,0.3999999999999986,-1.259999999999998,0.5300000000000011,1.2299999999999969,1.610000000000003,1.2099999999999973,0.5600000000000023,-0.8800000000000026,-0.29999999999999716,1.2699999999999996,0.6699999999999982,-0.879999999999999,-0.14999999999999858,-1.1400000000000006,-0.75,-0.3000000000000007,-0.6400000000000006,-0.14999999999999858,-0.3100000000000023,-0.14999999999999858,-0.5700000000000003,-0.259999999999998,0.08999999999999986,-0.13000000000000256,-0.129999999999999,-0.4400000000000013,0.4700000000000024,-0.240000000000002,0.9600000000000009,1.1799999999999997,1.9299999999999997,1.1799999999999997,-1.2199999999999989,-1.370000000000001,-1.8900000000000006,0.2900000000000027,0.5299999999999976,0.33999999999999986,-0.879999999999999,-0.7399999999999984,-0.7100000000000009,-0.10999999999999943,-0.010000000000001563,0.129999999999999,-0.2099999999999973,-0.21000000000000085,0.4800000000000004,-0.03999999999999915,-0.2700000000000031,-0.379999999999999,-0.09999999999999787,0.6599999999999966,1.0900000000000034,1.4199999999999982,0.9200000000000017,1.0399999999999991,0.6699999999999982,-0.4299999999999997,-1.379999999999999,-0.9499999999999993,1.129999999999999,-1.3099999999999987,-0.5700000000000003,-0.6999999999999993,-0.1700000000000017,-0.17999999999999972,-0.03999999999999915,0.05999999999999872,-0.019999999999999574,0.26000000000000156,0.029999999999997584,0.060000000000002274,-0.43000000000000327,-0.2099999999999973,0.2699999999999996,0.21999999999999886,0.33999999999999986,1.1099999999999994,0.870000000000001,0.010000000000001563,0.9599999999999973,0.22000000000000242,0.5999999999999979,-1.1899999999999977,-0.5400000000000027,-1.3699999999999974,-0.07000000000000028,-0.21000000000000085,-0.16000000000000014,-0.05999999999999872,0.05999999999999872,0.14999999999999858,0.11000000000000298,-0.3100000000000023,-0.4299999999999997,-0.09999999999999787,-0.26000000000000156,-0.16000000000000014,-0.08999999999999986,-0.5300000000000011,0.5800000000000018,1.2399999999999984,0.41000000000000014,1.4800000000000004,1.1900000000000013,0.4499999999999993,0.08999999999999986,-1.7899999999999991,-0.120000000000001,-0.14000000000000057,-0.46000000000000085,-0.5999999999999979,-0.5899999999999999,-0.22000000000000242,-0.4599999999999973,-0.1999999999999993,-0.08000000000000185,-0.10999999999999943,-0.07000000000000028,0.10999999999999943,0.4499999999999993,-0.029999999999997584,0.1999999999999993,-0.1999999999999993,0.09999999999999787,0.620000000000001,0.120000000000001,1.1799999999999997,0.6999999999999993,0.879999999999999,-0.7100000000000009,1.4100000000000001,-0.7899999999999991,-0.07000000000000028,-1.8299999999999983,-1.2899999999999991,-0.20000000000000284,-0.05999999999999872,0.10999999999999943,0.05000000000000071,-0.10000000000000142,-0.17999999999999972,-0.16999999999999815,-0.22000000000000242,-0.16000000000000014,0.060000000000002274,0.019999999999999574,0.21999999999999886,0.4299999999999997,0.6799999999999997,-0.0799999999999983,1.0399999999999991,2.2600000000000016,-2.0100000000000016,0.35999999999999943,-1.139999999999997,-0.3200000000000003,-0.020000000000003126,-0.7399999999999984,-0.46999999999999886,0.05000000000000071,0.05999999999999872,-0.4400000000000013,0.28000000000000114,-0.21999999999999886,-0.0400000000000027,0.21000000000000085,0.0,-0.2699999999999996,0.17999999999999972,0.2699999999999996,0.1999999999999993,1.0600000000000023,0.4800000000000004,1.4100000000000001,-0.060000000000002274,-1.2300000000000004,0.7800000000000011,-0.8000000000000007,-0.09999999999999787,0.3099999999999987,-0.010000000000001563,-0.6199999999999974,-0.6900000000000013,-0.120000000000001,-0.14999999999999858,-0.19000000000000128,0.030000000000001137,-0.1999999999999993,-0.5700000000000003,-0.08999999999999986,0.05999999999999872,-0.03999999999999915,0.19000000000000128,0.3099999999999987,0.120000000000001,1.2799999999999976,1.1600000000000001,0.4800000000000004,0.870000000000001,-0.41000000000000014,0.10000000000000142,0.29999999999999716,-0.8699999999999974,-0.010000000000001563,-0.0799999999999983,-1.1700000000000017,-0.379999999999999,-0.240000000000002,-0.2799999999999976,-0.7900000000000027,0.05000000000000071,-0.14999999999999858,0.03999999999999915,-0.16999999999999815,0.0,-0.07000000000000028,-0.120000000000001,0.00999999999999801,0.3100000000000023,0.39000000000000057,0.41999999999999815,0.7600000000000016,0.8000000000000007,1.0599999999999987,-1.5700000000000003,-0.23999999999999844,0.9100000000000001,-0.8300000000000018,-0.3299999999999983,-0.6300000000000026,-0.3999999999999986,-0.41000000000000014],\"type\":\"scatter\"}],                        {\"template\":{\"data\":{\"histogram2dcontour\":[{\"type\":\"histogram2dcontour\",\"colorbar\":{\"outlinewidth\":0,\"ticks\":\"\"},\"colorscale\":[[0.0,\"#0d0887\"],[0.1111111111111111,\"#46039f\"],[0.2222222222222222,\"#7201a8\"],[0.3333333333333333,\"#9c179e\"],[0.4444444444444444,\"#bd3786\"],[0.5555555555555556,\"#d8576b\"],[0.6666666666666666,\"#ed7953\"],[0.7777777777777778,\"#fb9f3a\"],[0.8888888888888888,\"#fdca26\"],[1.0,\"#f0f921\"]]}],\"choropleth\":[{\"type\":\"choropleth\",\"colorbar\":{\"outlinewidth\":0,\"ticks\":\"\"}}],\"histogram2d\":[{\"type\":\"histogram2d\",\"colorbar\":{\"outlinewidth\":0,\"ticks\":\"\"},\"colorscale\":[[0.0,\"#0d0887\"],[0.1111111111111111,\"#46039f\"],[0.2222222222222222,\"#7201a8\"],[0.3333333333333333,\"#9c179e\"],[0.4444444444444444,\"#bd3786\"],[0.5555555555555556,\"#d8576b\"],[0.6666666666666666,\"#ed7953\"],[0.7777777777777778,\"#fb9f3a\"],[0.8888888888888888,\"#fdca26\"],[1.0,\"#f0f921\"]]}],\"heatmap\":[{\"type\":\"heatmap\",\"colorbar\":{\"outlinewidth\":0,\"ticks\":\"\"},\"colorscale\":[[0.0,\"#0d0887\"],[0.1111111111111111,\"#46039f\"],[0.2222222222222222,\"#7201a8\"],[0.3333333333333333,\"#9c179e\"],[0.4444444444444444,\"#bd3786\"],[0.5555555555555556,\"#d8576b\"],[0.6666666666666666,\"#ed7953\"],[0.7777777777777778,\"#fb9f3a\"],[0.8888888888888888,\"#fdca26\"],[1.0,\"#f0f921\"]]}],\"heatmapgl\":[{\"type\":\"heatmapgl\",\"colorbar\":{\"outlinewidth\":0,\"ticks\":\"\"},\"colorscale\":[[0.0,\"#0d0887\"],[0.1111111111111111,\"#46039f\"],[0.2222222222222222,\"#7201a8\"],[0.3333333333333333,\"#9c179e\"],[0.4444444444444444,\"#bd3786\"],[0.5555555555555556,\"#d8576b\"],[0.6666666666666666,\"#ed7953\"],[0.7777777777777778,\"#fb9f3a\"],[0.8888888888888888,\"#fdca26\"],[1.0,\"#f0f921\"]]}],\"contourcarpet\":[{\"type\":\"contourcarpet\",\"colorbar\":{\"outlinewidth\":0,\"ticks\":\"\"}}],\"contour\":[{\"type\":\"contour\",\"colorbar\":{\"outlinewidth\":0,\"ticks\":\"\"},\"colorscale\":[[0.0,\"#0d0887\"],[0.1111111111111111,\"#46039f\"],[0.2222222222222222,\"#7201a8\"],[0.3333333333333333,\"#9c179e\"],[0.4444444444444444,\"#bd3786\"],[0.5555555555555556,\"#d8576b\"],[0.6666666666666666,\"#ed7953\"],[0.7777777777777778,\"#fb9f3a\"],[0.8888888888888888,\"#fdca26\"],[1.0,\"#f0f921\"]]}],\"surface\":[{\"type\":\"surface\",\"colorbar\":{\"outlinewidth\":0,\"ticks\":\"\"},\"colorscale\":[[0.0,\"#0d0887\"],[0.1111111111111111,\"#46039f\"],[0.2222222222222222,\"#7201a8\"],[0.3333333333333333,\"#9c179e\"],[0.4444444444444444,\"#bd3786\"],[0.5555555555555556,\"#d8576b\"],[0.6666666666666666,\"#ed7953\"],[0.7777777777777778,\"#fb9f3a\"],[0.8888888888888888,\"#fdca26\"],[1.0,\"#f0f921\"]]}],\"mesh3d\":[{\"type\":\"mesh3d\",\"colorbar\":{\"outlinewidth\":0,\"ticks\":\"\"}}],\"scatter\":[{\"fillpattern\":{\"fillmode\":\"overlay\",\"size\":10,\"solidity\":0.2},\"type\":\"scatter\"}],\"parcoords\":[{\"type\":\"parcoords\",\"line\":{\"colorbar\":{\"outlinewidth\":0,\"ticks\":\"\"}}}],\"scatterpolargl\":[{\"type\":\"scatterpolargl\",\"marker\":{\"colorbar\":{\"outlinewidth\":0,\"ticks\":\"\"}}}],\"bar\":[{\"error_x\":{\"color\":\"#2a3f5f\"},\"error_y\":{\"color\":\"#2a3f5f\"},\"marker\":{\"line\":{\"color\":\"#E5ECF6\",\"width\":0.5},\"pattern\":{\"fillmode\":\"overlay\",\"size\":10,\"solidity\":0.2}},\"type\":\"bar\"}],\"scattergeo\":[{\"type\":\"scattergeo\",\"marker\":{\"colorbar\":{\"outlinewidth\":0,\"ticks\":\"\"}}}],\"scatterpolar\":[{\"type\":\"scatterpolar\",\"marker\":{\"colorbar\":{\"outlinewidth\":0,\"ticks\":\"\"}}}],\"histogram\":[{\"marker\":{\"pattern\":{\"fillmode\":\"overlay\",\"size\":10,\"solidity\":0.2}},\"type\":\"histogram\"}],\"scattergl\":[{\"type\":\"scattergl\",\"marker\":{\"colorbar\":{\"outlinewidth\":0,\"ticks\":\"\"}}}],\"scatter3d\":[{\"type\":\"scatter3d\",\"line\":{\"colorbar\":{\"outlinewidth\":0,\"ticks\":\"\"}},\"marker\":{\"colorbar\":{\"outlinewidth\":0,\"ticks\":\"\"}}}],\"scattermapbox\":[{\"type\":\"scattermapbox\",\"marker\":{\"colorbar\":{\"outlinewidth\":0,\"ticks\":\"\"}}}],\"scatterternary\":[{\"type\":\"scatterternary\",\"marker\":{\"colorbar\":{\"outlinewidth\":0,\"ticks\":\"\"}}}],\"scattercarpet\":[{\"type\":\"scattercarpet\",\"marker\":{\"colorbar\":{\"outlinewidth\":0,\"ticks\":\"\"}}}],\"carpet\":[{\"aaxis\":{\"endlinecolor\":\"#2a3f5f\",\"gridcolor\":\"white\",\"linecolor\":\"white\",\"minorgridcolor\":\"white\",\"startlinecolor\":\"#2a3f5f\"},\"baxis\":{\"endlinecolor\":\"#2a3f5f\",\"gridcolor\":\"white\",\"linecolor\":\"white\",\"minorgridcolor\":\"white\",\"startlinecolor\":\"#2a3f5f\"},\"type\":\"carpet\"}],\"table\":[{\"cells\":{\"fill\":{\"color\":\"#EBF0F8\"},\"line\":{\"color\":\"white\"}},\"header\":{\"fill\":{\"color\":\"#C8D4E3\"},\"line\":{\"color\":\"white\"}},\"type\":\"table\"}],\"barpolar\":[{\"marker\":{\"line\":{\"color\":\"#E5ECF6\",\"width\":0.5},\"pattern\":{\"fillmode\":\"overlay\",\"size\":10,\"solidity\":0.2}},\"type\":\"barpolar\"}],\"pie\":[{\"automargin\":true,\"type\":\"pie\"}]},\"layout\":{\"autotypenumbers\":\"strict\",\"colorway\":[\"#636efa\",\"#EF553B\",\"#00cc96\",\"#ab63fa\",\"#FFA15A\",\"#19d3f3\",\"#FF6692\",\"#B6E880\",\"#FF97FF\",\"#FECB52\"],\"font\":{\"color\":\"#2a3f5f\"},\"hovermode\":\"closest\",\"hoverlabel\":{\"align\":\"left\"},\"paper_bgcolor\":\"white\",\"plot_bgcolor\":\"#E5ECF6\",\"polar\":{\"bgcolor\":\"#E5ECF6\",\"angularaxis\":{\"gridcolor\":\"white\",\"linecolor\":\"white\",\"ticks\":\"\"},\"radialaxis\":{\"gridcolor\":\"white\",\"linecolor\":\"white\",\"ticks\":\"\"}},\"ternary\":{\"bgcolor\":\"#E5ECF6\",\"aaxis\":{\"gridcolor\":\"white\",\"linecolor\":\"white\",\"ticks\":\"\"},\"baxis\":{\"gridcolor\":\"white\",\"linecolor\":\"white\",\"ticks\":\"\"},\"caxis\":{\"gridcolor\":\"white\",\"linecolor\":\"white\",\"ticks\":\"\"}},\"coloraxis\":{\"colorbar\":{\"outlinewidth\":0,\"ticks\":\"\"}},\"colorscale\":{\"sequential\":[[0.0,\"#0d0887\"],[0.1111111111111111,\"#46039f\"],[0.2222222222222222,\"#7201a8\"],[0.3333333333333333,\"#9c179e\"],[0.4444444444444444,\"#bd3786\"],[0.5555555555555556,\"#d8576b\"],[0.6666666666666666,\"#ed7953\"],[0.7777777777777778,\"#fb9f3a\"],[0.8888888888888888,\"#fdca26\"],[1.0,\"#f0f921\"]],\"sequentialminus\":[[0.0,\"#0d0887\"],[0.1111111111111111,\"#46039f\"],[0.2222222222222222,\"#7201a8\"],[0.3333333333333333,\"#9c179e\"],[0.4444444444444444,\"#bd3786\"],[0.5555555555555556,\"#d8576b\"],[0.6666666666666666,\"#ed7953\"],[0.7777777777777778,\"#fb9f3a\"],[0.8888888888888888,\"#fdca26\"],[1.0,\"#f0f921\"]],\"diverging\":[[0,\"#8e0152\"],[0.1,\"#c51b7d\"],[0.2,\"#de77ae\"],[0.3,\"#f1b6da\"],[0.4,\"#fde0ef\"],[0.5,\"#f7f7f7\"],[0.6,\"#e6f5d0\"],[0.7,\"#b8e186\"],[0.8,\"#7fbc41\"],[0.9,\"#4d9221\"],[1,\"#276419\"]]},\"xaxis\":{\"gridcolor\":\"white\",\"linecolor\":\"white\",\"ticks\":\"\",\"title\":{\"standoff\":15},\"zerolinecolor\":\"white\",\"automargin\":true,\"zerolinewidth\":2},\"yaxis\":{\"gridcolor\":\"white\",\"linecolor\":\"white\",\"ticks\":\"\",\"title\":{\"standoff\":15},\"zerolinecolor\":\"white\",\"automargin\":true,\"zerolinewidth\":2},\"scene\":{\"xaxis\":{\"backgroundcolor\":\"#E5ECF6\",\"gridcolor\":\"white\",\"linecolor\":\"white\",\"showbackground\":true,\"ticks\":\"\",\"zerolinecolor\":\"white\",\"gridwidth\":2},\"yaxis\":{\"backgroundcolor\":\"#E5ECF6\",\"gridcolor\":\"white\",\"linecolor\":\"white\",\"showbackground\":true,\"ticks\":\"\",\"zerolinecolor\":\"white\",\"gridwidth\":2},\"zaxis\":{\"backgroundcolor\":\"#E5ECF6\",\"gridcolor\":\"white\",\"linecolor\":\"white\",\"showbackground\":true,\"ticks\":\"\",\"zerolinecolor\":\"white\",\"gridwidth\":2}},\"shapedefaults\":{\"line\":{\"color\":\"#2a3f5f\"}},\"annotationdefaults\":{\"arrowcolor\":\"#2a3f5f\",\"arrowhead\":0,\"arrowwidth\":1},\"geo\":{\"bgcolor\":\"white\",\"landcolor\":\"#E5ECF6\",\"subunitcolor\":\"white\",\"showland\":true,\"showlakes\":true,\"lakecolor\":\"white\"},\"title\":{\"x\":0.05},\"mapbox\":{\"style\":\"light\"}}},\"title\":{\"text\":\"Average Air Temperature (After first order differencing)\"},\"yaxis\":{\"title\":{\"text\":\"Average Air Temperature\"}},\"xaxis\":{\"title\":{\"text\":\"Datetime\"}}},                        {\"responsive\": true}                    ).then(function(){\n",
              "                            \n",
              "var gd = document.getElementById('9e059f0d-c6d4-4d9c-b4be-b0d004e1b987');\n",
              "var x = new MutationObserver(function (mutations, observer) {{\n",
              "        var display = window.getComputedStyle(gd).display;\n",
              "        if (!display || display === 'none') {{\n",
              "            console.log([gd, 'removed!']);\n",
              "            Plotly.purge(gd);\n",
              "            observer.disconnect();\n",
              "        }}\n",
              "}});\n",
              "\n",
              "// Listen for the removal of the full notebook cells\n",
              "var notebookContainer = gd.closest('#notebook-container');\n",
              "if (notebookContainer) {{\n",
              "    x.observe(notebookContainer, {childList: true});\n",
              "}}\n",
              "\n",
              "// Listen for the clearing of the current output cell\n",
              "var outputEl = gd.closest('.output');\n",
              "if (outputEl) {{\n",
              "    x.observe(outputEl, {childList: true});\n",
              "}}\n",
              "\n",
              "                        })                };                            </script>        </div>\n",
              "</body>\n",
              "</html>"
            ]
          },
          "metadata": {}
        }
      ]
    },
    {
      "cell_type": "markdown",
      "source": [
        "## ADF Test:"
      ],
      "metadata": {
        "id": "eflfZEU_sBn7"
      }
    },
    {
      "cell_type": "code",
      "source": [
        "result = adfuller(df1['M1'].dropna().values, autolag = 'AIC')\n",
        "print(f'ADF Statistic: {result[0]}')\n",
        "print(f'p-value: {result[1]}')\n",
        "for key, value in result[4].items():\n",
        "    print(f'Critial Value at {key} = {value}')"
      ],
      "metadata": {
        "colab": {
          "base_uri": "https://localhost:8080/"
        },
        "id": "JSDxI3CXaVzV",
        "outputId": "2d9c7bcd-cbf0-4d15-d6ce-8dbf0d0733e5"
      },
      "execution_count": 15,
      "outputs": [
        {
          "output_type": "stream",
          "name": "stdout",
          "text": [
            "ADF Statistic: -14.37845437395727\n",
            "p-value: 9.239076864027711e-27\n",
            "Critial Value at 1% = -3.4334094211542983\n",
            "Critial Value at 5% = -2.8628915360971003\n",
            "Critial Value at 10% = -2.5674894918770197\n"
          ]
        }
      ]
    },
    {
      "cell_type": "markdown",
      "source": [
        "## KPSS:"
      ],
      "metadata": {
        "id": "3_9wb1lssEq_"
      }
    },
    {
      "cell_type": "code",
      "source": [
        "result = kpss(df1['M1'].dropna().values)\n",
        "\n",
        "print(f'KPSS Statistic: {result[0]}')\n",
        "print(f'p-value: {result[1]}')"
      ],
      "metadata": {
        "colab": {
          "base_uri": "https://localhost:8080/"
        },
        "id": "PYyh1Kn3sGj-",
        "outputId": "757bfc7f-a464-4aa8-f9ee-0714e82b0132"
      },
      "execution_count": 16,
      "outputs": [
        {
          "output_type": "stream",
          "name": "stdout",
          "text": [
            "KPSS Statistic: 0.021137170791565157\n",
            "p-value: 0.1\n"
          ]
        },
        {
          "output_type": "stream",
          "name": "stderr",
          "text": [
            "/usr/local/lib/python3.10/dist-packages/statsmodels/tsa/stattools.py:2022: InterpolationWarning:\n",
            "\n",
            "The test statistic is outside of the range of p-values available in the\n",
            "look-up table. The actual p-value is greater than the p-value returned.\n",
            "\n",
            "\n"
          ]
        }
      ]
    },
    {
      "cell_type": "markdown",
      "source": [
        "## Since the p-value is less than 0.05 in ADF and greater than 0.5 in KPSS test hence we can state the time series is now stationary."
      ],
      "metadata": {
        "id": "E6QqGSR0a3S-"
      }
    },
    {
      "cell_type": "markdown",
      "source": [
        "## Hence, the lags value should be atleast 1 to get stationary and accurate results since we get stationary time series after first order differencing."
      ],
      "metadata": {
        "id": "tEy5sdVTctho"
      }
    },
    {
      "cell_type": "markdown",
      "source": [
        "## Identifying the values of order p and order q by using ACF and PACF:"
      ],
      "metadata": {
        "id": "RP0llfSrcPHa"
      }
    },
    {
      "cell_type": "code",
      "source": [
        "from statsmodels.graphics.tsaplots import plot_pacf"
      ],
      "metadata": {
        "id": "EY2rGwUealxD"
      },
      "execution_count": 17,
      "outputs": []
    },
    {
      "cell_type": "code",
      "source": [
        "pacf = plot_pacf(df1['air_temp_avg'], lags = 30)"
      ],
      "metadata": {
        "colab": {
          "base_uri": "https://localhost:8080/",
          "height": 452
        },
        "id": "1q_MTT-dctfU",
        "outputId": "5cbc59eb-4d1d-4292-ef6b-47fd29f98351"
      },
      "execution_count": 18,
      "outputs": [
        {
          "output_type": "display_data",
          "data": {
            "text/plain": [
              "<Figure size 640x480 with 1 Axes>"
            ],
            "image/png": "[encoded data removed]"
          },
          "metadata": {}
        }
      ]
    },
    {
      "cell_type": "markdown",
      "source": [
        "## In case of Autoregression we only consider PACF and for only Moving Average we consider ACF."
      ],
      "metadata": {
        "id": "FedMqpJTdOxo"
      }
    },
    {
      "cell_type": "markdown",
      "source": [
        "## Train and Test Splits:"
      ],
      "metadata": {
        "id": "pBY-Zn3nmYte"
      }
    },
    {
      "cell_type": "code",
      "source": [
        "train = df1['M1'].iloc[:-72]\n",
        "test = df1['M1'].iloc[-72:]"
      ],
      "metadata": {
        "id": "GTwQGurxma_X"
      },
      "execution_count": 19,
      "outputs": []
    },
    {
      "cell_type": "markdown",
      "source": [
        "## AR model:"
      ],
      "metadata": {
        "id": "gs7Vx13opyTR"
      }
    },
    {
      "cell_type": "code",
      "source": [
        "from statsmodels.tsa.ar_model import AutoReg"
      ],
      "metadata": {
        "id": "SdJWWUIGpxth"
      },
      "execution_count": 20,
      "outputs": []
    },
    {
      "cell_type": "markdown",
      "source": [
        "## When lags = 23 is considered, we get better results on test data and the forecasts are also good and are closest to the actual values when compared by checking on google."
      ],
      "metadata": {
        "id": "OElH2wfPb0r6"
      }
    },
    {
      "cell_type": "code",
      "source": [
        "model = AutoReg(train.dropna(), lags = 23).fit()\n",
        "model.summary()"
      ],
      "metadata": {
        "colab": {
          "base_uri": "https://localhost:8080/",
          "height": 1000
        },
        "id": "RYwzRL4tpxxR",
        "outputId": "3b587ef3-a72d-43b5-a35f-cf43e45134df"
      },
      "execution_count": 21,
      "outputs": [
        {
          "output_type": "stream",
          "name": "stderr",
          "text": [
            "/usr/local/lib/python3.10/dist-packages/statsmodels/tsa/base/tsa_model.py:471: ValueWarning:\n",
            "\n",
            "A date index has been provided, but it has no associated frequency information and so will be ignored when e.g. forecasting.\n",
            "\n"
          ]
        },
        {
          "output_type": "execute_result",
          "data": {
            "text/plain": [
              "<class 'statsmodels.iolib.summary.Summary'>\n",
              "\"\"\"\n",
              "                            AutoReg Model Results                             \n",
              "==============================================================================\n",
              "Dep. Variable:                     M1   No. Observations:                 2093\n",
              "Model:                    AutoReg(23)   Log Likelihood               -2329.381\n",
              "Method:               Conditional MLE   S.D. of innovations              0.746\n",
              "Date:                Wed, 26 Jul 2023   AIC                           4708.762\n",
              "Time:                        04:41:55   BIC                           4849.645\n",
              "Sample:                            23   HQIC                          4760.401\n",
              "                                 2093                                         \n",
              "==============================================================================\n",
              "                 coef    std err          z      P>|z|      [0.025      0.975]\n",
              "------------------------------------------------------------------------------\n",
              "const         -0.0108      0.016     -0.659      0.510      -0.043       0.021\n",
              "M1.L1          0.1731      0.022      7.925      0.000       0.130       0.216\n",
              "M1.L2         -0.2052      0.022     -9.360      0.000      -0.248      -0.162\n",
              "M1.L3         -0.1966      0.022     -8.909      0.000      -0.240      -0.153\n",
              "M1.L4         -0.1916      0.022     -8.702      0.000      -0.235      -0.148\n",
              "M1.L5         -0.1829      0.022     -8.260      0.000      -0.226      -0.139\n",
              "M1.L6         -0.1812      0.022     -8.229      0.000      -0.224      -0.138\n",
              "M1.L7         -0.2397      0.022    -11.048      0.000      -0.282      -0.197\n",
              "M1.L8         -0.1849      0.022     -8.363      0.000      -0.228      -0.142\n",
              "M1.L9         -0.2062      0.022     -9.384      0.000      -0.249      -0.163\n",
              "M1.L10        -0.2263      0.022    -10.316      0.000      -0.269      -0.183\n",
              "M1.L11        -0.1917      0.022     -8.683      0.000      -0.235      -0.148\n",
              "M1.L12        -0.1955      0.022     -8.856      0.000      -0.239      -0.152\n",
              "M1.L13        -0.1921      0.022     -8.695      0.000      -0.235      -0.149\n",
              "M1.L14        -0.2098      0.022     -9.562      0.000      -0.253      -0.167\n",
              "M1.L15        -0.2267      0.022    -10.329      0.000      -0.270      -0.184\n",
              "M1.L16        -0.1605      0.022     -7.252      0.000      -0.204      -0.117\n",
              "M1.L17        -0.2489      0.022    -11.427      0.000      -0.292      -0.206\n",
              "M1.L18        -0.2075      0.022     -9.393      0.000      -0.251      -0.164\n",
              "M1.L19        -0.1555      0.022     -7.007      0.000      -0.199      -0.112\n",
              "M1.L20        -0.2089      0.022     -9.469      0.000      -0.252      -0.166\n",
              "M1.L21        -0.1671      0.022     -7.553      0.000      -0.211      -0.124\n",
              "M1.L22        -0.1494      0.022     -6.805      0.000      -0.192      -0.106\n",
              "M1.L23         0.1125      0.022      5.153      0.000       0.070       0.155\n",
              "                                    Roots                                     \n",
              "==============================================================================\n",
              "                   Real          Imaginary           Modulus         Frequency\n",
              "------------------------------------------------------------------------------\n",
              "AR.1            -1.0759           -0.1448j            1.0856           -0.4787\n",
              "AR.2            -1.0759           +0.1448j            1.0856            0.4787\n",
              "AR.3            -0.9842           -0.4396j            1.0779           -0.4331\n",
              "AR.4            -0.9842           +0.4396j            1.0779            0.4331\n",
              "AR.5            -0.8158           -0.7237j            1.0905           -0.3845\n",
              "AR.6            -0.8158           +0.7237j            1.0905            0.3845\n",
              "AR.7            -0.6266           -0.9116j            1.1062           -0.3458\n",
              "AR.8            -0.6266           +0.9116j            1.1062            0.3458\n",
              "AR.9            -0.3607           -1.0200j            1.0819           -0.3041\n",
              "AR.10           -0.3607           +1.0200j            1.0819            0.3041\n",
              "AR.11           -0.0393           -1.0592j            1.0599           -0.2559\n",
              "AR.12           -0.0393           +1.0592j            1.0599            0.2559\n",
              "AR.13            0.2503           -1.0289j            1.0590           -0.2120\n",
              "AR.14            0.2503           +1.0289j            1.0590            0.2120\n",
              "AR.15            0.5141           -0.9137j            1.0485           -0.1684\n",
              "AR.16            0.5141           +0.9137j            1.0485            0.1684\n",
              "AR.17            0.7336           -0.7417j            1.0432           -0.1259\n",
              "AR.18            0.7336           +0.7417j            1.0432            0.1259\n",
              "AR.19            0.9678           -0.2589j            1.0018           -0.0416\n",
              "AR.20            0.9678           +0.2589j            1.0018            0.0416\n",
              "AR.21            0.8820           -0.5058j            1.0167           -0.0829\n",
              "AR.22            0.8820           +0.5058j            1.0167            0.0829\n",
              "AR.23            2.4367           -0.0000j            2.4367           -0.0000\n",
              "------------------------------------------------------------------------------\n",
              "\"\"\""
            ],
            "text/html": [
              "<table class=\"simpletable\">\n",
              "<caption>AutoReg Model Results</caption>\n",
              "<tr>\n",
              "  <th>Dep. Variable:</th>        <td>M1</td>        <th>  No. Observations:  </th>   <td>2093</td>   \n",
              "</tr>\n",
              "<tr>\n",
              "  <th>Model:</th>            <td>AutoReg(23)</td>   <th>  Log Likelihood     </th> <td>-2329.381</td>\n",
              "</tr>\n",
              "<tr>\n",
              "  <th>Method:</th>         <td>Conditional MLE</td> <th>  S.D. of innovations</th>   <td>0.746</td>  \n",
              "</tr>\n",
              "<tr>\n",
              "  <th>Date:</th>          <td>Wed, 26 Jul 2023</td> <th>  AIC                </th> <td>4708.762</td> \n",
              "</tr>\n",
              "<tr>\n",
              "  <th>Time:</th>              <td>04:41:55</td>     <th>  BIC                </th> <td>4849.645</td> \n",
              "</tr>\n",
              "<tr>\n",
              "  <th>Sample:</th>               <td>23</td>        <th>  HQIC               </th> <td>4760.401</td> \n",
              "</tr>\n",
              "<tr>\n",
              "  <th></th>                     <td>2093</td>       <th>                     </th>     <td> </td>    \n",
              "</tr>\n",
              "</table>\n",
              "<table class=\"simpletable\">\n",
              "<tr>\n",
              "     <td></td>       <th>coef</th>     <th>std err</th>      <th>z</th>      <th>P>|z|</th>  <th>[0.025</th>    <th>0.975]</th>  \n",
              "</tr>\n",
              "<tr>\n",
              "  <th>const</th>  <td>   -0.0108</td> <td>    0.016</td> <td>   -0.659</td> <td> 0.510</td> <td>   -0.043</td> <td>    0.021</td>\n",
              "</tr>\n",
              "<tr>\n",
              "  <th>M1.L1</th>  <td>    0.1731</td> <td>    0.022</td> <td>    7.925</td> <td> 0.000</td> <td>    0.130</td> <td>    0.216</td>\n",
              "</tr>\n",
              "<tr>\n",
              "  <th>M1.L2</th>  <td>   -0.2052</td> <td>    0.022</td> <td>   -9.360</td> <td> 0.000</td> <td>   -0.248</td> <td>   -0.162</td>\n",
              "</tr>\n",
              "<tr>\n",
              "  <th>M1.L3</th>  <td>   -0.1966</td> <td>    0.022</td> <td>   -8.909</td> <td> 0.000</td> <td>   -0.240</td> <td>   -0.153</td>\n",
              "</tr>\n",
              "<tr>\n",
              "  <th>M1.L4</th>  <td>   -0.1916</td> <td>    0.022</td> <td>   -8.702</td> <td> 0.000</td> <td>   -0.235</td> <td>   -0.148</td>\n",
              "</tr>\n",
              "<tr>\n",
              "  <th>M1.L5</th>  <td>   -0.1829</td> <td>    0.022</td> <td>   -8.260</td> <td> 0.000</td> <td>   -0.226</td> <td>   -0.139</td>\n",
              "</tr>\n",
              "<tr>\n",
              "  <th>M1.L6</th>  <td>   -0.1812</td> <td>    0.022</td> <td>   -8.229</td> <td> 0.000</td> <td>   -0.224</td> <td>   -0.138</td>\n",
              "</tr>\n",
              "<tr>\n",
              "  <th>M1.L7</th>  <td>   -0.2397</td> <td>    0.022</td> <td>  -11.048</td> <td> 0.000</td> <td>   -0.282</td> <td>   -0.197</td>\n",
              "</tr>\n",
              "<tr>\n",
              "  <th>M1.L8</th>  <td>   -0.1849</td> <td>    0.022</td> <td>   -8.363</td> <td> 0.000</td> <td>   -0.228</td> <td>   -0.142</td>\n",
              "</tr>\n",
              "<tr>\n",
              "  <th>M1.L9</th>  <td>   -0.2062</td> <td>    0.022</td> <td>   -9.384</td> <td> 0.000</td> <td>   -0.249</td> <td>   -0.163</td>\n",
              "</tr>\n",
              "<tr>\n",
              "  <th>M1.L10</th> <td>   -0.2263</td> <td>    0.022</td> <td>  -10.316</td> <td> 0.000</td> <td>   -0.269</td> <td>   -0.183</td>\n",
              "</tr>\n",
              "<tr>\n",
              "  <th>M1.L11</th> <td>   -0.1917</td> <td>    0.022</td> <td>   -8.683</td> <td> 0.000</td> <td>   -0.235</td> <td>   -0.148</td>\n",
              "</tr>\n",
              "<tr>\n",
              "  <th>M1.L12</th> <td>   -0.1955</td> <td>    0.022</td> <td>   -8.856</td> <td> 0.000</td> <td>   -0.239</td> <td>   -0.152</td>\n",
              "</tr>\n",
              "<tr>\n",
              "  <th>M1.L13</th> <td>   -0.1921</td> <td>    0.022</td> <td>   -8.695</td> <td> 0.000</td> <td>   -0.235</td> <td>   -0.149</td>\n",
              "</tr>\n",
              "<tr>\n",
              "  <th>M1.L14</th> <td>   -0.2098</td> <td>    0.022</td> <td>   -9.562</td> <td> 0.000</td> <td>   -0.253</td> <td>   -0.167</td>\n",
              "</tr>\n",
              "<tr>\n",
              "  <th>M1.L15</th> <td>   -0.2267</td> <td>    0.022</td> <td>  -10.329</td> <td> 0.000</td> <td>   -0.270</td> <td>   -0.184</td>\n",
              "</tr>\n",
              "<tr>\n",
              "  <th>M1.L16</th> <td>   -0.1605</td> <td>    0.022</td> <td>   -7.252</td> <td> 0.000</td> <td>   -0.204</td> <td>   -0.117</td>\n",
              "</tr>\n",
              "<tr>\n",
              "  <th>M1.L17</th> <td>   -0.2489</td> <td>    0.022</td> <td>  -11.427</td> <td> 0.000</td> <td>   -0.292</td> <td>   -0.206</td>\n",
              "</tr>\n",
              "<tr>\n",
              "  <th>M1.L18</th> <td>   -0.2075</td> <td>    0.022</td> <td>   -9.393</td> <td> 0.000</td> <td>   -0.251</td> <td>   -0.164</td>\n",
              "</tr>\n",
              "<tr>\n",
              "  <th>M1.L19</th> <td>   -0.1555</td> <td>    0.022</td> <td>   -7.007</td> <td> 0.000</td> <td>   -0.199</td> <td>   -0.112</td>\n",
              "</tr>\n",
              "<tr>\n",
              "  <th>M1.L20</th> <td>   -0.2089</td> <td>    0.022</td> <td>   -9.469</td> <td> 0.000</td> <td>   -0.252</td> <td>   -0.166</td>\n",
              "</tr>\n",
              "<tr>\n",
              "  <th>M1.L21</th> <td>   -0.1671</td> <td>    0.022</td> <td>   -7.553</td> <td> 0.000</td> <td>   -0.211</td> <td>   -0.124</td>\n",
              "</tr>\n",
              "<tr>\n",
              "  <th>M1.L22</th> <td>   -0.1494</td> <td>    0.022</td> <td>   -6.805</td> <td> 0.000</td> <td>   -0.192</td> <td>   -0.106</td>\n",
              "</tr>\n",
              "<tr>\n",
              "  <th>M1.L23</th> <td>    0.1125</td> <td>    0.022</td> <td>    5.153</td> <td> 0.000</td> <td>    0.070</td> <td>    0.155</td>\n",
              "</tr>\n",
              "</table>\n",
              "<table class=\"simpletable\">\n",
              "<caption>Roots</caption>\n",
              "<tr>\n",
              "    <td></td>    <th>            Real</th>  <th>         Imaginary</th> <th>         Modulus</th>  <th>        Frequency</th>\n",
              "</tr>\n",
              "<tr>\n",
              "  <th>AR.1</th>  <td>          -1.0759</td> <td>          -0.1448j</td> <td>           1.0856</td> <td>          -0.4787</td>\n",
              "</tr>\n",
              "<tr>\n",
              "  <th>AR.2</th>  <td>          -1.0759</td> <td>          +0.1448j</td> <td>           1.0856</td> <td>           0.4787</td>\n",
              "</tr>\n",
              "<tr>\n",
              "  <th>AR.3</th>  <td>          -0.9842</td> <td>          -0.4396j</td> <td>           1.0779</td> <td>          -0.4331</td>\n",
              "</tr>\n",
              "<tr>\n",
              "  <th>AR.4</th>  <td>          -0.9842</td> <td>          +0.4396j</td> <td>           1.0779</td> <td>           0.4331</td>\n",
              "</tr>\n",
              "<tr>\n",
              "  <th>AR.5</th>  <td>          -0.8158</td> <td>          -0.7237j</td> <td>           1.0905</td> <td>          -0.3845</td>\n",
              "</tr>\n",
              "<tr>\n",
              "  <th>AR.6</th>  <td>          -0.8158</td> <td>          +0.7237j</td> <td>           1.0905</td> <td>           0.3845</td>\n",
              "</tr>\n",
              "<tr>\n",
              "  <th>AR.7</th>  <td>          -0.6266</td> <td>          -0.9116j</td> <td>           1.1062</td> <td>          -0.3458</td>\n",
              "</tr>\n",
              "<tr>\n",
              "  <th>AR.8</th>  <td>          -0.6266</td> <td>          +0.9116j</td> <td>           1.1062</td> <td>           0.3458</td>\n",
              "</tr>\n",
              "<tr>\n",
              "  <th>AR.9</th>  <td>          -0.3607</td> <td>          -1.0200j</td> <td>           1.0819</td> <td>          -0.3041</td>\n",
              "</tr>\n",
              "<tr>\n",
              "  <th>AR.10</th> <td>          -0.3607</td> <td>          +1.0200j</td> <td>           1.0819</td> <td>           0.3041</td>\n",
              "</tr>\n",
              "<tr>\n",
              "  <th>AR.11</th> <td>          -0.0393</td> <td>          -1.0592j</td> <td>           1.0599</td> <td>          -0.2559</td>\n",
              "</tr>\n",
              "<tr>\n",
              "  <th>AR.12</th> <td>          -0.0393</td> <td>          +1.0592j</td> <td>           1.0599</td> <td>           0.2559</td>\n",
              "</tr>\n",
              "<tr>\n",
              "  <th>AR.13</th> <td>           0.2503</td> <td>          -1.0289j</td> <td>           1.0590</td> <td>          -0.2120</td>\n",
              "</tr>\n",
              "<tr>\n",
              "  <th>AR.14</th> <td>           0.2503</td> <td>          +1.0289j</td> <td>           1.0590</td> <td>           0.2120</td>\n",
              "</tr>\n",
              "<tr>\n",
              "  <th>AR.15</th> <td>           0.5141</td> <td>          -0.9137j</td> <td>           1.0485</td> <td>          -0.1684</td>\n",
              "</tr>\n",
              "<tr>\n",
              "  <th>AR.16</th> <td>           0.5141</td> <td>          +0.9137j</td> <td>           1.0485</td> <td>           0.1684</td>\n",
              "</tr>\n",
              "<tr>\n",
              "  <th>AR.17</th> <td>           0.7336</td> <td>          -0.7417j</td> <td>           1.0432</td> <td>          -0.1259</td>\n",
              "</tr>\n",
              "<tr>\n",
              "  <th>AR.18</th> <td>           0.7336</td> <td>          +0.7417j</td> <td>           1.0432</td> <td>           0.1259</td>\n",
              "</tr>\n",
              "<tr>\n",
              "  <th>AR.19</th> <td>           0.9678</td> <td>          -0.2589j</td> <td>           1.0018</td> <td>          -0.0416</td>\n",
              "</tr>\n",
              "<tr>\n",
              "  <th>AR.20</th> <td>           0.9678</td> <td>          +0.2589j</td> <td>           1.0018</td> <td>           0.0416</td>\n",
              "</tr>\n",
              "<tr>\n",
              "  <th>AR.21</th> <td>           0.8820</td> <td>          -0.5058j</td> <td>           1.0167</td> <td>          -0.0829</td>\n",
              "</tr>\n",
              "<tr>\n",
              "  <th>AR.22</th> <td>           0.8820</td> <td>          +0.5058j</td> <td>           1.0167</td> <td>           0.0829</td>\n",
              "</tr>\n",
              "<tr>\n",
              "  <th>AR.23</th> <td>           2.4367</td> <td>          -0.0000j</td> <td>           2.4367</td> <td>          -0.0000</td>\n",
              "</tr>\n",
              "</table>"
            ]
          },
          "metadata": {},
          "execution_count": 21
        }
      ]
    },
    {
      "cell_type": "code",
      "source": [
        "start = len(train)\n",
        "end = len(train) + len(test) - 1"
      ],
      "metadata": {
        "id": "y4Eh4gIDTSsS"
      },
      "execution_count": 22,
      "outputs": []
    },
    {
      "cell_type": "code",
      "source": [
        "pred = model.predict(start = start, end = end, dynamic = False)\n",
        "pred_list = pred.values\n",
        "\n",
        "last_value = df1.iloc[-73][0]\n",
        "\n",
        "og_scale_pred = [last_value]\n",
        "for diff in pred_list:\n",
        "  og_scale_pred.append(og_scale_pred[-1]+diff)"
      ],
      "metadata": {
        "id": "ttwiUSRVpx0Z",
        "colab": {
          "base_uri": "https://localhost:8080/"
        },
        "outputId": "7e0140c4-f853-4461-9e27-b038e971622b"
      },
      "execution_count": 23,
      "outputs": [
        {
          "output_type": "stream",
          "name": "stderr",
          "text": [
            "/usr/local/lib/python3.10/dist-packages/statsmodels/tsa/base/tsa_model.py:834: ValueWarning:\n",
            "\n",
            "No supported index is available. Prediction results will be given with an integer index beginning at `start`.\n",
            "\n"
          ]
        }
      ]
    },
    {
      "cell_type": "code",
      "source": [
        "pred_df = pd.DataFrame(og_scale_pred, columns = ['Pred'], index = df.index[-73:])\n",
        "pred_df['Actual'] = df1['air_temp_avg'].iloc[-73:]"
      ],
      "metadata": {
        "id": "A4wHJRJbI3ho"
      },
      "execution_count": 24,
      "outputs": []
    },
    {
      "cell_type": "code",
      "source": [
        "pred_df.dropna().head()"
      ],
      "metadata": {
        "colab": {
          "base_uri": "https://localhost:8080/",
          "height": 237
        },
        "id": "LQKsGN9IiU1R",
        "outputId": "b72b4ab2-3f32-48ea-cdae-0c80a0c5d05b"
      },
      "execution_count": 25,
      "outputs": [
        {
          "output_type": "execute_result",
          "data": {
            "text/plain": [
              "                          Pred  Actual\n",
              "Date/Time                             \n",
              "2023-07-21 20:00:00  22.670000   22.67\n",
              "2023-07-21 21:00:00  22.735926   22.73\n",
              "2023-07-21 22:00:00  22.823907   22.29\n",
              "2023-07-21 23:00:00  22.786572   22.57\n",
              "2023-07-22 00:00:00  22.771527   22.35"
            ],
            "text/html": [
              "\n",
              "\n",
              "  <div id=\"df-a373bdd1-2fe7-41e0-9435-2963fbbbf799\">\n",
              "    <div class=\"colab-df-container\">\n",
              "      <div>\n",
              "<style scoped>\n",
              "    .dataframe tbody tr th:only-of-type {\n",
              "        vertical-align: middle;\n",
              "    }\n",
              "\n",
              "    .dataframe tbody tr th {\n",
              "        vertical-align: top;\n",
              "    }\n",
              "\n",
              "    .dataframe thead th {\n",
              "        text-align: right;\n",
              "    }\n",
              "</style>\n",
              "<table border=\"1\" class=\"dataframe\">\n",
              "  <thead>\n",
              "    <tr style=\"text-align: right;\">\n",
              "      <th></th>\n",
              "      <th>Pred</th>\n",
              "      <th>Actual</th>\n",
              "    </tr>\n",
              "    <tr>\n",
              "      <th>Date/Time</th>\n",
              "      <th></th>\n",
              "      <th></th>\n",
              "    </tr>\n",
              "  </thead>\n",
              "  <tbody>\n",
              "    <tr>\n",
              "      <th>2023-07-21 20:00:00</th>\n",
              "      <td>22.670000</td>\n",
              "      <td>22.67</td>\n",
              "    </tr>\n",
              "    <tr>\n",
              "      <th>2023-07-21 21:00:00</th>\n",
              "      <td>22.735926</td>\n",
              "      <td>22.73</td>\n",
              "    </tr>\n",
              "    <tr>\n",
              "      <th>2023-07-21 22:00:00</th>\n",
              "      <td>22.823907</td>\n",
              "      <td>22.29</td>\n",
              "    </tr>\n",
              "    <tr>\n",
              "      <th>2023-07-21 23:00:00</th>\n",
              "      <td>22.786572</td>\n",
              "      <td>22.57</td>\n",
              "    </tr>\n",
              "    <tr>\n",
              "      <th>2023-07-22 00:00:00</th>\n",
              "      <td>22.771527</td>\n",
              "      <td>22.35</td>\n",
              "    </tr>\n",
              "  </tbody>\n",
              "</table>\n",
              "</div>\n",
              "      <button class=\"colab-df-convert\" onclick=\"convertToInteractive('df-a373bdd1-2fe7-41e0-9435-2963fbbbf799')\"\n",
              "              title=\"Convert this dataframe to an interactive table.\"\n",
              "              style=\"display:none;\">\n",
              "\n",
              "  <svg xmlns=\"http://www.w3.org/2000/svg\" height=\"24px\"viewBox=\"0 0 24 24\"\n",
              "       width=\"24px\">\n",
              "    <path d=\"M0 0h24v24H0V0z\" fill=\"none\"/>\n",
              "    <path d=\"M18.56 5.44l.94 2.06.94-2.06 2.06-.94-2.06-.94-.94-2.06-.94 2.06-2.06.94zm-11 1L8.5 8.5l.94-2.06 2.06-.94-2.06-.94L8.5 2.5l-.94 2.06-2.06.94zm10 10l.94 2.06.94-2.06 2.06-.94-2.06-.94-.94-2.06-.94 2.06-2.06.94z\"/><path d=\"M17.41 7.96l-1.37-1.37c-.4-.4-.92-.59-1.43-.59-.52 0-1.04.2-1.43.59L10.3 9.45l-7.72 7.72c-.78.78-.78 2.05 0 2.83L4 21.41c.39.39.9.59 1.41.59.51 0 1.02-.2 1.41-.59l7.78-7.78 2.81-2.81c.8-.78.8-2.07 0-2.86zM5.41 20L4 18.59l7.72-7.72 1.47 1.35L5.41 20z\"/>\n",
              "  </svg>\n",
              "      </button>\n",
              "\n",
              "\n",
              "\n",
              "    <div id=\"df-bfeb78e4-9af3-43ec-b680-3fb4f11cb5c2\">\n",
              "      <button class=\"colab-df-quickchart\" onclick=\"quickchart('df-bfeb78e4-9af3-43ec-b680-3fb4f11cb5c2')\"\n",
              "              title=\"Suggest charts.\"\n",
              "              style=\"display:none;\">\n",
              "\n",
              "<svg xmlns=\"http://www.w3.org/2000/svg\" height=\"24px\"viewBox=\"0 0 24 24\"\n",
              "     width=\"24px\">\n",
              "    <g>\n",
              "        <path d=\"M19 3H5c-1.1 0-2 .9-2 2v14c0 1.1.9 2 2 2h14c1.1 0 2-.9 2-2V5c0-1.1-.9-2-2-2zM9 17H7v-7h2v7zm4 0h-2V7h2v10zm4 0h-2v-4h2v4z\"/>\n",
              "    </g>\n",
              "</svg>\n",
              "      </button>\n",
              "    </div>\n",
              "\n",
              "<style>\n",
              "  .colab-df-quickchart {\n",
              "    background-color: #E8F0FE;\n",
              "    border: none;\n",
              "    border-radius: 50%;\n",
              "    cursor: pointer;\n",
              "    display: none;\n",
              "    fill: #1967D2;\n",
              "    height: 32px;\n",
              "    padding: 0 0 0 0;\n",
              "    width: 32px;\n",
              "  }\n",
              "\n",
              "  .colab-df-quickchart:hover {\n",
              "    background-color: #E2EBFA;\n",
              "    box-shadow: 0px 1px 2px rgba(60, 64, 67, 0.3), 0px 1px 3px 1px rgba(60, 64, 67, 0.15);\n",
              "    fill: #174EA6;\n",
              "  }\n",
              "\n",
              "  [theme=dark] .colab-df-quickchart {\n",
              "    background-color: #3B4455;\n",
              "    fill: #D2E3FC;\n",
              "  }\n",
              "\n",
              "  [theme=dark] .colab-df-quickchart:hover {\n",
              "    background-color: #434B5C;\n",
              "    box-shadow: 0px 1px 3px 1px rgba(0, 0, 0, 0.15);\n",
              "    filter: drop-shadow(0px 1px 2px rgba(0, 0, 0, 0.3));\n",
              "    fill: #FFFFFF;\n",
              "  }\n",
              "</style>\n",
              "\n",
              "    <script>\n",
              "      async function quickchart(key) {\n",
              "        const containerElement = document.querySelector('#' + key);\n",
              "        const charts = await google.colab.kernel.invokeFunction(\n",
              "            'suggestCharts', [key], {});\n",
              "      }\n",
              "    </script>\n",
              "\n",
              "      <script>\n",
              "\n",
              "function displayQuickchartButton(domScope) {\n",
              "  let quickchartButtonEl =\n",
              "    domScope.querySelector('#df-bfeb78e4-9af3-43ec-b680-3fb4f11cb5c2 button.colab-df-quickchart');\n",
              "  quickchartButtonEl.style.display =\n",
              "    google.colab.kernel.accessAllowed ? 'block' : 'none';\n",
              "}\n",
              "\n",
              "        displayQuickchartButton(document);\n",
              "      </script>\n",
              "      <style>\n",
              "    .colab-df-container {\n",
              "      display:flex;\n",
              "      flex-wrap:wrap;\n",
              "      gap: 12px;\n",
              "    }\n",
              "\n",
              "    .colab-df-convert {\n",
              "      background-color: #E8F0FE;\n",
              "      border: none;\n",
              "      border-radius: 50%;\n",
              "      cursor: pointer;\n",
              "      display: none;\n",
              "      fill: #1967D2;\n",
              "      height: 32px;\n",
              "      padding: 0 0 0 0;\n",
              "      width: 32px;\n",
              "    }\n",
              "\n",
              "    .colab-df-convert:hover {\n",
              "      background-color: #E2EBFA;\n",
              "      box-shadow: 0px 1px 2px rgba(60, 64, 67, 0.3), 0px 1px 3px 1px rgba(60, 64, 67, 0.15);\n",
              "      fill: #174EA6;\n",
              "    }\n",
              "\n",
              "    [theme=dark] .colab-df-convert {\n",
              "      background-color: #3B4455;\n",
              "      fill: #D2E3FC;\n",
              "    }\n",
              "\n",
              "    [theme=dark] .colab-df-convert:hover {\n",
              "      background-color: #434B5C;\n",
              "      box-shadow: 0px 1px 3px 1px rgba(0, 0, 0, 0.15);\n",
              "      filter: drop-shadow(0px 1px 2px rgba(0, 0, 0, 0.3));\n",
              "      fill: #FFFFFF;\n",
              "    }\n",
              "  </style>\n",
              "\n",
              "      <script>\n",
              "        const buttonEl =\n",
              "          document.querySelector('#df-a373bdd1-2fe7-41e0-9435-2963fbbbf799 button.colab-df-convert');\n",
              "        buttonEl.style.display =\n",
              "          google.colab.kernel.accessAllowed ? 'block' : 'none';\n",
              "\n",
              "        async function convertToInteractive(key) {\n",
              "          const element = document.querySelector('#df-a373bdd1-2fe7-41e0-9435-2963fbbbf799');\n",
              "          const dataTable =\n",
              "            await google.colab.kernel.invokeFunction('convertToInteractive',\n",
              "                                                     [key], {});\n",
              "          if (!dataTable) return;\n",
              "\n",
              "          const docLinkHtml = 'Like what you see? Visit the ' +\n",
              "            '<a target=\"_blank\" href=https://colab.research.google.com/notebooks/data_table.ipynb>data table notebook</a>'\n",
              "            + ' to learn more about interactive tables.';\n",
              "          element.innerHTML = '';\n",
              "          dataTable['output_type'] = 'display_data';\n",
              "          await google.colab.output.renderOutput(dataTable, element);\n",
              "          const docLink = document.createElement('div');\n",
              "          docLink.innerHTML = docLinkHtml;\n",
              "          element.appendChild(docLink);\n",
              "        }\n",
              "      </script>\n",
              "    </div>\n",
              "  </div>\n"
            ]
          },
          "metadata": {},
          "execution_count": 25
        }
      ]
    },
    {
      "cell_type": "markdown",
      "source": [
        "## Plotting Predictions and Actuals:"
      ],
      "metadata": {
        "id": "BmldhOauw9Yx"
      }
    },
    {
      "cell_type": "code",
      "source": [
        "fig = go.Figure()\n",
        "\n",
        "fig.add_trace(go.Scatter(x = pred_df.index, y = pred_df['Actual'], mode = 'lines+markers', name = 'Actual'))\n",
        "fig.add_trace(go.Scatter(x = pred_df.index, y = pred_df['Pred'], mode = 'lines+markers', name = 'Predictions'))\n",
        "\n",
        "fig.update_layout(title = \"Average Air Temperature\")\n",
        "fig.update_yaxes(title_text = \"Average Air Temperature\")\n",
        "fig.update_xaxes(title_text = \"Datetime\")\n",
        "\n",
        "fig.show()"
      ],
      "metadata": {
        "colab": {
          "base_uri": "https://localhost:8080/",
          "height": 542
        },
        "id": "ZJrGv4jwpx3k",
        "outputId": "7e9d47db-5fd2-40dd-9040-895508a49ebf"
      },
      "execution_count": 26,
      "outputs": [
        {
          "output_type": "display_data",
          "data": {
            "text/html": [
              "<html>\n",
              "<head><meta charset=\"utf-8\" /></head>\n",
              "<body>\n",
              "    <div>            <script src=\"https://cdnjs.cloudflare.com/ajax/libs/mathjax/2.7.5/MathJax.js?config=TeX-AMS-MML_SVG\"></script><script type=\"text/javascript\">if (window.MathJax && window.MathJax.Hub && window.MathJax.Hub.Config) {window.MathJax.Hub.Config({SVG: {font: \"STIX-Web\"}});}</script>                <script type=\"text/javascript\">window.PlotlyConfig = {MathJaxConfig: 'local'};</script>\n",
              "        <script src=\"https://cdn.plot.ly/plotly-2.18.2.min.js\"></script>                <div id=\"81427f91-dd33-4791-83ce-d132c3c8439a\" class=\"plotly-graph-div\" style=\"height:525px; width:100%;\"></div>            <script type=\"text/javascript\">                                    window.PLOTLYENV=window.PLOTLYENV || {};                                    if (document.getElementById(\"81427f91-dd33-4791-83ce-d132c3c8439a\")) {                    Plotly.newPlot(                        \"81427f91-dd33-4791-83ce-d132c3c8439a\",                        [{\"mode\":\"lines+markers\",\"name\":\"Actual\",\"x\":[\"2023-07-21 20:00:00\",\"2023-07-21 21:00:00\",\"2023-07-21 22:00:00\",\"2023-07-21 23:00:00\",\"2023-07-22 00:00:00\",\"2023-07-22 01:00:00\",\"2023-07-22 02:00:00\",\"2023-07-22 03:00:00\",\"2023-07-22 04:00:00\",\"2023-07-22 05:00:00\",\"2023-07-22 06:00:00\",\"2023-07-22 07:00:00\",\"2023-07-22 08:00:00\",\"2023-07-22 09:00:00\",\"2023-07-22 10:00:00\",\"2023-07-22 11:00:00\",\"2023-07-22 12:00:00\",\"2023-07-22 13:00:00\",\"2023-07-22 14:00:00\",\"2023-07-22 15:00:00\",\"2023-07-22 16:00:00\",\"2023-07-22 17:00:00\",\"2023-07-22 18:00:00\",\"2023-07-22 19:00:00\",\"2023-07-22 20:00:00\",\"2023-07-22 21:00:00\",\"2023-07-22 22:00:00\",\"2023-07-22 23:00:00\",\"2023-07-23 00:00:00\",\"2023-07-23 01:00:00\",\"2023-07-23 02:00:00\",\"2023-07-23 03:00:00\",\"2023-07-23 04:00:00\",\"2023-07-23 05:00:00\",\"2023-07-23 06:00:00\",\"2023-07-23 07:00:00\",\"2023-07-23 08:00:00\",\"2023-07-23 09:00:00\",\"2023-07-23 10:00:00\",\"2023-07-23 11:00:00\",\"2023-07-23 12:00:00\",\"2023-07-23 13:00:00\",\"2023-07-23 14:00:00\",\"2023-07-23 15:00:00\",\"2023-07-23 16:00:00\",\"2023-07-23 17:00:00\",\"2023-07-23 18:00:00\",\"2023-07-23 19:00:00\",\"2023-07-23 20:00:00\",\"2023-07-23 21:00:00\",\"2023-07-23 22:00:00\",\"2023-07-23 23:00:00\",\"2023-07-24 00:00:00\",\"2023-07-24 01:00:00\",\"2023-07-24 02:00:00\",\"2023-07-24 03:00:00\",\"2023-07-24 04:00:00\",\"2023-07-24 05:00:00\",\"2023-07-24 06:00:00\",\"2023-07-24 07:00:00\",\"2023-07-24 08:00:00\",\"2023-07-24 09:00:00\",\"2023-07-24 10:00:00\",\"2023-07-24 11:00:00\",\"2023-07-24 12:00:00\",\"2023-07-24 13:00:00\",\"2023-07-24 14:00:00\",\"2023-07-24 15:00:00\",\"2023-07-24 16:00:00\",\"2023-07-24 17:00:00\",\"2023-07-24 18:00:00\",\"2023-07-24 19:00:00\",\"2023-07-24 20:00:00\"],\"y\":[22.67,22.73,22.29,22.57,22.35,22.31,22.52,22.52,22.25,22.43,22.7,22.9,23.96,24.44,25.85,25.79,24.56,25.34,24.54,24.44,24.75,24.74,24.12,23.43,23.31,23.16,22.97,23.0,22.8,22.23,22.14,22.2,22.16,22.35,22.66,22.78,24.06,25.22,25.7,26.57,26.16,26.26,26.56,25.69,25.68,25.6,24.43,24.05,23.81,23.53,22.74,22.79,22.64,22.68,22.51,22.51,22.44,22.32,22.33,22.64,23.03,23.45,24.21,25.01,26.07,24.5,24.26,25.17,24.34,24.01,23.38,22.98,22.57],\"type\":\"scatter\"},{\"mode\":\"lines+markers\",\"name\":\"Predictions\",\"x\":[\"2023-07-21 20:00:00\",\"2023-07-21 21:00:00\",\"2023-07-21 22:00:00\",\"2023-07-21 23:00:00\",\"2023-07-22 00:00:00\",\"2023-07-22 01:00:00\",\"2023-07-22 02:00:00\",\"2023-07-22 03:00:00\",\"2023-07-22 04:00:00\",\"2023-07-22 05:00:00\",\"2023-07-22 06:00:00\",\"2023-07-22 07:00:00\",\"2023-07-22 08:00:00\",\"2023-07-22 09:00:00\",\"2023-07-22 10:00:00\",\"2023-07-22 11:00:00\",\"2023-07-22 12:00:00\",\"2023-07-22 13:00:00\",\"2023-07-22 14:00:00\",\"2023-07-22 15:00:00\",\"2023-07-22 16:00:00\",\"2023-07-22 17:00:00\",\"2023-07-22 18:00:00\",\"2023-07-22 19:00:00\",\"2023-07-22 20:00:00\",\"2023-07-22 21:00:00\",\"2023-07-22 22:00:00\",\"2023-07-22 23:00:00\",\"2023-07-23 00:00:00\",\"2023-07-23 01:00:00\",\"2023-07-23 02:00:00\",\"2023-07-23 03:00:00\",\"2023-07-23 04:00:00\",\"2023-07-23 05:00:00\",\"2023-07-23 06:00:00\",\"2023-07-23 07:00:00\",\"2023-07-23 08:00:00\",\"2023-07-23 09:00:00\",\"2023-07-23 10:00:00\",\"2023-07-23 11:00:00\",\"2023-07-23 12:00:00\",\"2023-07-23 13:00:00\",\"2023-07-23 14:00:00\",\"2023-07-23 15:00:00\",\"2023-07-23 16:00:00\",\"2023-07-23 17:00:00\",\"2023-07-23 18:00:00\",\"2023-07-23 19:00:00\",\"2023-07-23 20:00:00\",\"2023-07-23 21:00:00\",\"2023-07-23 22:00:00\",\"2023-07-23 23:00:00\",\"2023-07-24 00:00:00\",\"2023-07-24 01:00:00\",\"2023-07-24 02:00:00\",\"2023-07-24 03:00:00\",\"2023-07-24 04:00:00\",\"2023-07-24 05:00:00\",\"2023-07-24 06:00:00\",\"2023-07-24 07:00:00\",\"2023-07-24 08:00:00\",\"2023-07-24 09:00:00\",\"2023-07-24 10:00:00\",\"2023-07-24 11:00:00\",\"2023-07-24 12:00:00\",\"2023-07-24 13:00:00\",\"2023-07-24 14:00:00\",\"2023-07-24 15:00:00\",\"2023-07-24 16:00:00\",\"2023-07-24 17:00:00\",\"2023-07-24 18:00:00\",\"2023-07-24 19:00:00\",\"2023-07-24 20:00:00\"],\"y\":[22.67,22.735926126602216,22.82390684043365,22.786572185604758,22.771526811411942,22.581865462453553,22.44426746026633,22.51709084250918,22.3347414302567,22.54476898293653,22.83853552609787,23.14929746431442,23.557974477812557,24.029001380812737,24.954923849363375,25.09925167237671,25.12305297807149,24.77821934095456,24.41688578812801,24.100412126998286,23.67332091867565,23.203584579851736,22.912168203389992,22.740220110803815,22.629620106090922,22.626170243739686,22.629003767269964,22.620034734738326,22.573173706628047,22.4887090351866,22.483314343951346,22.423976509984307,22.479099538482544,22.652614672114918,22.884213586112338,23.213223698514412,23.593500652939493,24.10920741740034,24.513379364937286,24.753753711173747,24.765485851516992,24.627405243437348,24.39063041048571,24.0682443994897,23.68359968933664,23.31805045094586,23.020387889374096,22.786004707399265,22.639340573256547,22.55986610301172,22.512074125489367,22.479968817869246,22.440825052939516,22.424184121074685,22.410880630701293,22.436905224415447,22.533443138249524,22.698094655729367,22.938917306743697,23.241112441848355,23.610457934103383,23.985965323581024,24.300883360777732,24.490777685961348,24.54462899712821,24.4712743271853,24.285770736130022,24.01167968177395,23.689505980850722,23.365767883567486,23.068751749830884,22.82425898281665,22.643415829565143],\"type\":\"scatter\"}],                        {\"template\":{\"data\":{\"histogram2dcontour\":[{\"type\":\"histogram2dcontour\",\"colorbar\":{\"outlinewidth\":0,\"ticks\":\"\"},\"colorscale\":[[0.0,\"#0d0887\"],[0.1111111111111111,\"#46039f\"],[0.2222222222222222,\"#7201a8\"],[0.3333333333333333,\"#9c179e\"],[0.4444444444444444,\"#bd3786\"],[0.5555555555555556,\"#d8576b\"],[0.6666666666666666,\"#ed7953\"],[0.7777777777777778,\"#fb9f3a\"],[0.8888888888888888,\"#fdca26\"],[1.0,\"#f0f921\"]]}],\"choropleth\":[{\"type\":\"choropleth\",\"colorbar\":{\"outlinewidth\":0,\"ticks\":\"\"}}],\"histogram2d\":[{\"type\":\"histogram2d\",\"colorbar\":{\"outlinewidth\":0,\"ticks\":\"\"},\"colorscale\":[[0.0,\"#0d0887\"],[0.1111111111111111,\"#46039f\"],[0.2222222222222222,\"#7201a8\"],[0.3333333333333333,\"#9c179e\"],[0.4444444444444444,\"#bd3786\"],[0.5555555555555556,\"#d8576b\"],[0.6666666666666666,\"#ed7953\"],[0.7777777777777778,\"#fb9f3a\"],[0.8888888888888888,\"#fdca26\"],[1.0,\"#f0f921\"]]}],\"heatmap\":[{\"type\":\"heatmap\",\"colorbar\":{\"outlinewidth\":0,\"ticks\":\"\"},\"colorscale\":[[0.0,\"#0d0887\"],[0.1111111111111111,\"#46039f\"],[0.2222222222222222,\"#7201a8\"],[0.3333333333333333,\"#9c179e\"],[0.4444444444444444,\"#bd3786\"],[0.5555555555555556,\"#d8576b\"],[0.6666666666666666,\"#ed7953\"],[0.7777777777777778,\"#fb9f3a\"],[0.8888888888888888,\"#fdca26\"],[1.0,\"#f0f921\"]]}],\"heatmapgl\":[{\"type\":\"heatmapgl\",\"colorbar\":{\"outlinewidth\":0,\"ticks\":\"\"},\"colorscale\":[[0.0,\"#0d0887\"],[0.1111111111111111,\"#46039f\"],[0.2222222222222222,\"#7201a8\"],[0.3333333333333333,\"#9c179e\"],[0.4444444444444444,\"#bd3786\"],[0.5555555555555556,\"#d8576b\"],[0.6666666666666666,\"#ed7953\"],[0.7777777777777778,\"#fb9f3a\"],[0.8888888888888888,\"#fdca26\"],[1.0,\"#f0f921\"]]}],\"contourcarpet\":[{\"type\":\"contourcarpet\",\"colorbar\":{\"outlinewidth\":0,\"ticks\":\"\"}}],\"contour\":[{\"type\":\"contour\",\"colorbar\":{\"outlinewidth\":0,\"ticks\":\"\"},\"colorscale\":[[0.0,\"#0d0887\"],[0.1111111111111111,\"#46039f\"],[0.2222222222222222,\"#7201a8\"],[0.3333333333333333,\"#9c179e\"],[0.4444444444444444,\"#bd3786\"],[0.5555555555555556,\"#d8576b\"],[0.6666666666666666,\"#ed7953\"],[0.7777777777777778,\"#fb9f3a\"],[0.8888888888888888,\"#fdca26\"],[1.0,\"#f0f921\"]]}],\"surface\":[{\"type\":\"surface\",\"colorbar\":{\"outlinewidth\":0,\"ticks\":\"\"},\"colorscale\":[[0.0,\"#0d0887\"],[0.1111111111111111,\"#46039f\"],[0.2222222222222222,\"#7201a8\"],[0.3333333333333333,\"#9c179e\"],[0.4444444444444444,\"#bd3786\"],[0.5555555555555556,\"#d8576b\"],[0.6666666666666666,\"#ed7953\"],[0.7777777777777778,\"#fb9f3a\"],[0.8888888888888888,\"#fdca26\"],[1.0,\"#f0f921\"]]}],\"mesh3d\":[{\"type\":\"mesh3d\",\"colorbar\":{\"outlinewidth\":0,\"ticks\":\"\"}}],\"scatter\":[{\"fillpattern\":{\"fillmode\":\"overlay\",\"size\":10,\"solidity\":0.2},\"type\":\"scatter\"}],\"parcoords\":[{\"type\":\"parcoords\",\"line\":{\"colorbar\":{\"outlinewidth\":0,\"ticks\":\"\"}}}],\"scatterpolargl\":[{\"type\":\"scatterpolargl\",\"marker\":{\"colorbar\":{\"outlinewidth\":0,\"ticks\":\"\"}}}],\"bar\":[{\"error_x\":{\"color\":\"#2a3f5f\"},\"error_y\":{\"color\":\"#2a3f5f\"},\"marker\":{\"line\":{\"color\":\"#E5ECF6\",\"width\":0.5},\"pattern\":{\"fillmode\":\"overlay\",\"size\":10,\"solidity\":0.2}},\"type\":\"bar\"}],\"scattergeo\":[{\"type\":\"scattergeo\",\"marker\":{\"colorbar\":{\"outlinewidth\":0,\"ticks\":\"\"}}}],\"scatterpolar\":[{\"type\":\"scatterpolar\",\"marker\":{\"colorbar\":{\"outlinewidth\":0,\"ticks\":\"\"}}}],\"histogram\":[{\"marker\":{\"pattern\":{\"fillmode\":\"overlay\",\"size\":10,\"solidity\":0.2}},\"type\":\"histogram\"}],\"scattergl\":[{\"type\":\"scattergl\",\"marker\":{\"colorbar\":{\"outlinewidth\":0,\"ticks\":\"\"}}}],\"scatter3d\":[{\"type\":\"scatter3d\",\"line\":{\"colorbar\":{\"outlinewidth\":0,\"ticks\":\"\"}},\"marker\":{\"colorbar\":{\"outlinewidth\":0,\"ticks\":\"\"}}}],\"scattermapbox\":[{\"type\":\"scattermapbox\",\"marker\":{\"colorbar\":{\"outlinewidth\":0,\"ticks\":\"\"}}}],\"scatterternary\":[{\"type\":\"scatterternary\",\"marker\":{\"colorbar\":{\"outlinewidth\":0,\"ticks\":\"\"}}}],\"scattercarpet\":[{\"type\":\"scattercarpet\",\"marker\":{\"colorbar\":{\"outlinewidth\":0,\"ticks\":\"\"}}}],\"carpet\":[{\"aaxis\":{\"endlinecolor\":\"#2a3f5f\",\"gridcolor\":\"white\",\"linecolor\":\"white\",\"minorgridcolor\":\"white\",\"startlinecolor\":\"#2a3f5f\"},\"baxis\":{\"endlinecolor\":\"#2a3f5f\",\"gridcolor\":\"white\",\"linecolor\":\"white\",\"minorgridcolor\":\"white\",\"startlinecolor\":\"#2a3f5f\"},\"type\":\"carpet\"}],\"table\":[{\"cells\":{\"fill\":{\"color\":\"#EBF0F8\"},\"line\":{\"color\":\"white\"}},\"header\":{\"fill\":{\"color\":\"#C8D4E3\"},\"line\":{\"color\":\"white\"}},\"type\":\"table\"}],\"barpolar\":[{\"marker\":{\"line\":{\"color\":\"#E5ECF6\",\"width\":0.5},\"pattern\":{\"fillmode\":\"overlay\",\"size\":10,\"solidity\":0.2}},\"type\":\"barpolar\"}],\"pie\":[{\"automargin\":true,\"type\":\"pie\"}]},\"layout\":{\"autotypenumbers\":\"strict\",\"colorway\":[\"#636efa\",\"#EF553B\",\"#00cc96\",\"#ab63fa\",\"#FFA15A\",\"#19d3f3\",\"#FF6692\",\"#B6E880\",\"#FF97FF\",\"#FECB52\"],\"font\":{\"color\":\"#2a3f5f\"},\"hovermode\":\"closest\",\"hoverlabel\":{\"align\":\"left\"},\"paper_bgcolor\":\"white\",\"plot_bgcolor\":\"#E5ECF6\",\"polar\":{\"bgcolor\":\"#E5ECF6\",\"angularaxis\":{\"gridcolor\":\"white\",\"linecolor\":\"white\",\"ticks\":\"\"},\"radialaxis\":{\"gridcolor\":\"white\",\"linecolor\":\"white\",\"ticks\":\"\"}},\"ternary\":{\"bgcolor\":\"#E5ECF6\",\"aaxis\":{\"gridcolor\":\"white\",\"linecolor\":\"white\",\"ticks\":\"\"},\"baxis\":{\"gridcolor\":\"white\",\"linecolor\":\"white\",\"ticks\":\"\"},\"caxis\":{\"gridcolor\":\"white\",\"linecolor\":\"white\",\"ticks\":\"\"}},\"coloraxis\":{\"colorbar\":{\"outlinewidth\":0,\"ticks\":\"\"}},\"colorscale\":{\"sequential\":[[0.0,\"#0d0887\"],[0.1111111111111111,\"#46039f\"],[0.2222222222222222,\"#7201a8\"],[0.3333333333333333,\"#9c179e\"],[0.4444444444444444,\"#bd3786\"],[0.5555555555555556,\"#d8576b\"],[0.6666666666666666,\"#ed7953\"],[0.7777777777777778,\"#fb9f3a\"],[0.8888888888888888,\"#fdca26\"],[1.0,\"#f0f921\"]],\"sequentialminus\":[[0.0,\"#0d0887\"],[0.1111111111111111,\"#46039f\"],[0.2222222222222222,\"#7201a8\"],[0.3333333333333333,\"#9c179e\"],[0.4444444444444444,\"#bd3786\"],[0.5555555555555556,\"#d8576b\"],[0.6666666666666666,\"#ed7953\"],[0.7777777777777778,\"#fb9f3a\"],[0.8888888888888888,\"#fdca26\"],[1.0,\"#f0f921\"]],\"diverging\":[[0,\"#8e0152\"],[0.1,\"#c51b7d\"],[0.2,\"#de77ae\"],[0.3,\"#f1b6da\"],[0.4,\"#fde0ef\"],[0.5,\"#f7f7f7\"],[0.6,\"#e6f5d0\"],[0.7,\"#b8e186\"],[0.8,\"#7fbc41\"],[0.9,\"#4d9221\"],[1,\"#276419\"]]},\"xaxis\":{\"gridcolor\":\"white\",\"linecolor\":\"white\",\"ticks\":\"\",\"title\":{\"standoff\":15},\"zerolinecolor\":\"white\",\"automargin\":true,\"zerolinewidth\":2},\"yaxis\":{\"gridcolor\":\"white\",\"linecolor\":\"white\",\"ticks\":\"\",\"title\":{\"standoff\":15},\"zerolinecolor\":\"white\",\"automargin\":true,\"zerolinewidth\":2},\"scene\":{\"xaxis\":{\"backgroundcolor\":\"#E5ECF6\",\"gridcolor\":\"white\",\"linecolor\":\"white\",\"showbackground\":true,\"ticks\":\"\",\"zerolinecolor\":\"white\",\"gridwidth\":2},\"yaxis\":{\"backgroundcolor\":\"#E5ECF6\",\"gridcolor\":\"white\",\"linecolor\":\"white\",\"showbackground\":true,\"ticks\":\"\",\"zerolinecolor\":\"white\",\"gridwidth\":2},\"zaxis\":{\"backgroundcolor\":\"#E5ECF6\",\"gridcolor\":\"white\",\"linecolor\":\"white\",\"showbackground\":true,\"ticks\":\"\",\"zerolinecolor\":\"white\",\"gridwidth\":2}},\"shapedefaults\":{\"line\":{\"color\":\"#2a3f5f\"}},\"annotationdefaults\":{\"arrowcolor\":\"#2a3f5f\",\"arrowhead\":0,\"arrowwidth\":1},\"geo\":{\"bgcolor\":\"white\",\"landcolor\":\"#E5ECF6\",\"subunitcolor\":\"white\",\"showland\":true,\"showlakes\":true,\"lakecolor\":\"white\"},\"title\":{\"x\":0.05},\"mapbox\":{\"style\":\"light\"}}},\"title\":{\"text\":\"Average Air Temperature\"},\"yaxis\":{\"title\":{\"text\":\"Average Air Temperature\"}},\"xaxis\":{\"title\":{\"text\":\"Datetime\"}}},                        {\"responsive\": true}                    ).then(function(){\n",
              "                            \n",
              "var gd = document.getElementById('81427f91-dd33-4791-83ce-d132c3c8439a');\n",
              "var x = new MutationObserver(function (mutations, observer) {{\n",
              "        var display = window.getComputedStyle(gd).display;\n",
              "        if (!display || display === 'none') {{\n",
              "            console.log([gd, 'removed!']);\n",
              "            Plotly.purge(gd);\n",
              "            observer.disconnect();\n",
              "        }}\n",
              "}});\n",
              "\n",
              "// Listen for the removal of the full notebook cells\n",
              "var notebookContainer = gd.closest('#notebook-container');\n",
              "if (notebookContainer) {{\n",
              "    x.observe(notebookContainer, {childList: true});\n",
              "}}\n",
              "\n",
              "// Listen for the clearing of the current output cell\n",
              "var outputEl = gd.closest('.output');\n",
              "if (outputEl) {{\n",
              "    x.observe(outputEl, {childList: true});\n",
              "}}\n",
              "\n",
              "                        })                };                            </script>        </div>\n",
              "</body>\n",
              "</html>"
            ]
          },
          "metadata": {}
        }
      ]
    },
    {
      "cell_type": "code",
      "source": [
        "from sklearn.metrics import mean_squared_error, mean_absolute_error"
      ],
      "metadata": {
        "id": "5mhFRzq6px6Z"
      },
      "execution_count": 27,
      "outputs": []
    },
    {
      "cell_type": "code",
      "source": [
        "print(\"MSE = \", mean_squared_error(pred_df['Actual'].dropna(), pred_df['Pred'].dropna()))\n",
        "print(\"MAE = \", mean_absolute_error(pred_df['Actual'].dropna(), pred_df['Pred'].dropna()))"
      ],
      "metadata": {
        "colab": {
          "base_uri": "https://localhost:8080/"
        },
        "id": "U0ftEOlGpx9D",
        "outputId": "5a8b5bb9-ec07-4877-c574-d673c73d1b79"
      },
      "execution_count": 28,
      "outputs": [
        {
          "output_type": "stream",
          "name": "stdout",
          "text": [
            "MSE =  0.6866627714443297\n",
            "MAE =  0.6098320942813577\n"
          ]
        }
      ]
    },
    {
      "cell_type": "markdown",
      "source": [
        "## Forecasting:"
      ],
      "metadata": {
        "id": "vDdQTVDhR9BD"
      }
    },
    {
      "cell_type": "code",
      "source": [
        "def future_pred(mod, num_forecasts):\n",
        "\n",
        "  # Specifying the start and end for forecasts\n",
        "  strt = len(df1) + 1\n",
        "  ed = len(df1) + num_forecasts\n",
        "\n",
        "  # Predicting\n",
        "  pred_future = mod.predict(start = strt, end = ed, dynamic = False)\n",
        "  pred_values = pred_future.values\n",
        "\n",
        "  #rescaling:\n",
        "  last_val = df1.iloc[-1][0]\n",
        "  forecast_list = [last_val]\n",
        "\n",
        "  for f in pred_values:\n",
        "    forecast_list.append(forecast_list[-1]+f)\n",
        "\n",
        "  # Setting new index\n",
        "  index_future_pred = pd.date_range(start = df1.index[-1], periods = num_forecasts, freq = '1H')\n",
        "\n",
        "  # Creating dataframe for forecasts\n",
        "  forecast_df = pd.DataFrame(forecast_list[1:], index = index_future_pred, columns = ['Forecasts'])\n",
        "\n",
        "  return forecast_df"
      ],
      "metadata": {
        "id": "n9cBdf9JYmFh"
      },
      "execution_count": 29,
      "outputs": []
    },
    {
      "cell_type": "code",
      "source": [
        "num_forecasts = 72  # 3 day forecasts\n",
        "forecast_df = future_pred(model, num_forecasts)\n",
        "forecast_df.head()"
      ],
      "metadata": {
        "colab": {
          "base_uri": "https://localhost:8080/",
          "height": 275
        },
        "id": "wVFQ3HEIZcIL",
        "outputId": "6e5e97ce-ce9e-4895-a831-8ea6015d638a"
      },
      "execution_count": 30,
      "outputs": [
        {
          "output_type": "stream",
          "name": "stderr",
          "text": [
            "/usr/local/lib/python3.10/dist-packages/statsmodels/tsa/base/tsa_model.py:834: ValueWarning:\n",
            "\n",
            "No supported index is available. Prediction results will be given with an integer index beginning at `start`.\n",
            "\n"
          ]
        },
        {
          "output_type": "execute_result",
          "data": {
            "text/plain": [
              "                     Forecasts\n",
              "2023-07-24 20:00:00  22.487982\n",
              "2023-07-24 21:00:00  22.433806\n",
              "2023-07-24 22:00:00  22.405514\n",
              "2023-07-24 23:00:00  22.398201\n",
              "2023-07-25 00:00:00  22.418954"
            ],
            "text/html": [
              "\n",
              "\n",
              "  <div id=\"df-5a491b8f-808b-40f3-8a51-b1d6a62d2293\">\n",
              "    <div class=\"colab-df-container\">\n",
              "      <div>\n",
              "<style scoped>\n",
              "    .dataframe tbody tr th:only-of-type {\n",
              "        vertical-align: middle;\n",
              "    }\n",
              "\n",
              "    .dataframe tbody tr th {\n",
              "        vertical-align: top;\n",
              "    }\n",
              "\n",
              "    .dataframe thead th {\n",
              "        text-align: right;\n",
              "    }\n",
              "</style>\n",
              "<table border=\"1\" class=\"dataframe\">\n",
              "  <thead>\n",
              "    <tr style=\"text-align: right;\">\n",
              "      <th></th>\n",
              "      <th>Forecasts</th>\n",
              "    </tr>\n",
              "  </thead>\n",
              "  <tbody>\n",
              "    <tr>\n",
              "      <th>2023-07-24 20:00:00</th>\n",
              "      <td>22.487982</td>\n",
              "    </tr>\n",
              "    <tr>\n",
              "      <th>2023-07-24 21:00:00</th>\n",
              "      <td>22.433806</td>\n",
              "    </tr>\n",
              "    <tr>\n",
              "      <th>2023-07-24 22:00:00</th>\n",
              "      <td>22.405514</td>\n",
              "    </tr>\n",
              "    <tr>\n",
              "      <th>2023-07-24 23:00:00</th>\n",
              "      <td>22.398201</td>\n",
              "    </tr>\n",
              "    <tr>\n",
              "      <th>2023-07-25 00:00:00</th>\n",
              "      <td>22.418954</td>\n",
              "    </tr>\n",
              "  </tbody>\n",
              "</table>\n",
              "</div>\n",
              "      <button class=\"colab-df-convert\" onclick=\"convertToInteractive('df-5a491b8f-808b-40f3-8a51-b1d6a62d2293')\"\n",
              "              title=\"Convert this dataframe to an interactive table.\"\n",
              "              style=\"display:none;\">\n",
              "\n",
              "  <svg xmlns=\"http://www.w3.org/2000/svg\" height=\"24px\"viewBox=\"0 0 24 24\"\n",
              "       width=\"24px\">\n",
              "    <path d=\"M0 0h24v24H0V0z\" fill=\"none\"/>\n",
              "    <path d=\"M18.56 5.44l.94 2.06.94-2.06 2.06-.94-2.06-.94-.94-2.06-.94 2.06-2.06.94zm-11 1L8.5 8.5l.94-2.06 2.06-.94-2.06-.94L8.5 2.5l-.94 2.06-2.06.94zm10 10l.94 2.06.94-2.06 2.06-.94-2.06-.94-.94-2.06-.94 2.06-2.06.94z\"/><path d=\"M17.41 7.96l-1.37-1.37c-.4-.4-.92-.59-1.43-.59-.52 0-1.04.2-1.43.59L10.3 9.45l-7.72 7.72c-.78.78-.78 2.05 0 2.83L4 21.41c.39.39.9.59 1.41.59.51 0 1.02-.2 1.41-.59l7.78-7.78 2.81-2.81c.8-.78.8-2.07 0-2.86zM5.41 20L4 18.59l7.72-7.72 1.47 1.35L5.41 20z\"/>\n",
              "  </svg>\n",
              "      </button>\n",
              "\n",
              "\n",
              "\n",
              "    <div id=\"df-513591eb-ed92-4203-8f28-0037172c8bba\">\n",
              "      <button class=\"colab-df-quickchart\" onclick=\"quickchart('df-513591eb-ed92-4203-8f28-0037172c8bba')\"\n",
              "              title=\"Suggest charts.\"\n",
              "              style=\"display:none;\">\n",
              "\n",
              "<svg xmlns=\"http://www.w3.org/2000/svg\" height=\"24px\"viewBox=\"0 0 24 24\"\n",
              "     width=\"24px\">\n",
              "    <g>\n",
              "        <path d=\"M19 3H5c-1.1 0-2 .9-2 2v14c0 1.1.9 2 2 2h14c1.1 0 2-.9 2-2V5c0-1.1-.9-2-2-2zM9 17H7v-7h2v7zm4 0h-2V7h2v10zm4 0h-2v-4h2v4z\"/>\n",
              "    </g>\n",
              "</svg>\n",
              "      </button>\n",
              "    </div>\n",
              "\n",
              "<style>\n",
              "  .colab-df-quickchart {\n",
              "    background-color: #E8F0FE;\n",
              "    border: none;\n",
              "    border-radius: 50%;\n",
              "    cursor: pointer;\n",
              "    display: none;\n",
              "    fill: #1967D2;\n",
              "    height: 32px;\n",
              "    padding: 0 0 0 0;\n",
              "    width: 32px;\n",
              "  }\n",
              "\n",
              "  .colab-df-quickchart:hover {\n",
              "    background-color: #E2EBFA;\n",
              "    box-shadow: 0px 1px 2px rgba(60, 64, 67, 0.3), 0px 1px 3px 1px rgba(60, 64, 67, 0.15);\n",
              "    fill: #174EA6;\n",
              "  }\n",
              "\n",
              "  [theme=dark] .colab-df-quickchart {\n",
              "    background-color: #3B4455;\n",
              "    fill: #D2E3FC;\n",
              "  }\n",
              "\n",
              "  [theme=dark] .colab-df-quickchart:hover {\n",
              "    background-color: #434B5C;\n",
              "    box-shadow: 0px 1px 3px 1px rgba(0, 0, 0, 0.15);\n",
              "    filter: drop-shadow(0px 1px 2px rgba(0, 0, 0, 0.3));\n",
              "    fill: #FFFFFF;\n",
              "  }\n",
              "</style>\n",
              "\n",
              "    <script>\n",
              "      async function quickchart(key) {\n",
              "        const containerElement = document.querySelector('#' + key);\n",
              "        const charts = await google.colab.kernel.invokeFunction(\n",
              "            'suggestCharts', [key], {});\n",
              "      }\n",
              "    </script>\n",
              "\n",
              "      <script>\n",
              "\n",
              "function displayQuickchartButton(domScope) {\n",
              "  let quickchartButtonEl =\n",
              "    domScope.querySelector('#df-513591eb-ed92-4203-8f28-0037172c8bba button.colab-df-quickchart');\n",
              "  quickchartButtonEl.style.display =\n",
              "    google.colab.kernel.accessAllowed ? 'block' : 'none';\n",
              "}\n",
              "\n",
              "        displayQuickchartButton(document);\n",
              "      </script>\n",
              "      <style>\n",
              "    .colab-df-container {\n",
              "      display:flex;\n",
              "      flex-wrap:wrap;\n",
              "      gap: 12px;\n",
              "    }\n",
              "\n",
              "    .colab-df-convert {\n",
              "      background-color: #E8F0FE;\n",
              "      border: none;\n",
              "      border-radius: 50%;\n",
              "      cursor: pointer;\n",
              "      display: none;\n",
              "      fill: #1967D2;\n",
              "      height: 32px;\n",
              "      padding: 0 0 0 0;\n",
              "      width: 32px;\n",
              "    }\n",
              "\n",
              "    .colab-df-convert:hover {\n",
              "      background-color: #E2EBFA;\n",
              "      box-shadow: 0px 1px 2px rgba(60, 64, 67, 0.3), 0px 1px 3px 1px rgba(60, 64, 67, 0.15);\n",
              "      fill: #174EA6;\n",
              "    }\n",
              "\n",
              "    [theme=dark] .colab-df-convert {\n",
              "      background-color: #3B4455;\n",
              "      fill: #D2E3FC;\n",
              "    }\n",
              "\n",
              "    [theme=dark] .colab-df-convert:hover {\n",
              "      background-color: #434B5C;\n",
              "      box-shadow: 0px 1px 3px 1px rgba(0, 0, 0, 0.15);\n",
              "      filter: drop-shadow(0px 1px 2px rgba(0, 0, 0, 0.3));\n",
              "      fill: #FFFFFF;\n",
              "    }\n",
              "  </style>\n",
              "\n",
              "      <script>\n",
              "        const buttonEl =\n",
              "          document.querySelector('#df-5a491b8f-808b-40f3-8a51-b1d6a62d2293 button.colab-df-convert');\n",
              "        buttonEl.style.display =\n",
              "          google.colab.kernel.accessAllowed ? 'block' : 'none';\n",
              "\n",
              "        async function convertToInteractive(key) {\n",
              "          const element = document.querySelector('#df-5a491b8f-808b-40f3-8a51-b1d6a62d2293');\n",
              "          const dataTable =\n",
              "            await google.colab.kernel.invokeFunction('convertToInteractive',\n",
              "                                                     [key], {});\n",
              "          if (!dataTable) return;\n",
              "\n",
              "          const docLinkHtml = 'Like what you see? Visit the ' +\n",
              "            '<a target=\"_blank\" href=https://colab.research.google.com/notebooks/data_table.ipynb>data table notebook</a>'\n",
              "            + ' to learn more about interactive tables.';\n",
              "          element.innerHTML = '';\n",
              "          dataTable['output_type'] = 'display_data';\n",
              "          await google.colab.output.renderOutput(dataTable, element);\n",
              "          const docLink = document.createElement('div');\n",
              "          docLink.innerHTML = docLinkHtml;\n",
              "          element.appendChild(docLink);\n",
              "        }\n",
              "      </script>\n",
              "    </div>\n",
              "  </div>\n"
            ]
          },
          "metadata": {},
          "execution_count": 30
        }
      ]
    },
    {
      "cell_type": "markdown",
      "source": [
        "## Plotting Forecasts:"
      ],
      "metadata": {
        "id": "plMQgWFjZrFb"
      }
    },
    {
      "cell_type": "code",
      "source": [
        "fig = go.Figure()\n",
        "\n",
        "fig.add_trace(go.Scatter(x = forecast_df.index, y = forecast_df['Forecasts'], mode = 'lines+markers', line=dict(color=\"#f4b916\")))\n",
        "\n",
        "fig.update_layout(title = \"Average Air Temperature Forecasts\")\n",
        "fig.update_yaxes(title_text = \"Average Air Temperature\")\n",
        "fig.update_xaxes(title_text = \"Future Datetime\")\n",
        "\n",
        "fig.show()"
      ],
      "metadata": {
        "colab": {
          "base_uri": "https://localhost:8080/",
          "height": 542
        },
        "id": "Guvh2IRrR_FV",
        "outputId": "fb14793d-1c3f-470a-d199-679fbc8968c1"
      },
      "execution_count": 31,
      "outputs": [
        {
          "output_type": "display_data",
          "data": {
            "text/html": [
              "<html>\n",
              "<head><meta charset=\"utf-8\" /></head>\n",
              "<body>\n",
              "    <div>            <script src=\"https://cdnjs.cloudflare.com/ajax/libs/mathjax/2.7.5/MathJax.js?config=TeX-AMS-MML_SVG\"></script><script type=\"text/javascript\">if (window.MathJax && window.MathJax.Hub && window.MathJax.Hub.Config) {window.MathJax.Hub.Config({SVG: {font: \"STIX-Web\"}});}</script>                <script type=\"text/javascript\">window.PlotlyConfig = {MathJaxConfig: 'local'};</script>\n",
              "        <script src=\"https://cdn.plot.ly/plotly-2.18.2.min.js\"></script>                <div id=\"b67f7492-45a5-4c6e-9fde-474e5b548429\" class=\"plotly-graph-div\" style=\"height:525px; width:100%;\"></div>            <script type=\"text/javascript\">                                    window.PLOTLYENV=window.PLOTLYENV || {};                                    if (document.getElementById(\"b67f7492-45a5-4c6e-9fde-474e5b548429\")) {                    Plotly.newPlot(                        \"b67f7492-45a5-4c6e-9fde-474e5b548429\",                        [{\"line\":{\"color\":\"#f4b916\"},\"mode\":\"lines+markers\",\"x\":[\"2023-07-24T20:00:00\",\"2023-07-24T21:00:00\",\"2023-07-24T22:00:00\",\"2023-07-24T23:00:00\",\"2023-07-25T00:00:00\",\"2023-07-25T01:00:00\",\"2023-07-25T02:00:00\",\"2023-07-25T03:00:00\",\"2023-07-25T04:00:00\",\"2023-07-25T05:00:00\",\"2023-07-25T06:00:00\",\"2023-07-25T07:00:00\",\"2023-07-25T08:00:00\",\"2023-07-25T09:00:00\",\"2023-07-25T10:00:00\",\"2023-07-25T11:00:00\",\"2023-07-25T12:00:00\",\"2023-07-25T13:00:00\",\"2023-07-25T14:00:00\",\"2023-07-25T15:00:00\",\"2023-07-25T16:00:00\",\"2023-07-25T17:00:00\",\"2023-07-25T18:00:00\",\"2023-07-25T19:00:00\",\"2023-07-25T20:00:00\",\"2023-07-25T21:00:00\",\"2023-07-25T22:00:00\",\"2023-07-25T23:00:00\",\"2023-07-26T00:00:00\",\"2023-07-26T01:00:00\",\"2023-07-26T02:00:00\",\"2023-07-26T03:00:00\",\"2023-07-26T04:00:00\",\"2023-07-26T05:00:00\",\"2023-07-26T06:00:00\",\"2023-07-26T07:00:00\",\"2023-07-26T08:00:00\",\"2023-07-26T09:00:00\",\"2023-07-26T10:00:00\",\"2023-07-26T11:00:00\",\"2023-07-26T12:00:00\",\"2023-07-26T13:00:00\",\"2023-07-26T14:00:00\",\"2023-07-26T15:00:00\",\"2023-07-26T16:00:00\",\"2023-07-26T17:00:00\",\"2023-07-26T18:00:00\",\"2023-07-26T19:00:00\",\"2023-07-26T20:00:00\",\"2023-07-26T21:00:00\",\"2023-07-26T22:00:00\",\"2023-07-26T23:00:00\",\"2023-07-27T00:00:00\",\"2023-07-27T01:00:00\",\"2023-07-27T02:00:00\",\"2023-07-27T03:00:00\",\"2023-07-27T04:00:00\",\"2023-07-27T05:00:00\",\"2023-07-27T06:00:00\",\"2023-07-27T07:00:00\",\"2023-07-27T08:00:00\",\"2023-07-27T09:00:00\",\"2023-07-27T10:00:00\",\"2023-07-27T11:00:00\",\"2023-07-27T12:00:00\",\"2023-07-27T13:00:00\",\"2023-07-27T14:00:00\",\"2023-07-27T15:00:00\",\"2023-07-27T16:00:00\",\"2023-07-27T17:00:00\",\"2023-07-27T18:00:00\",\"2023-07-27T19:00:00\"],\"y\":[22.48798243141409,22.433805743648488,22.405514036776484,22.398200621581655,22.418954245032957,22.482968441858283,22.60041356231813,22.778162102824798,23.013449798471274,23.301935740402357,23.62078996229273,23.932009659934636,24.188803352989062,24.357669091746498,24.42102263762961,24.37439267488937,24.226337063279136,23.997926386316593,23.72048228284814,23.425560575085353,23.142553030440297,22.89466531549682,22.693302395048335,22.541287420251482,22.434111794618,22.367066897108508,22.3354512623296,22.338114791519835,22.378863893895513,22.4636030092799,22.59760949475787,22.781955319108466,23.01375561666842,23.281911473156853,23.56532720041024,23.833933629569145,24.056681261585382,24.208005049649135,24.270940109759152,24.23932014303363,24.118356549854713,23.92401640527665,23.67922023698357,23.410020096486903,23.141930150888125,22.89564111528295,22.685251076617625,22.51782314205625,22.395575426297025,22.317728966972055,22.282774287413062,22.29035439698131,22.341688992573935,22.438665490606923,22.5818963462053,22.769483802807176,22.995057349989743,23.246109238341653,23.50344917122258,23.74354808911351,23.9424195068683,24.07925686856562,24.13956385815153,24.117237915342884,24.015486871580578,23.84597286750473,23.6266947824355,23.379222561489286,23.12540597882524,22.884572791521933,22.67161903379135,22.496598086816228],\"type\":\"scatter\"}],                        {\"template\":{\"data\":{\"histogram2dcontour\":[{\"type\":\"histogram2dcontour\",\"colorbar\":{\"outlinewidth\":0,\"ticks\":\"\"},\"colorscale\":[[0.0,\"#0d0887\"],[0.1111111111111111,\"#46039f\"],[0.2222222222222222,\"#7201a8\"],[0.3333333333333333,\"#9c179e\"],[0.4444444444444444,\"#bd3786\"],[0.5555555555555556,\"#d8576b\"],[0.6666666666666666,\"#ed7953\"],[0.7777777777777778,\"#fb9f3a\"],[0.8888888888888888,\"#fdca26\"],[1.0,\"#f0f921\"]]}],\"choropleth\":[{\"type\":\"choropleth\",\"colorbar\":{\"outlinewidth\":0,\"ticks\":\"\"}}],\"histogram2d\":[{\"type\":\"histogram2d\",\"colorbar\":{\"outlinewidth\":0,\"ticks\":\"\"},\"colorscale\":[[0.0,\"#0d0887\"],[0.1111111111111111,\"#46039f\"],[0.2222222222222222,\"#7201a8\"],[0.3333333333333333,\"#9c179e\"],[0.4444444444444444,\"#bd3786\"],[0.5555555555555556,\"#d8576b\"],[0.6666666666666666,\"#ed7953\"],[0.7777777777777778,\"#fb9f3a\"],[0.8888888888888888,\"#fdca26\"],[1.0,\"#f0f921\"]]}],\"heatmap\":[{\"type\":\"heatmap\",\"colorbar\":{\"outlinewidth\":0,\"ticks\":\"\"},\"colorscale\":[[0.0,\"#0d0887\"],[0.1111111111111111,\"#46039f\"],[0.2222222222222222,\"#7201a8\"],[0.3333333333333333,\"#9c179e\"],[0.4444444444444444,\"#bd3786\"],[0.5555555555555556,\"#d8576b\"],[0.6666666666666666,\"#ed7953\"],[0.7777777777777778,\"#fb9f3a\"],[0.8888888888888888,\"#fdca26\"],[1.0,\"#f0f921\"]]}],\"heatmapgl\":[{\"type\":\"heatmapgl\",\"colorbar\":{\"outlinewidth\":0,\"ticks\":\"\"},\"colorscale\":[[0.0,\"#0d0887\"],[0.1111111111111111,\"#46039f\"],[0.2222222222222222,\"#7201a8\"],[0.3333333333333333,\"#9c179e\"],[0.4444444444444444,\"#bd3786\"],[0.5555555555555556,\"#d8576b\"],[0.6666666666666666,\"#ed7953\"],[0.7777777777777778,\"#fb9f3a\"],[0.8888888888888888,\"#fdca26\"],[1.0,\"#f0f921\"]]}],\"contourcarpet\":[{\"type\":\"contourcarpet\",\"colorbar\":{\"outlinewidth\":0,\"ticks\":\"\"}}],\"contour\":[{\"type\":\"contour\",\"colorbar\":{\"outlinewidth\":0,\"ticks\":\"\"},\"colorscale\":[[0.0,\"#0d0887\"],[0.1111111111111111,\"#46039f\"],[0.2222222222222222,\"#7201a8\"],[0.3333333333333333,\"#9c179e\"],[0.4444444444444444,\"#bd3786\"],[0.5555555555555556,\"#d8576b\"],[0.6666666666666666,\"#ed7953\"],[0.7777777777777778,\"#fb9f3a\"],[0.8888888888888888,\"#fdca26\"],[1.0,\"#f0f921\"]]}],\"surface\":[{\"type\":\"surface\",\"colorbar\":{\"outlinewidth\":0,\"ticks\":\"\"},\"colorscale\":[[0.0,\"#0d0887\"],[0.1111111111111111,\"#46039f\"],[0.2222222222222222,\"#7201a8\"],[0.3333333333333333,\"#9c179e\"],[0.4444444444444444,\"#bd3786\"],[0.5555555555555556,\"#d8576b\"],[0.6666666666666666,\"#ed7953\"],[0.7777777777777778,\"#fb9f3a\"],[0.8888888888888888,\"#fdca26\"],[1.0,\"#f0f921\"]]}],\"mesh3d\":[{\"type\":\"mesh3d\",\"colorbar\":{\"outlinewidth\":0,\"ticks\":\"\"}}],\"scatter\":[{\"fillpattern\":{\"fillmode\":\"overlay\",\"size\":10,\"solidity\":0.2},\"type\":\"scatter\"}],\"parcoords\":[{\"type\":\"parcoords\",\"line\":{\"colorbar\":{\"outlinewidth\":0,\"ticks\":\"\"}}}],\"scatterpolargl\":[{\"type\":\"scatterpolargl\",\"marker\":{\"colorbar\":{\"outlinewidth\":0,\"ticks\":\"\"}}}],\"bar\":[{\"error_x\":{\"color\":\"#2a3f5f\"},\"error_y\":{\"color\":\"#2a3f5f\"},\"marker\":{\"line\":{\"color\":\"#E5ECF6\",\"width\":0.5},\"pattern\":{\"fillmode\":\"overlay\",\"size\":10,\"solidity\":0.2}},\"type\":\"bar\"}],\"scattergeo\":[{\"type\":\"scattergeo\",\"marker\":{\"colorbar\":{\"outlinewidth\":0,\"ticks\":\"\"}}}],\"scatterpolar\":[{\"type\":\"scatterpolar\",\"marker\":{\"colorbar\":{\"outlinewidth\":0,\"ticks\":\"\"}}}],\"histogram\":[{\"marker\":{\"pattern\":{\"fillmode\":\"overlay\",\"size\":10,\"solidity\":0.2}},\"type\":\"histogram\"}],\"scattergl\":[{\"type\":\"scattergl\",\"marker\":{\"colorbar\":{\"outlinewidth\":0,\"ticks\":\"\"}}}],\"scatter3d\":[{\"type\":\"scatter3d\",\"line\":{\"colorbar\":{\"outlinewidth\":0,\"ticks\":\"\"}},\"marker\":{\"colorbar\":{\"outlinewidth\":0,\"ticks\":\"\"}}}],\"scattermapbox\":[{\"type\":\"scattermapbox\",\"marker\":{\"colorbar\":{\"outlinewidth\":0,\"ticks\":\"\"}}}],\"scatterternary\":[{\"type\":\"scatterternary\",\"marker\":{\"colorbar\":{\"outlinewidth\":0,\"ticks\":\"\"}}}],\"scattercarpet\":[{\"type\":\"scattercarpet\",\"marker\":{\"colorbar\":{\"outlinewidth\":0,\"ticks\":\"\"}}}],\"carpet\":[{\"aaxis\":{\"endlinecolor\":\"#2a3f5f\",\"gridcolor\":\"white\",\"linecolor\":\"white\",\"minorgridcolor\":\"white\",\"startlinecolor\":\"#2a3f5f\"},\"baxis\":{\"endlinecolor\":\"#2a3f5f\",\"gridcolor\":\"white\",\"linecolor\":\"white\",\"minorgridcolor\":\"white\",\"startlinecolor\":\"#2a3f5f\"},\"type\":\"carpet\"}],\"table\":[{\"cells\":{\"fill\":{\"color\":\"#EBF0F8\"},\"line\":{\"color\":\"white\"}},\"header\":{\"fill\":{\"color\":\"#C8D4E3\"},\"line\":{\"color\":\"white\"}},\"type\":\"table\"}],\"barpolar\":[{\"marker\":{\"line\":{\"color\":\"#E5ECF6\",\"width\":0.5},\"pattern\":{\"fillmode\":\"overlay\",\"size\":10,\"solidity\":0.2}},\"type\":\"barpolar\"}],\"pie\":[{\"automargin\":true,\"type\":\"pie\"}]},\"layout\":{\"autotypenumbers\":\"strict\",\"colorway\":[\"#636efa\",\"#EF553B\",\"#00cc96\",\"#ab63fa\",\"#FFA15A\",\"#19d3f3\",\"#FF6692\",\"#B6E880\",\"#FF97FF\",\"#FECB52\"],\"font\":{\"color\":\"#2a3f5f\"},\"hovermode\":\"closest\",\"hoverlabel\":{\"align\":\"left\"},\"paper_bgcolor\":\"white\",\"plot_bgcolor\":\"#E5ECF6\",\"polar\":{\"bgcolor\":\"#E5ECF6\",\"angularaxis\":{\"gridcolor\":\"white\",\"linecolor\":\"white\",\"ticks\":\"\"},\"radialaxis\":{\"gridcolor\":\"white\",\"linecolor\":\"white\",\"ticks\":\"\"}},\"ternary\":{\"bgcolor\":\"#E5ECF6\",\"aaxis\":{\"gridcolor\":\"white\",\"linecolor\":\"white\",\"ticks\":\"\"},\"baxis\":{\"gridcolor\":\"white\",\"linecolor\":\"white\",\"ticks\":\"\"},\"caxis\":{\"gridcolor\":\"white\",\"linecolor\":\"white\",\"ticks\":\"\"}},\"coloraxis\":{\"colorbar\":{\"outlinewidth\":0,\"ticks\":\"\"}},\"colorscale\":{\"sequential\":[[0.0,\"#0d0887\"],[0.1111111111111111,\"#46039f\"],[0.2222222222222222,\"#7201a8\"],[0.3333333333333333,\"#9c179e\"],[0.4444444444444444,\"#bd3786\"],[0.5555555555555556,\"#d8576b\"],[0.6666666666666666,\"#ed7953\"],[0.7777777777777778,\"#fb9f3a\"],[0.8888888888888888,\"#fdca26\"],[1.0,\"#f0f921\"]],\"sequentialminus\":[[0.0,\"#0d0887\"],[0.1111111111111111,\"#46039f\"],[0.2222222222222222,\"#7201a8\"],[0.3333333333333333,\"#9c179e\"],[0.4444444444444444,\"#bd3786\"],[0.5555555555555556,\"#d8576b\"],[0.6666666666666666,\"#ed7953\"],[0.7777777777777778,\"#fb9f3a\"],[0.8888888888888888,\"#fdca26\"],[1.0,\"#f0f921\"]],\"diverging\":[[0,\"#8e0152\"],[0.1,\"#c51b7d\"],[0.2,\"#de77ae\"],[0.3,\"#f1b6da\"],[0.4,\"#fde0ef\"],[0.5,\"#f7f7f7\"],[0.6,\"#e6f5d0\"],[0.7,\"#b8e186\"],[0.8,\"#7fbc41\"],[0.9,\"#4d9221\"],[1,\"#276419\"]]},\"xaxis\":{\"gridcolor\":\"white\",\"linecolor\":\"white\",\"ticks\":\"\",\"title\":{\"standoff\":15},\"zerolinecolor\":\"white\",\"automargin\":true,\"zerolinewidth\":2},\"yaxis\":{\"gridcolor\":\"white\",\"linecolor\":\"white\",\"ticks\":\"\",\"title\":{\"standoff\":15},\"zerolinecolor\":\"white\",\"automargin\":true,\"zerolinewidth\":2},\"scene\":{\"xaxis\":{\"backgroundcolor\":\"#E5ECF6\",\"gridcolor\":\"white\",\"linecolor\":\"white\",\"showbackground\":true,\"ticks\":\"\",\"zerolinecolor\":\"white\",\"gridwidth\":2},\"yaxis\":{\"backgroundcolor\":\"#E5ECF6\",\"gridcolor\":\"white\",\"linecolor\":\"white\",\"showbackground\":true,\"ticks\":\"\",\"zerolinecolor\":\"white\",\"gridwidth\":2},\"zaxis\":{\"backgroundcolor\":\"#E5ECF6\",\"gridcolor\":\"white\",\"linecolor\":\"white\",\"showbackground\":true,\"ticks\":\"\",\"zerolinecolor\":\"white\",\"gridwidth\":2}},\"shapedefaults\":{\"line\":{\"color\":\"#2a3f5f\"}},\"annotationdefaults\":{\"arrowcolor\":\"#2a3f5f\",\"arrowhead\":0,\"arrowwidth\":1},\"geo\":{\"bgcolor\":\"white\",\"landcolor\":\"#E5ECF6\",\"subunitcolor\":\"white\",\"showland\":true,\"showlakes\":true,\"lakecolor\":\"white\"},\"title\":{\"x\":0.05},\"mapbox\":{\"style\":\"light\"}}},\"title\":{\"text\":\"Average Air Temperature Forecasts\"},\"yaxis\":{\"title\":{\"text\":\"Average Air Temperature\"}},\"xaxis\":{\"title\":{\"text\":\"Future Datetime\"}}},                        {\"responsive\": true}                    ).then(function(){\n",
              "                            \n",
              "var gd = document.getElementById('b67f7492-45a5-4c6e-9fde-474e5b548429');\n",
              "var x = new MutationObserver(function (mutations, observer) {{\n",
              "        var display = window.getComputedStyle(gd).display;\n",
              "        if (!display || display === 'none') {{\n",
              "            console.log([gd, 'removed!']);\n",
              "            Plotly.purge(gd);\n",
              "            observer.disconnect();\n",
              "        }}\n",
              "}});\n",
              "\n",
              "// Listen for the removal of the full notebook cells\n",
              "var notebookContainer = gd.closest('#notebook-container');\n",
              "if (notebookContainer) {{\n",
              "    x.observe(notebookContainer, {childList: true});\n",
              "}}\n",
              "\n",
              "// Listen for the clearing of the current output cell\n",
              "var outputEl = gd.closest('.output');\n",
              "if (outputEl) {{\n",
              "    x.observe(outputEl, {childList: true});\n",
              "}}\n",
              "\n",
              "                        })                };                            </script>        </div>\n",
              "</body>\n",
              "</html>"
            ]
          },
          "metadata": {}
        }
      ]
    }
  ]
}