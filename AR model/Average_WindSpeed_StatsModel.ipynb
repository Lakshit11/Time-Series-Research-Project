{
  "nbformat": 4,
  "nbformat_minor": 0,
  "metadata": {
    "colab": {
      "provenance": []
    },
    "kernelspec": {
      "name": "python3",
      "display_name": "Python 3"
    },
    "language_info": {
      "name": "python"
    }
  },
  "cells": [
    {
      "cell_type": "code",
      "execution_count": 1,
      "metadata": {
        "id": "AYc0SdL-VMaP"
      },
      "outputs": [],
      "source": [
        "import pandas as pd\n",
        "import numpy as np\n",
        "import matplotlib.pyplot as plt\n",
        "import plotly.express as px\n",
        "import plotly.graph_objects as go\n",
        "from plotly.subplots import make_subplots\n",
        "import warnings\n",
        "warnings.filterwarnings('ignore')"
      ]
    },
    {
      "cell_type": "code",
      "source": [
        "df = pd.read_csv('data_24july.csv', header = 1, index_col = 'Date/Time')\n",
        "df.head()"
      ],
      "metadata": {
        "colab": {
          "base_uri": "https://localhost:8080/",
          "height": 311
        },
        "id": "PN6n9wz5Va1E",
        "outputId": "0e8d1f51-9213-4087-d58b-8e0eef5fb3ce"
      },
      "execution_count": 2,
      "outputs": [
        {
          "output_type": "execute_result",
          "data": {
            "text/plain": [
              "                       avg    max    min  avg.1  min.1  avg.2  avg.3  min.2  \\\n",
              "Date/Time                                                                     \n",
              "2023-07-24 20:00:00  22.57  22.68  22.49   22.5   22.4      0   0.00   0.00   \n",
              "2023-07-24 19:00:00  22.98  23.48  22.58   22.5   22.3      0   0.07   0.00   \n",
              "2023-07-24 18:00:00  23.38  23.66  23.27   22.9   22.6     45   0.07   0.03   \n",
              "2023-07-24 17:00:00  24.01  24.47  23.76   22.9   22.8     74   0.18   0.13   \n",
              "2023-07-24 16:00:00  24.34  24.93  23.93   23.2   23.0    133   0.19   0.07   \n",
              "\n",
              "                     avg.4   max.1  ...  max.9  min.9  last.1  last.2  avg.23  \\\n",
              "Date/Time                           ...                                         \n",
              "2023-07-24 20:00:00  99.97  100.00  ...   25.5   25.5     0.0    6514       0   \n",
              "2023-07-24 19:00:00  97.55  100.00  ...   25.6   25.5     0.0    6528       0   \n",
              "2023-07-24 18:00:00  97.36   98.83  ...   25.5   25.5  1150.0    6559       0   \n",
              "2023-07-24 17:00:00  93.75   95.47  ...   25.5   25.5  5075.0    6588       1   \n",
              "2023-07-24 16:00:00  93.63   97.48  ...   25.6   25.5  6849.0    6636       1   \n",
              "\n",
              "                     max.10  min.10  time.1  Daily ET0 [mm]  Unnamed: 54  \n",
              "Date/Time                                                                 \n",
              "2023-07-24 20:00:00       0       0       0             NaN          NaN  \n",
              "2023-07-24 19:00:00       1       0       0             NaN          NaN  \n",
              "2023-07-24 18:00:00       1       0       0             NaN          NaN  \n",
              "2023-07-24 17:00:00       1       1       0             NaN          NaN  \n",
              "2023-07-24 16:00:00       1       0      35             NaN          NaN  \n",
              "\n",
              "[5 rows x 54 columns]"
            ],
            "text/html": [
              "\n",
              "\n",
              "  <div id=\"df-93c8b158-de57-4c79-89af-56f5a7cd597a\">\n",
              "    <div class=\"colab-df-container\">\n",
              "      <div>\n",
              "<style scoped>\n",
              "    .dataframe tbody tr th:only-of-type {\n",
              "        vertical-align: middle;\n",
              "    }\n",
              "\n",
              "    .dataframe tbody tr th {\n",
              "        vertical-align: top;\n",
              "    }\n",
              "\n",
              "    .dataframe thead th {\n",
              "        text-align: right;\n",
              "    }\n",
              "</style>\n",
              "<table border=\"1\" class=\"dataframe\">\n",
              "  <thead>\n",
              "    <tr style=\"text-align: right;\">\n",
              "      <th></th>\n",
              "      <th>avg</th>\n",
              "      <th>max</th>\n",
              "      <th>min</th>\n",
              "      <th>avg.1</th>\n",
              "      <th>min.1</th>\n",
              "      <th>avg.2</th>\n",
              "      <th>avg.3</th>\n",
              "      <th>min.2</th>\n",
              "      <th>avg.4</th>\n",
              "      <th>max.1</th>\n",
              "      <th>...</th>\n",
              "      <th>max.9</th>\n",
              "      <th>min.9</th>\n",
              "      <th>last.1</th>\n",
              "      <th>last.2</th>\n",
              "      <th>avg.23</th>\n",
              "      <th>max.10</th>\n",
              "      <th>min.10</th>\n",
              "      <th>time.1</th>\n",
              "      <th>Daily ET0 [mm]</th>\n",
              "      <th>Unnamed: 54</th>\n",
              "    </tr>\n",
              "    <tr>\n",
              "      <th>Date/Time</th>\n",
              "      <th></th>\n",
              "      <th></th>\n",
              "      <th></th>\n",
              "      <th></th>\n",
              "      <th></th>\n",
              "      <th></th>\n",
              "      <th></th>\n",
              "      <th></th>\n",
              "      <th></th>\n",
              "      <th></th>\n",
              "      <th></th>\n",
              "      <th></th>\n",
              "      <th></th>\n",
              "      <th></th>\n",
              "      <th></th>\n",
              "      <th></th>\n",
              "      <th></th>\n",
              "      <th></th>\n",
              "      <th></th>\n",
              "      <th></th>\n",
              "      <th></th>\n",
              "    </tr>\n",
              "  </thead>\n",
              "  <tbody>\n",
              "    <tr>\n",
              "      <th>2023-07-24 20:00:00</th>\n",
              "      <td>22.57</td>\n",
              "      <td>22.68</td>\n",
              "      <td>22.49</td>\n",
              "      <td>22.5</td>\n",
              "      <td>22.4</td>\n",
              "      <td>0</td>\n",
              "      <td>0.00</td>\n",
              "      <td>0.00</td>\n",
              "      <td>99.97</td>\n",
              "      <td>100.00</td>\n",
              "      <td>...</td>\n",
              "      <td>25.5</td>\n",
              "      <td>25.5</td>\n",
              "      <td>0.0</td>\n",
              "      <td>6514</td>\n",
              "      <td>0</td>\n",
              "      <td>0</td>\n",
              "      <td>0</td>\n",
              "      <td>0</td>\n",
              "      <td>NaN</td>\n",
              "      <td>NaN</td>\n",
              "    </tr>\n",
              "    <tr>\n",
              "      <th>2023-07-24 19:00:00</th>\n",
              "      <td>22.98</td>\n",
              "      <td>23.48</td>\n",
              "      <td>22.58</td>\n",
              "      <td>22.5</td>\n",
              "      <td>22.3</td>\n",
              "      <td>0</td>\n",
              "      <td>0.07</td>\n",
              "      <td>0.00</td>\n",
              "      <td>97.55</td>\n",
              "      <td>100.00</td>\n",
              "      <td>...</td>\n",
              "      <td>25.6</td>\n",
              "      <td>25.5</td>\n",
              "      <td>0.0</td>\n",
              "      <td>6528</td>\n",
              "      <td>0</td>\n",
              "      <td>1</td>\n",
              "      <td>0</td>\n",
              "      <td>0</td>\n",
              "      <td>NaN</td>\n",
              "      <td>NaN</td>\n",
              "    </tr>\n",
              "    <tr>\n",
              "      <th>2023-07-24 18:00:00</th>\n",
              "      <td>23.38</td>\n",
              "      <td>23.66</td>\n",
              "      <td>23.27</td>\n",
              "      <td>22.9</td>\n",
              "      <td>22.6</td>\n",
              "      <td>45</td>\n",
              "      <td>0.07</td>\n",
              "      <td>0.03</td>\n",
              "      <td>97.36</td>\n",
              "      <td>98.83</td>\n",
              "      <td>...</td>\n",
              "      <td>25.5</td>\n",
              "      <td>25.5</td>\n",
              "      <td>1150.0</td>\n",
              "      <td>6559</td>\n",
              "      <td>0</td>\n",
              "      <td>1</td>\n",
              "      <td>0</td>\n",
              "      <td>0</td>\n",
              "      <td>NaN</td>\n",
              "      <td>NaN</td>\n",
              "    </tr>\n",
              "    <tr>\n",
              "      <th>2023-07-24 17:00:00</th>\n",
              "      <td>24.01</td>\n",
              "      <td>24.47</td>\n",
              "      <td>23.76</td>\n",
              "      <td>22.9</td>\n",
              "      <td>22.8</td>\n",
              "      <td>74</td>\n",
              "      <td>0.18</td>\n",
              "      <td>0.13</td>\n",
              "      <td>93.75</td>\n",
              "      <td>95.47</td>\n",
              "      <td>...</td>\n",
              "      <td>25.5</td>\n",
              "      <td>25.5</td>\n",
              "      <td>5075.0</td>\n",
              "      <td>6588</td>\n",
              "      <td>1</td>\n",
              "      <td>1</td>\n",
              "      <td>1</td>\n",
              "      <td>0</td>\n",
              "      <td>NaN</td>\n",
              "      <td>NaN</td>\n",
              "    </tr>\n",
              "    <tr>\n",
              "      <th>2023-07-24 16:00:00</th>\n",
              "      <td>24.34</td>\n",
              "      <td>24.93</td>\n",
              "      <td>23.93</td>\n",
              "      <td>23.2</td>\n",
              "      <td>23.0</td>\n",
              "      <td>133</td>\n",
              "      <td>0.19</td>\n",
              "      <td>0.07</td>\n",
              "      <td>93.63</td>\n",
              "      <td>97.48</td>\n",
              "      <td>...</td>\n",
              "      <td>25.6</td>\n",
              "      <td>25.5</td>\n",
              "      <td>6849.0</td>\n",
              "      <td>6636</td>\n",
              "      <td>1</td>\n",
              "      <td>1</td>\n",
              "      <td>0</td>\n",
              "      <td>35</td>\n",
              "      <td>NaN</td>\n",
              "      <td>NaN</td>\n",
              "    </tr>\n",
              "  </tbody>\n",
              "</table>\n",
              "<p>5 rows × 54 columns</p>\n",
              "</div>\n",
              "      <button class=\"colab-df-convert\" onclick=\"convertToInteractive('df-93c8b158-de57-4c79-89af-56f5a7cd597a')\"\n",
              "              title=\"Convert this dataframe to an interactive table.\"\n",
              "              style=\"display:none;\">\n",
              "\n",
              "  <svg xmlns=\"http://www.w3.org/2000/svg\" height=\"24px\"viewBox=\"0 0 24 24\"\n",
              "       width=\"24px\">\n",
              "    <path d=\"M0 0h24v24H0V0z\" fill=\"none\"/>\n",
              "    <path d=\"M18.56 5.44l.94 2.06.94-2.06 2.06-.94-2.06-.94-.94-2.06-.94 2.06-2.06.94zm-11 1L8.5 8.5l.94-2.06 2.06-.94-2.06-.94L8.5 2.5l-.94 2.06-2.06.94zm10 10l.94 2.06.94-2.06 2.06-.94-2.06-.94-.94-2.06-.94 2.06-2.06.94z\"/><path d=\"M17.41 7.96l-1.37-1.37c-.4-.4-.92-.59-1.43-.59-.52 0-1.04.2-1.43.59L10.3 9.45l-7.72 7.72c-.78.78-.78 2.05 0 2.83L4 21.41c.39.39.9.59 1.41.59.51 0 1.02-.2 1.41-.59l7.78-7.78 2.81-2.81c.8-.78.8-2.07 0-2.86zM5.41 20L4 18.59l7.72-7.72 1.47 1.35L5.41 20z\"/>\n",
              "  </svg>\n",
              "      </button>\n",
              "\n",
              "\n",
              "\n",
              "    <div id=\"df-11dfc147-40d0-45e1-b1ad-93af5349cfda\">\n",
              "      <button class=\"colab-df-quickchart\" onclick=\"quickchart('df-11dfc147-40d0-45e1-b1ad-93af5349cfda')\"\n",
              "              title=\"Suggest charts.\"\n",
              "              style=\"display:none;\">\n",
              "\n",
              "<svg xmlns=\"http://www.w3.org/2000/svg\" height=\"24px\"viewBox=\"0 0 24 24\"\n",
              "     width=\"24px\">\n",
              "    <g>\n",
              "        <path d=\"M19 3H5c-1.1 0-2 .9-2 2v14c0 1.1.9 2 2 2h14c1.1 0 2-.9 2-2V5c0-1.1-.9-2-2-2zM9 17H7v-7h2v7zm4 0h-2V7h2v10zm4 0h-2v-4h2v4z\"/>\n",
              "    </g>\n",
              "</svg>\n",
              "      </button>\n",
              "    </div>\n",
              "\n",
              "<style>\n",
              "  .colab-df-quickchart {\n",
              "    background-color: #E8F0FE;\n",
              "    border: none;\n",
              "    border-radius: 50%;\n",
              "    cursor: pointer;\n",
              "    display: none;\n",
              "    fill: #1967D2;\n",
              "    height: 32px;\n",
              "    padding: 0 0 0 0;\n",
              "    width: 32px;\n",
              "  }\n",
              "\n",
              "  .colab-df-quickchart:hover {\n",
              "    background-color: #E2EBFA;\n",
              "    box-shadow: 0px 1px 2px rgba(60, 64, 67, 0.3), 0px 1px 3px 1px rgba(60, 64, 67, 0.15);\n",
              "    fill: #174EA6;\n",
              "  }\n",
              "\n",
              "  [theme=dark] .colab-df-quickchart {\n",
              "    background-color: #3B4455;\n",
              "    fill: #D2E3FC;\n",
              "  }\n",
              "\n",
              "  [theme=dark] .colab-df-quickchart:hover {\n",
              "    background-color: #434B5C;\n",
              "    box-shadow: 0px 1px 3px 1px rgba(0, 0, 0, 0.15);\n",
              "    filter: drop-shadow(0px 1px 2px rgba(0, 0, 0, 0.3));\n",
              "    fill: #FFFFFF;\n",
              "  }\n",
              "</style>\n",
              "\n",
              "    <script>\n",
              "      async function quickchart(key) {\n",
              "        const containerElement = document.querySelector('#' + key);\n",
              "        const charts = await google.colab.kernel.invokeFunction(\n",
              "            'suggestCharts', [key], {});\n",
              "      }\n",
              "    </script>\n",
              "\n",
              "      <script>\n",
              "\n",
              "function displayQuickchartButton(domScope) {\n",
              "  let quickchartButtonEl =\n",
              "    domScope.querySelector('#df-11dfc147-40d0-45e1-b1ad-93af5349cfda button.colab-df-quickchart');\n",
              "  quickchartButtonEl.style.display =\n",
              "    google.colab.kernel.accessAllowed ? 'block' : 'none';\n",
              "}\n",
              "\n",
              "        displayQuickchartButton(document);\n",
              "      </script>\n",
              "      <style>\n",
              "    .colab-df-container {\n",
              "      display:flex;\n",
              "      flex-wrap:wrap;\n",
              "      gap: 12px;\n",
              "    }\n",
              "\n",
              "    .colab-df-convert {\n",
              "      background-color: #E8F0FE;\n",
              "      border: none;\n",
              "      border-radius: 50%;\n",
              "      cursor: pointer;\n",
              "      display: none;\n",
              "      fill: #1967D2;\n",
              "      height: 32px;\n",
              "      padding: 0 0 0 0;\n",
              "      width: 32px;\n",
              "    }\n",
              "\n",
              "    .colab-df-convert:hover {\n",
              "      background-color: #E2EBFA;\n",
              "      box-shadow: 0px 1px 2px rgba(60, 64, 67, 0.3), 0px 1px 3px 1px rgba(60, 64, 67, 0.15);\n",
              "      fill: #174EA6;\n",
              "    }\n",
              "\n",
              "    [theme=dark] .colab-df-convert {\n",
              "      background-color: #3B4455;\n",
              "      fill: #D2E3FC;\n",
              "    }\n",
              "\n",
              "    [theme=dark] .colab-df-convert:hover {\n",
              "      background-color: #434B5C;\n",
              "      box-shadow: 0px 1px 3px 1px rgba(0, 0, 0, 0.15);\n",
              "      filter: drop-shadow(0px 1px 2px rgba(0, 0, 0, 0.3));\n",
              "      fill: #FFFFFF;\n",
              "    }\n",
              "  </style>\n",
              "\n",
              "      <script>\n",
              "        const buttonEl =\n",
              "          document.querySelector('#df-93c8b158-de57-4c79-89af-56f5a7cd597a button.colab-df-convert');\n",
              "        buttonEl.style.display =\n",
              "          google.colab.kernel.accessAllowed ? 'block' : 'none';\n",
              "\n",
              "        async function convertToInteractive(key) {\n",
              "          const element = document.querySelector('#df-93c8b158-de57-4c79-89af-56f5a7cd597a');\n",
              "          const dataTable =\n",
              "            await google.colab.kernel.invokeFunction('convertToInteractive',\n",
              "                                                     [key], {});\n",
              "          if (!dataTable) return;\n",
              "\n",
              "          const docLinkHtml = 'Like what you see? Visit the ' +\n",
              "            '<a target=\"_blank\" href=https://colab.research.google.com/notebooks/data_table.ipynb>data table notebook</a>'\n",
              "            + ' to learn more about interactive tables.';\n",
              "          element.innerHTML = '';\n",
              "          dataTable['output_type'] = 'display_data';\n",
              "          await google.colab.output.renderOutput(dataTable, element);\n",
              "          const docLink = document.createElement('div');\n",
              "          docLink.innerHTML = docLinkHtml;\n",
              "          element.appendChild(docLink);\n",
              "        }\n",
              "      </script>\n",
              "    </div>\n",
              "  </div>\n"
            ]
          },
          "metadata": {},
          "execution_count": 2
        }
      ]
    },
    {
      "cell_type": "markdown",
      "source": [
        "## Renaming The Columns:"
      ],
      "metadata": {
        "id": "N7Uq8NQcWMAk"
      }
    },
    {
      "cell_type": "code",
      "source": [
        "df.columns = [ 'air_temp_avg', 'air_temp_max', 'air_temp_min', 'dew_avg',\n",
        "       'dew_min', 'solar_rad_avg', 'vpd_avg', 'vpd_min', 'rel_humi_avg',\n",
        "       'rel_humi_max', 'rel_humi_min', 'precp_sum', 'leaf_wetness_time(min)',\n",
        "       'wind_speed_avg', 'wind_speed_max', 'wind_gust_max', 'wind_dir_last',\n",
        "       'eag_sm1_avg', 'eag_sm2_avg', 'eag_sm3_avg', 'eag_sm4_avg',\n",
        "       'eag_sm5_avg', 'eag_sm6_avg', 'VIC1_avg', 'VIC2_avg', 'VIC3_avg',\n",
        "       'VIC4_avg', 'VIC5_avg', 'VIC6_avg', 'soil_temp1_avg', 'soil_temp1_max',\n",
        "       'soil_temp1_min', 'soil_temp2_avg', 'soil_temp2_max', 'soil_temp2_min',\n",
        "       'soil_temp3_avg', 'soil_temp3_max', 'soil_temp3_min', 'soil_temp4_avg',\n",
        "       'soil_temp4_max', 'soil_temp4_min', 'soil_temp5_avg', 'soil_temp5_max',\n",
        "       'soil_temp5_min', 'soil_temp6_avg', 'soil_temp6_max', 'soil_temp6_min',\n",
        "       'sp_last', 'bat_last', 'del_avg', 'del_max', 'del_min', 'sun_time',\n",
        "       'Daily ET0 [mm]']"
      ],
      "metadata": {
        "id": "AY0-tTXXWOXd"
      },
      "execution_count": 3,
      "outputs": []
    },
    {
      "cell_type": "markdown",
      "source": [
        "## Reversing and Handling Null Values:"
      ],
      "metadata": {
        "id": "hZHaJMRRWa_m"
      }
    },
    {
      "cell_type": "code",
      "source": [
        "df = df[::-1]\n",
        "df['Daily ET0 [mm]'].fillna(0, inplace = True)"
      ],
      "metadata": {
        "id": "5ceEeesbWdEI"
      },
      "execution_count": 4,
      "outputs": []
    },
    {
      "cell_type": "markdown",
      "source": [
        "## Selecting only Average Wind Speed:"
      ],
      "metadata": {
        "id": "A1zjaKzDWf-L"
      }
    },
    {
      "cell_type": "code",
      "source": [
        "df1 = pd.DataFrame(df['wind_speed_avg'], index = df.index, columns = ['wind_speed_avg'])\n",
        "df1.head()"
      ],
      "metadata": {
        "colab": {
          "base_uri": "https://localhost:8080/",
          "height": 237
        },
        "id": "8qCbuR4TWe0X",
        "outputId": "375860fb-3b74-4fc7-cb73-7439fcb026b1"
      },
      "execution_count": 5,
      "outputs": [
        {
          "output_type": "execute_result",
          "data": {
            "text/plain": [
              "                     wind_speed_avg\n",
              "Date/Time                          \n",
              "2023-04-25 13:00:00             1.4\n",
              "2023-04-25 14:00:00             1.3\n",
              "2023-04-25 15:00:00             1.2\n",
              "2023-04-25 16:00:00             1.0\n",
              "2023-04-25 17:00:00             0.8"
            ],
            "text/html": [
              "\n",
              "\n",
              "  <div id=\"df-83cca329-a574-4dfa-a0aa-995ef0d6d69c\">\n",
              "    <div class=\"colab-df-container\">\n",
              "      <div>\n",
              "<style scoped>\n",
              "    .dataframe tbody tr th:only-of-type {\n",
              "        vertical-align: middle;\n",
              "    }\n",
              "\n",
              "    .dataframe tbody tr th {\n",
              "        vertical-align: top;\n",
              "    }\n",
              "\n",
              "    .dataframe thead th {\n",
              "        text-align: right;\n",
              "    }\n",
              "</style>\n",
              "<table border=\"1\" class=\"dataframe\">\n",
              "  <thead>\n",
              "    <tr style=\"text-align: right;\">\n",
              "      <th></th>\n",
              "      <th>wind_speed_avg</th>\n",
              "    </tr>\n",
              "    <tr>\n",
              "      <th>Date/Time</th>\n",
              "      <th></th>\n",
              "    </tr>\n",
              "  </thead>\n",
              "  <tbody>\n",
              "    <tr>\n",
              "      <th>2023-04-25 13:00:00</th>\n",
              "      <td>1.4</td>\n",
              "    </tr>\n",
              "    <tr>\n",
              "      <th>2023-04-25 14:00:00</th>\n",
              "      <td>1.3</td>\n",
              "    </tr>\n",
              "    <tr>\n",
              "      <th>2023-04-25 15:00:00</th>\n",
              "      <td>1.2</td>\n",
              "    </tr>\n",
              "    <tr>\n",
              "      <th>2023-04-25 16:00:00</th>\n",
              "      <td>1.0</td>\n",
              "    </tr>\n",
              "    <tr>\n",
              "      <th>2023-04-25 17:00:00</th>\n",
              "      <td>0.8</td>\n",
              "    </tr>\n",
              "  </tbody>\n",
              "</table>\n",
              "</div>\n",
              "      <button class=\"colab-df-convert\" onclick=\"convertToInteractive('df-83cca329-a574-4dfa-a0aa-995ef0d6d69c')\"\n",
              "              title=\"Convert this dataframe to an interactive table.\"\n",
              "              style=\"display:none;\">\n",
              "\n",
              "  <svg xmlns=\"http://www.w3.org/2000/svg\" height=\"24px\"viewBox=\"0 0 24 24\"\n",
              "       width=\"24px\">\n",
              "    <path d=\"M0 0h24v24H0V0z\" fill=\"none\"/>\n",
              "    <path d=\"M18.56 5.44l.94 2.06.94-2.06 2.06-.94-2.06-.94-.94-2.06-.94 2.06-2.06.94zm-11 1L8.5 8.5l.94-2.06 2.06-.94-2.06-.94L8.5 2.5l-.94 2.06-2.06.94zm10 10l.94 2.06.94-2.06 2.06-.94-2.06-.94-.94-2.06-.94 2.06-2.06.94z\"/><path d=\"M17.41 7.96l-1.37-1.37c-.4-.4-.92-.59-1.43-.59-.52 0-1.04.2-1.43.59L10.3 9.45l-7.72 7.72c-.78.78-.78 2.05 0 2.83L4 21.41c.39.39.9.59 1.41.59.51 0 1.02-.2 1.41-.59l7.78-7.78 2.81-2.81c.8-.78.8-2.07 0-2.86zM5.41 20L4 18.59l7.72-7.72 1.47 1.35L5.41 20z\"/>\n",
              "  </svg>\n",
              "      </button>\n",
              "\n",
              "\n",
              "\n",
              "    <div id=\"df-46da8395-1ca0-4416-9e20-0d9cd9899bc5\">\n",
              "      <button class=\"colab-df-quickchart\" onclick=\"quickchart('df-46da8395-1ca0-4416-9e20-0d9cd9899bc5')\"\n",
              "              title=\"Suggest charts.\"\n",
              "              style=\"display:none;\">\n",
              "\n",
              "<svg xmlns=\"http://www.w3.org/2000/svg\" height=\"24px\"viewBox=\"0 0 24 24\"\n",
              "     width=\"24px\">\n",
              "    <g>\n",
              "        <path d=\"M19 3H5c-1.1 0-2 .9-2 2v14c0 1.1.9 2 2 2h14c1.1 0 2-.9 2-2V5c0-1.1-.9-2-2-2zM9 17H7v-7h2v7zm4 0h-2V7h2v10zm4 0h-2v-4h2v4z\"/>\n",
              "    </g>\n",
              "</svg>\n",
              "      </button>\n",
              "    </div>\n",
              "\n",
              "<style>\n",
              "  .colab-df-quickchart {\n",
              "    background-color: #E8F0FE;\n",
              "    border: none;\n",
              "    border-radius: 50%;\n",
              "    cursor: pointer;\n",
              "    display: none;\n",
              "    fill: #1967D2;\n",
              "    height: 32px;\n",
              "    padding: 0 0 0 0;\n",
              "    width: 32px;\n",
              "  }\n",
              "\n",
              "  .colab-df-quickchart:hover {\n",
              "    background-color: #E2EBFA;\n",
              "    box-shadow: 0px 1px 2px rgba(60, 64, 67, 0.3), 0px 1px 3px 1px rgba(60, 64, 67, 0.15);\n",
              "    fill: #174EA6;\n",
              "  }\n",
              "\n",
              "  [theme=dark] .colab-df-quickchart {\n",
              "    background-color: #3B4455;\n",
              "    fill: #D2E3FC;\n",
              "  }\n",
              "\n",
              "  [theme=dark] .colab-df-quickchart:hover {\n",
              "    background-color: #434B5C;\n",
              "    box-shadow: 0px 1px 3px 1px rgba(0, 0, 0, 0.15);\n",
              "    filter: drop-shadow(0px 1px 2px rgba(0, 0, 0, 0.3));\n",
              "    fill: #FFFFFF;\n",
              "  }\n",
              "</style>\n",
              "\n",
              "    <script>\n",
              "      async function quickchart(key) {\n",
              "        const containerElement = document.querySelector('#' + key);\n",
              "        const charts = await google.colab.kernel.invokeFunction(\n",
              "            'suggestCharts', [key], {});\n",
              "      }\n",
              "    </script>\n",
              "\n",
              "      <script>\n",
              "\n",
              "function displayQuickchartButton(domScope) {\n",
              "  let quickchartButtonEl =\n",
              "    domScope.querySelector('#df-46da8395-1ca0-4416-9e20-0d9cd9899bc5 button.colab-df-quickchart');\n",
              "  quickchartButtonEl.style.display =\n",
              "    google.colab.kernel.accessAllowed ? 'block' : 'none';\n",
              "}\n",
              "\n",
              "        displayQuickchartButton(document);\n",
              "      </script>\n",
              "      <style>\n",
              "    .colab-df-container {\n",
              "      display:flex;\n",
              "      flex-wrap:wrap;\n",
              "      gap: 12px;\n",
              "    }\n",
              "\n",
              "    .colab-df-convert {\n",
              "      background-color: #E8F0FE;\n",
              "      border: none;\n",
              "      border-radius: 50%;\n",
              "      cursor: pointer;\n",
              "      display: none;\n",
              "      fill: #1967D2;\n",
              "      height: 32px;\n",
              "      padding: 0 0 0 0;\n",
              "      width: 32px;\n",
              "    }\n",
              "\n",
              "    .colab-df-convert:hover {\n",
              "      background-color: #E2EBFA;\n",
              "      box-shadow: 0px 1px 2px rgba(60, 64, 67, 0.3), 0px 1px 3px 1px rgba(60, 64, 67, 0.15);\n",
              "      fill: #174EA6;\n",
              "    }\n",
              "\n",
              "    [theme=dark] .colab-df-convert {\n",
              "      background-color: #3B4455;\n",
              "      fill: #D2E3FC;\n",
              "    }\n",
              "\n",
              "    [theme=dark] .colab-df-convert:hover {\n",
              "      background-color: #434B5C;\n",
              "      box-shadow: 0px 1px 3px 1px rgba(0, 0, 0, 0.15);\n",
              "      filter: drop-shadow(0px 1px 2px rgba(0, 0, 0, 0.3));\n",
              "      fill: #FFFFFF;\n",
              "    }\n",
              "  </style>\n",
              "\n",
              "      <script>\n",
              "        const buttonEl =\n",
              "          document.querySelector('#df-83cca329-a574-4dfa-a0aa-995ef0d6d69c button.colab-df-convert');\n",
              "        buttonEl.style.display =\n",
              "          google.colab.kernel.accessAllowed ? 'block' : 'none';\n",
              "\n",
              "        async function convertToInteractive(key) {\n",
              "          const element = document.querySelector('#df-83cca329-a574-4dfa-a0aa-995ef0d6d69c');\n",
              "          const dataTable =\n",
              "            await google.colab.kernel.invokeFunction('convertToInteractive',\n",
              "                                                     [key], {});\n",
              "          if (!dataTable) return;\n",
              "\n",
              "          const docLinkHtml = 'Like what you see? Visit the ' +\n",
              "            '<a target=\"_blank\" href=https://colab.research.google.com/notebooks/data_table.ipynb>data table notebook</a>'\n",
              "            + ' to learn more about interactive tables.';\n",
              "          element.innerHTML = '';\n",
              "          dataTable['output_type'] = 'display_data';\n",
              "          await google.colab.output.renderOutput(dataTable, element);\n",
              "          const docLink = document.createElement('div');\n",
              "          docLink.innerHTML = docLinkHtml;\n",
              "          element.appendChild(docLink);\n",
              "        }\n",
              "      </script>\n",
              "    </div>\n",
              "  </div>\n"
            ]
          },
          "metadata": {},
          "execution_count": 5
        }
      ]
    },
    {
      "cell_type": "markdown",
      "source": [
        "## Plot of Average Wind Speed:"
      ],
      "metadata": {
        "id": "Q9sDeFl4W9vN"
      }
    },
    {
      "cell_type": "code",
      "source": [
        "fig = go.Figure()\n",
        "\n",
        "fig.add_trace(go.Scatter(x = df1.index, y = df1['wind_speed_avg'], mode = 'lines+markers'))\n",
        "\n",
        "fig.update_layout(title = \"Average Wind Speed\")\n",
        "fig.update_yaxes(title_text = \"Average Wind Speed\")\n",
        "fig.update_xaxes(title_text = \"Datetime\")\n",
        "\n",
        "fig.show()"
      ],
      "metadata": {
        "colab": {
          "base_uri": "https://localhost:8080/",
          "height": 542
        },
        "id": "r8CoUK_rWosY",
        "outputId": "b0ffaf51-6dea-45a9-cb3f-5a6c0c06a234"
      },
      "execution_count": 6,
      "outputs": [
        {
          "output_type": "display_data",
          "data": {
            "text/html": [
              "<html>\n",
              "<head><meta charset=\"utf-8\" /></head>\n",
              "<body>\n",
              "    <div>            <script src=\"https://cdnjs.cloudflare.com/ajax/libs/mathjax/2.7.5/MathJax.js?config=TeX-AMS-MML_SVG\"></script><script type=\"text/javascript\">if (window.MathJax && window.MathJax.Hub && window.MathJax.Hub.Config) {window.MathJax.Hub.Config({SVG: {font: \"STIX-Web\"}});}</script>                <script type=\"text/javascript\">window.PlotlyConfig = {MathJaxConfig: 'local'};</script>\n",
              "        <script src=\"https://cdn.plot.ly/plotly-2.18.2.min.js\"></script>                <div id=\"2b4a607d-8eb7-4003-8e34-eaf042b6cad1\" class=\"plotly-graph-div\" style=\"height:525px; width:100%;\"></div>            <script type=\"text/javascript\">                                    window.PLOTLYENV=window.PLOTLYENV || {};                                    if (document.getElementById(\"2b4a607d-8eb7-4003-8e34-eaf042b6cad1\")) {                    Plotly.newPlot(                        \"2b4a607d-8eb7-4003-8e34-eaf042b6cad1\",                        [{\"mode\":\"lines+markers\",\"x\":[\"2023-04-25 13:00:00\",\"2023-04-25 14:00:00\",\"2023-04-25 15:00:00\",\"2023-04-25 16:00:00\",\"2023-04-25 17:00:00\",\"2023-04-25 18:00:00\",\"2023-04-25 19:00:00\",\"2023-04-25 20:00:00\",\"2023-04-25 21:00:00\",\"2023-04-25 22:00:00\",\"2023-04-25 23:00:00\",\"2023-04-26 00:00:00\",\"2023-04-26 01:00:00\",\"2023-04-26 02:00:00\",\"2023-04-26 03:00:00\",\"2023-04-26 04:00:00\",\"2023-04-26 05:00:00\",\"2023-04-26 06:00:00\",\"2023-04-26 07:00:00\",\"2023-04-26 08:00:00\",\"2023-04-26 09:00:00\",\"2023-04-26 10:00:00\",\"2023-04-26 11:00:00\",\"2023-04-26 12:00:00\",\"2023-04-26 13:00:00\",\"2023-04-26 14:00:00\",\"2023-04-26 15:00:00\",\"2023-04-26 16:00:00\",\"2023-04-26 17:00:00\",\"2023-04-26 18:00:00\",\"2023-04-26 19:00:00\",\"2023-04-26 20:00:00\",\"2023-04-26 21:00:00\",\"2023-04-26 22:00:00\",\"2023-04-26 23:00:00\",\"2023-04-27 00:00:00\",\"2023-04-27 01:00:00\",\"2023-04-27 02:00:00\",\"2023-04-27 03:00:00\",\"2023-04-27 04:00:00\",\"2023-04-27 05:00:00\",\"2023-04-27 06:00:00\",\"2023-04-27 07:00:00\",\"2023-04-27 08:00:00\",\"2023-04-27 09:00:00\",\"2023-04-27 10:00:00\",\"2023-04-27 11:00:00\",\"2023-04-27 12:00:00\",\"2023-04-27 13:00:00\",\"2023-04-27 14:00:00\",\"2023-04-27 15:00:00\",\"2023-04-27 16:00:00\",\"2023-04-27 17:00:00\",\"2023-04-27 18:00:00\",\"2023-04-27 19:00:00\",\"2023-04-27 20:00:00\",\"2023-04-27 21:00:00\",\"2023-04-27 22:00:00\",\"2023-04-27 23:00:00\",\"2023-04-28 00:00:00\",\"2023-04-28 01:00:00\",\"2023-04-28 02:00:00\",\"2023-04-28 03:00:00\",\"2023-04-28 04:00:00\",\"2023-04-28 05:00:00\",\"2023-04-28 06:00:00\",\"2023-04-28 07:00:00\",\"2023-04-28 08:00:00\",\"2023-04-28 09:00:00\",\"2023-04-28 10:00:00\",\"2023-04-28 11:00:00\",\"2023-04-28 12:00:00\",\"2023-04-28 13:00:00\",\"2023-04-28 14:00:00\",\"2023-04-28 15:00:00\",\"2023-04-28 16:00:00\",\"2023-04-28 17:00:00\",\"2023-04-28 18:00:00\",\"2023-04-28 19:00:00\",\"2023-04-28 20:00:00\",\"2023-04-28 21:00:00\",\"2023-04-28 22:00:00\",\"2023-04-28 23:00:00\",\"2023-04-29 00:00:00\",\"2023-04-29 01:00:00\",\"2023-04-29 02:00:00\",\"2023-04-29 03:00:00\",\"2023-04-29 04:00:00\",\"2023-04-29 05:00:00\",\"2023-04-29 06:00:00\",\"2023-04-29 07:00:00\",\"2023-04-29 08:00:00\",\"2023-04-29 09:00:00\",\"2023-04-29 10:00:00\",\"2023-04-29 11:00:00\",\"2023-04-29 12:00:00\",\"2023-04-29 13:00:00\",\"2023-04-29 14:00:00\",\"2023-04-29 15:00:00\",\"2023-04-29 16:00:00\",\"2023-04-29 17:00:00\",\"2023-04-29 18:00:00\",\"2023-04-29 19:00:00\",\"2023-04-29 20:00:00\",\"2023-04-29 21:00:00\",\"2023-04-29 22:00:00\",\"2023-04-29 23:00:00\",\"2023-04-30 00:00:00\",\"2023-04-30 01:00:00\",\"2023-04-30 02:00:00\",\"2023-04-30 03:00:00\",\"2023-04-30 04:00:00\",\"2023-04-30 05:00:00\",\"2023-04-30 06:00:00\",\"2023-04-30 07:00:00\",\"2023-04-30 08:00:00\",\"2023-04-30 09:00:00\",\"2023-04-30 10:00:00\",\"2023-04-30 11:00:00\",\"2023-04-30 12:00:00\",\"2023-04-30 13:00:00\",\"2023-04-30 14:00:00\",\"2023-04-30 15:00:00\",\"2023-04-30 16:00:00\",\"2023-04-30 17:00:00\",\"2023-04-30 18:00:00\",\"2023-04-30 19:00:00\",\"2023-04-30 20:00:00\",\"2023-04-30 21:00:00\",\"2023-04-30 22:00:00\",\"2023-04-30 23:00:00\",\"2023-05-01 00:00:00\",\"2023-05-01 01:00:00\",\"2023-05-01 02:00:00\",\"2023-05-01 03:00:00\",\"2023-05-01 04:00:00\",\"2023-05-01 05:00:00\",\"2023-05-01 06:00:00\",\"2023-05-01 07:00:00\",\"2023-05-01 08:00:00\",\"2023-05-01 09:00:00\",\"2023-05-01 10:00:00\",\"2023-05-01 11:00:00\",\"2023-05-01 12:00:00\",\"2023-05-01 13:00:00\",\"2023-05-01 14:00:00\",\"2023-05-01 15:00:00\",\"2023-05-01 16:00:00\",\"2023-05-01 17:00:00\",\"2023-05-01 18:00:00\",\"2023-05-01 19:00:00\",\"2023-05-01 20:00:00\",\"2023-05-01 21:00:00\",\"2023-05-01 22:00:00\",\"2023-05-01 23:00:00\",\"2023-05-02 00:00:00\",\"2023-05-02 01:00:00\",\"2023-05-02 02:00:00\",\"2023-05-02 03:00:00\",\"2023-05-02 04:00:00\",\"2023-05-02 05:00:00\",\"2023-05-02 06:00:00\",\"2023-05-02 07:00:00\",\"2023-05-02 08:00:00\",\"2023-05-02 09:00:00\",\"2023-05-02 10:00:00\",\"2023-05-02 11:00:00\",\"2023-05-02 12:00:00\",\"2023-05-02 13:00:00\",\"2023-05-02 14:00:00\",\"2023-05-02 15:00:00\",\"2023-05-02 16:00:00\",\"2023-05-02 17:00:00\",\"2023-05-02 18:00:00\",\"2023-05-02 19:00:00\",\"2023-05-02 20:00:00\",\"2023-05-02 21:00:00\",\"2023-05-02 22:00:00\",\"2023-05-02 23:00:00\",\"2023-05-03 00:00:00\",\"2023-05-03 01:00:00\",\"2023-05-03 02:00:00\",\"2023-05-03 03:00:00\",\"2023-05-03 04:00:00\",\"2023-05-03 05:00:00\",\"2023-05-03 06:00:00\",\"2023-05-03 07:00:00\",\"2023-05-03 08:00:00\",\"2023-05-03 09:00:00\",\"2023-05-03 10:00:00\",\"2023-05-03 11:00:00\",\"2023-05-03 12:00:00\",\"2023-05-03 13:00:00\",\"2023-05-03 14:00:00\",\"2023-05-03 15:00:00\",\"2023-05-03 16:00:00\",\"2023-05-03 17:00:00\",\"2023-05-03 18:00:00\",\"2023-05-03 19:00:00\",\"2023-05-03 20:00:00\",\"2023-05-03 21:00:00\",\"2023-05-03 22:00:00\",\"2023-05-03 23:00:00\",\"2023-05-04 00:00:00\",\"2023-05-04 01:00:00\",\"2023-05-04 02:00:00\",\"2023-05-04 03:00:00\",\"2023-05-04 04:00:00\",\"2023-05-04 05:00:00\",\"2023-05-04 06:00:00\",\"2023-05-04 07:00:00\",\"2023-05-04 08:00:00\",\"2023-05-04 09:00:00\",\"2023-05-04 10:00:00\",\"2023-05-04 11:00:00\",\"2023-05-04 12:00:00\",\"2023-05-04 13:00:00\",\"2023-05-04 14:00:00\",\"2023-05-04 15:00:00\",\"2023-05-04 16:00:00\",\"2023-05-04 17:00:00\",\"2023-05-04 18:00:00\",\"2023-05-04 19:00:00\",\"2023-05-04 20:00:00\",\"2023-05-04 21:00:00\",\"2023-05-04 22:00:00\",\"2023-05-04 23:00:00\",\"2023-05-05 00:00:00\",\"2023-05-05 01:00:00\",\"2023-05-05 02:00:00\",\"2023-05-05 03:00:00\",\"2023-05-05 04:00:00\",\"2023-05-05 05:00:00\",\"2023-05-05 06:00:00\",\"2023-05-05 07:00:00\",\"2023-05-05 08:00:00\",\"2023-05-05 09:00:00\",\"2023-05-05 10:00:00\",\"2023-05-05 11:00:00\",\"2023-05-05 12:00:00\",\"2023-05-05 13:00:00\",\"2023-05-05 14:00:00\",\"2023-05-05 15:00:00\",\"2023-05-05 16:00:00\",\"2023-05-05 17:00:00\",\"2023-05-05 18:00:00\",\"2023-05-05 19:00:00\",\"2023-05-05 20:00:00\",\"2023-05-05 21:00:00\",\"2023-05-05 22:00:00\",\"2023-05-05 23:00:00\",\"2023-05-06 00:00:00\",\"2023-05-06 01:00:00\",\"2023-05-06 02:00:00\",\"2023-05-06 03:00:00\",\"2023-05-06 04:00:00\",\"2023-05-06 05:00:00\",\"2023-05-06 06:00:00\",\"2023-05-06 07:00:00\",\"2023-05-06 08:00:00\",\"2023-05-06 09:00:00\",\"2023-05-06 10:00:00\",\"2023-05-06 11:00:00\",\"2023-05-06 12:00:00\",\"2023-05-06 13:00:00\",\"2023-05-06 14:00:00\",\"2023-05-06 15:00:00\",\"2023-05-06 16:00:00\",\"2023-05-06 17:00:00\",\"2023-05-06 18:00:00\",\"2023-05-06 19:00:00\",\"2023-05-06 20:00:00\",\"2023-05-06 21:00:00\",\"2023-05-06 22:00:00\",\"2023-05-06 23:00:00\",\"2023-05-07 00:00:00\",\"2023-05-07 01:00:00\",\"2023-05-07 02:00:00\",\"2023-05-07 03:00:00\",\"2023-05-07 04:00:00\",\"2023-05-07 05:00:00\",\"2023-05-07 06:00:00\",\"2023-05-07 07:00:00\",\"2023-05-07 08:00:00\",\"2023-05-07 09:00:00\",\"2023-05-07 10:00:00\",\"2023-05-07 11:00:00\",\"2023-05-07 12:00:00\",\"2023-05-07 13:00:00\",\"2023-05-07 14:00:00\",\"2023-05-07 15:00:00\",\"2023-05-07 16:00:00\",\"2023-05-07 17:00:00\",\"2023-05-07 18:00:00\",\"2023-05-07 19:00:00\",\"2023-05-07 20:00:00\",\"2023-05-07 21:00:00\",\"2023-05-07 22:00:00\",\"2023-05-07 23:00:00\",\"2023-05-08 00:00:00\",\"2023-05-08 01:00:00\",\"2023-05-08 02:00:00\",\"2023-05-08 03:00:00\",\"2023-05-08 04:00:00\",\"2023-05-08 05:00:00\",\"2023-05-08 06:00:00\",\"2023-05-08 07:00:00\",\"2023-05-08 08:00:00\",\"2023-05-08 09:00:00\",\"2023-05-08 10:00:00\",\"2023-05-08 11:00:00\",\"2023-05-08 12:00:00\",\"2023-05-08 13:00:00\",\"2023-05-08 14:00:00\",\"2023-05-08 15:00:00\",\"2023-05-08 16:00:00\",\"2023-05-08 17:00:00\",\"2023-05-08 18:00:00\",\"2023-05-08 19:00:00\",\"2023-05-08 20:00:00\",\"2023-05-08 21:00:00\",\"2023-05-08 22:00:00\",\"2023-05-08 23:00:00\",\"2023-05-09 00:00:00\",\"2023-05-09 01:00:00\",\"2023-05-09 02:00:00\",\"2023-05-09 03:00:00\",\"2023-05-09 04:00:00\",\"2023-05-09 05:00:00\",\"2023-05-09 06:00:00\",\"2023-05-09 07:00:00\",\"2023-05-09 08:00:00\",\"2023-05-09 09:00:00\",\"2023-05-09 10:00:00\",\"2023-05-09 11:00:00\",\"2023-05-09 12:00:00\",\"2023-05-09 13:00:00\",\"2023-05-09 14:00:00\",\"2023-05-09 15:00:00\",\"2023-05-09 16:00:00\",\"2023-05-09 17:00:00\",\"2023-05-09 18:00:00\",\"2023-05-09 19:00:00\",\"2023-05-09 20:00:00\",\"2023-05-09 21:00:00\",\"2023-05-09 22:00:00\",\"2023-05-09 23:00:00\",\"2023-05-10 00:00:00\",\"2023-05-10 01:00:00\",\"2023-05-10 02:00:00\",\"2023-05-10 03:00:00\",\"2023-05-10 04:00:00\",\"2023-05-10 05:00:00\",\"2023-05-10 06:00:00\",\"2023-05-10 07:00:00\",\"2023-05-10 08:00:00\",\"2023-05-10 09:00:00\",\"2023-05-10 10:00:00\",\"2023-05-10 11:00:00\",\"2023-05-10 12:00:00\",\"2023-05-10 13:00:00\",\"2023-05-10 14:00:00\",\"2023-05-10 15:00:00\",\"2023-05-10 16:00:00\",\"2023-05-10 17:00:00\",\"2023-05-10 18:00:00\",\"2023-05-10 19:00:00\",\"2023-05-10 20:00:00\",\"2023-05-10 21:00:00\",\"2023-05-10 22:00:00\",\"2023-05-10 23:00:00\",\"2023-05-11 00:00:00\",\"2023-05-11 01:00:00\",\"2023-05-11 02:00:00\",\"2023-05-11 03:00:00\",\"2023-05-11 04:00:00\",\"2023-05-11 05:00:00\",\"2023-05-11 06:00:00\",\"2023-05-11 07:00:00\",\"2023-05-11 08:00:00\",\"2023-05-11 09:00:00\",\"2023-05-11 10:00:00\",\"2023-05-11 11:00:00\",\"2023-05-11 12:00:00\",\"2023-05-11 13:00:00\",\"2023-05-11 14:00:00\",\"2023-05-11 15:00:00\",\"2023-05-11 16:00:00\",\"2023-05-11 17:00:00\",\"2023-05-11 18:00:00\",\"2023-05-11 19:00:00\",\"2023-05-11 20:00:00\",\"2023-05-11 21:00:00\",\"2023-05-11 22:00:00\",\"2023-05-11 23:00:00\",\"2023-05-12 00:00:00\",\"2023-05-12 01:00:00\",\"2023-05-12 02:00:00\",\"2023-05-12 03:00:00\",\"2023-05-12 04:00:00\",\"2023-05-12 05:00:00\",\"2023-05-12 06:00:00\",\"2023-05-12 07:00:00\",\"2023-05-12 08:00:00\",\"2023-05-12 09:00:00\",\"2023-05-12 10:00:00\",\"2023-05-12 11:00:00\",\"2023-05-12 12:00:00\",\"2023-05-12 13:00:00\",\"2023-05-12 14:00:00\",\"2023-05-12 15:00:00\",\"2023-05-12 16:00:00\",\"2023-05-12 17:00:00\",\"2023-05-12 18:00:00\",\"2023-05-12 19:00:00\",\"2023-05-12 20:00:00\",\"2023-05-12 21:00:00\",\"2023-05-12 22:00:00\",\"2023-05-12 23:00:00\",\"2023-05-13 00:00:00\",\"2023-05-13 01:00:00\",\"2023-05-13 02:00:00\",\"2023-05-13 03:00:00\",\"2023-05-13 04:00:00\",\"2023-05-13 05:00:00\",\"2023-05-13 06:00:00\",\"2023-05-13 07:00:00\",\"2023-05-13 08:00:00\",\"2023-05-13 09:00:00\",\"2023-05-13 10:00:00\",\"2023-05-13 11:00:00\",\"2023-05-13 12:00:00\",\"2023-05-13 13:00:00\",\"2023-05-13 14:00:00\",\"2023-05-13 15:00:00\",\"2023-05-13 16:00:00\",\"2023-05-13 17:00:00\",\"2023-05-13 18:00:00\",\"2023-05-13 19:00:00\",\"2023-05-13 20:00:00\",\"2023-05-13 21:00:00\",\"2023-05-13 22:00:00\",\"2023-05-13 23:00:00\",\"2023-05-14 00:00:00\",\"2023-05-14 01:00:00\",\"2023-05-14 02:00:00\",\"2023-05-14 03:00:00\",\"2023-05-14 04:00:00\",\"2023-05-14 05:00:00\",\"2023-05-14 06:00:00\",\"2023-05-14 07:00:00\",\"2023-05-14 08:00:00\",\"2023-05-14 09:00:00\",\"2023-05-14 10:00:00\",\"2023-05-14 11:00:00\",\"2023-05-14 12:00:00\",\"2023-05-14 13:00:00\",\"2023-05-14 14:00:00\",\"2023-05-14 15:00:00\",\"2023-05-14 16:00:00\",\"2023-05-14 17:00:00\",\"2023-05-14 18:00:00\",\"2023-05-14 19:00:00\",\"2023-05-14 20:00:00\",\"2023-05-14 21:00:00\",\"2023-05-14 22:00:00\",\"2023-05-14 23:00:00\",\"2023-05-15 00:00:00\",\"2023-05-15 01:00:00\",\"2023-05-15 02:00:00\",\"2023-05-15 03:00:00\",\"2023-05-15 04:00:00\",\"2023-05-15 05:00:00\",\"2023-05-15 06:00:00\",\"2023-05-15 07:00:00\",\"2023-05-15 08:00:00\",\"2023-05-15 09:00:00\",\"2023-05-15 10:00:00\",\"2023-05-15 11:00:00\",\"2023-05-15 12:00:00\",\"2023-05-15 13:00:00\",\"2023-05-15 14:00:00\",\"2023-05-15 15:00:00\",\"2023-05-15 16:00:00\",\"2023-05-15 17:00:00\",\"2023-05-15 18:00:00\",\"2023-05-15 19:00:00\",\"2023-05-15 20:00:00\",\"2023-05-15 21:00:00\",\"2023-05-15 22:00:00\",\"2023-05-15 23:00:00\",\"2023-05-16 00:00:00\",\"2023-05-16 01:00:00\",\"2023-05-16 02:00:00\",\"2023-05-16 03:00:00\",\"2023-05-16 04:00:00\",\"2023-05-16 05:00:00\",\"2023-05-16 06:00:00\",\"2023-05-16 07:00:00\",\"2023-05-16 08:00:00\",\"2023-05-16 09:00:00\",\"2023-05-16 10:00:00\",\"2023-05-16 11:00:00\",\"2023-05-16 12:00:00\",\"2023-05-16 13:00:00\",\"2023-05-16 14:00:00\",\"2023-05-16 15:00:00\",\"2023-05-16 16:00:00\",\"2023-05-16 17:00:00\",\"2023-05-16 18:00:00\",\"2023-05-16 19:00:00\",\"2023-05-16 20:00:00\",\"2023-05-16 21:00:00\",\"2023-05-16 22:00:00\",\"2023-05-16 23:00:00\",\"2023-05-17 00:00:00\",\"2023-05-17 01:00:00\",\"2023-05-17 02:00:00\",\"2023-05-17 03:00:00\",\"2023-05-17 04:00:00\",\"2023-05-17 05:00:00\",\"2023-05-17 06:00:00\",\"2023-05-17 07:00:00\",\"2023-05-17 08:00:00\",\"2023-05-17 09:00:00\",\"2023-05-17 10:00:00\",\"2023-05-17 11:00:00\",\"2023-05-17 12:00:00\",\"2023-05-17 13:00:00\",\"2023-05-17 14:00:00\",\"2023-05-17 15:00:00\",\"2023-05-17 16:00:00\",\"2023-05-17 17:00:00\",\"2023-05-17 18:00:00\",\"2023-05-17 19:00:00\",\"2023-05-17 20:00:00\",\"2023-05-17 21:00:00\",\"2023-05-17 22:00:00\",\"2023-05-17 23:00:00\",\"2023-05-18 00:00:00\",\"2023-05-18 01:00:00\",\"2023-05-18 02:00:00\",\"2023-05-18 03:00:00\",\"2023-05-18 04:00:00\",\"2023-05-18 05:00:00\",\"2023-05-18 06:00:00\",\"2023-05-18 07:00:00\",\"2023-05-18 08:00:00\",\"2023-05-18 09:00:00\",\"2023-05-18 10:00:00\",\"2023-05-18 11:00:00\",\"2023-05-18 12:00:00\",\"2023-05-18 13:00:00\",\"2023-05-18 14:00:00\",\"2023-05-18 15:00:00\",\"2023-05-18 16:00:00\",\"2023-05-18 17:00:00\",\"2023-05-18 18:00:00\",\"2023-05-18 19:00:00\",\"2023-05-18 20:00:00\",\"2023-05-18 21:00:00\",\"2023-05-18 22:00:00\",\"2023-05-18 23:00:00\",\"2023-05-19 00:00:00\",\"2023-05-19 01:00:00\",\"2023-05-19 02:00:00\",\"2023-05-19 03:00:00\",\"2023-05-19 04:00:00\",\"2023-05-19 05:00:00\",\"2023-05-19 06:00:00\",\"2023-05-19 07:00:00\",\"2023-05-19 08:00:00\",\"2023-05-19 09:00:00\",\"2023-05-19 10:00:00\",\"2023-05-19 11:00:00\",\"2023-05-19 12:00:00\",\"2023-05-19 13:00:00\",\"2023-05-19 14:00:00\",\"2023-05-19 15:00:00\",\"2023-05-19 16:00:00\",\"2023-05-19 17:00:00\",\"2023-05-19 18:00:00\",\"2023-05-19 19:00:00\",\"2023-05-19 20:00:00\",\"2023-05-19 21:00:00\",\"2023-05-19 22:00:00\",\"2023-05-19 23:00:00\",\"2023-05-20 00:00:00\",\"2023-05-20 01:00:00\",\"2023-05-20 02:00:00\",\"2023-05-20 03:00:00\",\"2023-05-20 04:00:00\",\"2023-05-20 05:00:00\",\"2023-05-20 06:00:00\",\"2023-05-20 07:00:00\",\"2023-05-20 08:00:00\",\"2023-05-20 09:00:00\",\"2023-05-20 10:00:00\",\"2023-05-20 11:00:00\",\"2023-05-20 12:00:00\",\"2023-05-20 13:00:00\",\"2023-05-20 14:00:00\",\"2023-05-20 15:00:00\",\"2023-05-20 16:00:00\",\"2023-05-20 17:00:00\",\"2023-05-20 18:00:00\",\"2023-05-20 19:00:00\",\"2023-05-20 20:00:00\",\"2023-05-20 21:00:00\",\"2023-05-20 22:00:00\",\"2023-05-20 23:00:00\",\"2023-05-21 00:00:00\",\"2023-05-21 01:00:00\",\"2023-05-21 02:00:00\",\"2023-05-21 03:00:00\",\"2023-05-21 04:00:00\",\"2023-05-21 05:00:00\",\"2023-05-21 06:00:00\",\"2023-05-21 07:00:00\",\"2023-05-21 08:00:00\",\"2023-05-21 09:00:00\",\"2023-05-21 10:00:00\",\"2023-05-21 11:00:00\",\"2023-05-21 12:00:00\",\"2023-05-21 13:00:00\",\"2023-05-21 14:00:00\",\"2023-05-21 15:00:00\",\"2023-05-21 16:00:00\",\"2023-05-21 17:00:00\",\"2023-05-21 18:00:00\",\"2023-05-21 19:00:00\",\"2023-05-21 20:00:00\",\"2023-05-21 21:00:00\",\"2023-05-21 22:00:00\",\"2023-05-21 23:00:00\",\"2023-05-22 00:00:00\",\"2023-05-22 01:00:00\",\"2023-05-22 02:00:00\",\"2023-05-22 03:00:00\",\"2023-05-22 04:00:00\",\"2023-05-22 05:00:00\",\"2023-05-22 06:00:00\",\"2023-05-22 07:00:00\",\"2023-05-22 08:00:00\",\"2023-05-22 09:00:00\",\"2023-05-22 10:00:00\",\"2023-05-22 11:00:00\",\"2023-05-22 12:00:00\",\"2023-05-22 13:00:00\",\"2023-05-22 14:00:00\",\"2023-05-22 15:00:00\",\"2023-05-22 16:00:00\",\"2023-05-22 17:00:00\",\"2023-05-22 18:00:00\",\"2023-05-22 19:00:00\",\"2023-05-22 20:00:00\",\"2023-05-22 21:00:00\",\"2023-05-22 22:00:00\",\"2023-05-22 23:00:00\",\"2023-05-23 00:00:00\",\"2023-05-23 01:00:00\",\"2023-05-23 02:00:00\",\"2023-05-23 03:00:00\",\"2023-05-23 04:00:00\",\"2023-05-23 05:00:00\",\"2023-05-23 06:00:00\",\"2023-05-23 07:00:00\",\"2023-05-23 08:00:00\",\"2023-05-23 09:00:00\",\"2023-05-23 10:00:00\",\"2023-05-23 11:00:00\",\"2023-05-23 12:00:00\",\"2023-05-23 13:00:00\",\"2023-05-23 14:00:00\",\"2023-05-23 15:00:00\",\"2023-05-23 16:00:00\",\"2023-05-23 17:00:00\",\"2023-05-23 18:00:00\",\"2023-05-23 19:00:00\",\"2023-05-23 20:00:00\",\"2023-05-23 21:00:00\",\"2023-05-23 22:00:00\",\"2023-05-23 23:00:00\",\"2023-05-24 00:00:00\",\"2023-05-24 01:00:00\",\"2023-05-24 02:00:00\",\"2023-05-24 03:00:00\",\"2023-05-24 04:00:00\",\"2023-05-24 05:00:00\",\"2023-05-24 06:00:00\",\"2023-05-24 07:00:00\",\"2023-05-24 08:00:00\",\"2023-05-24 09:00:00\",\"2023-05-24 10:00:00\",\"2023-05-24 11:00:00\",\"2023-05-24 12:00:00\",\"2023-05-24 13:00:00\",\"2023-05-24 14:00:00\",\"2023-05-24 15:00:00\",\"2023-05-24 16:00:00\",\"2023-05-24 17:00:00\",\"2023-05-24 18:00:00\",\"2023-05-24 19:00:00\",\"2023-05-24 20:00:00\",\"2023-05-24 21:00:00\",\"2023-05-24 22:00:00\",\"2023-05-24 23:00:00\",\"2023-05-25 00:00:00\",\"2023-05-25 01:00:00\",\"2023-05-25 02:00:00\",\"2023-05-25 03:00:00\",\"2023-05-25 04:00:00\",\"2023-05-25 05:00:00\",\"2023-05-25 06:00:00\",\"2023-05-25 07:00:00\",\"2023-05-25 08:00:00\",\"2023-05-25 09:00:00\",\"2023-05-25 10:00:00\",\"2023-05-25 11:00:00\",\"2023-05-25 12:00:00\",\"2023-05-25 13:00:00\",\"2023-05-25 14:00:00\",\"2023-05-25 15:00:00\",\"2023-05-25 16:00:00\",\"2023-05-25 17:00:00\",\"2023-05-25 18:00:00\",\"2023-05-25 19:00:00\",\"2023-05-25 20:00:00\",\"2023-05-25 21:00:00\",\"2023-05-25 22:00:00\",\"2023-05-25 23:00:00\",\"2023-05-26 00:00:00\",\"2023-05-26 01:00:00\",\"2023-05-26 02:00:00\",\"2023-05-26 03:00:00\",\"2023-05-26 04:00:00\",\"2023-05-26 05:00:00\",\"2023-05-26 06:00:00\",\"2023-05-26 07:00:00\",\"2023-05-26 08:00:00\",\"2023-05-26 09:00:00\",\"2023-05-26 10:00:00\",\"2023-05-26 11:00:00\",\"2023-05-26 12:00:00\",\"2023-05-26 13:00:00\",\"2023-05-26 14:00:00\",\"2023-05-26 15:00:00\",\"2023-05-26 16:00:00\",\"2023-05-26 17:00:00\",\"2023-05-26 18:00:00\",\"2023-05-26 19:00:00\",\"2023-05-26 20:00:00\",\"2023-05-26 21:00:00\",\"2023-05-26 22:00:00\",\"2023-05-26 23:00:00\",\"2023-05-27 00:00:00\",\"2023-05-27 01:00:00\",\"2023-05-27 02:00:00\",\"2023-05-27 03:00:00\",\"2023-05-27 04:00:00\",\"2023-05-27 05:00:00\",\"2023-05-27 06:00:00\",\"2023-05-27 07:00:00\",\"2023-05-27 08:00:00\",\"2023-05-27 09:00:00\",\"2023-05-27 10:00:00\",\"2023-05-27 11:00:00\",\"2023-05-27 12:00:00\",\"2023-05-27 13:00:00\",\"2023-05-27 14:00:00\",\"2023-05-27 15:00:00\",\"2023-05-27 16:00:00\",\"2023-05-27 17:00:00\",\"2023-05-27 18:00:00\",\"2023-05-27 19:00:00\",\"2023-05-27 20:00:00\",\"2023-05-27 21:00:00\",\"2023-05-27 22:00:00\",\"2023-05-27 23:00:00\",\"2023-05-28 00:00:00\",\"2023-05-28 01:00:00\",\"2023-05-28 02:00:00\",\"2023-05-28 03:00:00\",\"2023-05-28 04:00:00\",\"2023-05-28 05:00:00\",\"2023-05-28 06:00:00\",\"2023-05-28 07:00:00\",\"2023-05-28 08:00:00\",\"2023-05-28 09:00:00\",\"2023-05-28 10:00:00\",\"2023-05-28 11:00:00\",\"2023-05-28 12:00:00\",\"2023-05-28 13:00:00\",\"2023-05-28 14:00:00\",\"2023-05-28 15:00:00\",\"2023-05-28 16:00:00\",\"2023-05-28 17:00:00\",\"2023-05-28 18:00:00\",\"2023-05-28 19:00:00\",\"2023-05-28 20:00:00\",\"2023-05-28 21:00:00\",\"2023-05-28 22:00:00\",\"2023-05-28 23:00:00\",\"2023-05-29 00:00:00\",\"2023-05-29 01:00:00\",\"2023-05-29 02:00:00\",\"2023-05-29 03:00:00\",\"2023-05-29 04:00:00\",\"2023-05-29 05:00:00\",\"2023-05-29 06:00:00\",\"2023-05-29 07:00:00\",\"2023-05-29 08:00:00\",\"2023-05-29 09:00:00\",\"2023-05-29 10:00:00\",\"2023-05-29 11:00:00\",\"2023-05-29 12:00:00\",\"2023-05-29 13:00:00\",\"2023-05-29 14:00:00\",\"2023-05-29 15:00:00\",\"2023-05-29 16:00:00\",\"2023-05-29 17:00:00\",\"2023-05-29 18:00:00\",\"2023-05-29 19:00:00\",\"2023-05-29 20:00:00\",\"2023-05-29 21:00:00\",\"2023-05-29 22:00:00\",\"2023-05-29 23:00:00\",\"2023-05-30 00:00:00\",\"2023-05-30 01:00:00\",\"2023-05-30 02:00:00\",\"2023-05-30 03:00:00\",\"2023-05-30 04:00:00\",\"2023-05-30 05:00:00\",\"2023-05-30 06:00:00\",\"2023-05-30 07:00:00\",\"2023-05-30 08:00:00\",\"2023-05-30 09:00:00\",\"2023-05-30 10:00:00\",\"2023-05-30 11:00:00\",\"2023-05-30 12:00:00\",\"2023-05-30 13:00:00\",\"2023-05-30 14:00:00\",\"2023-05-30 15:00:00\",\"2023-05-30 16:00:00\",\"2023-05-30 17:00:00\",\"2023-05-30 18:00:00\",\"2023-05-30 19:00:00\",\"2023-05-30 20:00:00\",\"2023-05-30 21:00:00\",\"2023-05-30 22:00:00\",\"2023-05-30 23:00:00\",\"2023-05-31 00:00:00\",\"2023-05-31 01:00:00\",\"2023-05-31 02:00:00\",\"2023-05-31 03:00:00\",\"2023-05-31 04:00:00\",\"2023-05-31 05:00:00\",\"2023-05-31 06:00:00\",\"2023-05-31 07:00:00\",\"2023-05-31 08:00:00\",\"2023-05-31 09:00:00\",\"2023-05-31 10:00:00\",\"2023-05-31 11:00:00\",\"2023-05-31 12:00:00\",\"2023-05-31 13:00:00\",\"2023-05-31 14:00:00\",\"2023-05-31 15:00:00\",\"2023-05-31 16:00:00\",\"2023-05-31 17:00:00\",\"2023-05-31 18:00:00\",\"2023-05-31 19:00:00\",\"2023-05-31 20:00:00\",\"2023-05-31 21:00:00\",\"2023-05-31 22:00:00\",\"2023-05-31 23:00:00\",\"2023-06-01 00:00:00\",\"2023-06-01 01:00:00\",\"2023-06-01 02:00:00\",\"2023-06-01 03:00:00\",\"2023-06-01 04:00:00\",\"2023-06-01 05:00:00\",\"2023-06-01 06:00:00\",\"2023-06-01 07:00:00\",\"2023-06-01 08:00:00\",\"2023-06-01 09:00:00\",\"2023-06-01 10:00:00\",\"2023-06-01 11:00:00\",\"2023-06-01 12:00:00\",\"2023-06-01 13:00:00\",\"2023-06-01 14:00:00\",\"2023-06-01 15:00:00\",\"2023-06-01 16:00:00\",\"2023-06-01 17:00:00\",\"2023-06-01 18:00:00\",\"2023-06-01 19:00:00\",\"2023-06-01 20:00:00\",\"2023-06-01 21:00:00\",\"2023-06-01 22:00:00\",\"2023-06-01 23:00:00\",\"2023-06-02 00:00:00\",\"2023-06-02 01:00:00\",\"2023-06-02 02:00:00\",\"2023-06-02 03:00:00\",\"2023-06-02 04:00:00\",\"2023-06-02 05:00:00\",\"2023-06-02 06:00:00\",\"2023-06-02 07:00:00\",\"2023-06-02 08:00:00\",\"2023-06-02 09:00:00\",\"2023-06-02 10:00:00\",\"2023-06-02 11:00:00\",\"2023-06-02 12:00:00\",\"2023-06-02 13:00:00\",\"2023-06-02 14:00:00\",\"2023-06-02 15:00:00\",\"2023-06-02 16:00:00\",\"2023-06-02 17:00:00\",\"2023-06-02 18:00:00\",\"2023-06-02 19:00:00\",\"2023-06-02 20:00:00\",\"2023-06-02 21:00:00\",\"2023-06-02 22:00:00\",\"2023-06-02 23:00:00\",\"2023-06-03 00:00:00\",\"2023-06-03 01:00:00\",\"2023-06-03 02:00:00\",\"2023-06-03 03:00:00\",\"2023-06-03 04:00:00\",\"2023-06-03 05:00:00\",\"2023-06-03 06:00:00\",\"2023-06-03 07:00:00\",\"2023-06-03 08:00:00\",\"2023-06-03 09:00:00\",\"2023-06-03 10:00:00\",\"2023-06-03 11:00:00\",\"2023-06-03 12:00:00\",\"2023-06-03 13:00:00\",\"2023-06-03 14:00:00\",\"2023-06-03 15:00:00\",\"2023-06-03 16:00:00\",\"2023-06-03 17:00:00\",\"2023-06-03 18:00:00\",\"2023-06-03 19:00:00\",\"2023-06-03 20:00:00\",\"2023-06-03 21:00:00\",\"2023-06-03 22:00:00\",\"2023-06-03 23:00:00\",\"2023-06-04 00:00:00\",\"2023-06-04 01:00:00\",\"2023-06-04 02:00:00\",\"2023-06-04 03:00:00\",\"2023-06-04 04:00:00\",\"2023-06-04 05:00:00\",\"2023-06-04 06:00:00\",\"2023-06-04 07:00:00\",\"2023-06-04 08:00:00\",\"2023-06-04 09:00:00\",\"2023-06-04 10:00:00\",\"2023-06-04 11:00:00\",\"2023-06-04 12:00:00\",\"2023-06-04 13:00:00\",\"2023-06-04 14:00:00\",\"2023-06-04 15:00:00\",\"2023-06-04 16:00:00\",\"2023-06-04 17:00:00\",\"2023-06-04 18:00:00\",\"2023-06-04 19:00:00\",\"2023-06-04 20:00:00\",\"2023-06-04 21:00:00\",\"2023-06-04 22:00:00\",\"2023-06-04 23:00:00\",\"2023-06-05 00:00:00\",\"2023-06-05 01:00:00\",\"2023-06-05 02:00:00\",\"2023-06-05 03:00:00\",\"2023-06-05 04:00:00\",\"2023-06-05 05:00:00\",\"2023-06-05 06:00:00\",\"2023-06-05 07:00:00\",\"2023-06-05 08:00:00\",\"2023-06-05 09:00:00\",\"2023-06-05 10:00:00\",\"2023-06-05 11:00:00\",\"2023-06-05 12:00:00\",\"2023-06-05 13:00:00\",\"2023-06-05 14:00:00\",\"2023-06-05 15:00:00\",\"2023-06-05 16:00:00\",\"2023-06-05 17:00:00\",\"2023-06-05 18:00:00\",\"2023-06-05 19:00:00\",\"2023-06-05 20:00:00\",\"2023-06-05 21:00:00\",\"2023-06-05 22:00:00\",\"2023-06-05 23:00:00\",\"2023-06-06 00:00:00\",\"2023-06-06 01:00:00\",\"2023-06-06 02:00:00\",\"2023-06-06 03:00:00\",\"2023-06-06 04:00:00\",\"2023-06-06 05:00:00\",\"2023-06-06 06:00:00\",\"2023-06-06 07:00:00\",\"2023-06-06 08:00:00\",\"2023-06-06 09:00:00\",\"2023-06-06 10:00:00\",\"2023-06-06 11:00:00\",\"2023-06-06 12:00:00\",\"2023-06-06 13:00:00\",\"2023-06-06 14:00:00\",\"2023-06-06 15:00:00\",\"2023-06-06 16:00:00\",\"2023-06-06 17:00:00\",\"2023-06-06 18:00:00\",\"2023-06-06 19:00:00\",\"2023-06-06 20:00:00\",\"2023-06-06 21:00:00\",\"2023-06-06 22:00:00\",\"2023-06-06 23:00:00\",\"2023-06-07 00:00:00\",\"2023-06-07 01:00:00\",\"2023-06-07 02:00:00\",\"2023-06-07 03:00:00\",\"2023-06-07 04:00:00\",\"2023-06-07 05:00:00\",\"2023-06-07 06:00:00\",\"2023-06-07 07:00:00\",\"2023-06-07 08:00:00\",\"2023-06-07 09:00:00\",\"2023-06-07 10:00:00\",\"2023-06-07 11:00:00\",\"2023-06-07 12:00:00\",\"2023-06-07 13:00:00\",\"2023-06-07 14:00:00\",\"2023-06-07 15:00:00\",\"2023-06-07 16:00:00\",\"2023-06-07 17:00:00\",\"2023-06-07 18:00:00\",\"2023-06-07 19:00:00\",\"2023-06-07 20:00:00\",\"2023-06-07 21:00:00\",\"2023-06-07 22:00:00\",\"2023-06-07 23:00:00\",\"2023-06-08 00:00:00\",\"2023-06-08 01:00:00\",\"2023-06-08 02:00:00\",\"2023-06-08 03:00:00\",\"2023-06-08 04:00:00\",\"2023-06-08 05:00:00\",\"2023-06-08 06:00:00\",\"2023-06-08 07:00:00\",\"2023-06-08 08:00:00\",\"2023-06-08 09:00:00\",\"2023-06-08 10:00:00\",\"2023-06-08 11:00:00\",\"2023-06-08 12:00:00\",\"2023-06-08 13:00:00\",\"2023-06-08 14:00:00\",\"2023-06-08 15:00:00\",\"2023-06-08 16:00:00\",\"2023-06-08 17:00:00\",\"2023-06-08 18:00:00\",\"2023-06-08 19:00:00\",\"2023-06-08 20:00:00\",\"2023-06-08 21:00:00\",\"2023-06-08 22:00:00\",\"2023-06-08 23:00:00\",\"2023-06-09 00:00:00\",\"2023-06-09 01:00:00\",\"2023-06-09 02:00:00\",\"2023-06-09 03:00:00\",\"2023-06-09 04:00:00\",\"2023-06-09 05:00:00\",\"2023-06-09 06:00:00\",\"2023-06-09 07:00:00\",\"2023-06-09 08:00:00\",\"2023-06-09 09:00:00\",\"2023-06-09 10:00:00\",\"2023-06-09 11:00:00\",\"2023-06-09 12:00:00\",\"2023-06-09 13:00:00\",\"2023-06-09 14:00:00\",\"2023-06-09 15:00:00\",\"2023-06-09 16:00:00\",\"2023-06-09 17:00:00\",\"2023-06-09 18:00:00\",\"2023-06-09 19:00:00\",\"2023-06-09 20:00:00\",\"2023-06-09 21:00:00\",\"2023-06-09 22:00:00\",\"2023-06-09 23:00:00\",\"2023-06-10 00:00:00\",\"2023-06-10 01:00:00\",\"2023-06-10 02:00:00\",\"2023-06-10 03:00:00\",\"2023-06-10 04:00:00\",\"2023-06-10 05:00:00\",\"2023-06-10 06:00:00\",\"2023-06-10 07:00:00\",\"2023-06-10 08:00:00\",\"2023-06-10 09:00:00\",\"2023-06-10 10:00:00\",\"2023-06-10 11:00:00\",\"2023-06-10 12:00:00\",\"2023-06-10 13:00:00\",\"2023-06-10 14:00:00\",\"2023-06-10 15:00:00\",\"2023-06-10 16:00:00\",\"2023-06-10 17:00:00\",\"2023-06-10 18:00:00\",\"2023-06-10 19:00:00\",\"2023-06-10 20:00:00\",\"2023-06-10 21:00:00\",\"2023-06-10 22:00:00\",\"2023-06-10 23:00:00\",\"2023-06-11 00:00:00\",\"2023-06-11 01:00:00\",\"2023-06-11 02:00:00\",\"2023-06-11 03:00:00\",\"2023-06-11 04:00:00\",\"2023-06-11 05:00:00\",\"2023-06-11 06:00:00\",\"2023-06-11 07:00:00\",\"2023-06-11 08:00:00\",\"2023-06-11 09:00:00\",\"2023-06-11 10:00:00\",\"2023-06-11 11:00:00\",\"2023-06-11 12:00:00\",\"2023-06-11 13:00:00\",\"2023-06-11 14:00:00\",\"2023-06-11 15:00:00\",\"2023-06-11 16:00:00\",\"2023-06-11 17:00:00\",\"2023-06-11 18:00:00\",\"2023-06-11 19:00:00\",\"2023-06-11 20:00:00\",\"2023-06-11 21:00:00\",\"2023-06-11 22:00:00\",\"2023-06-11 23:00:00\",\"2023-06-12 00:00:00\",\"2023-06-12 01:00:00\",\"2023-06-12 02:00:00\",\"2023-06-12 03:00:00\",\"2023-06-12 04:00:00\",\"2023-06-12 05:00:00\",\"2023-06-12 06:00:00\",\"2023-06-12 07:00:00\",\"2023-06-12 08:00:00\",\"2023-06-12 09:00:00\",\"2023-06-12 10:00:00\",\"2023-06-12 11:00:00\",\"2023-06-12 12:00:00\",\"2023-06-12 13:00:00\",\"2023-06-12 14:00:00\",\"2023-06-12 15:00:00\",\"2023-06-12 16:00:00\",\"2023-06-12 17:00:00\",\"2023-06-12 18:00:00\",\"2023-06-12 19:00:00\",\"2023-06-12 20:00:00\",\"2023-06-12 21:00:00\",\"2023-06-12 22:00:00\",\"2023-06-12 23:00:00\",\"2023-06-13 00:00:00\",\"2023-06-13 01:00:00\",\"2023-06-13 02:00:00\",\"2023-06-13 03:00:00\",\"2023-06-13 04:00:00\",\"2023-06-13 05:00:00\",\"2023-06-13 06:00:00\",\"2023-06-13 07:00:00\",\"2023-06-13 08:00:00\",\"2023-06-13 09:00:00\",\"2023-06-13 10:00:00\",\"2023-06-13 11:00:00\",\"2023-06-13 12:00:00\",\"2023-06-13 13:00:00\",\"2023-06-13 14:00:00\",\"2023-06-13 15:00:00\",\"2023-06-13 16:00:00\",\"2023-06-13 17:00:00\",\"2023-06-13 18:00:00\",\"2023-06-13 19:00:00\",\"2023-06-13 20:00:00\",\"2023-06-13 21:00:00\",\"2023-06-13 22:00:00\",\"2023-06-13 23:00:00\",\"2023-06-14 00:00:00\",\"2023-06-14 01:00:00\",\"2023-06-14 02:00:00\",\"2023-06-14 03:00:00\",\"2023-06-14 04:00:00\",\"2023-06-14 05:00:00\",\"2023-06-14 06:00:00\",\"2023-06-14 07:00:00\",\"2023-06-14 08:00:00\",\"2023-06-14 09:00:00\",\"2023-06-14 10:00:00\",\"2023-06-14 11:00:00\",\"2023-06-14 12:00:00\",\"2023-06-14 13:00:00\",\"2023-06-14 14:00:00\",\"2023-06-14 15:00:00\",\"2023-06-14 16:00:00\",\"2023-06-14 17:00:00\",\"2023-06-14 18:00:00\",\"2023-06-14 19:00:00\",\"2023-06-14 20:00:00\",\"2023-06-14 21:00:00\",\"2023-06-14 22:00:00\",\"2023-06-14 23:00:00\",\"2023-06-15 00:00:00\",\"2023-06-15 01:00:00\",\"2023-06-15 02:00:00\",\"2023-06-15 03:00:00\",\"2023-06-15 04:00:00\",\"2023-06-15 05:00:00\",\"2023-06-15 06:00:00\",\"2023-06-15 07:00:00\",\"2023-06-15 08:00:00\",\"2023-06-15 09:00:00\",\"2023-06-15 10:00:00\",\"2023-06-15 11:00:00\",\"2023-06-15 12:00:00\",\"2023-06-15 13:00:00\",\"2023-06-15 14:00:00\",\"2023-06-15 15:00:00\",\"2023-06-15 16:00:00\",\"2023-06-15 17:00:00\",\"2023-06-15 18:00:00\",\"2023-06-15 19:00:00\",\"2023-06-15 20:00:00\",\"2023-06-15 21:00:00\",\"2023-06-15 22:00:00\",\"2023-06-15 23:00:00\",\"2023-06-16 00:00:00\",\"2023-06-16 01:00:00\",\"2023-06-16 02:00:00\",\"2023-06-16 03:00:00\",\"2023-06-16 04:00:00\",\"2023-06-16 05:00:00\",\"2023-06-16 06:00:00\",\"2023-06-16 07:00:00\",\"2023-06-16 08:00:00\",\"2023-06-16 09:00:00\",\"2023-06-16 10:00:00\",\"2023-06-16 11:00:00\",\"2023-06-16 12:00:00\",\"2023-06-16 13:00:00\",\"2023-06-16 14:00:00\",\"2023-06-16 15:00:00\",\"2023-06-16 16:00:00\",\"2023-06-16 17:00:00\",\"2023-06-16 18:00:00\",\"2023-06-16 19:00:00\",\"2023-06-16 20:00:00\",\"2023-06-16 21:00:00\",\"2023-06-16 22:00:00\",\"2023-06-16 23:00:00\",\"2023-06-17 00:00:00\",\"2023-06-17 01:00:00\",\"2023-06-17 02:00:00\",\"2023-06-17 03:00:00\",\"2023-06-17 04:00:00\",\"2023-06-17 05:00:00\",\"2023-06-17 06:00:00\",\"2023-06-17 07:00:00\",\"2023-06-17 08:00:00\",\"2023-06-17 09:00:00\",\"2023-06-17 10:00:00\",\"2023-06-17 11:00:00\",\"2023-06-17 12:00:00\",\"2023-06-17 13:00:00\",\"2023-06-17 14:00:00\",\"2023-06-17 15:00:00\",\"2023-06-17 16:00:00\",\"2023-06-17 17:00:00\",\"2023-06-17 18:00:00\",\"2023-06-17 19:00:00\",\"2023-06-17 20:00:00\",\"2023-06-17 21:00:00\",\"2023-06-17 22:00:00\",\"2023-06-17 23:00:00\",\"2023-06-18 00:00:00\",\"2023-06-18 01:00:00\",\"2023-06-18 02:00:00\",\"2023-06-18 03:00:00\",\"2023-06-18 04:00:00\",\"2023-06-18 05:00:00\",\"2023-06-18 06:00:00\",\"2023-06-18 07:00:00\",\"2023-06-18 08:00:00\",\"2023-06-18 09:00:00\",\"2023-06-18 10:00:00\",\"2023-06-18 11:00:00\",\"2023-06-18 12:00:00\",\"2023-06-18 13:00:00\",\"2023-06-18 14:00:00\",\"2023-06-18 15:00:00\",\"2023-06-18 16:00:00\",\"2023-06-18 17:00:00\",\"2023-06-18 18:00:00\",\"2023-06-18 19:00:00\",\"2023-06-18 20:00:00\",\"2023-06-18 21:00:00\",\"2023-06-18 22:00:00\",\"2023-06-18 23:00:00\",\"2023-06-19 00:00:00\",\"2023-06-19 01:00:00\",\"2023-06-19 02:00:00\",\"2023-06-19 03:00:00\",\"2023-06-19 04:00:00\",\"2023-06-19 05:00:00\",\"2023-06-19 06:00:00\",\"2023-06-19 07:00:00\",\"2023-06-19 08:00:00\",\"2023-06-19 09:00:00\",\"2023-06-19 10:00:00\",\"2023-06-19 11:00:00\",\"2023-06-19 12:00:00\",\"2023-06-19 13:00:00\",\"2023-06-19 14:00:00\",\"2023-06-19 15:00:00\",\"2023-06-19 16:00:00\",\"2023-06-19 17:00:00\",\"2023-06-19 18:00:00\",\"2023-06-19 19:00:00\",\"2023-06-19 20:00:00\",\"2023-06-19 21:00:00\",\"2023-06-19 22:00:00\",\"2023-06-19 23:00:00\",\"2023-06-20 00:00:00\",\"2023-06-20 01:00:00\",\"2023-06-20 02:00:00\",\"2023-06-20 03:00:00\",\"2023-06-20 04:00:00\",\"2023-06-20 05:00:00\",\"2023-06-20 06:00:00\",\"2023-06-20 07:00:00\",\"2023-06-20 08:00:00\",\"2023-06-20 09:00:00\",\"2023-06-20 10:00:00\",\"2023-06-20 11:00:00\",\"2023-06-20 12:00:00\",\"2023-06-20 13:00:00\",\"2023-06-20 14:00:00\",\"2023-06-20 15:00:00\",\"2023-06-20 16:00:00\",\"2023-06-20 17:00:00\",\"2023-06-20 18:00:00\",\"2023-06-20 19:00:00\",\"2023-06-20 20:00:00\",\"2023-06-20 21:00:00\",\"2023-06-20 22:00:00\",\"2023-06-20 23:00:00\",\"2023-06-21 00:00:00\",\"2023-06-21 01:00:00\",\"2023-06-21 02:00:00\",\"2023-06-21 03:00:00\",\"2023-06-21 04:00:00\",\"2023-06-21 05:00:00\",\"2023-06-21 06:00:00\",\"2023-06-21 07:00:00\",\"2023-06-21 08:00:00\",\"2023-06-21 09:00:00\",\"2023-06-21 10:00:00\",\"2023-06-21 11:00:00\",\"2023-06-21 12:00:00\",\"2023-06-21 13:00:00\",\"2023-06-21 14:00:00\",\"2023-06-21 15:00:00\",\"2023-06-21 16:00:00\",\"2023-06-21 17:00:00\",\"2023-06-21 18:00:00\",\"2023-06-21 19:00:00\",\"2023-06-21 20:00:00\",\"2023-06-21 21:00:00\",\"2023-06-21 22:00:00\",\"2023-06-21 23:00:00\",\"2023-06-22 00:00:00\",\"2023-06-22 01:00:00\",\"2023-06-22 02:00:00\",\"2023-06-22 03:00:00\",\"2023-06-22 04:00:00\",\"2023-06-22 05:00:00\",\"2023-06-22 06:00:00\",\"2023-06-22 07:00:00\",\"2023-06-22 08:00:00\",\"2023-06-22 09:00:00\",\"2023-06-22 10:00:00\",\"2023-06-22 11:00:00\",\"2023-06-22 12:00:00\",\"2023-06-22 13:00:00\",\"2023-06-22 14:00:00\",\"2023-06-22 15:00:00\",\"2023-06-22 16:00:00\",\"2023-06-22 17:00:00\",\"2023-06-22 18:00:00\",\"2023-06-22 19:00:00\",\"2023-06-22 20:00:00\",\"2023-06-22 21:00:00\",\"2023-06-22 22:00:00\",\"2023-06-22 23:00:00\",\"2023-06-23 00:00:00\",\"2023-06-23 01:00:00\",\"2023-06-23 02:00:00\",\"2023-06-23 03:00:00\",\"2023-06-23 04:00:00\",\"2023-06-23 05:00:00\",\"2023-06-23 06:00:00\",\"2023-06-23 07:00:00\",\"2023-06-23 08:00:00\",\"2023-06-23 09:00:00\",\"2023-06-23 10:00:00\",\"2023-06-23 11:00:00\",\"2023-06-23 12:00:00\",\"2023-06-23 13:00:00\",\"2023-06-23 14:00:00\",\"2023-06-23 15:00:00\",\"2023-06-23 16:00:00\",\"2023-06-23 17:00:00\",\"2023-06-23 18:00:00\",\"2023-06-23 19:00:00\",\"2023-06-23 20:00:00\",\"2023-06-23 21:00:00\",\"2023-06-23 22:00:00\",\"2023-06-23 23:00:00\",\"2023-06-24 00:00:00\",\"2023-06-24 01:00:00\",\"2023-06-24 02:00:00\",\"2023-06-24 03:00:00\",\"2023-06-24 04:00:00\",\"2023-06-24 05:00:00\",\"2023-06-24 06:00:00\",\"2023-06-24 07:00:00\",\"2023-06-24 08:00:00\",\"2023-06-24 09:00:00\",\"2023-06-24 10:00:00\",\"2023-06-24 11:00:00\",\"2023-06-24 12:00:00\",\"2023-06-24 13:00:00\",\"2023-06-24 14:00:00\",\"2023-06-24 15:00:00\",\"2023-06-24 16:00:00\",\"2023-06-24 17:00:00\",\"2023-06-24 18:00:00\",\"2023-06-24 19:00:00\",\"2023-06-24 20:00:00\",\"2023-06-24 21:00:00\",\"2023-06-24 22:00:00\",\"2023-06-24 23:00:00\",\"2023-06-25 00:00:00\",\"2023-06-25 01:00:00\",\"2023-06-25 02:00:00\",\"2023-06-25 03:00:00\",\"2023-06-25 04:00:00\",\"2023-06-25 05:00:00\",\"2023-06-25 06:00:00\",\"2023-06-25 07:00:00\",\"2023-06-25 08:00:00\",\"2023-06-25 09:00:00\",\"2023-06-25 10:00:00\",\"2023-06-25 11:00:00\",\"2023-06-25 12:00:00\",\"2023-06-25 13:00:00\",\"2023-06-25 14:00:00\",\"2023-06-25 15:00:00\",\"2023-06-25 16:00:00\",\"2023-06-25 17:00:00\",\"2023-06-25 18:00:00\",\"2023-06-25 19:00:00\",\"2023-06-25 20:00:00\",\"2023-06-25 21:00:00\",\"2023-06-25 22:00:00\",\"2023-06-25 23:00:00\",\"2023-06-26 00:00:00\",\"2023-06-26 01:00:00\",\"2023-06-26 02:00:00\",\"2023-06-26 03:00:00\",\"2023-06-26 04:00:00\",\"2023-06-26 05:00:00\",\"2023-06-26 06:00:00\",\"2023-06-26 07:00:00\",\"2023-06-26 08:00:00\",\"2023-06-26 09:00:00\",\"2023-06-26 10:00:00\",\"2023-06-26 11:00:00\",\"2023-06-26 12:00:00\",\"2023-06-26 13:00:00\",\"2023-06-26 14:00:00\",\"2023-06-26 15:00:00\",\"2023-06-26 16:00:00\",\"2023-06-26 17:00:00\",\"2023-06-26 18:00:00\",\"2023-06-26 19:00:00\",\"2023-06-26 20:00:00\",\"2023-06-26 21:00:00\",\"2023-06-26 22:00:00\",\"2023-06-26 23:00:00\",\"2023-06-27 00:00:00\",\"2023-06-27 01:00:00\",\"2023-06-27 02:00:00\",\"2023-06-27 03:00:00\",\"2023-06-27 04:00:00\",\"2023-06-27 05:00:00\",\"2023-06-27 06:00:00\",\"2023-06-27 07:00:00\",\"2023-06-27 08:00:00\",\"2023-06-27 09:00:00\",\"2023-06-27 10:00:00\",\"2023-06-27 11:00:00\",\"2023-06-27 12:00:00\",\"2023-06-27 13:00:00\",\"2023-06-27 14:00:00\",\"2023-06-27 15:00:00\",\"2023-06-27 16:00:00\",\"2023-06-27 17:00:00\",\"2023-06-27 18:00:00\",\"2023-06-27 19:00:00\",\"2023-06-27 20:00:00\",\"2023-06-27 21:00:00\",\"2023-06-27 22:00:00\",\"2023-06-27 23:00:00\",\"2023-06-28 00:00:00\",\"2023-06-28 01:00:00\",\"2023-06-28 02:00:00\",\"2023-06-28 03:00:00\",\"2023-06-28 04:00:00\",\"2023-06-28 05:00:00\",\"2023-06-28 06:00:00\",\"2023-06-28 07:00:00\",\"2023-06-28 08:00:00\",\"2023-06-28 09:00:00\",\"2023-06-28 10:00:00\",\"2023-06-28 11:00:00\",\"2023-06-28 12:00:00\",\"2023-06-28 13:00:00\",\"2023-06-28 14:00:00\",\"2023-06-28 15:00:00\",\"2023-06-28 16:00:00\",\"2023-06-28 17:00:00\",\"2023-06-28 18:00:00\",\"2023-06-28 19:00:00\",\"2023-06-28 20:00:00\",\"2023-06-28 21:00:00\",\"2023-06-28 22:00:00\",\"2023-06-28 23:00:00\",\"2023-06-29 00:00:00\",\"2023-06-29 01:00:00\",\"2023-06-29 02:00:00\",\"2023-06-29 03:00:00\",\"2023-06-29 04:00:00\",\"2023-06-29 05:00:00\",\"2023-06-29 06:00:00\",\"2023-06-29 07:00:00\",\"2023-06-29 08:00:00\",\"2023-06-29 09:00:00\",\"2023-06-29 10:00:00\",\"2023-06-29 11:00:00\",\"2023-06-29 12:00:00\",\"2023-06-29 13:00:00\",\"2023-06-29 14:00:00\",\"2023-06-29 15:00:00\",\"2023-06-29 16:00:00\",\"2023-06-29 17:00:00\",\"2023-06-29 18:00:00\",\"2023-06-29 19:00:00\",\"2023-06-29 20:00:00\",\"2023-06-29 21:00:00\",\"2023-06-29 22:00:00\",\"2023-06-29 23:00:00\",\"2023-06-30 00:00:00\",\"2023-06-30 01:00:00\",\"2023-06-30 02:00:00\",\"2023-06-30 03:00:00\",\"2023-06-30 04:00:00\",\"2023-06-30 05:00:00\",\"2023-06-30 06:00:00\",\"2023-06-30 07:00:00\",\"2023-06-30 08:00:00\",\"2023-06-30 09:00:00\",\"2023-06-30 10:00:00\",\"2023-06-30 11:00:00\",\"2023-06-30 12:00:00\",\"2023-06-30 13:00:00\",\"2023-06-30 14:00:00\",\"2023-06-30 15:00:00\",\"2023-06-30 16:00:00\",\"2023-06-30 17:00:00\",\"2023-06-30 18:00:00\",\"2023-06-30 19:00:00\",\"2023-06-30 20:00:00\",\"2023-06-30 21:00:00\",\"2023-06-30 22:00:00\",\"2023-06-30 23:00:00\",\"2023-07-01 00:00:00\",\"2023-07-01 01:00:00\",\"2023-07-01 02:00:00\",\"2023-07-01 03:00:00\",\"2023-07-01 04:00:00\",\"2023-07-01 05:00:00\",\"2023-07-01 06:00:00\",\"2023-07-01 07:00:00\",\"2023-07-01 08:00:00\",\"2023-07-01 09:00:00\",\"2023-07-01 10:00:00\",\"2023-07-01 11:00:00\",\"2023-07-01 12:00:00\",\"2023-07-01 15:00:00\",\"2023-07-01 16:00:00\",\"2023-07-01 17:00:00\",\"2023-07-01 18:00:00\",\"2023-07-01 19:00:00\",\"2023-07-01 20:00:00\",\"2023-07-01 21:00:00\",\"2023-07-01 22:00:00\",\"2023-07-01 23:00:00\",\"2023-07-02 00:00:00\",\"2023-07-02 01:00:00\",\"2023-07-02 02:00:00\",\"2023-07-02 03:00:00\",\"2023-07-02 04:00:00\",\"2023-07-02 05:00:00\",\"2023-07-02 06:00:00\",\"2023-07-02 07:00:00\",\"2023-07-02 08:00:00\",\"2023-07-02 09:00:00\",\"2023-07-02 10:00:00\",\"2023-07-02 11:00:00\",\"2023-07-02 12:00:00\",\"2023-07-02 13:00:00\",\"2023-07-02 14:00:00\",\"2023-07-02 15:00:00\",\"2023-07-02 16:00:00\",\"2023-07-02 17:00:00\",\"2023-07-02 18:00:00\",\"2023-07-02 19:00:00\",\"2023-07-02 20:00:00\",\"2023-07-02 21:00:00\",\"2023-07-02 22:00:00\",\"2023-07-02 23:00:00\",\"2023-07-03 00:00:00\",\"2023-07-03 01:00:00\",\"2023-07-03 02:00:00\",\"2023-07-03 03:00:00\",\"2023-07-03 04:00:00\",\"2023-07-03 05:00:00\",\"2023-07-03 06:00:00\",\"2023-07-03 07:00:00\",\"2023-07-03 08:00:00\",\"2023-07-03 09:00:00\",\"2023-07-03 10:00:00\",\"2023-07-03 11:00:00\",\"2023-07-03 12:00:00\",\"2023-07-03 13:00:00\",\"2023-07-03 14:00:00\",\"2023-07-03 15:00:00\",\"2023-07-03 16:00:00\",\"2023-07-03 17:00:00\",\"2023-07-03 18:00:00\",\"2023-07-03 19:00:00\",\"2023-07-03 20:00:00\",\"2023-07-03 21:00:00\",\"2023-07-03 22:00:00\",\"2023-07-03 23:00:00\",\"2023-07-04 00:00:00\",\"2023-07-04 01:00:00\",\"2023-07-04 02:00:00\",\"2023-07-04 03:00:00\",\"2023-07-04 04:00:00\",\"2023-07-04 05:00:00\",\"2023-07-04 06:00:00\",\"2023-07-04 07:00:00\",\"2023-07-04 08:00:00\",\"2023-07-04 09:00:00\",\"2023-07-04 10:00:00\",\"2023-07-04 11:00:00\",\"2023-07-04 12:00:00\",\"2023-07-04 13:00:00\",\"2023-07-04 14:00:00\",\"2023-07-04 15:00:00\",\"2023-07-04 16:00:00\",\"2023-07-04 17:00:00\",\"2023-07-04 18:00:00\",\"2023-07-04 19:00:00\",\"2023-07-04 20:00:00\",\"2023-07-04 21:00:00\",\"2023-07-04 22:00:00\",\"2023-07-04 23:00:00\",\"2023-07-05 00:00:00\",\"2023-07-05 01:00:00\",\"2023-07-05 02:00:00\",\"2023-07-05 03:00:00\",\"2023-07-05 04:00:00\",\"2023-07-05 05:00:00\",\"2023-07-05 06:00:00\",\"2023-07-05 07:00:00\",\"2023-07-05 08:00:00\",\"2023-07-05 09:00:00\",\"2023-07-05 10:00:00\",\"2023-07-05 11:00:00\",\"2023-07-05 12:00:00\",\"2023-07-05 13:00:00\",\"2023-07-05 14:00:00\",\"2023-07-05 15:00:00\",\"2023-07-05 16:00:00\",\"2023-07-05 17:00:00\",\"2023-07-05 18:00:00\",\"2023-07-05 19:00:00\",\"2023-07-05 20:00:00\",\"2023-07-05 21:00:00\",\"2023-07-05 22:00:00\",\"2023-07-05 23:00:00\",\"2023-07-06 00:00:00\",\"2023-07-06 01:00:00\",\"2023-07-06 02:00:00\",\"2023-07-06 03:00:00\",\"2023-07-06 04:00:00\",\"2023-07-06 05:00:00\",\"2023-07-06 06:00:00\",\"2023-07-06 07:00:00\",\"2023-07-06 08:00:00\",\"2023-07-06 09:00:00\",\"2023-07-06 10:00:00\",\"2023-07-06 11:00:00\",\"2023-07-06 12:00:00\",\"2023-07-06 13:00:00\",\"2023-07-06 14:00:00\",\"2023-07-06 15:00:00\",\"2023-07-06 16:00:00\",\"2023-07-06 17:00:00\",\"2023-07-06 18:00:00\",\"2023-07-06 19:00:00\",\"2023-07-06 20:00:00\",\"2023-07-06 21:00:00\",\"2023-07-06 22:00:00\",\"2023-07-06 23:00:00\",\"2023-07-07 00:00:00\",\"2023-07-07 01:00:00\",\"2023-07-07 02:00:00\",\"2023-07-07 03:00:00\",\"2023-07-07 04:00:00\",\"2023-07-07 05:00:00\",\"2023-07-07 06:00:00\",\"2023-07-07 07:00:00\",\"2023-07-07 08:00:00\",\"2023-07-07 09:00:00\",\"2023-07-07 10:00:00\",\"2023-07-07 11:00:00\",\"2023-07-07 12:00:00\",\"2023-07-07 13:00:00\",\"2023-07-07 14:00:00\",\"2023-07-07 15:00:00\",\"2023-07-07 16:00:00\",\"2023-07-07 17:00:00\",\"2023-07-07 18:00:00\",\"2023-07-07 19:00:00\",\"2023-07-07 20:00:00\",\"2023-07-07 21:00:00\",\"2023-07-07 22:00:00\",\"2023-07-07 23:00:00\",\"2023-07-08 00:00:00\",\"2023-07-08 01:00:00\",\"2023-07-08 02:00:00\",\"2023-07-08 03:00:00\",\"2023-07-08 04:00:00\",\"2023-07-08 05:00:00\",\"2023-07-08 06:00:00\",\"2023-07-08 07:00:00\",\"2023-07-08 08:00:00\",\"2023-07-08 09:00:00\",\"2023-07-08 10:00:00\",\"2023-07-08 11:00:00\",\"2023-07-08 12:00:00\",\"2023-07-08 13:00:00\",\"2023-07-08 14:00:00\",\"2023-07-08 15:00:00\",\"2023-07-08 16:00:00\",\"2023-07-08 17:00:00\",\"2023-07-08 18:00:00\",\"2023-07-08 19:00:00\",\"2023-07-08 20:00:00\",\"2023-07-08 21:00:00\",\"2023-07-08 22:00:00\",\"2023-07-08 23:00:00\",\"2023-07-09 00:00:00\",\"2023-07-09 01:00:00\",\"2023-07-09 02:00:00\",\"2023-07-09 03:00:00\",\"2023-07-09 04:00:00\",\"2023-07-09 05:00:00\",\"2023-07-09 06:00:00\",\"2023-07-09 07:00:00\",\"2023-07-09 08:00:00\",\"2023-07-09 09:00:00\",\"2023-07-09 10:00:00\",\"2023-07-09 11:00:00\",\"2023-07-09 12:00:00\",\"2023-07-09 13:00:00\",\"2023-07-09 14:00:00\",\"2023-07-09 15:00:00\",\"2023-07-09 16:00:00\",\"2023-07-09 17:00:00\",\"2023-07-09 18:00:00\",\"2023-07-09 19:00:00\",\"2023-07-09 20:00:00\",\"2023-07-09 21:00:00\",\"2023-07-09 22:00:00\",\"2023-07-09 23:00:00\",\"2023-07-10 00:00:00\",\"2023-07-10 01:00:00\",\"2023-07-10 02:00:00\",\"2023-07-10 03:00:00\",\"2023-07-10 04:00:00\",\"2023-07-10 05:00:00\",\"2023-07-10 06:00:00\",\"2023-07-10 07:00:00\",\"2023-07-10 08:00:00\",\"2023-07-10 09:00:00\",\"2023-07-10 10:00:00\",\"2023-07-10 11:00:00\",\"2023-07-10 12:00:00\",\"2023-07-10 13:00:00\",\"2023-07-10 14:00:00\",\"2023-07-10 15:00:00\",\"2023-07-10 16:00:00\",\"2023-07-10 17:00:00\",\"2023-07-10 18:00:00\",\"2023-07-10 19:00:00\",\"2023-07-10 20:00:00\",\"2023-07-10 21:00:00\",\"2023-07-10 22:00:00\",\"2023-07-10 23:00:00\",\"2023-07-11 00:00:00\",\"2023-07-11 01:00:00\",\"2023-07-11 02:00:00\",\"2023-07-11 03:00:00\",\"2023-07-11 04:00:00\",\"2023-07-11 05:00:00\",\"2023-07-11 06:00:00\",\"2023-07-11 07:00:00\",\"2023-07-11 08:00:00\",\"2023-07-11 09:00:00\",\"2023-07-11 10:00:00\",\"2023-07-11 11:00:00\",\"2023-07-11 12:00:00\",\"2023-07-11 13:00:00\",\"2023-07-11 14:00:00\",\"2023-07-11 15:00:00\",\"2023-07-11 16:00:00\",\"2023-07-11 17:00:00\",\"2023-07-11 18:00:00\",\"2023-07-11 19:00:00\",\"2023-07-11 20:00:00\",\"2023-07-11 21:00:00\",\"2023-07-11 22:00:00\",\"2023-07-11 23:00:00\",\"2023-07-12 00:00:00\",\"2023-07-12 01:00:00\",\"2023-07-12 02:00:00\",\"2023-07-12 03:00:00\",\"2023-07-12 04:00:00\",\"2023-07-12 05:00:00\",\"2023-07-12 06:00:00\",\"2023-07-12 07:00:00\",\"2023-07-12 08:00:00\",\"2023-07-12 09:00:00\",\"2023-07-12 10:00:00\",\"2023-07-12 11:00:00\",\"2023-07-12 12:00:00\",\"2023-07-12 13:00:00\",\"2023-07-12 14:00:00\",\"2023-07-12 15:00:00\",\"2023-07-12 16:00:00\",\"2023-07-12 17:00:00\",\"2023-07-12 18:00:00\",\"2023-07-12 19:00:00\",\"2023-07-12 20:00:00\",\"2023-07-12 21:00:00\",\"2023-07-12 22:00:00\",\"2023-07-12 23:00:00\",\"2023-07-13 00:00:00\",\"2023-07-13 01:00:00\",\"2023-07-13 02:00:00\",\"2023-07-13 03:00:00\",\"2023-07-13 04:00:00\",\"2023-07-13 05:00:00\",\"2023-07-13 06:00:00\",\"2023-07-13 07:00:00\",\"2023-07-13 08:00:00\",\"2023-07-13 09:00:00\",\"2023-07-13 10:00:00\",\"2023-07-13 11:00:00\",\"2023-07-13 12:00:00\",\"2023-07-13 13:00:00\",\"2023-07-13 14:00:00\",\"2023-07-13 15:00:00\",\"2023-07-13 16:00:00\",\"2023-07-13 17:00:00\",\"2023-07-13 18:00:00\",\"2023-07-13 19:00:00\",\"2023-07-13 20:00:00\",\"2023-07-13 21:00:00\",\"2023-07-13 22:00:00\",\"2023-07-13 23:00:00\",\"2023-07-14 00:00:00\",\"2023-07-14 01:00:00\",\"2023-07-14 02:00:00\",\"2023-07-14 03:00:00\",\"2023-07-14 04:00:00\",\"2023-07-14 05:00:00\",\"2023-07-14 06:00:00\",\"2023-07-14 07:00:00\",\"2023-07-14 08:00:00\",\"2023-07-14 09:00:00\",\"2023-07-14 10:00:00\",\"2023-07-14 11:00:00\",\"2023-07-14 12:00:00\",\"2023-07-14 13:00:00\",\"2023-07-14 14:00:00\",\"2023-07-14 15:00:00\",\"2023-07-14 16:00:00\",\"2023-07-14 17:00:00\",\"2023-07-14 18:00:00\",\"2023-07-14 19:00:00\",\"2023-07-14 20:00:00\",\"2023-07-14 21:00:00\",\"2023-07-14 22:00:00\",\"2023-07-14 23:00:00\",\"2023-07-15 00:00:00\",\"2023-07-15 01:00:00\",\"2023-07-15 02:00:00\",\"2023-07-15 03:00:00\",\"2023-07-15 04:00:00\",\"2023-07-15 05:00:00\",\"2023-07-15 06:00:00\",\"2023-07-15 07:00:00\",\"2023-07-15 08:00:00\",\"2023-07-15 09:00:00\",\"2023-07-15 10:00:00\",\"2023-07-15 11:00:00\",\"2023-07-15 12:00:00\",\"2023-07-15 13:00:00\",\"2023-07-15 14:00:00\",\"2023-07-15 15:00:00\",\"2023-07-15 16:00:00\",\"2023-07-15 17:00:00\",\"2023-07-15 18:00:00\",\"2023-07-15 19:00:00\",\"2023-07-15 20:00:00\",\"2023-07-15 21:00:00\",\"2023-07-15 22:00:00\",\"2023-07-15 23:00:00\",\"2023-07-16 00:00:00\",\"2023-07-16 01:00:00\",\"2023-07-16 02:00:00\",\"2023-07-16 03:00:00\",\"2023-07-16 04:00:00\",\"2023-07-16 05:00:00\",\"2023-07-16 06:00:00\",\"2023-07-16 07:00:00\",\"2023-07-16 08:00:00\",\"2023-07-16 09:00:00\",\"2023-07-16 10:00:00\",\"2023-07-16 11:00:00\",\"2023-07-16 12:00:00\",\"2023-07-16 13:00:00\",\"2023-07-16 14:00:00\",\"2023-07-16 15:00:00\",\"2023-07-16 16:00:00\",\"2023-07-16 17:00:00\",\"2023-07-16 18:00:00\",\"2023-07-16 19:00:00\",\"2023-07-16 20:00:00\",\"2023-07-16 21:00:00\",\"2023-07-16 22:00:00\",\"2023-07-16 23:00:00\",\"2023-07-17 00:00:00\",\"2023-07-17 01:00:00\",\"2023-07-17 02:00:00\",\"2023-07-17 03:00:00\",\"2023-07-17 04:00:00\",\"2023-07-17 05:00:00\",\"2023-07-17 06:00:00\",\"2023-07-17 07:00:00\",\"2023-07-17 08:00:00\",\"2023-07-17 09:00:00\",\"2023-07-17 10:00:00\",\"2023-07-17 11:00:00\",\"2023-07-17 12:00:00\",\"2023-07-17 13:00:00\",\"2023-07-17 14:00:00\",\"2023-07-17 15:00:00\",\"2023-07-17 16:00:00\",\"2023-07-17 17:00:00\",\"2023-07-17 18:00:00\",\"2023-07-17 19:00:00\",\"2023-07-17 20:00:00\",\"2023-07-17 21:00:00\",\"2023-07-17 22:00:00\",\"2023-07-17 23:00:00\",\"2023-07-18 00:00:00\",\"2023-07-18 01:00:00\",\"2023-07-18 02:00:00\",\"2023-07-18 03:00:00\",\"2023-07-18 04:00:00\",\"2023-07-18 05:00:00\",\"2023-07-18 06:00:00\",\"2023-07-18 07:00:00\",\"2023-07-18 08:00:00\",\"2023-07-18 09:00:00\",\"2023-07-18 10:00:00\",\"2023-07-18 11:00:00\",\"2023-07-18 12:00:00\",\"2023-07-18 13:00:00\",\"2023-07-18 14:00:00\",\"2023-07-18 15:00:00\",\"2023-07-18 16:00:00\",\"2023-07-18 17:00:00\",\"2023-07-18 18:00:00\",\"2023-07-18 19:00:00\",\"2023-07-18 20:00:00\",\"2023-07-18 21:00:00\",\"2023-07-18 22:00:00\",\"2023-07-18 23:00:00\",\"2023-07-19 00:00:00\",\"2023-07-19 01:00:00\",\"2023-07-19 02:00:00\",\"2023-07-19 03:00:00\",\"2023-07-19 04:00:00\",\"2023-07-19 05:00:00\",\"2023-07-19 06:00:00\",\"2023-07-19 07:00:00\",\"2023-07-19 08:00:00\",\"2023-07-19 09:00:00\",\"2023-07-19 10:00:00\",\"2023-07-19 11:00:00\",\"2023-07-19 12:00:00\",\"2023-07-19 13:00:00\",\"2023-07-19 14:00:00\",\"2023-07-19 15:00:00\",\"2023-07-19 16:00:00\",\"2023-07-19 17:00:00\",\"2023-07-19 18:00:00\",\"2023-07-19 19:00:00\",\"2023-07-19 20:00:00\",\"2023-07-19 21:00:00\",\"2023-07-19 22:00:00\",\"2023-07-19 23:00:00\",\"2023-07-20 00:00:00\",\"2023-07-20 01:00:00\",\"2023-07-20 02:00:00\",\"2023-07-20 03:00:00\",\"2023-07-20 04:00:00\",\"2023-07-20 05:00:00\",\"2023-07-20 06:00:00\",\"2023-07-20 07:00:00\",\"2023-07-20 08:00:00\",\"2023-07-20 09:00:00\",\"2023-07-20 10:00:00\",\"2023-07-20 11:00:00\",\"2023-07-20 12:00:00\",\"2023-07-20 13:00:00\",\"2023-07-20 14:00:00\",\"2023-07-20 15:00:00\",\"2023-07-20 16:00:00\",\"2023-07-20 17:00:00\",\"2023-07-20 18:00:00\",\"2023-07-20 19:00:00\",\"2023-07-20 20:00:00\",\"2023-07-20 21:00:00\",\"2023-07-20 22:00:00\",\"2023-07-20 23:00:00\",\"2023-07-21 00:00:00\",\"2023-07-21 01:00:00\",\"2023-07-21 02:00:00\",\"2023-07-21 03:00:00\",\"2023-07-21 04:00:00\",\"2023-07-21 05:00:00\",\"2023-07-21 06:00:00\",\"2023-07-21 07:00:00\",\"2023-07-21 08:00:00\",\"2023-07-21 09:00:00\",\"2023-07-21 10:00:00\",\"2023-07-21 11:00:00\",\"2023-07-21 12:00:00\",\"2023-07-21 13:00:00\",\"2023-07-21 14:00:00\",\"2023-07-21 15:00:00\",\"2023-07-21 16:00:00\",\"2023-07-21 17:00:00\",\"2023-07-21 18:00:00\",\"2023-07-21 19:00:00\",\"2023-07-21 20:00:00\",\"2023-07-21 21:00:00\",\"2023-07-21 22:00:00\",\"2023-07-21 23:00:00\",\"2023-07-22 00:00:00\",\"2023-07-22 01:00:00\",\"2023-07-22 02:00:00\",\"2023-07-22 03:00:00\",\"2023-07-22 04:00:00\",\"2023-07-22 05:00:00\",\"2023-07-22 06:00:00\",\"2023-07-22 07:00:00\",\"2023-07-22 08:00:00\",\"2023-07-22 09:00:00\",\"2023-07-22 10:00:00\",\"2023-07-22 11:00:00\",\"2023-07-22 12:00:00\",\"2023-07-22 13:00:00\",\"2023-07-22 14:00:00\",\"2023-07-22 15:00:00\",\"2023-07-22 16:00:00\",\"2023-07-22 17:00:00\",\"2023-07-22 18:00:00\",\"2023-07-22 19:00:00\",\"2023-07-22 20:00:00\",\"2023-07-22 21:00:00\",\"2023-07-22 22:00:00\",\"2023-07-22 23:00:00\",\"2023-07-23 00:00:00\",\"2023-07-23 01:00:00\",\"2023-07-23 02:00:00\",\"2023-07-23 03:00:00\",\"2023-07-23 04:00:00\",\"2023-07-23 05:00:00\",\"2023-07-23 06:00:00\",\"2023-07-23 07:00:00\",\"2023-07-23 08:00:00\",\"2023-07-23 09:00:00\",\"2023-07-23 10:00:00\",\"2023-07-23 11:00:00\",\"2023-07-23 12:00:00\",\"2023-07-23 13:00:00\",\"2023-07-23 14:00:00\",\"2023-07-23 15:00:00\",\"2023-07-23 16:00:00\",\"2023-07-23 17:00:00\",\"2023-07-23 18:00:00\",\"2023-07-23 19:00:00\",\"2023-07-23 20:00:00\",\"2023-07-23 21:00:00\",\"2023-07-23 22:00:00\",\"2023-07-23 23:00:00\",\"2023-07-24 00:00:00\",\"2023-07-24 01:00:00\",\"2023-07-24 02:00:00\",\"2023-07-24 03:00:00\",\"2023-07-24 04:00:00\",\"2023-07-24 05:00:00\",\"2023-07-24 06:00:00\",\"2023-07-24 07:00:00\",\"2023-07-24 08:00:00\",\"2023-07-24 09:00:00\",\"2023-07-24 10:00:00\",\"2023-07-24 11:00:00\",\"2023-07-24 12:00:00\",\"2023-07-24 13:00:00\",\"2023-07-24 14:00:00\",\"2023-07-24 15:00:00\",\"2023-07-24 16:00:00\",\"2023-07-24 17:00:00\",\"2023-07-24 18:00:00\",\"2023-07-24 19:00:00\",\"2023-07-24 20:00:00\"],\"y\":[1.4,1.3,1.2,1.0,0.8,1.6,1.7,2.1,2.4,1.9,1.3,1.3,0.7,0.5,0.7,0.9,0.8,0.5,0.4,0.2,0.6,1.0,1.0,1.2,1.2,1.2,2.1,1.9,1.9,1.6,2.1,1.8,2.1,1.5,1.0,1.2,0.6,0.3,0.2,0.3,0.1,0.1,0.0,0.6,1.0,0.8,1.7,1.7,1.0,1.2,1.2,1.7,1.9,1.7,1.4,1.6,1.3,1.2,0.8,0.7,0.2,0.3,0.3,0.2,0.3,0.1,0.2,0.5,1.4,1.1,1.5,1.2,1.7,1.7,1.5,1.5,1.8,2.5,1.8,1.8,1.4,1.0,0.5,0.7,0.4,0.6,0.6,0.2,0.2,0.7,0.8,0.9,1.0,1.0,1.2,1.0,1.5,1.3,1.5,1.8,1.6,1.4,1.3,2.0,2.3,1.6,0.6,0.5,0.1,0.0,0.2,0.2,0.3,0.4,0.1,0.6,0.8,1.1,1.2,1.5,1.7,1.9,2.0,2.1,1.9,1.8,1.6,1.6,1.1,0.8,1.2,1.1,1.0,0.9,0.7,0.0,0.2,0.0,0.3,0.6,0.7,1.1,1.1,1.3,1.6,1.8,2.4,2.5,2.4,2.2,1.7,1.3,1.4,0.7,0.3,0.6,0.2,0.2,0.1,0.0,0.4,0.0,0.1,0.7,1.1,1.3,1.3,1.4,1.5,1.4,1.7,1.4,1.3,0.8,0.7,0.9,1.1,1.3,1.1,1.1,1.4,1.4,0.9,1.3,0.5,0.0,0.2,1.0,1.5,1.3,1.1,1.3,1.3,1.2,1.3,1.6,1.4,1.7,1.9,0.9,1.2,0.7,1.0,1.3,1.1,0.7,0.6,0.6,0.3,0.1,0.5,0.9,1.1,1.1,0.8,1.1,1.1,2.0,1.8,1.6,1.3,1.3,1.6,1.7,1.4,0.8,1.0,1.6,1.2,0.7,0.4,0.7,0.1,0.1,0.7,0.7,0.8,1.1,0.9,0.9,0.9,1.1,2.2,2.7,2.6,2.2,1.0,1.0,0.7,0.8,0.8,0.6,0.9,0.9,0.6,0.8,0.4,0.6,0.8,1.1,1.4,1.3,1.2,0.8,0.9,1.3,1.6,1.8,2.0,2.6,1.6,1.0,0.9,0.9,0.9,0.7,0.7,0.5,0.4,0.2,0.2,1.0,1.3,1.3,0.9,0.9,1.2,1.3,1.8,1.8,1.8,1.8,1.8,1.5,1.1,0.9,0.8,1.1,0.9,0.9,0.9,0.6,0.6,0.4,0.3,0.5,0.2,0.3,1.1,1.0,1.1,1.1,0.9,1.1,1.1,0.9,1.3,1.5,1.4,1.6,1.5,0.9,0.5,0.6,0.5,0.6,0.4,0.2,0.8,0.9,0.8,0.8,1.1,0.8,0.7,0.7,1.2,1.3,1.3,1.5,1.3,1.2,1.2,1.4,0.9,0.8,0.7,0.3,0.3,0.5,0.2,0.3,0.4,0.5,0.6,1.0,1.0,1.0,1.1,1.4,1.2,0.9,0.8,1.3,1.2,0.9,0.7,0.9,0.6,0.4,0.4,0.2,0.5,0.5,0.7,0.9,0.8,0.7,0.3,0.4,0.8,0.9,1.5,1.6,1.4,1.1,1.1,1.0,1.0,1.5,1.7,1.4,1.0,0.5,0.4,0.3,0.4,0.6,0.6,0.9,0.7,0.1,0.2,0.2,0.6,0.9,1.5,1.3,1.5,1.3,1.2,1.5,1.5,1.5,1.8,1.6,1.0,0.8,0.3,0.4,0.4,1.0,0.8,0.7,0.5,0.3,0.6,0.9,1.2,1.5,1.7,1.5,1.7,1.7,1.9,1.9,2.0,2.0,1.7,1.5,1.6,1.5,1.3,0.8,0.9,0.9,0.7,0.7,0.7,0.8,1.2,1.7,1.7,2.0,2.2,2.3,2.0,2.1,2.1,2.2,2.0,1.9,1.4,1.1,1.3,0.9,0.5,0.7,0.8,1.3,1.3,1.2,1.4,1.2,1.1,1.6,1.6,1.7,2.0,2.1,1.9,2.0,2.0,1.8,1.8,1.9,1.3,1.5,1.2,1.1,0.8,0.9,0.7,1.0,1.2,0.8,0.8,0.8,1.0,1.6,1.7,1.9,2.1,2.2,2.3,2.0,1.9,2.0,2.0,2.0,1.8,1.5,1.1,1.2,1.3,0.4,0.7,0.6,0.6,0.8,0.5,0.0,0.4,1.0,1.2,1.2,1.7,1.8,1.4,1.4,1.2,1.3,1.4,1.6,1.9,1.6,1.4,1.3,1.1,0.9,0.5,0.8,0.3,0.7,0.8,0.2,0.5,0.8,1.2,1.2,1.8,1.5,1.1,0.8,1.2,1.7,1.6,1.7,1.8,1.4,1.1,0.8,0.7,0.6,0.8,0.9,0.7,0.2,0.4,0.3,0.5,0.9,1.2,1.6,1.7,1.3,1.1,1.4,1.2,1.1,1.3,1.6,1.9,1.5,1.4,1.4,1.3,1.2,0.9,0.8,0.6,0.3,0.2,0.0,0.4,0.9,1.1,1.3,1.3,1.5,1.8,1.7,1.6,1.4,1.5,1.5,1.3,1.2,1.3,1.2,1.1,0.7,0.5,0.8,0.8,0.2,0.0,0.2,0.6,0.8,1.1,1.1,1.2,1.3,1.3,1.2,1.5,1.6,1.8,1.6,1.5,1.3,1.3,0.9,0.8,0.8,0.7,0.8,1.0,0.5,0.8,0.4,0.6,0.4,0.8,0.8,0.8,1.2,1.0,1.1,1.3,1.6,1.7,1.7,1.7,1.4,1.3,0.9,0.4,0.3,0.7,0.5,0.0,0.0,0.0,0.0,0.5,1.1,1.2,1.3,0.9,1.0,1.0,0.9,0.6,1.2,1.8,1.7,1.7,1.6,1.3,1.3,1.2,1.0,1.0,0.6,0.7,0.8,0.9,0.5,0.6,0.7,0.8,1.1,1.4,1.4,1.2,1.1,1.4,1.8,1.7,1.9,1.9,1.7,1.5,1.4,1.0,1.2,0.8,0.9,1.0,1.0,0.9,0.8,0.9,1.3,1.7,1.6,1.6,1.8,2.0,2.1,1.8,2.0,2.0,1.8,1.2,1.1,0.9,0.8,0.7,0.3,0.5,0.8,0.6,0.5,0.9,0.6,1.1,1.2,1.7,1.7,1.6,1.7,2.2,2.2,2.4,2.0,1.9,1.8,1.2,1.1,0.9,0.9,1.1,0.9,0.9,1.1,0.7,0.0,0.2,0.4,0.7,1.5,1.7,1.8,2.1,2.1,2.1,2.0,1.9,1.9,1.8,1.7,1.3,1.2,0.8,0.7,0.0,0.6,0.9,0.9,0.9,0.5,0.8,0.7,0.8,1.5,1.6,2.0,1.7,1.6,1.5,1.6,1.4,1.6,1.9,1.8,1.7,1.6,1.8,1.5,1.4,1.3,1.0,1.3,0.8,0.6,1.0,0.2,0.4,0.7,0.6,0.8,1.3,1.3,1.0,0.9,1.0,1.5,1.9,1.7,1.7,1.3,1.5,1.4,1.2,0.4,0.4,0.5,0.8,0.8,0.5,0.7,0.5,0.5,0.6,0.6,0.6,0.9,0.7,0.6,1.1,1.4,1.3,0.8,1.7,1.1,0.3,0.8,0.7,0.5,0.6,0.6,0.8,0.4,0.0,0.1,0.5,0.6,1.0,1.3,1.9,1.6,1.4,1.1,1.4,0.9,1.2,1.1,1.6,0.9,1.2,1.0,0.9,0.4,0.6,0.5,0.5,0.7,0.7,0.8,0.5,0.7,0.9,1.2,1.0,0.9,1.0,0.8,1.3,0.9,1.2,1.1,0.9,0.9,0.8,0.9,0.8,1.2,1.5,1.6,1.4,1.1,0.7,0.5,0.7,1.0,1.2,1.8,1.5,1.6,1.8,1.7,1.8,1.7,1.7,1.7,1.3,1.4,1.3,1.2,1.0,0.7,0.6,0.6,0.0,0.3,0.3,0.1,0.2,1.2,1.4,1.5,1.6,1.5,1.7,1.4,1.3,1.5,1.4,1.5,1.4,1.3,1.3,1.4,1.1,0.9,0.8,0.9,0.6,0.5,0.6,0.6,1.1,1.2,1.5,1.7,1.8,1.7,1.9,2.8,0.7,0.7,0.1,0.1,0.0,0.1,0.1,0.0,0.3,0.4,0.3,0.6,0.8,0.8,0.6,0.0,0.2,1.2,1.7,1.6,1.8,1.9,2.0,2.0,1.8,1.6,1.5,1.4,1.3,1.4,1.3,0.8,0.9,0.6,0.6,0.6,0.5,0.8,0.4,0.6,0.7,1.2,1.4,1.7,1.7,1.5,1.2,1.1,1.3,1.3,1.2,1.3,1.3,1.2,1.4,1.3,1.2,0.9,0.9,0.4,0.6,0.6,0.6,0.5,0.8,1.1,1.5,1.4,1.5,1.3,1.1,0.9,1.0,1.3,1.5,1.7,1.5,1.4,1.2,0.8,0.8,0.5,0.6,0.7,0.5,0.6,0.5,0.6,0.6,0.8,1.0,1.3,1.3,1.2,1.2,1.1,1.1,1.4,1.5,1.6,1.4,1.0,0.6,0.7,0.6,0.6,0.7,0.7,0.6,0.5,0.7,0.5,0.5,0.8,0.9,0.9,0.9,0.8,0.8,0.9,1.1,1.2,0.8,1.0,0.9,0.8,0.6,0.6,0.6,0.6,0.7,0.3,0.6,0.3,0.1,0.0,0.0,0.3,0.8,0.8,1.0,1.0,1.2,1.2,2.2,1.1,1.0,1.0,0.7,0.7,0.6,0.3,0.0,0.0,0.1,0.1,0.3,0.0,0.0,0.0,0.0,0.3,0.9,1.1,1.0,1.3,1.1,1.0,1.0,1.1,1.1,0.9,0.9,0.7,0.2,0.0,0.4,0.2,0.1,0.2,0.2,0.0,0.0,0.2,0.2,0.7,1.3,1.5,1.5,1.5,1.4,1.5,1.4,1.2,1.3,1.2,1.0,0.9,0.9,0.9,0.6,0.5,0.3,0.4,0.5,0.6,0.1,0.1,0.3,0.9,1.2,1.2,1.2,1.3,1.2,1.4,1.2,1.0,0.9,1.0,0.7,0.6,0.2,0.6,0.3,0.1,0.3,0.1,0.0,0.0,0.0,0.1,0.0,0.4,0.7,0.9,1.2,1.1,1.4,1.4,1.5,1.4,1.2,1.1,0.8,0.5,0.6,0.5,0.6,0.4,0.5,0.3,0.5,0.5,0.4,0.2,0.3,0.7,1.2,1.2,1.3,1.2,1.4,1.4,1.3,1.2,1.1,0.9,0.7,0.4,0.1,0.4,0.5,0.2,0.4,0.3,0.0,0.1,0.2,0.1,0.5,0.8,1.3,1.3,1.4,1.2,1.5,1.4,1.4,1.3,0.8,0.8,0.7,0.3,0.2,0.3,0.5,0.7,0.6,0.6,0.6,0.6,0.6,0.6,0.6,0.7,1.0,1.0,1.1,1.1,1.4,1.3,1.6,1.5,1.4,1.0,0.8,0.7,0.7,0.7,0.6,0.6,0.6,0.7,0.6,0.7,0.9,0.8,0.8,0.9,0.9,1.1,1.2,1.1,1.2,1.4,1.2,1.3,1.1,0.9,0.8,0.7,0.6,0.5,0.5,0.5,0.3,0.5,0.3,0.5,0.3,0.4,0.5,1.0,1.2,1.1,1.1,1.3,1.3,1.4,1.3,1.3,1.2,1.0,0.8,0.6,0.5,0.5,0.1,0.1,0.4,0.4,0.1,0.2,0.0,0.0,0.2,0.7,1.2,1.1,1.1,1.2,1.4,1.5,1.5,1.5,1.1,1.0,0.9,0.9,0.7,0.5,0.6,0.6,0.6,0.4,0.6,0.6,0.5,0.0,0.5,0.8,1.2,1.2,1.2,1.3,1.1,1.0,1.1,1.3,1.1,1.0,0.9,0.7,0.7,0.5,0.6,0.5,0.4,0.5,0.4,0.5,0.5,0.3,0.4,0.8,0.9,1.1,1.2,1.2,1.3,1.0,1.6,1.9,1.6,1.5,1.2,0.7,0.4,0.5,0.4,0.5,0.5,0.5,0.3,0.0,0.0,0.2,0.3,0.6,0.9,0.9,1.0,1.1,1.3,1.6,1.8,1.1,1.1,0.9,0.7,0.6,0.7,0.5,0.6,0.6,0.5,0.4,0.3,0.4,0.1,0.0,0.0,0.3,0.5,1.0,1.1,0.7,1.0,1.2,1.6,1.4,1.0,0.6,0.6,0.7,0.6,0.5,0.5,0.4,0.6,0.5,0.6,0.2,0.0,0.0,0.2,0.6,0.9,0.9,1.0,0.8,0.8,0.8,0.4,0.9,0.7,0.5,0.5,0.6,0.6,0.5,0.6,0.5,0.6,0.5,0.6,0.3,0.7,0.6,0.8,0.7,0.6,0.7,0.5,0.6,0.7,0.7,0.8,0.8,0.9,0.6,0.5,0.6,0.6,0.4,0.6,0.5,0.6,0.1,0.5,0.6,0.1,0.3,0.4,0.5,0.7,0.7,1.1,0.7,0.7,0.8,0.9,1.0,0.8,0.4,0.4,0.7,0.3,0.1,0.3,0.5,0.4,0.6,0.5,0.4,0.3,0.1,0.3,0.3,0.5,0.7,0.7,0.5,0.6,0.7,0.8,0.7,0.7,0.6,0.6,0.4,0.6,0.4,0.3,0.1,0.3,0.5,0.6,0.4,0.3,0.0,0.5,0.6,0.7,0.7,0.7,1.0,1.0,0.9,0.8,1.0,0.7,0.8,0.7,0.3,0.1,0.2,0.1,0.1,0.5,0.7,0.4,0.1,0.2,0.0,0.6,0.8,0.8,1.0,1.2,0.7,0.8,0.8,0.7,0.7,0.6,0.5,0.5,0.7,0.6,0.4,0.4,0.5,0.7,0.6,0.4,0.1,0.4,0.2,0.5,0.6,0.9,0.9,0.8,1.0,0.9,0.8,0.8,0.7,0.7,0.7,0.5,0.4,0.2,0.3,0.1,0.2,0.3,0.1,0.3,0.0,0.1,0.5,0.7,0.7,0.9,0.8,0.9,1.2,1.2,0.9,0.7,0.6,0.8,0.4,0.3,0.3,0.6,0.4,0.0,0.1,0.0,0.2,0.1,0.0,0.3,0.4,0.5,0.8,0.7,0.7,0.7,1.1,1.4,0.4,0.3,0.9,0.7,0.6,0.4,0.2,0.5,0.6,0.4,0.4,0.4,0.0,0.0,0.0,0.3,0.5,0.6,0.6,0.6,0.7,0.7,0.7,1.2,0.9,0.9,0.8,0.6,0.7,0.8,0.6,0.3,0.4,0.8,0.4,0.5,0.3,0.3,0.3,0.2,0.1,0.6,0.6,0.7,0.7,0.9,0.8,0.9,1.2,0.9,0.8,0.7,0.6,0.6,0.6,0.3,0.5,0.4,0.3,0.0,0.0,0.2,0.2,0.1,0.4,0.5,0.5,0.6,0.7,0.9,1.0,0.9,0.9,1.0,0.9,0.7,0.6,0.1,0.0,0.1,0.0,0.0,0.0,0.0,0.0,0.0,0.0,0.2,0.6,0.8,0.7,0.8,1.0,1.0,1.1,0.7,0.9,1.0,0.9,0.8,0.8,0.7,0.7,0.6,0.5,0.0,0.0,0.0,0.0,0.2,0.4,0.6,0.7,0.8,0.8,0.9,1.1,1.0,1.0,1.0,1.0,0.9,0.8,0.7,0.4,0.6,0.5,0.6,0.5,0.2,0.2,0.2,0.1,0.0,0.0,0.0,0.3,0.6,0.8,0.9,0.9,1.0,0.9,0.8,1.2,0.9,1.0,0.7,0.6,0.7,0.3,0.1,0.4,0.4,0.4,0.5,0.1,0.1,0.5,0.5,0.7,0.7,0.8,0.8,1.2,1.3,1.3,1.3,1.3,1.0,0.9,0.7,0.7,0.6,0.2,0.1,0.0,0.0,0.0,0.1,0.0,0.0,0.0,0.0,0.3,0.8,0.9,0.9,1.0,1.2,1.0,1.2,0.9,0.9,0.8,0.6,0.5,0.2,0.1,0.5,0.1,0.0,0.0,0.0,0.0,0.0,0.0,0.1,0.2,0.6,0.7,0.8,1.0,0.8,0.8,0.9,0.8,0.8,0.8,0.6,0.5,0.4,0.3,0.0,0.2,0.0,0.0,0.1,0.0,0.0,0.0,0.2,0.6,0.7,0.7,0.7,0.7,0.7,0.8,1.0,1.0,0.8,0.7,0.7,0.4,0.2,0.3,0.1,0.0,0.0,0.0,0.0,0.0,0.3,0.0,0.1,0.3,0.5,1.0,0.8,0.7,0.7,0.9,0.9,1.0,0.8,1.1,0.8,0.3,0.4,0.1,0.0,0.2,0.3,0.4,0.1,0.3,0.3,0.0,0.5,0.9,0.8,1.0,0.9,1.0,1.0,1.1,0.9,0.9,0.9,1.0,0.8,0.6,0.6,0.5,0.4,0.2,0.0,0.0,0.0,0.1,0.0,0.0,0.0,0.2,0.6,0.6,0.9,0.8,1.1,0.8,0.7,0.6,0.7,0.7,0.5,0.0,0.0,0.0,0.0,0.0,0.0,0.2,0.2,0.1,0.1,0.0,0.0,0.2,0.6,0.7,0.8,0.9,1.0,0.8,0.7,0.8,0.7,0.4,0.0,0.0,0.0,0.0,0.2,0.1,0.1,0.3,0.0,0.2,0.0,0.2,0.1,0.4,0.6,0.9,0.9,0.9,0.9,1.0,0.8,0.7,0.7,0.4,0.5,0.4,0.6,0.5,0.1,0.2,0.2,0.1,0.2,0.0,0.0,0.0,0.6,0.4,0.5,0.4,0.7,0.8,0.8,0.9,0.9,0.7,0.8,0.7,0.4,0.0,0.0,0.0,0.0,0.0,0.0,0.0,0.0,0.1,0.0,0.0,0.1,0.0,0.3,0.6,0.8,1.2,1.0,1.1,1.2,1.0,1.0,0.8,0.1,0.3,0.4,0.3,0.3,0.1,0.2,0.0,0.0,0.0,0.0,0.1,0.0,0.0,0.2,0.0,0.5,0.7,0.9,0.9,0.9,0.8,0.7,0.7,0.3,0.3,0.7,0.3,0.7,0.3,0.4,0.6,0.4,0.0,0.4,0.5,0.5,0.4,0.7,1.1,1.2,1.0,1.1,0.9,0.9,1.0,0.9,0.8,0.6,0.2,0.3,0.0,0.0,0.0,0.0,0.0,0.0,0.0,0.0,0.0,0.2,0.3,1.0,0.9,0.9,0.9,1.2,0.9,0.8,1.0,0.9,0.5,0.3,0.3,0.0,0.1,0.0,0.0,0.4,0.2,0.0,0.0,0.1,0.0,0.1,0.0,0.1,0.6,0.7,0.9,0.6,0.6,1.0,0.7,0.5,0.0,0.0,0.0],\"type\":\"scatter\"}],                        {\"template\":{\"data\":{\"histogram2dcontour\":[{\"type\":\"histogram2dcontour\",\"colorbar\":{\"outlinewidth\":0,\"ticks\":\"\"},\"colorscale\":[[0.0,\"#0d0887\"],[0.1111111111111111,\"#46039f\"],[0.2222222222222222,\"#7201a8\"],[0.3333333333333333,\"#9c179e\"],[0.4444444444444444,\"#bd3786\"],[0.5555555555555556,\"#d8576b\"],[0.6666666666666666,\"#ed7953\"],[0.7777777777777778,\"#fb9f3a\"],[0.8888888888888888,\"#fdca26\"],[1.0,\"#f0f921\"]]}],\"choropleth\":[{\"type\":\"choropleth\",\"colorbar\":{\"outlinewidth\":0,\"ticks\":\"\"}}],\"histogram2d\":[{\"type\":\"histogram2d\",\"colorbar\":{\"outlinewidth\":0,\"ticks\":\"\"},\"colorscale\":[[0.0,\"#0d0887\"],[0.1111111111111111,\"#46039f\"],[0.2222222222222222,\"#7201a8\"],[0.3333333333333333,\"#9c179e\"],[0.4444444444444444,\"#bd3786\"],[0.5555555555555556,\"#d8576b\"],[0.6666666666666666,\"#ed7953\"],[0.7777777777777778,\"#fb9f3a\"],[0.8888888888888888,\"#fdca26\"],[1.0,\"#f0f921\"]]}],\"heatmap\":[{\"type\":\"heatmap\",\"colorbar\":{\"outlinewidth\":0,\"ticks\":\"\"},\"colorscale\":[[0.0,\"#0d0887\"],[0.1111111111111111,\"#46039f\"],[0.2222222222222222,\"#7201a8\"],[0.3333333333333333,\"#9c179e\"],[0.4444444444444444,\"#bd3786\"],[0.5555555555555556,\"#d8576b\"],[0.6666666666666666,\"#ed7953\"],[0.7777777777777778,\"#fb9f3a\"],[0.8888888888888888,\"#fdca26\"],[1.0,\"#f0f921\"]]}],\"heatmapgl\":[{\"type\":\"heatmapgl\",\"colorbar\":{\"outlinewidth\":0,\"ticks\":\"\"},\"colorscale\":[[0.0,\"#0d0887\"],[0.1111111111111111,\"#46039f\"],[0.2222222222222222,\"#7201a8\"],[0.3333333333333333,\"#9c179e\"],[0.4444444444444444,\"#bd3786\"],[0.5555555555555556,\"#d8576b\"],[0.6666666666666666,\"#ed7953\"],[0.7777777777777778,\"#fb9f3a\"],[0.8888888888888888,\"#fdca26\"],[1.0,\"#f0f921\"]]}],\"contourcarpet\":[{\"type\":\"contourcarpet\",\"colorbar\":{\"outlinewidth\":0,\"ticks\":\"\"}}],\"contour\":[{\"type\":\"contour\",\"colorbar\":{\"outlinewidth\":0,\"ticks\":\"\"},\"colorscale\":[[0.0,\"#0d0887\"],[0.1111111111111111,\"#46039f\"],[0.2222222222222222,\"#7201a8\"],[0.3333333333333333,\"#9c179e\"],[0.4444444444444444,\"#bd3786\"],[0.5555555555555556,\"#d8576b\"],[0.6666666666666666,\"#ed7953\"],[0.7777777777777778,\"#fb9f3a\"],[0.8888888888888888,\"#fdca26\"],[1.0,\"#f0f921\"]]}],\"surface\":[{\"type\":\"surface\",\"colorbar\":{\"outlinewidth\":0,\"ticks\":\"\"},\"colorscale\":[[0.0,\"#0d0887\"],[0.1111111111111111,\"#46039f\"],[0.2222222222222222,\"#7201a8\"],[0.3333333333333333,\"#9c179e\"],[0.4444444444444444,\"#bd3786\"],[0.5555555555555556,\"#d8576b\"],[0.6666666666666666,\"#ed7953\"],[0.7777777777777778,\"#fb9f3a\"],[0.8888888888888888,\"#fdca26\"],[1.0,\"#f0f921\"]]}],\"mesh3d\":[{\"type\":\"mesh3d\",\"colorbar\":{\"outlinewidth\":0,\"ticks\":\"\"}}],\"scatter\":[{\"fillpattern\":{\"fillmode\":\"overlay\",\"size\":10,\"solidity\":0.2},\"type\":\"scatter\"}],\"parcoords\":[{\"type\":\"parcoords\",\"line\":{\"colorbar\":{\"outlinewidth\":0,\"ticks\":\"\"}}}],\"scatterpolargl\":[{\"type\":\"scatterpolargl\",\"marker\":{\"colorbar\":{\"outlinewidth\":0,\"ticks\":\"\"}}}],\"bar\":[{\"error_x\":{\"color\":\"#2a3f5f\"},\"error_y\":{\"color\":\"#2a3f5f\"},\"marker\":{\"line\":{\"color\":\"#E5ECF6\",\"width\":0.5},\"pattern\":{\"fillmode\":\"overlay\",\"size\":10,\"solidity\":0.2}},\"type\":\"bar\"}],\"scattergeo\":[{\"type\":\"scattergeo\",\"marker\":{\"colorbar\":{\"outlinewidth\":0,\"ticks\":\"\"}}}],\"scatterpolar\":[{\"type\":\"scatterpolar\",\"marker\":{\"colorbar\":{\"outlinewidth\":0,\"ticks\":\"\"}}}],\"histogram\":[{\"marker\":{\"pattern\":{\"fillmode\":\"overlay\",\"size\":10,\"solidity\":0.2}},\"type\":\"histogram\"}],\"scattergl\":[{\"type\":\"scattergl\",\"marker\":{\"colorbar\":{\"outlinewidth\":0,\"ticks\":\"\"}}}],\"scatter3d\":[{\"type\":\"scatter3d\",\"line\":{\"colorbar\":{\"outlinewidth\":0,\"ticks\":\"\"}},\"marker\":{\"colorbar\":{\"outlinewidth\":0,\"ticks\":\"\"}}}],\"scattermapbox\":[{\"type\":\"scattermapbox\",\"marker\":{\"colorbar\":{\"outlinewidth\":0,\"ticks\":\"\"}}}],\"scatterternary\":[{\"type\":\"scatterternary\",\"marker\":{\"colorbar\":{\"outlinewidth\":0,\"ticks\":\"\"}}}],\"scattercarpet\":[{\"type\":\"scattercarpet\",\"marker\":{\"colorbar\":{\"outlinewidth\":0,\"ticks\":\"\"}}}],\"carpet\":[{\"aaxis\":{\"endlinecolor\":\"#2a3f5f\",\"gridcolor\":\"white\",\"linecolor\":\"white\",\"minorgridcolor\":\"white\",\"startlinecolor\":\"#2a3f5f\"},\"baxis\":{\"endlinecolor\":\"#2a3f5f\",\"gridcolor\":\"white\",\"linecolor\":\"white\",\"minorgridcolor\":\"white\",\"startlinecolor\":\"#2a3f5f\"},\"type\":\"carpet\"}],\"table\":[{\"cells\":{\"fill\":{\"color\":\"#EBF0F8\"},\"line\":{\"color\":\"white\"}},\"header\":{\"fill\":{\"color\":\"#C8D4E3\"},\"line\":{\"color\":\"white\"}},\"type\":\"table\"}],\"barpolar\":[{\"marker\":{\"line\":{\"color\":\"#E5ECF6\",\"width\":0.5},\"pattern\":{\"fillmode\":\"overlay\",\"size\":10,\"solidity\":0.2}},\"type\":\"barpolar\"}],\"pie\":[{\"automargin\":true,\"type\":\"pie\"}]},\"layout\":{\"autotypenumbers\":\"strict\",\"colorway\":[\"#636efa\",\"#EF553B\",\"#00cc96\",\"#ab63fa\",\"#FFA15A\",\"#19d3f3\",\"#FF6692\",\"#B6E880\",\"#FF97FF\",\"#FECB52\"],\"font\":{\"color\":\"#2a3f5f\"},\"hovermode\":\"closest\",\"hoverlabel\":{\"align\":\"left\"},\"paper_bgcolor\":\"white\",\"plot_bgcolor\":\"#E5ECF6\",\"polar\":{\"bgcolor\":\"#E5ECF6\",\"angularaxis\":{\"gridcolor\":\"white\",\"linecolor\":\"white\",\"ticks\":\"\"},\"radialaxis\":{\"gridcolor\":\"white\",\"linecolor\":\"white\",\"ticks\":\"\"}},\"ternary\":{\"bgcolor\":\"#E5ECF6\",\"aaxis\":{\"gridcolor\":\"white\",\"linecolor\":\"white\",\"ticks\":\"\"},\"baxis\":{\"gridcolor\":\"white\",\"linecolor\":\"white\",\"ticks\":\"\"},\"caxis\":{\"gridcolor\":\"white\",\"linecolor\":\"white\",\"ticks\":\"\"}},\"coloraxis\":{\"colorbar\":{\"outlinewidth\":0,\"ticks\":\"\"}},\"colorscale\":{\"sequential\":[[0.0,\"#0d0887\"],[0.1111111111111111,\"#46039f\"],[0.2222222222222222,\"#7201a8\"],[0.3333333333333333,\"#9c179e\"],[0.4444444444444444,\"#bd3786\"],[0.5555555555555556,\"#d8576b\"],[0.6666666666666666,\"#ed7953\"],[0.7777777777777778,\"#fb9f3a\"],[0.8888888888888888,\"#fdca26\"],[1.0,\"#f0f921\"]],\"sequentialminus\":[[0.0,\"#0d0887\"],[0.1111111111111111,\"#46039f\"],[0.2222222222222222,\"#7201a8\"],[0.3333333333333333,\"#9c179e\"],[0.4444444444444444,\"#bd3786\"],[0.5555555555555556,\"#d8576b\"],[0.6666666666666666,\"#ed7953\"],[0.7777777777777778,\"#fb9f3a\"],[0.8888888888888888,\"#fdca26\"],[1.0,\"#f0f921\"]],\"diverging\":[[0,\"#8e0152\"],[0.1,\"#c51b7d\"],[0.2,\"#de77ae\"],[0.3,\"#f1b6da\"],[0.4,\"#fde0ef\"],[0.5,\"#f7f7f7\"],[0.6,\"#e6f5d0\"],[0.7,\"#b8e186\"],[0.8,\"#7fbc41\"],[0.9,\"#4d9221\"],[1,\"#276419\"]]},\"xaxis\":{\"gridcolor\":\"white\",\"linecolor\":\"white\",\"ticks\":\"\",\"title\":{\"standoff\":15},\"zerolinecolor\":\"white\",\"automargin\":true,\"zerolinewidth\":2},\"yaxis\":{\"gridcolor\":\"white\",\"linecolor\":\"white\",\"ticks\":\"\",\"title\":{\"standoff\":15},\"zerolinecolor\":\"white\",\"automargin\":true,\"zerolinewidth\":2},\"scene\":{\"xaxis\":{\"backgroundcolor\":\"#E5ECF6\",\"gridcolor\":\"white\",\"linecolor\":\"white\",\"showbackground\":true,\"ticks\":\"\",\"zerolinecolor\":\"white\",\"gridwidth\":2},\"yaxis\":{\"backgroundcolor\":\"#E5ECF6\",\"gridcolor\":\"white\",\"linecolor\":\"white\",\"showbackground\":true,\"ticks\":\"\",\"zerolinecolor\":\"white\",\"gridwidth\":2},\"zaxis\":{\"backgroundcolor\":\"#E5ECF6\",\"gridcolor\":\"white\",\"linecolor\":\"white\",\"showbackground\":true,\"ticks\":\"\",\"zerolinecolor\":\"white\",\"gridwidth\":2}},\"shapedefaults\":{\"line\":{\"color\":\"#2a3f5f\"}},\"annotationdefaults\":{\"arrowcolor\":\"#2a3f5f\",\"arrowhead\":0,\"arrowwidth\":1},\"geo\":{\"bgcolor\":\"white\",\"landcolor\":\"#E5ECF6\",\"subunitcolor\":\"white\",\"showland\":true,\"showlakes\":true,\"lakecolor\":\"white\"},\"title\":{\"x\":0.05},\"mapbox\":{\"style\":\"light\"}}},\"title\":{\"text\":\"Average Wind Speed\"},\"yaxis\":{\"title\":{\"text\":\"Average Wind Speed\"}},\"xaxis\":{\"title\":{\"text\":\"Datetime\"}}},                        {\"responsive\": true}                    ).then(function(){\n",
              "                            \n",
              "var gd = document.getElementById('2b4a607d-8eb7-4003-8e34-eaf042b6cad1');\n",
              "var x = new MutationObserver(function (mutations, observer) {{\n",
              "        var display = window.getComputedStyle(gd).display;\n",
              "        if (!display || display === 'none') {{\n",
              "            console.log([gd, 'removed!']);\n",
              "            Plotly.purge(gd);\n",
              "            observer.disconnect();\n",
              "        }}\n",
              "}});\n",
              "\n",
              "// Listen for the removal of the full notebook cells\n",
              "var notebookContainer = gd.closest('#notebook-container');\n",
              "if (notebookContainer) {{\n",
              "    x.observe(notebookContainer, {childList: true});\n",
              "}}\n",
              "\n",
              "// Listen for the clearing of the current output cell\n",
              "var outputEl = gd.closest('.output');\n",
              "if (outputEl) {{\n",
              "    x.observe(outputEl, {childList: true});\n",
              "}}\n",
              "\n",
              "                        })                };                            </script>        </div>\n",
              "</body>\n",
              "</html>"
            ]
          },
          "metadata": {}
        }
      ]
    },
    {
      "cell_type": "markdown",
      "source": [
        "## Components of Time Series:"
      ],
      "metadata": {
        "id": "M5k1gIKPgXY5"
      }
    },
    {
      "cell_type": "code",
      "source": [
        "from statsmodels.tsa.seasonal import seasonal_decompose"
      ],
      "metadata": {
        "id": "WwcmcaBhTJkp"
      },
      "execution_count": 7,
      "outputs": []
    },
    {
      "cell_type": "code",
      "source": [
        "series = df['wind_speed_avg']\n",
        "\n",
        "series.index = pd.date_range(start = df.index[0], periods = len(df1), freq='1H')\n",
        "\n",
        "decomposition = seasonal_decompose(series, model = 'additive')\n",
        "decomposition.plot()\n",
        "plt.show()"
      ],
      "metadata": {
        "colab": {
          "base_uri": "https://localhost:8080/",
          "height": 487
        },
        "id": "TWaOpaBpll6e",
        "outputId": "2da6b01a-c0e0-4f66-b27d-ee5c57d78945"
      },
      "execution_count": 8,
      "outputs": [
        {
          "output_type": "display_data",
          "data": {
            "text/plain": [
              "<Figure size 640x480 with 4 Axes>"
            ],
            "image/png": "[encoded data removed]"
          },
          "metadata": {}
        }
      ]
    },
    {
      "cell_type": "markdown",
      "source": [
        "## From above results, we can see the data consists of seasonality and there is no particular trend in the data but still irregular trend is present."
      ],
      "metadata": {
        "id": "4_Vdnx9Qpvz4"
      }
    },
    {
      "cell_type": "markdown",
      "source": [
        "## Checking Stationarity:"
      ],
      "metadata": {
        "id": "vTJcFCiNYkJ8"
      }
    },
    {
      "cell_type": "code",
      "source": [
        "from statsmodels.tsa.stattools import adfuller, kpss"
      ],
      "metadata": {
        "id": "qyqw7S2YXF80"
      },
      "execution_count": 9,
      "outputs": []
    },
    {
      "cell_type": "markdown",
      "source": [
        "## Dicky Fuller Test:"
      ],
      "metadata": {
        "id": "Hlg8neYYrRJO"
      }
    },
    {
      "cell_type": "code",
      "source": [
        "result = adfuller(df1['wind_speed_avg'].values, autolag = 'AIC')"
      ],
      "metadata": {
        "id": "LzXZ4UP1Y-3s"
      },
      "execution_count": 10,
      "outputs": []
    },
    {
      "cell_type": "code",
      "source": [
        "print(f'ADF Statistic: {result[0]}')\n",
        "print(f'p-value: {result[1]}')\n",
        "for key, value in result[4].items():\n",
        "    print(f'Critial Value at {key} = {value}')"
      ],
      "metadata": {
        "colab": {
          "base_uri": "https://localhost:8080/"
        },
        "id": "BefUsvWzZO3_",
        "outputId": "2875d0db-fef2-44af-e4df-205ea19b70c5"
      },
      "execution_count": 11,
      "outputs": [
        {
          "output_type": "stream",
          "name": "stdout",
          "text": [
            "ADF Statistic: -2.0816716746038537\n",
            "p-value: 0.2519480884423667\n",
            "Critial Value at 1% = -3.4334079904672232\n",
            "Critial Value at 5% = -2.8628909043977235\n",
            "Critial Value at 10% = -2.567489155536542\n"
          ]
        }
      ]
    },
    {
      "cell_type": "markdown",
      "source": [
        "### From above results, since p-value is greater than 0.05 we can conclude we can not reject the null hypothesis and hence the series is non-stationary."
      ],
      "metadata": {
        "id": "NdKWqOZYZdkQ"
      }
    },
    {
      "cell_type": "markdown",
      "source": [
        "## Checking with KPSS Test:"
      ],
      "metadata": {
        "id": "uNAiRBnCrT93"
      }
    },
    {
      "cell_type": "code",
      "source": [
        "result = kpss(df1['wind_speed_avg'].values)\n",
        "\n",
        "print(f'KPSS Statistic: {result[0]}')\n",
        "print(f'p-value: {result[1]}')"
      ],
      "metadata": {
        "colab": {
          "base_uri": "https://localhost:8080/"
        },
        "id": "5kf1zzvurWP5",
        "outputId": "804d4574-4ba6-4a4f-b01e-eaac971ea946"
      },
      "execution_count": 12,
      "outputs": [
        {
          "output_type": "stream",
          "name": "stdout",
          "text": [
            "KPSS Statistic: 6.2409135296858995\n",
            "p-value: 0.01\n"
          ]
        },
        {
          "output_type": "stream",
          "name": "stderr",
          "text": [
            "/usr/local/lib/python3.10/dist-packages/statsmodels/tsa/stattools.py:2018: InterpolationWarning:\n",
            "\n",
            "The test statistic is outside of the range of p-values available in the\n",
            "look-up table. The actual p-value is smaller than the p-value returned.\n",
            "\n",
            "\n"
          ]
        }
      ]
    },
    {
      "cell_type": "markdown",
      "source": [
        "## Based on KPSS p-value, we reject Null Hypothesis and hence time series is not stationary."
      ],
      "metadata": {
        "id": "MVXWSHZNr4Ua"
      }
    },
    {
      "cell_type": "markdown",
      "source": [
        "## Making Time Series Stationary:"
      ],
      "metadata": {
        "id": "-mSLTtr4Zh1s"
      }
    },
    {
      "cell_type": "markdown",
      "source": [
        "## Differencing:"
      ],
      "metadata": {
        "id": "J9fk0dtJZqmx"
      }
    },
    {
      "cell_type": "code",
      "source": [
        "df1['M1'] = df1['wind_speed_avg'] - df1['wind_speed_avg'].shift(1)"
      ],
      "metadata": {
        "id": "5JfsQBT4ZPjy"
      },
      "execution_count": 13,
      "outputs": []
    },
    {
      "cell_type": "code",
      "source": [
        "fig = go.Figure()\n",
        "\n",
        "fig.add_trace(go.Scatter(x = df1.index, y = df1['M1'], mode = 'lines+markers'))\n",
        "\n",
        "fig.update_layout(title = \"Average Wind Speed (After first order differencing)\")\n",
        "fig.update_yaxes(title_text = \"Average Wind Speed\")\n",
        "fig.update_xaxes(title_text = \"Datetime\")\n",
        "\n",
        "fig.show()"
      ],
      "metadata": {
        "colab": {
          "base_uri": "https://localhost:8080/",
          "height": 542
        },
        "id": "U4EtXef2aRfK",
        "outputId": "456143ae-c6cd-4805-c779-c8cbb1e9ae53"
      },
      "execution_count": 14,
      "outputs": [
        {
          "output_type": "display_data",
          "data": {
            "text/html": [
              "<html>\n",
              "<head><meta charset=\"utf-8\" /></head>\n",
              "<body>\n",
              "    <div>            <script src=\"https://cdnjs.cloudflare.com/ajax/libs/mathjax/2.7.5/MathJax.js?config=TeX-AMS-MML_SVG\"></script><script type=\"text/javascript\">if (window.MathJax && window.MathJax.Hub && window.MathJax.Hub.Config) {window.MathJax.Hub.Config({SVG: {font: \"STIX-Web\"}});}</script>                <script type=\"text/javascript\">window.PlotlyConfig = {MathJaxConfig: 'local'};</script>\n",
              "        <script src=\"https://cdn.plot.ly/plotly-2.18.2.min.js\"></script>                <div id=\"0652cca5-3720-466e-b050-14eadf8ca9ee\" class=\"plotly-graph-div\" style=\"height:525px; width:100%;\"></div>            <script type=\"text/javascript\">                                    window.PLOTLYENV=window.PLOTLYENV || {};                                    if (document.getElementById(\"0652cca5-3720-466e-b050-14eadf8ca9ee\")) {                    Plotly.newPlot(                        \"0652cca5-3720-466e-b050-14eadf8ca9ee\",                        [{\"mode\":\"lines+markers\",\"x\":[\"2023-04-25 13:00:00\",\"2023-04-25 14:00:00\",\"2023-04-25 15:00:00\",\"2023-04-25 16:00:00\",\"2023-04-25 17:00:00\",\"2023-04-25 18:00:00\",\"2023-04-25 19:00:00\",\"2023-04-25 20:00:00\",\"2023-04-25 21:00:00\",\"2023-04-25 22:00:00\",\"2023-04-25 23:00:00\",\"2023-04-26 00:00:00\",\"2023-04-26 01:00:00\",\"2023-04-26 02:00:00\",\"2023-04-26 03:00:00\",\"2023-04-26 04:00:00\",\"2023-04-26 05:00:00\",\"2023-04-26 06:00:00\",\"2023-04-26 07:00:00\",\"2023-04-26 08:00:00\",\"2023-04-26 09:00:00\",\"2023-04-26 10:00:00\",\"2023-04-26 11:00:00\",\"2023-04-26 12:00:00\",\"2023-04-26 13:00:00\",\"2023-04-26 14:00:00\",\"2023-04-26 15:00:00\",\"2023-04-26 16:00:00\",\"2023-04-26 17:00:00\",\"2023-04-26 18:00:00\",\"2023-04-26 19:00:00\",\"2023-04-26 20:00:00\",\"2023-04-26 21:00:00\",\"2023-04-26 22:00:00\",\"2023-04-26 23:00:00\",\"2023-04-27 00:00:00\",\"2023-04-27 01:00:00\",\"2023-04-27 02:00:00\",\"2023-04-27 03:00:00\",\"2023-04-27 04:00:00\",\"2023-04-27 05:00:00\",\"2023-04-27 06:00:00\",\"2023-04-27 07:00:00\",\"2023-04-27 08:00:00\",\"2023-04-27 09:00:00\",\"2023-04-27 10:00:00\",\"2023-04-27 11:00:00\",\"2023-04-27 12:00:00\",\"2023-04-27 13:00:00\",\"2023-04-27 14:00:00\",\"2023-04-27 15:00:00\",\"2023-04-27 16:00:00\",\"2023-04-27 17:00:00\",\"2023-04-27 18:00:00\",\"2023-04-27 19:00:00\",\"2023-04-27 20:00:00\",\"2023-04-27 21:00:00\",\"2023-04-27 22:00:00\",\"2023-04-27 23:00:00\",\"2023-04-28 00:00:00\",\"2023-04-28 01:00:00\",\"2023-04-28 02:00:00\",\"2023-04-28 03:00:00\",\"2023-04-28 04:00:00\",\"2023-04-28 05:00:00\",\"2023-04-28 06:00:00\",\"2023-04-28 07:00:00\",\"2023-04-28 08:00:00\",\"2023-04-28 09:00:00\",\"2023-04-28 10:00:00\",\"2023-04-28 11:00:00\",\"2023-04-28 12:00:00\",\"2023-04-28 13:00:00\",\"2023-04-28 14:00:00\",\"2023-04-28 15:00:00\",\"2023-04-28 16:00:00\",\"2023-04-28 17:00:00\",\"2023-04-28 18:00:00\",\"2023-04-28 19:00:00\",\"2023-04-28 20:00:00\",\"2023-04-28 21:00:00\",\"2023-04-28 22:00:00\",\"2023-04-28 23:00:00\",\"2023-04-29 00:00:00\",\"2023-04-29 01:00:00\",\"2023-04-29 02:00:00\",\"2023-04-29 03:00:00\",\"2023-04-29 04:00:00\",\"2023-04-29 05:00:00\",\"2023-04-29 06:00:00\",\"2023-04-29 07:00:00\",\"2023-04-29 08:00:00\",\"2023-04-29 09:00:00\",\"2023-04-29 10:00:00\",\"2023-04-29 11:00:00\",\"2023-04-29 12:00:00\",\"2023-04-29 13:00:00\",\"2023-04-29 14:00:00\",\"2023-04-29 15:00:00\",\"2023-04-29 16:00:00\",\"2023-04-29 17:00:00\",\"2023-04-29 18:00:00\",\"2023-04-29 19:00:00\",\"2023-04-29 20:00:00\",\"2023-04-29 21:00:00\",\"2023-04-29 22:00:00\",\"2023-04-29 23:00:00\",\"2023-04-30 00:00:00\",\"2023-04-30 01:00:00\",\"2023-04-30 02:00:00\",\"2023-04-30 03:00:00\",\"2023-04-30 04:00:00\",\"2023-04-30 05:00:00\",\"2023-04-30 06:00:00\",\"2023-04-30 07:00:00\",\"2023-04-30 08:00:00\",\"2023-04-30 09:00:00\",\"2023-04-30 10:00:00\",\"2023-04-30 11:00:00\",\"2023-04-30 12:00:00\",\"2023-04-30 13:00:00\",\"2023-04-30 14:00:00\",\"2023-04-30 15:00:00\",\"2023-04-30 16:00:00\",\"2023-04-30 17:00:00\",\"2023-04-30 18:00:00\",\"2023-04-30 19:00:00\",\"2023-04-30 20:00:00\",\"2023-04-30 21:00:00\",\"2023-04-30 22:00:00\",\"2023-04-30 23:00:00\",\"2023-05-01 00:00:00\",\"2023-05-01 01:00:00\",\"2023-05-01 02:00:00\",\"2023-05-01 03:00:00\",\"2023-05-01 04:00:00\",\"2023-05-01 05:00:00\",\"2023-05-01 06:00:00\",\"2023-05-01 07:00:00\",\"2023-05-01 08:00:00\",\"2023-05-01 09:00:00\",\"2023-05-01 10:00:00\",\"2023-05-01 11:00:00\",\"2023-05-01 12:00:00\",\"2023-05-01 13:00:00\",\"2023-05-01 14:00:00\",\"2023-05-01 15:00:00\",\"2023-05-01 16:00:00\",\"2023-05-01 17:00:00\",\"2023-05-01 18:00:00\",\"2023-05-01 19:00:00\",\"2023-05-01 20:00:00\",\"2023-05-01 21:00:00\",\"2023-05-01 22:00:00\",\"2023-05-01 23:00:00\",\"2023-05-02 00:00:00\",\"2023-05-02 01:00:00\",\"2023-05-02 02:00:00\",\"2023-05-02 03:00:00\",\"2023-05-02 04:00:00\",\"2023-05-02 05:00:00\",\"2023-05-02 06:00:00\",\"2023-05-02 07:00:00\",\"2023-05-02 08:00:00\",\"2023-05-02 09:00:00\",\"2023-05-02 10:00:00\",\"2023-05-02 11:00:00\",\"2023-05-02 12:00:00\",\"2023-05-02 13:00:00\",\"2023-05-02 14:00:00\",\"2023-05-02 15:00:00\",\"2023-05-02 16:00:00\",\"2023-05-02 17:00:00\",\"2023-05-02 18:00:00\",\"2023-05-02 19:00:00\",\"2023-05-02 20:00:00\",\"2023-05-02 21:00:00\",\"2023-05-02 22:00:00\",\"2023-05-02 23:00:00\",\"2023-05-03 00:00:00\",\"2023-05-03 01:00:00\",\"2023-05-03 02:00:00\",\"2023-05-03 03:00:00\",\"2023-05-03 04:00:00\",\"2023-05-03 05:00:00\",\"2023-05-03 06:00:00\",\"2023-05-03 07:00:00\",\"2023-05-03 08:00:00\",\"2023-05-03 09:00:00\",\"2023-05-03 10:00:00\",\"2023-05-03 11:00:00\",\"2023-05-03 12:00:00\",\"2023-05-03 13:00:00\",\"2023-05-03 14:00:00\",\"2023-05-03 15:00:00\",\"2023-05-03 16:00:00\",\"2023-05-03 17:00:00\",\"2023-05-03 18:00:00\",\"2023-05-03 19:00:00\",\"2023-05-03 20:00:00\",\"2023-05-03 21:00:00\",\"2023-05-03 22:00:00\",\"2023-05-03 23:00:00\",\"2023-05-04 00:00:00\",\"2023-05-04 01:00:00\",\"2023-05-04 02:00:00\",\"2023-05-04 03:00:00\",\"2023-05-04 04:00:00\",\"2023-05-04 05:00:00\",\"2023-05-04 06:00:00\",\"2023-05-04 07:00:00\",\"2023-05-04 08:00:00\",\"2023-05-04 09:00:00\",\"2023-05-04 10:00:00\",\"2023-05-04 11:00:00\",\"2023-05-04 12:00:00\",\"2023-05-04 13:00:00\",\"2023-05-04 14:00:00\",\"2023-05-04 15:00:00\",\"2023-05-04 16:00:00\",\"2023-05-04 17:00:00\",\"2023-05-04 18:00:00\",\"2023-05-04 19:00:00\",\"2023-05-04 20:00:00\",\"2023-05-04 21:00:00\",\"2023-05-04 22:00:00\",\"2023-05-04 23:00:00\",\"2023-05-05 00:00:00\",\"2023-05-05 01:00:00\",\"2023-05-05 02:00:00\",\"2023-05-05 03:00:00\",\"2023-05-05 04:00:00\",\"2023-05-05 05:00:00\",\"2023-05-05 06:00:00\",\"2023-05-05 07:00:00\",\"2023-05-05 08:00:00\",\"2023-05-05 09:00:00\",\"2023-05-05 10:00:00\",\"2023-05-05 11:00:00\",\"2023-05-05 12:00:00\",\"2023-05-05 13:00:00\",\"2023-05-05 14:00:00\",\"2023-05-05 15:00:00\",\"2023-05-05 16:00:00\",\"2023-05-05 17:00:00\",\"2023-05-05 18:00:00\",\"2023-05-05 19:00:00\",\"2023-05-05 20:00:00\",\"2023-05-05 21:00:00\",\"2023-05-05 22:00:00\",\"2023-05-05 23:00:00\",\"2023-05-06 00:00:00\",\"2023-05-06 01:00:00\",\"2023-05-06 02:00:00\",\"2023-05-06 03:00:00\",\"2023-05-06 04:00:00\",\"2023-05-06 05:00:00\",\"2023-05-06 06:00:00\",\"2023-05-06 07:00:00\",\"2023-05-06 08:00:00\",\"2023-05-06 09:00:00\",\"2023-05-06 10:00:00\",\"2023-05-06 11:00:00\",\"2023-05-06 12:00:00\",\"2023-05-06 13:00:00\",\"2023-05-06 14:00:00\",\"2023-05-06 15:00:00\",\"2023-05-06 16:00:00\",\"2023-05-06 17:00:00\",\"2023-05-06 18:00:00\",\"2023-05-06 19:00:00\",\"2023-05-06 20:00:00\",\"2023-05-06 21:00:00\",\"2023-05-06 22:00:00\",\"2023-05-06 23:00:00\",\"2023-05-07 00:00:00\",\"2023-05-07 01:00:00\",\"2023-05-07 02:00:00\",\"2023-05-07 03:00:00\",\"2023-05-07 04:00:00\",\"2023-05-07 05:00:00\",\"2023-05-07 06:00:00\",\"2023-05-07 07:00:00\",\"2023-05-07 08:00:00\",\"2023-05-07 09:00:00\",\"2023-05-07 10:00:00\",\"2023-05-07 11:00:00\",\"2023-05-07 12:00:00\",\"2023-05-07 13:00:00\",\"2023-05-07 14:00:00\",\"2023-05-07 15:00:00\",\"2023-05-07 16:00:00\",\"2023-05-07 17:00:00\",\"2023-05-07 18:00:00\",\"2023-05-07 19:00:00\",\"2023-05-07 20:00:00\",\"2023-05-07 21:00:00\",\"2023-05-07 22:00:00\",\"2023-05-07 23:00:00\",\"2023-05-08 00:00:00\",\"2023-05-08 01:00:00\",\"2023-05-08 02:00:00\",\"2023-05-08 03:00:00\",\"2023-05-08 04:00:00\",\"2023-05-08 05:00:00\",\"2023-05-08 06:00:00\",\"2023-05-08 07:00:00\",\"2023-05-08 08:00:00\",\"2023-05-08 09:00:00\",\"2023-05-08 10:00:00\",\"2023-05-08 11:00:00\",\"2023-05-08 12:00:00\",\"2023-05-08 13:00:00\",\"2023-05-08 14:00:00\",\"2023-05-08 15:00:00\",\"2023-05-08 16:00:00\",\"2023-05-08 17:00:00\",\"2023-05-08 18:00:00\",\"2023-05-08 19:00:00\",\"2023-05-08 20:00:00\",\"2023-05-08 21:00:00\",\"2023-05-08 22:00:00\",\"2023-05-08 23:00:00\",\"2023-05-09 00:00:00\",\"2023-05-09 01:00:00\",\"2023-05-09 02:00:00\",\"2023-05-09 03:00:00\",\"2023-05-09 04:00:00\",\"2023-05-09 05:00:00\",\"2023-05-09 06:00:00\",\"2023-05-09 07:00:00\",\"2023-05-09 08:00:00\",\"2023-05-09 09:00:00\",\"2023-05-09 10:00:00\",\"2023-05-09 11:00:00\",\"2023-05-09 12:00:00\",\"2023-05-09 13:00:00\",\"2023-05-09 14:00:00\",\"2023-05-09 15:00:00\",\"2023-05-09 16:00:00\",\"2023-05-09 17:00:00\",\"2023-05-09 18:00:00\",\"2023-05-09 19:00:00\",\"2023-05-09 20:00:00\",\"2023-05-09 21:00:00\",\"2023-05-09 22:00:00\",\"2023-05-09 23:00:00\",\"2023-05-10 00:00:00\",\"2023-05-10 01:00:00\",\"2023-05-10 02:00:00\",\"2023-05-10 03:00:00\",\"2023-05-10 04:00:00\",\"2023-05-10 05:00:00\",\"2023-05-10 06:00:00\",\"2023-05-10 07:00:00\",\"2023-05-10 08:00:00\",\"2023-05-10 09:00:00\",\"2023-05-10 10:00:00\",\"2023-05-10 11:00:00\",\"2023-05-10 12:00:00\",\"2023-05-10 13:00:00\",\"2023-05-10 14:00:00\",\"2023-05-10 15:00:00\",\"2023-05-10 16:00:00\",\"2023-05-10 17:00:00\",\"2023-05-10 18:00:00\",\"2023-05-10 19:00:00\",\"2023-05-10 20:00:00\",\"2023-05-10 21:00:00\",\"2023-05-10 22:00:00\",\"2023-05-10 23:00:00\",\"2023-05-11 00:00:00\",\"2023-05-11 01:00:00\",\"2023-05-11 02:00:00\",\"2023-05-11 03:00:00\",\"2023-05-11 04:00:00\",\"2023-05-11 05:00:00\",\"2023-05-11 06:00:00\",\"2023-05-11 07:00:00\",\"2023-05-11 08:00:00\",\"2023-05-11 09:00:00\",\"2023-05-11 10:00:00\",\"2023-05-11 11:00:00\",\"2023-05-11 12:00:00\",\"2023-05-11 13:00:00\",\"2023-05-11 14:00:00\",\"2023-05-11 15:00:00\",\"2023-05-11 16:00:00\",\"2023-05-11 17:00:00\",\"2023-05-11 18:00:00\",\"2023-05-11 19:00:00\",\"2023-05-11 20:00:00\",\"2023-05-11 21:00:00\",\"2023-05-11 22:00:00\",\"2023-05-11 23:00:00\",\"2023-05-12 00:00:00\",\"2023-05-12 01:00:00\",\"2023-05-12 02:00:00\",\"2023-05-12 03:00:00\",\"2023-05-12 04:00:00\",\"2023-05-12 05:00:00\",\"2023-05-12 06:00:00\",\"2023-05-12 07:00:00\",\"2023-05-12 08:00:00\",\"2023-05-12 09:00:00\",\"2023-05-12 10:00:00\",\"2023-05-12 11:00:00\",\"2023-05-12 12:00:00\",\"2023-05-12 13:00:00\",\"2023-05-12 14:00:00\",\"2023-05-12 15:00:00\",\"2023-05-12 16:00:00\",\"2023-05-12 17:00:00\",\"2023-05-12 18:00:00\",\"2023-05-12 19:00:00\",\"2023-05-12 20:00:00\",\"2023-05-12 21:00:00\",\"2023-05-12 22:00:00\",\"2023-05-12 23:00:00\",\"2023-05-13 00:00:00\",\"2023-05-13 01:00:00\",\"2023-05-13 02:00:00\",\"2023-05-13 03:00:00\",\"2023-05-13 04:00:00\",\"2023-05-13 05:00:00\",\"2023-05-13 06:00:00\",\"2023-05-13 07:00:00\",\"2023-05-13 08:00:00\",\"2023-05-13 09:00:00\",\"2023-05-13 10:00:00\",\"2023-05-13 11:00:00\",\"2023-05-13 12:00:00\",\"2023-05-13 13:00:00\",\"2023-05-13 14:00:00\",\"2023-05-13 15:00:00\",\"2023-05-13 16:00:00\",\"2023-05-13 17:00:00\",\"2023-05-13 18:00:00\",\"2023-05-13 19:00:00\",\"2023-05-13 20:00:00\",\"2023-05-13 21:00:00\",\"2023-05-13 22:00:00\",\"2023-05-13 23:00:00\",\"2023-05-14 00:00:00\",\"2023-05-14 01:00:00\",\"2023-05-14 02:00:00\",\"2023-05-14 03:00:00\",\"2023-05-14 04:00:00\",\"2023-05-14 05:00:00\",\"2023-05-14 06:00:00\",\"2023-05-14 07:00:00\",\"2023-05-14 08:00:00\",\"2023-05-14 09:00:00\",\"2023-05-14 10:00:00\",\"2023-05-14 11:00:00\",\"2023-05-14 12:00:00\",\"2023-05-14 13:00:00\",\"2023-05-14 14:00:00\",\"2023-05-14 15:00:00\",\"2023-05-14 16:00:00\",\"2023-05-14 17:00:00\",\"2023-05-14 18:00:00\",\"2023-05-14 19:00:00\",\"2023-05-14 20:00:00\",\"2023-05-14 21:00:00\",\"2023-05-14 22:00:00\",\"2023-05-14 23:00:00\",\"2023-05-15 00:00:00\",\"2023-05-15 01:00:00\",\"2023-05-15 02:00:00\",\"2023-05-15 03:00:00\",\"2023-05-15 04:00:00\",\"2023-05-15 05:00:00\",\"2023-05-15 06:00:00\",\"2023-05-15 07:00:00\",\"2023-05-15 08:00:00\",\"2023-05-15 09:00:00\",\"2023-05-15 10:00:00\",\"2023-05-15 11:00:00\",\"2023-05-15 12:00:00\",\"2023-05-15 13:00:00\",\"2023-05-15 14:00:00\",\"2023-05-15 15:00:00\",\"2023-05-15 16:00:00\",\"2023-05-15 17:00:00\",\"2023-05-15 18:00:00\",\"2023-05-15 19:00:00\",\"2023-05-15 20:00:00\",\"2023-05-15 21:00:00\",\"2023-05-15 22:00:00\",\"2023-05-15 23:00:00\",\"2023-05-16 00:00:00\",\"2023-05-16 01:00:00\",\"2023-05-16 02:00:00\",\"2023-05-16 03:00:00\",\"2023-05-16 04:00:00\",\"2023-05-16 05:00:00\",\"2023-05-16 06:00:00\",\"2023-05-16 07:00:00\",\"2023-05-16 08:00:00\",\"2023-05-16 09:00:00\",\"2023-05-16 10:00:00\",\"2023-05-16 11:00:00\",\"2023-05-16 12:00:00\",\"2023-05-16 13:00:00\",\"2023-05-16 14:00:00\",\"2023-05-16 15:00:00\",\"2023-05-16 16:00:00\",\"2023-05-16 17:00:00\",\"2023-05-16 18:00:00\",\"2023-05-16 19:00:00\",\"2023-05-16 20:00:00\",\"2023-05-16 21:00:00\",\"2023-05-16 22:00:00\",\"2023-05-16 23:00:00\",\"2023-05-17 00:00:00\",\"2023-05-17 01:00:00\",\"2023-05-17 02:00:00\",\"2023-05-17 03:00:00\",\"2023-05-17 04:00:00\",\"2023-05-17 05:00:00\",\"2023-05-17 06:00:00\",\"2023-05-17 07:00:00\",\"2023-05-17 08:00:00\",\"2023-05-17 09:00:00\",\"2023-05-17 10:00:00\",\"2023-05-17 11:00:00\",\"2023-05-17 12:00:00\",\"2023-05-17 13:00:00\",\"2023-05-17 14:00:00\",\"2023-05-17 15:00:00\",\"2023-05-17 16:00:00\",\"2023-05-17 17:00:00\",\"2023-05-17 18:00:00\",\"2023-05-17 19:00:00\",\"2023-05-17 20:00:00\",\"2023-05-17 21:00:00\",\"2023-05-17 22:00:00\",\"2023-05-17 23:00:00\",\"2023-05-18 00:00:00\",\"2023-05-18 01:00:00\",\"2023-05-18 02:00:00\",\"2023-05-18 03:00:00\",\"2023-05-18 04:00:00\",\"2023-05-18 05:00:00\",\"2023-05-18 06:00:00\",\"2023-05-18 07:00:00\",\"2023-05-18 08:00:00\",\"2023-05-18 09:00:00\",\"2023-05-18 10:00:00\",\"2023-05-18 11:00:00\",\"2023-05-18 12:00:00\",\"2023-05-18 13:00:00\",\"2023-05-18 14:00:00\",\"2023-05-18 15:00:00\",\"2023-05-18 16:00:00\",\"2023-05-18 17:00:00\",\"2023-05-18 18:00:00\",\"2023-05-18 19:00:00\",\"2023-05-18 20:00:00\",\"2023-05-18 21:00:00\",\"2023-05-18 22:00:00\",\"2023-05-18 23:00:00\",\"2023-05-19 00:00:00\",\"2023-05-19 01:00:00\",\"2023-05-19 02:00:00\",\"2023-05-19 03:00:00\",\"2023-05-19 04:00:00\",\"2023-05-19 05:00:00\",\"2023-05-19 06:00:00\",\"2023-05-19 07:00:00\",\"2023-05-19 08:00:00\",\"2023-05-19 09:00:00\",\"2023-05-19 10:00:00\",\"2023-05-19 11:00:00\",\"2023-05-19 12:00:00\",\"2023-05-19 13:00:00\",\"2023-05-19 14:00:00\",\"2023-05-19 15:00:00\",\"2023-05-19 16:00:00\",\"2023-05-19 17:00:00\",\"2023-05-19 18:00:00\",\"2023-05-19 19:00:00\",\"2023-05-19 20:00:00\",\"2023-05-19 21:00:00\",\"2023-05-19 22:00:00\",\"2023-05-19 23:00:00\",\"2023-05-20 00:00:00\",\"2023-05-20 01:00:00\",\"2023-05-20 02:00:00\",\"2023-05-20 03:00:00\",\"2023-05-20 04:00:00\",\"2023-05-20 05:00:00\",\"2023-05-20 06:00:00\",\"2023-05-20 07:00:00\",\"2023-05-20 08:00:00\",\"2023-05-20 09:00:00\",\"2023-05-20 10:00:00\",\"2023-05-20 11:00:00\",\"2023-05-20 12:00:00\",\"2023-05-20 13:00:00\",\"2023-05-20 14:00:00\",\"2023-05-20 15:00:00\",\"2023-05-20 16:00:00\",\"2023-05-20 17:00:00\",\"2023-05-20 18:00:00\",\"2023-05-20 19:00:00\",\"2023-05-20 20:00:00\",\"2023-05-20 21:00:00\",\"2023-05-20 22:00:00\",\"2023-05-20 23:00:00\",\"2023-05-21 00:00:00\",\"2023-05-21 01:00:00\",\"2023-05-21 02:00:00\",\"2023-05-21 03:00:00\",\"2023-05-21 04:00:00\",\"2023-05-21 05:00:00\",\"2023-05-21 06:00:00\",\"2023-05-21 07:00:00\",\"2023-05-21 08:00:00\",\"2023-05-21 09:00:00\",\"2023-05-21 10:00:00\",\"2023-05-21 11:00:00\",\"2023-05-21 12:00:00\",\"2023-05-21 13:00:00\",\"2023-05-21 14:00:00\",\"2023-05-21 15:00:00\",\"2023-05-21 16:00:00\",\"2023-05-21 17:00:00\",\"2023-05-21 18:00:00\",\"2023-05-21 19:00:00\",\"2023-05-21 20:00:00\",\"2023-05-21 21:00:00\",\"2023-05-21 22:00:00\",\"2023-05-21 23:00:00\",\"2023-05-22 00:00:00\",\"2023-05-22 01:00:00\",\"2023-05-22 02:00:00\",\"2023-05-22 03:00:00\",\"2023-05-22 04:00:00\",\"2023-05-22 05:00:00\",\"2023-05-22 06:00:00\",\"2023-05-22 07:00:00\",\"2023-05-22 08:00:00\",\"2023-05-22 09:00:00\",\"2023-05-22 10:00:00\",\"2023-05-22 11:00:00\",\"2023-05-22 12:00:00\",\"2023-05-22 13:00:00\",\"2023-05-22 14:00:00\",\"2023-05-22 15:00:00\",\"2023-05-22 16:00:00\",\"2023-05-22 17:00:00\",\"2023-05-22 18:00:00\",\"2023-05-22 19:00:00\",\"2023-05-22 20:00:00\",\"2023-05-22 21:00:00\",\"2023-05-22 22:00:00\",\"2023-05-22 23:00:00\",\"2023-05-23 00:00:00\",\"2023-05-23 01:00:00\",\"2023-05-23 02:00:00\",\"2023-05-23 03:00:00\",\"2023-05-23 04:00:00\",\"2023-05-23 05:00:00\",\"2023-05-23 06:00:00\",\"2023-05-23 07:00:00\",\"2023-05-23 08:00:00\",\"2023-05-23 09:00:00\",\"2023-05-23 10:00:00\",\"2023-05-23 11:00:00\",\"2023-05-23 12:00:00\",\"2023-05-23 13:00:00\",\"2023-05-23 14:00:00\",\"2023-05-23 15:00:00\",\"2023-05-23 16:00:00\",\"2023-05-23 17:00:00\",\"2023-05-23 18:00:00\",\"2023-05-23 19:00:00\",\"2023-05-23 20:00:00\",\"2023-05-23 21:00:00\",\"2023-05-23 22:00:00\",\"2023-05-23 23:00:00\",\"2023-05-24 00:00:00\",\"2023-05-24 01:00:00\",\"2023-05-24 02:00:00\",\"2023-05-24 03:00:00\",\"2023-05-24 04:00:00\",\"2023-05-24 05:00:00\",\"2023-05-24 06:00:00\",\"2023-05-24 07:00:00\",\"2023-05-24 08:00:00\",\"2023-05-24 09:00:00\",\"2023-05-24 10:00:00\",\"2023-05-24 11:00:00\",\"2023-05-24 12:00:00\",\"2023-05-24 13:00:00\",\"2023-05-24 14:00:00\",\"2023-05-24 15:00:00\",\"2023-05-24 16:00:00\",\"2023-05-24 17:00:00\",\"2023-05-24 18:00:00\",\"2023-05-24 19:00:00\",\"2023-05-24 20:00:00\",\"2023-05-24 21:00:00\",\"2023-05-24 22:00:00\",\"2023-05-24 23:00:00\",\"2023-05-25 00:00:00\",\"2023-05-25 01:00:00\",\"2023-05-25 02:00:00\",\"2023-05-25 03:00:00\",\"2023-05-25 04:00:00\",\"2023-05-25 05:00:00\",\"2023-05-25 06:00:00\",\"2023-05-25 07:00:00\",\"2023-05-25 08:00:00\",\"2023-05-25 09:00:00\",\"2023-05-25 10:00:00\",\"2023-05-25 11:00:00\",\"2023-05-25 12:00:00\",\"2023-05-25 13:00:00\",\"2023-05-25 14:00:00\",\"2023-05-25 15:00:00\",\"2023-05-25 16:00:00\",\"2023-05-25 17:00:00\",\"2023-05-25 18:00:00\",\"2023-05-25 19:00:00\",\"2023-05-25 20:00:00\",\"2023-05-25 21:00:00\",\"2023-05-25 22:00:00\",\"2023-05-25 23:00:00\",\"2023-05-26 00:00:00\",\"2023-05-26 01:00:00\",\"2023-05-26 02:00:00\",\"2023-05-26 03:00:00\",\"2023-05-26 04:00:00\",\"2023-05-26 05:00:00\",\"2023-05-26 06:00:00\",\"2023-05-26 07:00:00\",\"2023-05-26 08:00:00\",\"2023-05-26 09:00:00\",\"2023-05-26 10:00:00\",\"2023-05-26 11:00:00\",\"2023-05-26 12:00:00\",\"2023-05-26 13:00:00\",\"2023-05-26 14:00:00\",\"2023-05-26 15:00:00\",\"2023-05-26 16:00:00\",\"2023-05-26 17:00:00\",\"2023-05-26 18:00:00\",\"2023-05-26 19:00:00\",\"2023-05-26 20:00:00\",\"2023-05-26 21:00:00\",\"2023-05-26 22:00:00\",\"2023-05-26 23:00:00\",\"2023-05-27 00:00:00\",\"2023-05-27 01:00:00\",\"2023-05-27 02:00:00\",\"2023-05-27 03:00:00\",\"2023-05-27 04:00:00\",\"2023-05-27 05:00:00\",\"2023-05-27 06:00:00\",\"2023-05-27 07:00:00\",\"2023-05-27 08:00:00\",\"2023-05-27 09:00:00\",\"2023-05-27 10:00:00\",\"2023-05-27 11:00:00\",\"2023-05-27 12:00:00\",\"2023-05-27 13:00:00\",\"2023-05-27 14:00:00\",\"2023-05-27 15:00:00\",\"2023-05-27 16:00:00\",\"2023-05-27 17:00:00\",\"2023-05-27 18:00:00\",\"2023-05-27 19:00:00\",\"2023-05-27 20:00:00\",\"2023-05-27 21:00:00\",\"2023-05-27 22:00:00\",\"2023-05-27 23:00:00\",\"2023-05-28 00:00:00\",\"2023-05-28 01:00:00\",\"2023-05-28 02:00:00\",\"2023-05-28 03:00:00\",\"2023-05-28 04:00:00\",\"2023-05-28 05:00:00\",\"2023-05-28 06:00:00\",\"2023-05-28 07:00:00\",\"2023-05-28 08:00:00\",\"2023-05-28 09:00:00\",\"2023-05-28 10:00:00\",\"2023-05-28 11:00:00\",\"2023-05-28 12:00:00\",\"2023-05-28 13:00:00\",\"2023-05-28 14:00:00\",\"2023-05-28 15:00:00\",\"2023-05-28 16:00:00\",\"2023-05-28 17:00:00\",\"2023-05-28 18:00:00\",\"2023-05-28 19:00:00\",\"2023-05-28 20:00:00\",\"2023-05-28 21:00:00\",\"2023-05-28 22:00:00\",\"2023-05-28 23:00:00\",\"2023-05-29 00:00:00\",\"2023-05-29 01:00:00\",\"2023-05-29 02:00:00\",\"2023-05-29 03:00:00\",\"2023-05-29 04:00:00\",\"2023-05-29 05:00:00\",\"2023-05-29 06:00:00\",\"2023-05-29 07:00:00\",\"2023-05-29 08:00:00\",\"2023-05-29 09:00:00\",\"2023-05-29 10:00:00\",\"2023-05-29 11:00:00\",\"2023-05-29 12:00:00\",\"2023-05-29 13:00:00\",\"2023-05-29 14:00:00\",\"2023-05-29 15:00:00\",\"2023-05-29 16:00:00\",\"2023-05-29 17:00:00\",\"2023-05-29 18:00:00\",\"2023-05-29 19:00:00\",\"2023-05-29 20:00:00\",\"2023-05-29 21:00:00\",\"2023-05-29 22:00:00\",\"2023-05-29 23:00:00\",\"2023-05-30 00:00:00\",\"2023-05-30 01:00:00\",\"2023-05-30 02:00:00\",\"2023-05-30 03:00:00\",\"2023-05-30 04:00:00\",\"2023-05-30 05:00:00\",\"2023-05-30 06:00:00\",\"2023-05-30 07:00:00\",\"2023-05-30 08:00:00\",\"2023-05-30 09:00:00\",\"2023-05-30 10:00:00\",\"2023-05-30 11:00:00\",\"2023-05-30 12:00:00\",\"2023-05-30 13:00:00\",\"2023-05-30 14:00:00\",\"2023-05-30 15:00:00\",\"2023-05-30 16:00:00\",\"2023-05-30 17:00:00\",\"2023-05-30 18:00:00\",\"2023-05-30 19:00:00\",\"2023-05-30 20:00:00\",\"2023-05-30 21:00:00\",\"2023-05-30 22:00:00\",\"2023-05-30 23:00:00\",\"2023-05-31 00:00:00\",\"2023-05-31 01:00:00\",\"2023-05-31 02:00:00\",\"2023-05-31 03:00:00\",\"2023-05-31 04:00:00\",\"2023-05-31 05:00:00\",\"2023-05-31 06:00:00\",\"2023-05-31 07:00:00\",\"2023-05-31 08:00:00\",\"2023-05-31 09:00:00\",\"2023-05-31 10:00:00\",\"2023-05-31 11:00:00\",\"2023-05-31 12:00:00\",\"2023-05-31 13:00:00\",\"2023-05-31 14:00:00\",\"2023-05-31 15:00:00\",\"2023-05-31 16:00:00\",\"2023-05-31 17:00:00\",\"2023-05-31 18:00:00\",\"2023-05-31 19:00:00\",\"2023-05-31 20:00:00\",\"2023-05-31 21:00:00\",\"2023-05-31 22:00:00\",\"2023-05-31 23:00:00\",\"2023-06-01 00:00:00\",\"2023-06-01 01:00:00\",\"2023-06-01 02:00:00\",\"2023-06-01 03:00:00\",\"2023-06-01 04:00:00\",\"2023-06-01 05:00:00\",\"2023-06-01 06:00:00\",\"2023-06-01 07:00:00\",\"2023-06-01 08:00:00\",\"2023-06-01 09:00:00\",\"2023-06-01 10:00:00\",\"2023-06-01 11:00:00\",\"2023-06-01 12:00:00\",\"2023-06-01 13:00:00\",\"2023-06-01 14:00:00\",\"2023-06-01 15:00:00\",\"2023-06-01 16:00:00\",\"2023-06-01 17:00:00\",\"2023-06-01 18:00:00\",\"2023-06-01 19:00:00\",\"2023-06-01 20:00:00\",\"2023-06-01 21:00:00\",\"2023-06-01 22:00:00\",\"2023-06-01 23:00:00\",\"2023-06-02 00:00:00\",\"2023-06-02 01:00:00\",\"2023-06-02 02:00:00\",\"2023-06-02 03:00:00\",\"2023-06-02 04:00:00\",\"2023-06-02 05:00:00\",\"2023-06-02 06:00:00\",\"2023-06-02 07:00:00\",\"2023-06-02 08:00:00\",\"2023-06-02 09:00:00\",\"2023-06-02 10:00:00\",\"2023-06-02 11:00:00\",\"2023-06-02 12:00:00\",\"2023-06-02 13:00:00\",\"2023-06-02 14:00:00\",\"2023-06-02 15:00:00\",\"2023-06-02 16:00:00\",\"2023-06-02 17:00:00\",\"2023-06-02 18:00:00\",\"2023-06-02 19:00:00\",\"2023-06-02 20:00:00\",\"2023-06-02 21:00:00\",\"2023-06-02 22:00:00\",\"2023-06-02 23:00:00\",\"2023-06-03 00:00:00\",\"2023-06-03 01:00:00\",\"2023-06-03 02:00:00\",\"2023-06-03 03:00:00\",\"2023-06-03 04:00:00\",\"2023-06-03 05:00:00\",\"2023-06-03 06:00:00\",\"2023-06-03 07:00:00\",\"2023-06-03 08:00:00\",\"2023-06-03 09:00:00\",\"2023-06-03 10:00:00\",\"2023-06-03 11:00:00\",\"2023-06-03 12:00:00\",\"2023-06-03 13:00:00\",\"2023-06-03 14:00:00\",\"2023-06-03 15:00:00\",\"2023-06-03 16:00:00\",\"2023-06-03 17:00:00\",\"2023-06-03 18:00:00\",\"2023-06-03 19:00:00\",\"2023-06-03 20:00:00\",\"2023-06-03 21:00:00\",\"2023-06-03 22:00:00\",\"2023-06-03 23:00:00\",\"2023-06-04 00:00:00\",\"2023-06-04 01:00:00\",\"2023-06-04 02:00:00\",\"2023-06-04 03:00:00\",\"2023-06-04 04:00:00\",\"2023-06-04 05:00:00\",\"2023-06-04 06:00:00\",\"2023-06-04 07:00:00\",\"2023-06-04 08:00:00\",\"2023-06-04 09:00:00\",\"2023-06-04 10:00:00\",\"2023-06-04 11:00:00\",\"2023-06-04 12:00:00\",\"2023-06-04 13:00:00\",\"2023-06-04 14:00:00\",\"2023-06-04 15:00:00\",\"2023-06-04 16:00:00\",\"2023-06-04 17:00:00\",\"2023-06-04 18:00:00\",\"2023-06-04 19:00:00\",\"2023-06-04 20:00:00\",\"2023-06-04 21:00:00\",\"2023-06-04 22:00:00\",\"2023-06-04 23:00:00\",\"2023-06-05 00:00:00\",\"2023-06-05 01:00:00\",\"2023-06-05 02:00:00\",\"2023-06-05 03:00:00\",\"2023-06-05 04:00:00\",\"2023-06-05 05:00:00\",\"2023-06-05 06:00:00\",\"2023-06-05 07:00:00\",\"2023-06-05 08:00:00\",\"2023-06-05 09:00:00\",\"2023-06-05 10:00:00\",\"2023-06-05 11:00:00\",\"2023-06-05 12:00:00\",\"2023-06-05 13:00:00\",\"2023-06-05 14:00:00\",\"2023-06-05 15:00:00\",\"2023-06-05 16:00:00\",\"2023-06-05 17:00:00\",\"2023-06-05 18:00:00\",\"2023-06-05 19:00:00\",\"2023-06-05 20:00:00\",\"2023-06-05 21:00:00\",\"2023-06-05 22:00:00\",\"2023-06-05 23:00:00\",\"2023-06-06 00:00:00\",\"2023-06-06 01:00:00\",\"2023-06-06 02:00:00\",\"2023-06-06 03:00:00\",\"2023-06-06 04:00:00\",\"2023-06-06 05:00:00\",\"2023-06-06 06:00:00\",\"2023-06-06 07:00:00\",\"2023-06-06 08:00:00\",\"2023-06-06 09:00:00\",\"2023-06-06 10:00:00\",\"2023-06-06 11:00:00\",\"2023-06-06 12:00:00\",\"2023-06-06 13:00:00\",\"2023-06-06 14:00:00\",\"2023-06-06 15:00:00\",\"2023-06-06 16:00:00\",\"2023-06-06 17:00:00\",\"2023-06-06 18:00:00\",\"2023-06-06 19:00:00\",\"2023-06-06 20:00:00\",\"2023-06-06 21:00:00\",\"2023-06-06 22:00:00\",\"2023-06-06 23:00:00\",\"2023-06-07 00:00:00\",\"2023-06-07 01:00:00\",\"2023-06-07 02:00:00\",\"2023-06-07 03:00:00\",\"2023-06-07 04:00:00\",\"2023-06-07 05:00:00\",\"2023-06-07 06:00:00\",\"2023-06-07 07:00:00\",\"2023-06-07 08:00:00\",\"2023-06-07 09:00:00\",\"2023-06-07 10:00:00\",\"2023-06-07 11:00:00\",\"2023-06-07 12:00:00\",\"2023-06-07 13:00:00\",\"2023-06-07 14:00:00\",\"2023-06-07 15:00:00\",\"2023-06-07 16:00:00\",\"2023-06-07 17:00:00\",\"2023-06-07 18:00:00\",\"2023-06-07 19:00:00\",\"2023-06-07 20:00:00\",\"2023-06-07 21:00:00\",\"2023-06-07 22:00:00\",\"2023-06-07 23:00:00\",\"2023-06-08 00:00:00\",\"2023-06-08 01:00:00\",\"2023-06-08 02:00:00\",\"2023-06-08 03:00:00\",\"2023-06-08 04:00:00\",\"2023-06-08 05:00:00\",\"2023-06-08 06:00:00\",\"2023-06-08 07:00:00\",\"2023-06-08 08:00:00\",\"2023-06-08 09:00:00\",\"2023-06-08 10:00:00\",\"2023-06-08 11:00:00\",\"2023-06-08 12:00:00\",\"2023-06-08 13:00:00\",\"2023-06-08 14:00:00\",\"2023-06-08 15:00:00\",\"2023-06-08 16:00:00\",\"2023-06-08 17:00:00\",\"2023-06-08 18:00:00\",\"2023-06-08 19:00:00\",\"2023-06-08 20:00:00\",\"2023-06-08 21:00:00\",\"2023-06-08 22:00:00\",\"2023-06-08 23:00:00\",\"2023-06-09 00:00:00\",\"2023-06-09 01:00:00\",\"2023-06-09 02:00:00\",\"2023-06-09 03:00:00\",\"2023-06-09 04:00:00\",\"2023-06-09 05:00:00\",\"2023-06-09 06:00:00\",\"2023-06-09 07:00:00\",\"2023-06-09 08:00:00\",\"2023-06-09 09:00:00\",\"2023-06-09 10:00:00\",\"2023-06-09 11:00:00\",\"2023-06-09 12:00:00\",\"2023-06-09 13:00:00\",\"2023-06-09 14:00:00\",\"2023-06-09 15:00:00\",\"2023-06-09 16:00:00\",\"2023-06-09 17:00:00\",\"2023-06-09 18:00:00\",\"2023-06-09 19:00:00\",\"2023-06-09 20:00:00\",\"2023-06-09 21:00:00\",\"2023-06-09 22:00:00\",\"2023-06-09 23:00:00\",\"2023-06-10 00:00:00\",\"2023-06-10 01:00:00\",\"2023-06-10 02:00:00\",\"2023-06-10 03:00:00\",\"2023-06-10 04:00:00\",\"2023-06-10 05:00:00\",\"2023-06-10 06:00:00\",\"2023-06-10 07:00:00\",\"2023-06-10 08:00:00\",\"2023-06-10 09:00:00\",\"2023-06-10 10:00:00\",\"2023-06-10 11:00:00\",\"2023-06-10 12:00:00\",\"2023-06-10 13:00:00\",\"2023-06-10 14:00:00\",\"2023-06-10 15:00:00\",\"2023-06-10 16:00:00\",\"2023-06-10 17:00:00\",\"2023-06-10 18:00:00\",\"2023-06-10 19:00:00\",\"2023-06-10 20:00:00\",\"2023-06-10 21:00:00\",\"2023-06-10 22:00:00\",\"2023-06-10 23:00:00\",\"2023-06-11 00:00:00\",\"2023-06-11 01:00:00\",\"2023-06-11 02:00:00\",\"2023-06-11 03:00:00\",\"2023-06-11 04:00:00\",\"2023-06-11 05:00:00\",\"2023-06-11 06:00:00\",\"2023-06-11 07:00:00\",\"2023-06-11 08:00:00\",\"2023-06-11 09:00:00\",\"2023-06-11 10:00:00\",\"2023-06-11 11:00:00\",\"2023-06-11 12:00:00\",\"2023-06-11 13:00:00\",\"2023-06-11 14:00:00\",\"2023-06-11 15:00:00\",\"2023-06-11 16:00:00\",\"2023-06-11 17:00:00\",\"2023-06-11 18:00:00\",\"2023-06-11 19:00:00\",\"2023-06-11 20:00:00\",\"2023-06-11 21:00:00\",\"2023-06-11 22:00:00\",\"2023-06-11 23:00:00\",\"2023-06-12 00:00:00\",\"2023-06-12 01:00:00\",\"2023-06-12 02:00:00\",\"2023-06-12 03:00:00\",\"2023-06-12 04:00:00\",\"2023-06-12 05:00:00\",\"2023-06-12 06:00:00\",\"2023-06-12 07:00:00\",\"2023-06-12 08:00:00\",\"2023-06-12 09:00:00\",\"2023-06-12 10:00:00\",\"2023-06-12 11:00:00\",\"2023-06-12 12:00:00\",\"2023-06-12 13:00:00\",\"2023-06-12 14:00:00\",\"2023-06-12 15:00:00\",\"2023-06-12 16:00:00\",\"2023-06-12 17:00:00\",\"2023-06-12 18:00:00\",\"2023-06-12 19:00:00\",\"2023-06-12 20:00:00\",\"2023-06-12 21:00:00\",\"2023-06-12 22:00:00\",\"2023-06-12 23:00:00\",\"2023-06-13 00:00:00\",\"2023-06-13 01:00:00\",\"2023-06-13 02:00:00\",\"2023-06-13 03:00:00\",\"2023-06-13 04:00:00\",\"2023-06-13 05:00:00\",\"2023-06-13 06:00:00\",\"2023-06-13 07:00:00\",\"2023-06-13 08:00:00\",\"2023-06-13 09:00:00\",\"2023-06-13 10:00:00\",\"2023-06-13 11:00:00\",\"2023-06-13 12:00:00\",\"2023-06-13 13:00:00\",\"2023-06-13 14:00:00\",\"2023-06-13 15:00:00\",\"2023-06-13 16:00:00\",\"2023-06-13 17:00:00\",\"2023-06-13 18:00:00\",\"2023-06-13 19:00:00\",\"2023-06-13 20:00:00\",\"2023-06-13 21:00:00\",\"2023-06-13 22:00:00\",\"2023-06-13 23:00:00\",\"2023-06-14 00:00:00\",\"2023-06-14 01:00:00\",\"2023-06-14 02:00:00\",\"2023-06-14 03:00:00\",\"2023-06-14 04:00:00\",\"2023-06-14 05:00:00\",\"2023-06-14 06:00:00\",\"2023-06-14 07:00:00\",\"2023-06-14 08:00:00\",\"2023-06-14 09:00:00\",\"2023-06-14 10:00:00\",\"2023-06-14 11:00:00\",\"2023-06-14 12:00:00\",\"2023-06-14 13:00:00\",\"2023-06-14 14:00:00\",\"2023-06-14 15:00:00\",\"2023-06-14 16:00:00\",\"2023-06-14 17:00:00\",\"2023-06-14 18:00:00\",\"2023-06-14 19:00:00\",\"2023-06-14 20:00:00\",\"2023-06-14 21:00:00\",\"2023-06-14 22:00:00\",\"2023-06-14 23:00:00\",\"2023-06-15 00:00:00\",\"2023-06-15 01:00:00\",\"2023-06-15 02:00:00\",\"2023-06-15 03:00:00\",\"2023-06-15 04:00:00\",\"2023-06-15 05:00:00\",\"2023-06-15 06:00:00\",\"2023-06-15 07:00:00\",\"2023-06-15 08:00:00\",\"2023-06-15 09:00:00\",\"2023-06-15 10:00:00\",\"2023-06-15 11:00:00\",\"2023-06-15 12:00:00\",\"2023-06-15 13:00:00\",\"2023-06-15 14:00:00\",\"2023-06-15 15:00:00\",\"2023-06-15 16:00:00\",\"2023-06-15 17:00:00\",\"2023-06-15 18:00:00\",\"2023-06-15 19:00:00\",\"2023-06-15 20:00:00\",\"2023-06-15 21:00:00\",\"2023-06-15 22:00:00\",\"2023-06-15 23:00:00\",\"2023-06-16 00:00:00\",\"2023-06-16 01:00:00\",\"2023-06-16 02:00:00\",\"2023-06-16 03:00:00\",\"2023-06-16 04:00:00\",\"2023-06-16 05:00:00\",\"2023-06-16 06:00:00\",\"2023-06-16 07:00:00\",\"2023-06-16 08:00:00\",\"2023-06-16 09:00:00\",\"2023-06-16 10:00:00\",\"2023-06-16 11:00:00\",\"2023-06-16 12:00:00\",\"2023-06-16 13:00:00\",\"2023-06-16 14:00:00\",\"2023-06-16 15:00:00\",\"2023-06-16 16:00:00\",\"2023-06-16 17:00:00\",\"2023-06-16 18:00:00\",\"2023-06-16 19:00:00\",\"2023-06-16 20:00:00\",\"2023-06-16 21:00:00\",\"2023-06-16 22:00:00\",\"2023-06-16 23:00:00\",\"2023-06-17 00:00:00\",\"2023-06-17 01:00:00\",\"2023-06-17 02:00:00\",\"2023-06-17 03:00:00\",\"2023-06-17 04:00:00\",\"2023-06-17 05:00:00\",\"2023-06-17 06:00:00\",\"2023-06-17 07:00:00\",\"2023-06-17 08:00:00\",\"2023-06-17 09:00:00\",\"2023-06-17 10:00:00\",\"2023-06-17 11:00:00\",\"2023-06-17 12:00:00\",\"2023-06-17 13:00:00\",\"2023-06-17 14:00:00\",\"2023-06-17 15:00:00\",\"2023-06-17 16:00:00\",\"2023-06-17 17:00:00\",\"2023-06-17 18:00:00\",\"2023-06-17 19:00:00\",\"2023-06-17 20:00:00\",\"2023-06-17 21:00:00\",\"2023-06-17 22:00:00\",\"2023-06-17 23:00:00\",\"2023-06-18 00:00:00\",\"2023-06-18 01:00:00\",\"2023-06-18 02:00:00\",\"2023-06-18 03:00:00\",\"2023-06-18 04:00:00\",\"2023-06-18 05:00:00\",\"2023-06-18 06:00:00\",\"2023-06-18 07:00:00\",\"2023-06-18 08:00:00\",\"2023-06-18 09:00:00\",\"2023-06-18 10:00:00\",\"2023-06-18 11:00:00\",\"2023-06-18 12:00:00\",\"2023-06-18 13:00:00\",\"2023-06-18 14:00:00\",\"2023-06-18 15:00:00\",\"2023-06-18 16:00:00\",\"2023-06-18 17:00:00\",\"2023-06-18 18:00:00\",\"2023-06-18 19:00:00\",\"2023-06-18 20:00:00\",\"2023-06-18 21:00:00\",\"2023-06-18 22:00:00\",\"2023-06-18 23:00:00\",\"2023-06-19 00:00:00\",\"2023-06-19 01:00:00\",\"2023-06-19 02:00:00\",\"2023-06-19 03:00:00\",\"2023-06-19 04:00:00\",\"2023-06-19 05:00:00\",\"2023-06-19 06:00:00\",\"2023-06-19 07:00:00\",\"2023-06-19 08:00:00\",\"2023-06-19 09:00:00\",\"2023-06-19 10:00:00\",\"2023-06-19 11:00:00\",\"2023-06-19 12:00:00\",\"2023-06-19 13:00:00\",\"2023-06-19 14:00:00\",\"2023-06-19 15:00:00\",\"2023-06-19 16:00:00\",\"2023-06-19 17:00:00\",\"2023-06-19 18:00:00\",\"2023-06-19 19:00:00\",\"2023-06-19 20:00:00\",\"2023-06-19 21:00:00\",\"2023-06-19 22:00:00\",\"2023-06-19 23:00:00\",\"2023-06-20 00:00:00\",\"2023-06-20 01:00:00\",\"2023-06-20 02:00:00\",\"2023-06-20 03:00:00\",\"2023-06-20 04:00:00\",\"2023-06-20 05:00:00\",\"2023-06-20 06:00:00\",\"2023-06-20 07:00:00\",\"2023-06-20 08:00:00\",\"2023-06-20 09:00:00\",\"2023-06-20 10:00:00\",\"2023-06-20 11:00:00\",\"2023-06-20 12:00:00\",\"2023-06-20 13:00:00\",\"2023-06-20 14:00:00\",\"2023-06-20 15:00:00\",\"2023-06-20 16:00:00\",\"2023-06-20 17:00:00\",\"2023-06-20 18:00:00\",\"2023-06-20 19:00:00\",\"2023-06-20 20:00:00\",\"2023-06-20 21:00:00\",\"2023-06-20 22:00:00\",\"2023-06-20 23:00:00\",\"2023-06-21 00:00:00\",\"2023-06-21 01:00:00\",\"2023-06-21 02:00:00\",\"2023-06-21 03:00:00\",\"2023-06-21 04:00:00\",\"2023-06-21 05:00:00\",\"2023-06-21 06:00:00\",\"2023-06-21 07:00:00\",\"2023-06-21 08:00:00\",\"2023-06-21 09:00:00\",\"2023-06-21 10:00:00\",\"2023-06-21 11:00:00\",\"2023-06-21 12:00:00\",\"2023-06-21 13:00:00\",\"2023-06-21 14:00:00\",\"2023-06-21 15:00:00\",\"2023-06-21 16:00:00\",\"2023-06-21 17:00:00\",\"2023-06-21 18:00:00\",\"2023-06-21 19:00:00\",\"2023-06-21 20:00:00\",\"2023-06-21 21:00:00\",\"2023-06-21 22:00:00\",\"2023-06-21 23:00:00\",\"2023-06-22 00:00:00\",\"2023-06-22 01:00:00\",\"2023-06-22 02:00:00\",\"2023-06-22 03:00:00\",\"2023-06-22 04:00:00\",\"2023-06-22 05:00:00\",\"2023-06-22 06:00:00\",\"2023-06-22 07:00:00\",\"2023-06-22 08:00:00\",\"2023-06-22 09:00:00\",\"2023-06-22 10:00:00\",\"2023-06-22 11:00:00\",\"2023-06-22 12:00:00\",\"2023-06-22 13:00:00\",\"2023-06-22 14:00:00\",\"2023-06-22 15:00:00\",\"2023-06-22 16:00:00\",\"2023-06-22 17:00:00\",\"2023-06-22 18:00:00\",\"2023-06-22 19:00:00\",\"2023-06-22 20:00:00\",\"2023-06-22 21:00:00\",\"2023-06-22 22:00:00\",\"2023-06-22 23:00:00\",\"2023-06-23 00:00:00\",\"2023-06-23 01:00:00\",\"2023-06-23 02:00:00\",\"2023-06-23 03:00:00\",\"2023-06-23 04:00:00\",\"2023-06-23 05:00:00\",\"2023-06-23 06:00:00\",\"2023-06-23 07:00:00\",\"2023-06-23 08:00:00\",\"2023-06-23 09:00:00\",\"2023-06-23 10:00:00\",\"2023-06-23 11:00:00\",\"2023-06-23 12:00:00\",\"2023-06-23 13:00:00\",\"2023-06-23 14:00:00\",\"2023-06-23 15:00:00\",\"2023-06-23 16:00:00\",\"2023-06-23 17:00:00\",\"2023-06-23 18:00:00\",\"2023-06-23 19:00:00\",\"2023-06-23 20:00:00\",\"2023-06-23 21:00:00\",\"2023-06-23 22:00:00\",\"2023-06-23 23:00:00\",\"2023-06-24 00:00:00\",\"2023-06-24 01:00:00\",\"2023-06-24 02:00:00\",\"2023-06-24 03:00:00\",\"2023-06-24 04:00:00\",\"2023-06-24 05:00:00\",\"2023-06-24 06:00:00\",\"2023-06-24 07:00:00\",\"2023-06-24 08:00:00\",\"2023-06-24 09:00:00\",\"2023-06-24 10:00:00\",\"2023-06-24 11:00:00\",\"2023-06-24 12:00:00\",\"2023-06-24 13:00:00\",\"2023-06-24 14:00:00\",\"2023-06-24 15:00:00\",\"2023-06-24 16:00:00\",\"2023-06-24 17:00:00\",\"2023-06-24 18:00:00\",\"2023-06-24 19:00:00\",\"2023-06-24 20:00:00\",\"2023-06-24 21:00:00\",\"2023-06-24 22:00:00\",\"2023-06-24 23:00:00\",\"2023-06-25 00:00:00\",\"2023-06-25 01:00:00\",\"2023-06-25 02:00:00\",\"2023-06-25 03:00:00\",\"2023-06-25 04:00:00\",\"2023-06-25 05:00:00\",\"2023-06-25 06:00:00\",\"2023-06-25 07:00:00\",\"2023-06-25 08:00:00\",\"2023-06-25 09:00:00\",\"2023-06-25 10:00:00\",\"2023-06-25 11:00:00\",\"2023-06-25 12:00:00\",\"2023-06-25 13:00:00\",\"2023-06-25 14:00:00\",\"2023-06-25 15:00:00\",\"2023-06-25 16:00:00\",\"2023-06-25 17:00:00\",\"2023-06-25 18:00:00\",\"2023-06-25 19:00:00\",\"2023-06-25 20:00:00\",\"2023-06-25 21:00:00\",\"2023-06-25 22:00:00\",\"2023-06-25 23:00:00\",\"2023-06-26 00:00:00\",\"2023-06-26 01:00:00\",\"2023-06-26 02:00:00\",\"2023-06-26 03:00:00\",\"2023-06-26 04:00:00\",\"2023-06-26 05:00:00\",\"2023-06-26 06:00:00\",\"2023-06-26 07:00:00\",\"2023-06-26 08:00:00\",\"2023-06-26 09:00:00\",\"2023-06-26 10:00:00\",\"2023-06-26 11:00:00\",\"2023-06-26 12:00:00\",\"2023-06-26 13:00:00\",\"2023-06-26 14:00:00\",\"2023-06-26 15:00:00\",\"2023-06-26 16:00:00\",\"2023-06-26 17:00:00\",\"2023-06-26 18:00:00\",\"2023-06-26 19:00:00\",\"2023-06-26 20:00:00\",\"2023-06-26 21:00:00\",\"2023-06-26 22:00:00\",\"2023-06-26 23:00:00\",\"2023-06-27 00:00:00\",\"2023-06-27 01:00:00\",\"2023-06-27 02:00:00\",\"2023-06-27 03:00:00\",\"2023-06-27 04:00:00\",\"2023-06-27 05:00:00\",\"2023-06-27 06:00:00\",\"2023-06-27 07:00:00\",\"2023-06-27 08:00:00\",\"2023-06-27 09:00:00\",\"2023-06-27 10:00:00\",\"2023-06-27 11:00:00\",\"2023-06-27 12:00:00\",\"2023-06-27 13:00:00\",\"2023-06-27 14:00:00\",\"2023-06-27 15:00:00\",\"2023-06-27 16:00:00\",\"2023-06-27 17:00:00\",\"2023-06-27 18:00:00\",\"2023-06-27 19:00:00\",\"2023-06-27 20:00:00\",\"2023-06-27 21:00:00\",\"2023-06-27 22:00:00\",\"2023-06-27 23:00:00\",\"2023-06-28 00:00:00\",\"2023-06-28 01:00:00\",\"2023-06-28 02:00:00\",\"2023-06-28 03:00:00\",\"2023-06-28 04:00:00\",\"2023-06-28 05:00:00\",\"2023-06-28 06:00:00\",\"2023-06-28 07:00:00\",\"2023-06-28 08:00:00\",\"2023-06-28 09:00:00\",\"2023-06-28 10:00:00\",\"2023-06-28 11:00:00\",\"2023-06-28 12:00:00\",\"2023-06-28 13:00:00\",\"2023-06-28 14:00:00\",\"2023-06-28 15:00:00\",\"2023-06-28 16:00:00\",\"2023-06-28 17:00:00\",\"2023-06-28 18:00:00\",\"2023-06-28 19:00:00\",\"2023-06-28 20:00:00\",\"2023-06-28 21:00:00\",\"2023-06-28 22:00:00\",\"2023-06-28 23:00:00\",\"2023-06-29 00:00:00\",\"2023-06-29 01:00:00\",\"2023-06-29 02:00:00\",\"2023-06-29 03:00:00\",\"2023-06-29 04:00:00\",\"2023-06-29 05:00:00\",\"2023-06-29 06:00:00\",\"2023-06-29 07:00:00\",\"2023-06-29 08:00:00\",\"2023-06-29 09:00:00\",\"2023-06-29 10:00:00\",\"2023-06-29 11:00:00\",\"2023-06-29 12:00:00\",\"2023-06-29 13:00:00\",\"2023-06-29 14:00:00\",\"2023-06-29 15:00:00\",\"2023-06-29 16:00:00\",\"2023-06-29 17:00:00\",\"2023-06-29 18:00:00\",\"2023-06-29 19:00:00\",\"2023-06-29 20:00:00\",\"2023-06-29 21:00:00\",\"2023-06-29 22:00:00\",\"2023-06-29 23:00:00\",\"2023-06-30 00:00:00\",\"2023-06-30 01:00:00\",\"2023-06-30 02:00:00\",\"2023-06-30 03:00:00\",\"2023-06-30 04:00:00\",\"2023-06-30 05:00:00\",\"2023-06-30 06:00:00\",\"2023-06-30 07:00:00\",\"2023-06-30 08:00:00\",\"2023-06-30 09:00:00\",\"2023-06-30 10:00:00\",\"2023-06-30 11:00:00\",\"2023-06-30 12:00:00\",\"2023-06-30 13:00:00\",\"2023-06-30 14:00:00\",\"2023-06-30 15:00:00\",\"2023-06-30 16:00:00\",\"2023-06-30 17:00:00\",\"2023-06-30 18:00:00\",\"2023-06-30 19:00:00\",\"2023-06-30 20:00:00\",\"2023-06-30 21:00:00\",\"2023-06-30 22:00:00\",\"2023-06-30 23:00:00\",\"2023-07-01 00:00:00\",\"2023-07-01 01:00:00\",\"2023-07-01 02:00:00\",\"2023-07-01 03:00:00\",\"2023-07-01 04:00:00\",\"2023-07-01 05:00:00\",\"2023-07-01 06:00:00\",\"2023-07-01 07:00:00\",\"2023-07-01 08:00:00\",\"2023-07-01 09:00:00\",\"2023-07-01 10:00:00\",\"2023-07-01 11:00:00\",\"2023-07-01 12:00:00\",\"2023-07-01 15:00:00\",\"2023-07-01 16:00:00\",\"2023-07-01 17:00:00\",\"2023-07-01 18:00:00\",\"2023-07-01 19:00:00\",\"2023-07-01 20:00:00\",\"2023-07-01 21:00:00\",\"2023-07-01 22:00:00\",\"2023-07-01 23:00:00\",\"2023-07-02 00:00:00\",\"2023-07-02 01:00:00\",\"2023-07-02 02:00:00\",\"2023-07-02 03:00:00\",\"2023-07-02 04:00:00\",\"2023-07-02 05:00:00\",\"2023-07-02 06:00:00\",\"2023-07-02 07:00:00\",\"2023-07-02 08:00:00\",\"2023-07-02 09:00:00\",\"2023-07-02 10:00:00\",\"2023-07-02 11:00:00\",\"2023-07-02 12:00:00\",\"2023-07-02 13:00:00\",\"2023-07-02 14:00:00\",\"2023-07-02 15:00:00\",\"2023-07-02 16:00:00\",\"2023-07-02 17:00:00\",\"2023-07-02 18:00:00\",\"2023-07-02 19:00:00\",\"2023-07-02 20:00:00\",\"2023-07-02 21:00:00\",\"2023-07-02 22:00:00\",\"2023-07-02 23:00:00\",\"2023-07-03 00:00:00\",\"2023-07-03 01:00:00\",\"2023-07-03 02:00:00\",\"2023-07-03 03:00:00\",\"2023-07-03 04:00:00\",\"2023-07-03 05:00:00\",\"2023-07-03 06:00:00\",\"2023-07-03 07:00:00\",\"2023-07-03 08:00:00\",\"2023-07-03 09:00:00\",\"2023-07-03 10:00:00\",\"2023-07-03 11:00:00\",\"2023-07-03 12:00:00\",\"2023-07-03 13:00:00\",\"2023-07-03 14:00:00\",\"2023-07-03 15:00:00\",\"2023-07-03 16:00:00\",\"2023-07-03 17:00:00\",\"2023-07-03 18:00:00\",\"2023-07-03 19:00:00\",\"2023-07-03 20:00:00\",\"2023-07-03 21:00:00\",\"2023-07-03 22:00:00\",\"2023-07-03 23:00:00\",\"2023-07-04 00:00:00\",\"2023-07-04 01:00:00\",\"2023-07-04 02:00:00\",\"2023-07-04 03:00:00\",\"2023-07-04 04:00:00\",\"2023-07-04 05:00:00\",\"2023-07-04 06:00:00\",\"2023-07-04 07:00:00\",\"2023-07-04 08:00:00\",\"2023-07-04 09:00:00\",\"2023-07-04 10:00:00\",\"2023-07-04 11:00:00\",\"2023-07-04 12:00:00\",\"2023-07-04 13:00:00\",\"2023-07-04 14:00:00\",\"2023-07-04 15:00:00\",\"2023-07-04 16:00:00\",\"2023-07-04 17:00:00\",\"2023-07-04 18:00:00\",\"2023-07-04 19:00:00\",\"2023-07-04 20:00:00\",\"2023-07-04 21:00:00\",\"2023-07-04 22:00:00\",\"2023-07-04 23:00:00\",\"2023-07-05 00:00:00\",\"2023-07-05 01:00:00\",\"2023-07-05 02:00:00\",\"2023-07-05 03:00:00\",\"2023-07-05 04:00:00\",\"2023-07-05 05:00:00\",\"2023-07-05 06:00:00\",\"2023-07-05 07:00:00\",\"2023-07-05 08:00:00\",\"2023-07-05 09:00:00\",\"2023-07-05 10:00:00\",\"2023-07-05 11:00:00\",\"2023-07-05 12:00:00\",\"2023-07-05 13:00:00\",\"2023-07-05 14:00:00\",\"2023-07-05 15:00:00\",\"2023-07-05 16:00:00\",\"2023-07-05 17:00:00\",\"2023-07-05 18:00:00\",\"2023-07-05 19:00:00\",\"2023-07-05 20:00:00\",\"2023-07-05 21:00:00\",\"2023-07-05 22:00:00\",\"2023-07-05 23:00:00\",\"2023-07-06 00:00:00\",\"2023-07-06 01:00:00\",\"2023-07-06 02:00:00\",\"2023-07-06 03:00:00\",\"2023-07-06 04:00:00\",\"2023-07-06 05:00:00\",\"2023-07-06 06:00:00\",\"2023-07-06 07:00:00\",\"2023-07-06 08:00:00\",\"2023-07-06 09:00:00\",\"2023-07-06 10:00:00\",\"2023-07-06 11:00:00\",\"2023-07-06 12:00:00\",\"2023-07-06 13:00:00\",\"2023-07-06 14:00:00\",\"2023-07-06 15:00:00\",\"2023-07-06 16:00:00\",\"2023-07-06 17:00:00\",\"2023-07-06 18:00:00\",\"2023-07-06 19:00:00\",\"2023-07-06 20:00:00\",\"2023-07-06 21:00:00\",\"2023-07-06 22:00:00\",\"2023-07-06 23:00:00\",\"2023-07-07 00:00:00\",\"2023-07-07 01:00:00\",\"2023-07-07 02:00:00\",\"2023-07-07 03:00:00\",\"2023-07-07 04:00:00\",\"2023-07-07 05:00:00\",\"2023-07-07 06:00:00\",\"2023-07-07 07:00:00\",\"2023-07-07 08:00:00\",\"2023-07-07 09:00:00\",\"2023-07-07 10:00:00\",\"2023-07-07 11:00:00\",\"2023-07-07 12:00:00\",\"2023-07-07 13:00:00\",\"2023-07-07 14:00:00\",\"2023-07-07 15:00:00\",\"2023-07-07 16:00:00\",\"2023-07-07 17:00:00\",\"2023-07-07 18:00:00\",\"2023-07-07 19:00:00\",\"2023-07-07 20:00:00\",\"2023-07-07 21:00:00\",\"2023-07-07 22:00:00\",\"2023-07-07 23:00:00\",\"2023-07-08 00:00:00\",\"2023-07-08 01:00:00\",\"2023-07-08 02:00:00\",\"2023-07-08 03:00:00\",\"2023-07-08 04:00:00\",\"2023-07-08 05:00:00\",\"2023-07-08 06:00:00\",\"2023-07-08 07:00:00\",\"2023-07-08 08:00:00\",\"2023-07-08 09:00:00\",\"2023-07-08 10:00:00\",\"2023-07-08 11:00:00\",\"2023-07-08 12:00:00\",\"2023-07-08 13:00:00\",\"2023-07-08 14:00:00\",\"2023-07-08 15:00:00\",\"2023-07-08 16:00:00\",\"2023-07-08 17:00:00\",\"2023-07-08 18:00:00\",\"2023-07-08 19:00:00\",\"2023-07-08 20:00:00\",\"2023-07-08 21:00:00\",\"2023-07-08 22:00:00\",\"2023-07-08 23:00:00\",\"2023-07-09 00:00:00\",\"2023-07-09 01:00:00\",\"2023-07-09 02:00:00\",\"2023-07-09 03:00:00\",\"2023-07-09 04:00:00\",\"2023-07-09 05:00:00\",\"2023-07-09 06:00:00\",\"2023-07-09 07:00:00\",\"2023-07-09 08:00:00\",\"2023-07-09 09:00:00\",\"2023-07-09 10:00:00\",\"2023-07-09 11:00:00\",\"2023-07-09 12:00:00\",\"2023-07-09 13:00:00\",\"2023-07-09 14:00:00\",\"2023-07-09 15:00:00\",\"2023-07-09 16:00:00\",\"2023-07-09 17:00:00\",\"2023-07-09 18:00:00\",\"2023-07-09 19:00:00\",\"2023-07-09 20:00:00\",\"2023-07-09 21:00:00\",\"2023-07-09 22:00:00\",\"2023-07-09 23:00:00\",\"2023-07-10 00:00:00\",\"2023-07-10 01:00:00\",\"2023-07-10 02:00:00\",\"2023-07-10 03:00:00\",\"2023-07-10 04:00:00\",\"2023-07-10 05:00:00\",\"2023-07-10 06:00:00\",\"2023-07-10 07:00:00\",\"2023-07-10 08:00:00\",\"2023-07-10 09:00:00\",\"2023-07-10 10:00:00\",\"2023-07-10 11:00:00\",\"2023-07-10 12:00:00\",\"2023-07-10 13:00:00\",\"2023-07-10 14:00:00\",\"2023-07-10 15:00:00\",\"2023-07-10 16:00:00\",\"2023-07-10 17:00:00\",\"2023-07-10 18:00:00\",\"2023-07-10 19:00:00\",\"2023-07-10 20:00:00\",\"2023-07-10 21:00:00\",\"2023-07-10 22:00:00\",\"2023-07-10 23:00:00\",\"2023-07-11 00:00:00\",\"2023-07-11 01:00:00\",\"2023-07-11 02:00:00\",\"2023-07-11 03:00:00\",\"2023-07-11 04:00:00\",\"2023-07-11 05:00:00\",\"2023-07-11 06:00:00\",\"2023-07-11 07:00:00\",\"2023-07-11 08:00:00\",\"2023-07-11 09:00:00\",\"2023-07-11 10:00:00\",\"2023-07-11 11:00:00\",\"2023-07-11 12:00:00\",\"2023-07-11 13:00:00\",\"2023-07-11 14:00:00\",\"2023-07-11 15:00:00\",\"2023-07-11 16:00:00\",\"2023-07-11 17:00:00\",\"2023-07-11 18:00:00\",\"2023-07-11 19:00:00\",\"2023-07-11 20:00:00\",\"2023-07-11 21:00:00\",\"2023-07-11 22:00:00\",\"2023-07-11 23:00:00\",\"2023-07-12 00:00:00\",\"2023-07-12 01:00:00\",\"2023-07-12 02:00:00\",\"2023-07-12 03:00:00\",\"2023-07-12 04:00:00\",\"2023-07-12 05:00:00\",\"2023-07-12 06:00:00\",\"2023-07-12 07:00:00\",\"2023-07-12 08:00:00\",\"2023-07-12 09:00:00\",\"2023-07-12 10:00:00\",\"2023-07-12 11:00:00\",\"2023-07-12 12:00:00\",\"2023-07-12 13:00:00\",\"2023-07-12 14:00:00\",\"2023-07-12 15:00:00\",\"2023-07-12 16:00:00\",\"2023-07-12 17:00:00\",\"2023-07-12 18:00:00\",\"2023-07-12 19:00:00\",\"2023-07-12 20:00:00\",\"2023-07-12 21:00:00\",\"2023-07-12 22:00:00\",\"2023-07-12 23:00:00\",\"2023-07-13 00:00:00\",\"2023-07-13 01:00:00\",\"2023-07-13 02:00:00\",\"2023-07-13 03:00:00\",\"2023-07-13 04:00:00\",\"2023-07-13 05:00:00\",\"2023-07-13 06:00:00\",\"2023-07-13 07:00:00\",\"2023-07-13 08:00:00\",\"2023-07-13 09:00:00\",\"2023-07-13 10:00:00\",\"2023-07-13 11:00:00\",\"2023-07-13 12:00:00\",\"2023-07-13 13:00:00\",\"2023-07-13 14:00:00\",\"2023-07-13 15:00:00\",\"2023-07-13 16:00:00\",\"2023-07-13 17:00:00\",\"2023-07-13 18:00:00\",\"2023-07-13 19:00:00\",\"2023-07-13 20:00:00\",\"2023-07-13 21:00:00\",\"2023-07-13 22:00:00\",\"2023-07-13 23:00:00\",\"2023-07-14 00:00:00\",\"2023-07-14 01:00:00\",\"2023-07-14 02:00:00\",\"2023-07-14 03:00:00\",\"2023-07-14 04:00:00\",\"2023-07-14 05:00:00\",\"2023-07-14 06:00:00\",\"2023-07-14 07:00:00\",\"2023-07-14 08:00:00\",\"2023-07-14 09:00:00\",\"2023-07-14 10:00:00\",\"2023-07-14 11:00:00\",\"2023-07-14 12:00:00\",\"2023-07-14 13:00:00\",\"2023-07-14 14:00:00\",\"2023-07-14 15:00:00\",\"2023-07-14 16:00:00\",\"2023-07-14 17:00:00\",\"2023-07-14 18:00:00\",\"2023-07-14 19:00:00\",\"2023-07-14 20:00:00\",\"2023-07-14 21:00:00\",\"2023-07-14 22:00:00\",\"2023-07-14 23:00:00\",\"2023-07-15 00:00:00\",\"2023-07-15 01:00:00\",\"2023-07-15 02:00:00\",\"2023-07-15 03:00:00\",\"2023-07-15 04:00:00\",\"2023-07-15 05:00:00\",\"2023-07-15 06:00:00\",\"2023-07-15 07:00:00\",\"2023-07-15 08:00:00\",\"2023-07-15 09:00:00\",\"2023-07-15 10:00:00\",\"2023-07-15 11:00:00\",\"2023-07-15 12:00:00\",\"2023-07-15 13:00:00\",\"2023-07-15 14:00:00\",\"2023-07-15 15:00:00\",\"2023-07-15 16:00:00\",\"2023-07-15 17:00:00\",\"2023-07-15 18:00:00\",\"2023-07-15 19:00:00\",\"2023-07-15 20:00:00\",\"2023-07-15 21:00:00\",\"2023-07-15 22:00:00\",\"2023-07-15 23:00:00\",\"2023-07-16 00:00:00\",\"2023-07-16 01:00:00\",\"2023-07-16 02:00:00\",\"2023-07-16 03:00:00\",\"2023-07-16 04:00:00\",\"2023-07-16 05:00:00\",\"2023-07-16 06:00:00\",\"2023-07-16 07:00:00\",\"2023-07-16 08:00:00\",\"2023-07-16 09:00:00\",\"2023-07-16 10:00:00\",\"2023-07-16 11:00:00\",\"2023-07-16 12:00:00\",\"2023-07-16 13:00:00\",\"2023-07-16 14:00:00\",\"2023-07-16 15:00:00\",\"2023-07-16 16:00:00\",\"2023-07-16 17:00:00\",\"2023-07-16 18:00:00\",\"2023-07-16 19:00:00\",\"2023-07-16 20:00:00\",\"2023-07-16 21:00:00\",\"2023-07-16 22:00:00\",\"2023-07-16 23:00:00\",\"2023-07-17 00:00:00\",\"2023-07-17 01:00:00\",\"2023-07-17 02:00:00\",\"2023-07-17 03:00:00\",\"2023-07-17 04:00:00\",\"2023-07-17 05:00:00\",\"2023-07-17 06:00:00\",\"2023-07-17 07:00:00\",\"2023-07-17 08:00:00\",\"2023-07-17 09:00:00\",\"2023-07-17 10:00:00\",\"2023-07-17 11:00:00\",\"2023-07-17 12:00:00\",\"2023-07-17 13:00:00\",\"2023-07-17 14:00:00\",\"2023-07-17 15:00:00\",\"2023-07-17 16:00:00\",\"2023-07-17 17:00:00\",\"2023-07-17 18:00:00\",\"2023-07-17 19:00:00\",\"2023-07-17 20:00:00\",\"2023-07-17 21:00:00\",\"2023-07-17 22:00:00\",\"2023-07-17 23:00:00\",\"2023-07-18 00:00:00\",\"2023-07-18 01:00:00\",\"2023-07-18 02:00:00\",\"2023-07-18 03:00:00\",\"2023-07-18 04:00:00\",\"2023-07-18 05:00:00\",\"2023-07-18 06:00:00\",\"2023-07-18 07:00:00\",\"2023-07-18 08:00:00\",\"2023-07-18 09:00:00\",\"2023-07-18 10:00:00\",\"2023-07-18 11:00:00\",\"2023-07-18 12:00:00\",\"2023-07-18 13:00:00\",\"2023-07-18 14:00:00\",\"2023-07-18 15:00:00\",\"2023-07-18 16:00:00\",\"2023-07-18 17:00:00\",\"2023-07-18 18:00:00\",\"2023-07-18 19:00:00\",\"2023-07-18 20:00:00\",\"2023-07-18 21:00:00\",\"2023-07-18 22:00:00\",\"2023-07-18 23:00:00\",\"2023-07-19 00:00:00\",\"2023-07-19 01:00:00\",\"2023-07-19 02:00:00\",\"2023-07-19 03:00:00\",\"2023-07-19 04:00:00\",\"2023-07-19 05:00:00\",\"2023-07-19 06:00:00\",\"2023-07-19 07:00:00\",\"2023-07-19 08:00:00\",\"2023-07-19 09:00:00\",\"2023-07-19 10:00:00\",\"2023-07-19 11:00:00\",\"2023-07-19 12:00:00\",\"2023-07-19 13:00:00\",\"2023-07-19 14:00:00\",\"2023-07-19 15:00:00\",\"2023-07-19 16:00:00\",\"2023-07-19 17:00:00\",\"2023-07-19 18:00:00\",\"2023-07-19 19:00:00\",\"2023-07-19 20:00:00\",\"2023-07-19 21:00:00\",\"2023-07-19 22:00:00\",\"2023-07-19 23:00:00\",\"2023-07-20 00:00:00\",\"2023-07-20 01:00:00\",\"2023-07-20 02:00:00\",\"2023-07-20 03:00:00\",\"2023-07-20 04:00:00\",\"2023-07-20 05:00:00\",\"2023-07-20 06:00:00\",\"2023-07-20 07:00:00\",\"2023-07-20 08:00:00\",\"2023-07-20 09:00:00\",\"2023-07-20 10:00:00\",\"2023-07-20 11:00:00\",\"2023-07-20 12:00:00\",\"2023-07-20 13:00:00\",\"2023-07-20 14:00:00\",\"2023-07-20 15:00:00\",\"2023-07-20 16:00:00\",\"2023-07-20 17:00:00\",\"2023-07-20 18:00:00\",\"2023-07-20 19:00:00\",\"2023-07-20 20:00:00\",\"2023-07-20 21:00:00\",\"2023-07-20 22:00:00\",\"2023-07-20 23:00:00\",\"2023-07-21 00:00:00\",\"2023-07-21 01:00:00\",\"2023-07-21 02:00:00\",\"2023-07-21 03:00:00\",\"2023-07-21 04:00:00\",\"2023-07-21 05:00:00\",\"2023-07-21 06:00:00\",\"2023-07-21 07:00:00\",\"2023-07-21 08:00:00\",\"2023-07-21 09:00:00\",\"2023-07-21 10:00:00\",\"2023-07-21 11:00:00\",\"2023-07-21 12:00:00\",\"2023-07-21 13:00:00\",\"2023-07-21 14:00:00\",\"2023-07-21 15:00:00\",\"2023-07-21 16:00:00\",\"2023-07-21 17:00:00\",\"2023-07-21 18:00:00\",\"2023-07-21 19:00:00\",\"2023-07-21 20:00:00\",\"2023-07-21 21:00:00\",\"2023-07-21 22:00:00\",\"2023-07-21 23:00:00\",\"2023-07-22 00:00:00\",\"2023-07-22 01:00:00\",\"2023-07-22 02:00:00\",\"2023-07-22 03:00:00\",\"2023-07-22 04:00:00\",\"2023-07-22 05:00:00\",\"2023-07-22 06:00:00\",\"2023-07-22 07:00:00\",\"2023-07-22 08:00:00\",\"2023-07-22 09:00:00\",\"2023-07-22 10:00:00\",\"2023-07-22 11:00:00\",\"2023-07-22 12:00:00\",\"2023-07-22 13:00:00\",\"2023-07-22 14:00:00\",\"2023-07-22 15:00:00\",\"2023-07-22 16:00:00\",\"2023-07-22 17:00:00\",\"2023-07-22 18:00:00\",\"2023-07-22 19:00:00\",\"2023-07-22 20:00:00\",\"2023-07-22 21:00:00\",\"2023-07-22 22:00:00\",\"2023-07-22 23:00:00\",\"2023-07-23 00:00:00\",\"2023-07-23 01:00:00\",\"2023-07-23 02:00:00\",\"2023-07-23 03:00:00\",\"2023-07-23 04:00:00\",\"2023-07-23 05:00:00\",\"2023-07-23 06:00:00\",\"2023-07-23 07:00:00\",\"2023-07-23 08:00:00\",\"2023-07-23 09:00:00\",\"2023-07-23 10:00:00\",\"2023-07-23 11:00:00\",\"2023-07-23 12:00:00\",\"2023-07-23 13:00:00\",\"2023-07-23 14:00:00\",\"2023-07-23 15:00:00\",\"2023-07-23 16:00:00\",\"2023-07-23 17:00:00\",\"2023-07-23 18:00:00\",\"2023-07-23 19:00:00\",\"2023-07-23 20:00:00\",\"2023-07-23 21:00:00\",\"2023-07-23 22:00:00\",\"2023-07-23 23:00:00\",\"2023-07-24 00:00:00\",\"2023-07-24 01:00:00\",\"2023-07-24 02:00:00\",\"2023-07-24 03:00:00\",\"2023-07-24 04:00:00\",\"2023-07-24 05:00:00\",\"2023-07-24 06:00:00\",\"2023-07-24 07:00:00\",\"2023-07-24 08:00:00\",\"2023-07-24 09:00:00\",\"2023-07-24 10:00:00\",\"2023-07-24 11:00:00\",\"2023-07-24 12:00:00\",\"2023-07-24 13:00:00\",\"2023-07-24 14:00:00\",\"2023-07-24 15:00:00\",\"2023-07-24 16:00:00\",\"2023-07-24 17:00:00\",\"2023-07-24 18:00:00\",\"2023-07-24 19:00:00\",\"2023-07-24 20:00:00\"],\"y\":[null,-0.09999999999999987,-0.10000000000000009,-0.19999999999999996,-0.19999999999999996,0.8,0.09999999999999987,0.40000000000000013,0.2999999999999998,-0.5,-0.5999999999999999,0.0,-0.6000000000000001,-0.19999999999999996,0.19999999999999996,0.20000000000000007,-0.09999999999999998,-0.30000000000000004,-0.09999999999999998,-0.2,0.39999999999999997,0.4,0.0,0.19999999999999996,0.0,0.0,0.9000000000000001,-0.20000000000000018,0.0,-0.2999999999999998,0.5,-0.30000000000000004,0.30000000000000004,-0.6000000000000001,-0.5,0.19999999999999996,-0.6,-0.3,-0.09999999999999998,0.09999999999999998,-0.19999999999999998,0.0,-0.1,0.6,0.4,-0.19999999999999996,0.8999999999999999,0.0,-0.7,0.19999999999999996,0.0,0.5,0.19999999999999996,-0.19999999999999996,-0.30000000000000004,0.20000000000000018,-0.30000000000000004,-0.10000000000000009,-0.3999999999999999,-0.10000000000000009,-0.49999999999999994,0.09999999999999998,0.0,-0.09999999999999998,0.09999999999999998,-0.19999999999999998,0.1,0.3,0.8999999999999999,-0.2999999999999998,0.3999999999999999,-0.30000000000000004,0.5,0.0,-0.19999999999999996,0.0,0.30000000000000004,0.7,-0.7,0.0,-0.40000000000000013,-0.3999999999999999,-0.5,0.19999999999999996,-0.29999999999999993,0.19999999999999996,0.0,-0.39999999999999997,0.0,0.49999999999999994,0.10000000000000009,0.09999999999999998,0.09999999999999998,0.0,0.19999999999999996,-0.19999999999999996,0.5,-0.19999999999999996,0.19999999999999996,0.30000000000000004,-0.19999999999999996,-0.20000000000000018,-0.09999999999999987,0.7,0.2999999999999998,-0.6999999999999997,-1.0,-0.09999999999999998,-0.4,-0.1,0.2,0.0,0.09999999999999998,0.10000000000000003,-0.30000000000000004,0.5,0.20000000000000007,0.30000000000000004,0.09999999999999987,0.30000000000000004,0.19999999999999996,0.19999999999999996,0.10000000000000009,0.10000000000000009,-0.20000000000000018,-0.09999999999999987,-0.19999999999999996,0.0,-0.5,-0.30000000000000004,0.3999999999999999,-0.09999999999999987,-0.10000000000000009,-0.09999999999999998,-0.20000000000000007,-0.7,0.2,-0.2,0.3,0.3,0.09999999999999998,0.40000000000000013,0.0,0.19999999999999996,0.30000000000000004,0.19999999999999996,0.5999999999999999,0.10000000000000009,-0.10000000000000009,-0.19999999999999973,-0.5000000000000002,-0.3999999999999999,0.09999999999999987,-0.7,-0.39999999999999997,0.3,-0.39999999999999997,0.0,-0.1,-0.1,0.4,-0.4,0.1,0.6,0.40000000000000013,0.19999999999999996,0.0,0.09999999999999987,0.10000000000000009,-0.10000000000000009,0.30000000000000004,-0.30000000000000004,-0.09999999999999987,-0.5,-0.10000000000000009,0.20000000000000007,0.20000000000000007,0.19999999999999996,-0.19999999999999996,0.0,0.2999999999999998,0.0,-0.4999999999999999,0.4,-0.8,-0.5,0.2,0.8,0.5,-0.19999999999999996,-0.19999999999999996,0.19999999999999996,0.0,-0.10000000000000009,0.10000000000000009,0.30000000000000004,-0.20000000000000018,0.30000000000000004,0.19999999999999996,-0.9999999999999999,0.29999999999999993,-0.5,0.30000000000000004,0.30000000000000004,-0.19999999999999996,-0.40000000000000013,-0.09999999999999998,0.0,-0.3,-0.19999999999999998,0.4,0.4,0.20000000000000007,0.0,-0.30000000000000004,0.30000000000000004,0.0,0.8999999999999999,-0.19999999999999996,-0.19999999999999996,-0.30000000000000004,0.0,0.30000000000000004,0.09999999999999987,-0.30000000000000004,-0.5999999999999999,0.19999999999999996,0.6000000000000001,-0.40000000000000013,-0.5,-0.29999999999999993,0.29999999999999993,-0.6,0.0,0.6,0.0,0.10000000000000009,0.30000000000000004,-0.20000000000000007,0.0,0.0,0.20000000000000007,1.1,0.5,-0.10000000000000009,-0.3999999999999999,-1.2000000000000002,0.0,-0.30000000000000004,0.10000000000000009,0.0,-0.20000000000000007,0.30000000000000004,0.0,-0.30000000000000004,0.20000000000000007,-0.4,0.19999999999999996,0.20000000000000007,0.30000000000000004,0.2999999999999998,-0.09999999999999987,-0.10000000000000009,-0.3999999999999999,0.09999999999999998,0.4,0.30000000000000004,0.19999999999999996,0.19999999999999996,0.6000000000000001,-1.0,-0.6000000000000001,-0.09999999999999998,0.0,0.0,-0.20000000000000007,0.0,-0.19999999999999996,-0.09999999999999998,-0.2,0.0,0.8,0.30000000000000004,0.0,-0.4,0.0,0.29999999999999993,0.10000000000000009,0.5,0.0,0.0,0.0,0.0,-0.30000000000000004,-0.3999999999999999,-0.20000000000000007,-0.09999999999999998,0.30000000000000004,-0.20000000000000007,0.0,0.0,-0.30000000000000004,0.0,-0.19999999999999996,-0.10000000000000003,0.2,-0.3,0.09999999999999998,0.8,-0.10000000000000009,0.10000000000000009,0.0,-0.20000000000000007,0.20000000000000007,0.0,-0.20000000000000007,0.4,0.19999999999999996,-0.10000000000000009,0.20000000000000018,-0.10000000000000009,-0.6,-0.4,0.09999999999999998,-0.09999999999999998,0.09999999999999998,-0.19999999999999996,-0.2,0.6000000000000001,0.09999999999999998,-0.09999999999999998,0.0,0.30000000000000004,-0.30000000000000004,-0.10000000000000009,0.0,0.5,0.10000000000000009,0.0,0.19999999999999996,-0.19999999999999996,-0.10000000000000009,0.0,0.19999999999999996,-0.4999999999999999,-0.09999999999999998,-0.10000000000000009,-0.39999999999999997,0.0,0.2,-0.3,0.09999999999999998,0.10000000000000003,0.09999999999999998,0.09999999999999998,0.4,0.0,0.0,0.10000000000000009,0.2999999999999998,-0.19999999999999996,-0.29999999999999993,-0.09999999999999998,0.5,-0.10000000000000009,-0.29999999999999993,-0.20000000000000007,0.20000000000000007,-0.30000000000000004,-0.19999999999999996,0.0,-0.2,0.3,0.0,0.19999999999999996,0.20000000000000007,-0.09999999999999998,-0.10000000000000009,-0.39999999999999997,0.10000000000000003,0.4,0.09999999999999998,0.6,0.10000000000000009,-0.20000000000000018,-0.2999999999999998,0.0,-0.10000000000000009,0.0,0.5,0.19999999999999996,-0.30000000000000004,-0.3999999999999999,-0.5,-0.09999999999999998,-0.10000000000000003,0.10000000000000003,0.19999999999999996,0.0,0.30000000000000004,-0.20000000000000007,-0.6,0.1,0.0,0.39999999999999997,0.30000000000000004,0.6,-0.19999999999999996,0.19999999999999996,-0.19999999999999996,-0.10000000000000009,0.30000000000000004,0.0,0.0,0.30000000000000004,-0.19999999999999996,-0.6000000000000001,-0.19999999999999996,-0.5,0.10000000000000003,0.0,0.6,-0.19999999999999996,-0.10000000000000009,-0.19999999999999996,-0.2,0.3,0.30000000000000004,0.29999999999999993,0.30000000000000004,0.19999999999999996,-0.19999999999999996,0.19999999999999996,0.0,0.19999999999999996,0.0,0.10000000000000009,0.0,-0.30000000000000004,-0.19999999999999996,0.10000000000000009,-0.10000000000000009,-0.19999999999999996,-0.5,0.09999999999999998,0.0,-0.20000000000000007,0.0,0.0,0.10000000000000009,0.3999999999999999,0.5,0.0,0.30000000000000004,0.20000000000000018,0.09999999999999964,-0.2999999999999998,0.10000000000000009,0.0,0.10000000000000009,-0.20000000000000018,-0.10000000000000009,-0.5,-0.2999999999999998,0.19999999999999996,-0.4,-0.4,0.19999999999999996,0.10000000000000009,0.5,0.0,-0.10000000000000009,0.19999999999999996,-0.19999999999999996,-0.09999999999999987,0.5,0.0,0.09999999999999987,0.30000000000000004,0.10000000000000009,-0.20000000000000018,0.10000000000000009,0.0,-0.19999999999999996,0.0,0.09999999999999987,-0.5999999999999999,0.19999999999999996,-0.30000000000000004,-0.09999999999999987,-0.30000000000000004,0.09999999999999998,-0.20000000000000007,0.30000000000000004,0.19999999999999996,-0.3999999999999999,0.0,0.0,0.19999999999999996,0.6000000000000001,0.09999999999999987,0.19999999999999996,0.20000000000000018,0.10000000000000009,0.09999999999999964,-0.2999999999999998,-0.10000000000000009,0.10000000000000009,0.0,0.0,-0.19999999999999996,-0.30000000000000004,-0.3999999999999999,0.09999999999999987,0.10000000000000009,-0.9,0.29999999999999993,-0.09999999999999998,0.0,0.20000000000000007,-0.30000000000000004,-0.5,0.4,0.6,0.19999999999999996,0.0,0.5,0.10000000000000009,-0.40000000000000013,0.0,-0.19999999999999996,0.10000000000000009,0.09999999999999987,0.20000000000000018,0.2999999999999998,-0.2999999999999998,-0.20000000000000018,-0.09999999999999987,-0.19999999999999996,-0.20000000000000007,-0.4,0.30000000000000004,-0.5,0.39999999999999997,0.10000000000000009,-0.6000000000000001,0.3,0.30000000000000004,0.3999999999999999,0.0,0.6000000000000001,-0.30000000000000004,-0.3999999999999999,-0.30000000000000004,0.3999999999999999,0.5,-0.09999999999999987,0.09999999999999987,0.10000000000000009,-0.40000000000000013,-0.2999999999999998,-0.30000000000000004,-0.10000000000000009,-0.09999999999999998,0.20000000000000007,0.09999999999999998,-0.20000000000000007,-0.49999999999999994,0.2,-0.10000000000000003,0.2,0.4,0.29999999999999993,0.40000000000000013,0.09999999999999987,-0.3999999999999999,-0.19999999999999996,0.2999999999999998,-0.19999999999999996,-0.09999999999999987,0.19999999999999996,0.30000000000000004,0.2999999999999998,-0.3999999999999999,-0.10000000000000009,0.0,-0.09999999999999987,-0.10000000000000009,-0.29999999999999993,-0.09999999999999998,-0.20000000000000007,-0.3,-0.09999999999999998,-0.2,0.4,0.5,0.20000000000000007,0.19999999999999996,0.0,0.19999999999999996,0.30000000000000004,-0.10000000000000009,-0.09999999999999987,-0.20000000000000018,0.10000000000000009,0.0,-0.19999999999999996,-0.10000000000000009,0.10000000000000009,-0.10000000000000009,-0.09999999999999987,-0.40000000000000013,-0.19999999999999996,0.30000000000000004,0.0,-0.6000000000000001,-0.2,0.2,0.39999999999999997,0.20000000000000007,0.30000000000000004,0.0,0.09999999999999987,0.10000000000000009,0.0,-0.10000000000000009,0.30000000000000004,0.10000000000000009,0.19999999999999996,-0.19999999999999996,-0.10000000000000009,-0.19999999999999996,0.0,-0.4,-0.09999999999999998,0.0,-0.10000000000000009,0.10000000000000009,0.19999999999999996,-0.5,0.30000000000000004,-0.4,0.19999999999999996,-0.19999999999999996,0.4,0.0,0.0,0.3999999999999999,-0.19999999999999996,0.10000000000000009,0.19999999999999996,0.30000000000000004,0.09999999999999987,0.0,0.0,-0.30000000000000004,-0.09999999999999987,-0.4,-0.5,-0.10000000000000003,0.39999999999999997,-0.19999999999999996,-0.5,0.0,0.0,0.0,0.5,0.6000000000000001,0.09999999999999987,0.10000000000000009,-0.4,0.09999999999999998,0.0,-0.09999999999999998,-0.30000000000000004,0.6,0.6000000000000001,-0.10000000000000009,0.0,-0.09999999999999987,-0.30000000000000004,0.0,-0.10000000000000009,-0.19999999999999996,0.0,-0.4,0.09999999999999998,0.10000000000000009,0.09999999999999998,-0.4,0.09999999999999998,0.09999999999999998,0.10000000000000009,0.30000000000000004,0.2999999999999998,0.0,-0.19999999999999996,-0.09999999999999987,0.2999999999999998,0.40000000000000013,-0.10000000000000009,0.19999999999999996,0.0,-0.19999999999999996,-0.19999999999999996,-0.10000000000000009,-0.3999999999999999,0.19999999999999996,-0.3999999999999999,0.09999999999999998,0.09999999999999998,0.0,-0.09999999999999998,-0.09999999999999998,0.09999999999999998,0.4,0.3999999999999999,-0.09999999999999987,0.0,0.19999999999999996,0.19999999999999996,0.10000000000000009,-0.30000000000000004,0.19999999999999996,0.0,-0.19999999999999996,-0.6000000000000001,-0.09999999999999987,-0.20000000000000007,-0.09999999999999998,-0.10000000000000009,-0.39999999999999997,0.2,0.30000000000000004,-0.20000000000000007,-0.09999999999999998,0.4,-0.30000000000000004,0.5000000000000001,0.09999999999999987,0.5,0.0,-0.09999999999999987,0.09999999999999987,0.5000000000000002,0.0,0.19999999999999973,-0.3999999999999999,-0.10000000000000009,-0.09999999999999987,-0.6000000000000001,-0.09999999999999987,-0.20000000000000007,0.0,0.20000000000000007,-0.20000000000000007,0.0,0.20000000000000007,-0.40000000000000013,-0.7,0.2,0.2,0.29999999999999993,0.8,0.19999999999999996,0.10000000000000009,0.30000000000000004,0.0,0.0,-0.10000000000000009,-0.10000000000000009,0.0,-0.09999999999999987,-0.10000000000000009,-0.3999999999999999,-0.10000000000000009,-0.3999999999999999,-0.10000000000000009,-0.7,0.6,0.30000000000000004,0.0,0.0,-0.4,0.30000000000000004,-0.10000000000000009,0.10000000000000009,0.7,0.10000000000000009,0.3999999999999999,-0.30000000000000004,-0.09999999999999987,-0.10000000000000009,0.10000000000000009,-0.20000000000000018,0.20000000000000018,0.2999999999999998,-0.09999999999999987,-0.10000000000000009,-0.09999999999999987,0.19999999999999996,-0.30000000000000004,-0.10000000000000009,-0.09999999999999987,-0.30000000000000004,0.30000000000000004,-0.5,-0.20000000000000007,0.4,-0.8,0.2,0.29999999999999993,-0.09999999999999998,0.20000000000000007,0.5,0.0,-0.30000000000000004,-0.09999999999999998,0.09999999999999998,0.5,0.3999999999999999,-0.19999999999999996,0.0,-0.3999999999999999,0.19999999999999996,-0.10000000000000009,-0.19999999999999996,-0.7999999999999999,0.0,0.09999999999999998,0.30000000000000004,0.0,-0.30000000000000004,0.19999999999999996,-0.19999999999999996,0.0,0.09999999999999998,0.0,0.0,0.30000000000000004,-0.20000000000000007,-0.09999999999999998,0.5000000000000001,0.2999999999999998,-0.09999999999999987,-0.5,0.8999999999999999,-0.5999999999999999,-0.8,0.5,-0.10000000000000009,-0.19999999999999996,0.09999999999999998,0.0,0.20000000000000007,-0.4,-0.4,0.1,0.4,0.09999999999999998,0.4,0.30000000000000004,0.5999999999999999,-0.2999999999999998,-0.20000000000000018,-0.2999999999999998,0.2999999999999998,-0.4999999999999999,0.29999999999999993,-0.09999999999999987,0.5,-0.7000000000000001,0.29999999999999993,-0.19999999999999996,-0.09999999999999998,-0.5,0.19999999999999996,-0.09999999999999998,0.0,0.19999999999999996,0.0,0.10000000000000009,-0.30000000000000004,0.19999999999999996,0.20000000000000007,0.29999999999999993,-0.19999999999999996,-0.09999999999999998,0.09999999999999998,-0.19999999999999996,0.5,-0.4,0.29999999999999993,-0.09999999999999987,-0.20000000000000007,0.0,-0.09999999999999998,0.09999999999999998,-0.09999999999999998,0.3999999999999999,0.30000000000000004,0.10000000000000009,-0.20000000000000018,-0.2999999999999998,-0.40000000000000013,-0.19999999999999996,0.19999999999999996,0.30000000000000004,0.19999999999999996,0.6000000000000001,-0.30000000000000004,0.10000000000000009,0.19999999999999996,-0.10000000000000009,0.10000000000000009,-0.10000000000000009,0.0,0.0,-0.3999999999999999,0.09999999999999987,-0.09999999999999987,-0.10000000000000009,-0.19999999999999996,-0.30000000000000004,-0.09999999999999998,0.0,-0.6,0.3,0.0,-0.19999999999999998,0.1,1.0,0.19999999999999996,0.10000000000000009,0.10000000000000009,-0.10000000000000009,0.19999999999999996,-0.30000000000000004,-0.09999999999999987,0.19999999999999996,-0.10000000000000009,0.10000000000000009,-0.10000000000000009,-0.09999999999999987,0.0,0.09999999999999987,-0.2999999999999998,-0.20000000000000007,-0.09999999999999998,0.09999999999999998,-0.30000000000000004,-0.09999999999999998,0.09999999999999998,0.0,0.5000000000000001,0.09999999999999987,0.30000000000000004,0.19999999999999996,0.10000000000000009,-0.10000000000000009,0.19999999999999996,0.8999999999999999,-2.0999999999999996,0.0,-0.6,0.0,-0.1,0.1,0.0,-0.1,0.3,0.10000000000000003,-0.10000000000000003,0.3,0.20000000000000007,0.0,-0.20000000000000007,-0.6,0.2,1.0,0.5,-0.09999999999999987,0.19999999999999996,0.09999999999999987,0.10000000000000009,0.0,-0.19999999999999996,-0.19999999999999996,-0.10000000000000009,-0.10000000000000009,-0.09999999999999987,0.09999999999999987,-0.09999999999999987,-0.5,0.09999999999999998,-0.30000000000000004,0.0,0.0,-0.09999999999999998,0.30000000000000004,-0.4,0.19999999999999996,0.09999999999999998,0.5,0.19999999999999996,0.30000000000000004,0.0,-0.19999999999999996,-0.30000000000000004,-0.09999999999999987,0.19999999999999996,0.0,-0.10000000000000009,0.10000000000000009,0.0,-0.10000000000000009,0.19999999999999996,-0.09999999999999987,-0.10000000000000009,-0.29999999999999993,0.0,-0.5,0.19999999999999996,0.0,0.0,-0.09999999999999998,0.30000000000000004,0.30000000000000004,0.3999999999999999,-0.10000000000000009,0.10000000000000009,-0.19999999999999996,-0.19999999999999996,-0.20000000000000007,0.09999999999999998,0.30000000000000004,0.19999999999999996,0.19999999999999996,-0.19999999999999996,-0.10000000000000009,-0.19999999999999996,-0.3999999999999999,0.0,-0.30000000000000004,0.09999999999999998,0.09999999999999998,-0.19999999999999996,0.09999999999999998,-0.09999999999999998,0.09999999999999998,0.0,0.20000000000000007,0.19999999999999996,0.30000000000000004,0.0,-0.10000000000000009,0.0,-0.09999999999999987,0.0,0.2999999999999998,0.10000000000000009,0.10000000000000009,-0.20000000000000018,-0.3999999999999999,-0.4,0.09999999999999998,-0.09999999999999998,0.0,0.09999999999999998,0.0,-0.09999999999999998,-0.09999999999999998,0.19999999999999996,-0.19999999999999996,0.0,0.30000000000000004,0.09999999999999998,0.0,0.0,-0.09999999999999998,0.0,0.09999999999999998,0.20000000000000007,0.09999999999999987,-0.3999999999999999,0.19999999999999996,-0.09999999999999998,-0.09999999999999998,-0.20000000000000007,0.0,0.0,0.0,0.09999999999999998,-0.39999999999999997,0.3,-0.3,-0.19999999999999998,-0.1,0.0,0.3,0.5,0.0,0.19999999999999996,0.0,0.19999999999999996,0.0,1.0000000000000002,-1.1,-0.10000000000000009,0.0,-0.30000000000000004,0.0,-0.09999999999999998,-0.3,-0.3,0.0,0.1,0.0,0.19999999999999998,-0.3,0.0,0.0,0.0,0.3,0.6000000000000001,0.20000000000000007,-0.10000000000000009,0.30000000000000004,-0.19999999999999996,-0.10000000000000009,0.0,0.10000000000000009,0.0,-0.20000000000000007,0.0,-0.20000000000000007,-0.49999999999999994,-0.2,0.4,-0.2,-0.1,0.1,0.0,-0.2,0.0,0.2,0.0,0.49999999999999994,0.6000000000000001,0.19999999999999996,0.0,0.0,-0.10000000000000009,0.10000000000000009,-0.10000000000000009,-0.19999999999999996,0.10000000000000009,-0.10000000000000009,-0.19999999999999996,-0.09999999999999998,0.0,0.0,-0.30000000000000004,-0.09999999999999998,-0.2,0.10000000000000003,0.09999999999999998,0.09999999999999998,-0.5,0.0,0.19999999999999998,0.6000000000000001,0.29999999999999993,0.0,0.0,0.10000000000000009,-0.10000000000000009,0.19999999999999996,-0.19999999999999996,-0.19999999999999996,-0.09999999999999998,0.09999999999999998,-0.30000000000000004,-0.09999999999999998,-0.39999999999999997,0.39999999999999997,-0.3,-0.19999999999999998,0.19999999999999998,-0.19999999999999998,-0.1,0.0,0.0,0.1,-0.1,0.4,0.29999999999999993,0.20000000000000007,0.29999999999999993,-0.09999999999999987,0.2999999999999998,0.0,0.10000000000000009,-0.10000000000000009,-0.19999999999999996,-0.09999999999999987,-0.30000000000000004,-0.30000000000000004,0.09999999999999998,-0.09999999999999998,0.09999999999999998,-0.19999999999999996,0.09999999999999998,-0.2,0.2,0.0,-0.09999999999999998,-0.2,0.09999999999999998,0.39999999999999997,0.5,0.0,0.10000000000000009,-0.10000000000000009,0.19999999999999996,0.0,-0.09999999999999987,-0.10000000000000009,-0.09999999999999987,-0.20000000000000007,-0.20000000000000007,-0.29999999999999993,-0.30000000000000004,0.30000000000000004,0.09999999999999998,-0.3,0.2,-0.10000000000000003,-0.3,0.1,0.1,-0.1,0.4,0.30000000000000004,0.5,0.0,0.09999999999999987,-0.19999999999999996,0.30000000000000004,-0.10000000000000009,0.0,-0.09999999999999987,-0.5,0.0,-0.10000000000000009,-0.39999999999999997,-0.09999999999999998,0.09999999999999998,0.2,0.19999999999999996,-0.09999999999999998,0.0,0.0,0.0,0.0,0.0,0.0,0.09999999999999998,0.30000000000000004,0.0,0.10000000000000009,0.0,0.2999999999999998,-0.09999999999999987,0.30000000000000004,-0.10000000000000009,-0.10000000000000009,-0.3999999999999999,-0.19999999999999996,-0.10000000000000009,0.0,0.0,-0.09999999999999998,0.0,0.0,0.09999999999999998,-0.09999999999999998,0.09999999999999998,0.20000000000000007,-0.09999999999999998,0.0,0.09999999999999998,0.0,0.20000000000000007,0.09999999999999987,-0.09999999999999987,0.09999999999999987,0.19999999999999996,-0.19999999999999996,0.10000000000000009,-0.19999999999999996,-0.20000000000000007,-0.09999999999999998,-0.10000000000000009,-0.09999999999999998,-0.09999999999999998,0.0,0.0,-0.2,0.2,-0.2,0.2,-0.2,0.10000000000000003,0.09999999999999998,0.5,0.19999999999999996,-0.09999999999999987,0.0,0.19999999999999996,0.0,0.09999999999999987,-0.09999999999999987,0.0,-0.10000000000000009,-0.19999999999999996,-0.19999999999999996,-0.20000000000000007,-0.09999999999999998,0.0,-0.4,0.0,0.30000000000000004,0.0,-0.30000000000000004,0.1,-0.2,0.0,0.2,0.49999999999999994,0.5,-0.09999999999999987,0.0,0.09999999999999987,0.19999999999999996,0.10000000000000009,0.0,0.0,-0.3999999999999999,-0.10000000000000009,-0.09999999999999998,0.0,-0.20000000000000007,-0.19999999999999996,0.09999999999999998,0.0,0.0,-0.19999999999999996,0.19999999999999996,0.0,-0.09999999999999998,-0.5,0.5,0.30000000000000004,0.3999999999999999,0.0,0.0,0.10000000000000009,-0.19999999999999996,-0.10000000000000009,0.10000000000000009,0.19999999999999996,-0.19999999999999996,-0.10000000000000009,-0.09999999999999998,-0.20000000000000007,0.0,-0.19999999999999996,0.09999999999999998,-0.09999999999999998,-0.09999999999999998,0.09999999999999998,-0.09999999999999998,0.09999999999999998,0.0,-0.2,0.10000000000000003,0.4,0.09999999999999998,0.20000000000000007,0.09999999999999987,0.0,0.10000000000000009,-0.30000000000000004,0.6000000000000001,0.2999999999999998,-0.2999999999999998,-0.10000000000000009,-0.30000000000000004,-0.5,-0.29999999999999993,0.09999999999999998,-0.09999999999999998,0.09999999999999998,0.0,0.0,-0.2,-0.3,0.0,0.2,0.09999999999999998,0.3,0.30000000000000004,0.0,0.09999999999999998,0.10000000000000009,0.19999999999999996,0.30000000000000004,0.19999999999999996,-0.7,0.0,-0.20000000000000007,-0.20000000000000007,-0.09999999999999998,0.09999999999999998,-0.19999999999999996,0.09999999999999998,0.0,-0.09999999999999998,-0.09999999999999998,-0.10000000000000003,0.10000000000000003,-0.30000000000000004,-0.1,0.0,0.3,0.2,0.5,0.10000000000000009,-0.40000000000000013,0.30000000000000004,0.19999999999999996,0.40000000000000013,-0.20000000000000018,-0.3999999999999999,-0.4,0.0,0.09999999999999998,-0.09999999999999998,-0.09999999999999998,0.0,-0.09999999999999998,0.19999999999999996,-0.09999999999999998,0.09999999999999998,-0.39999999999999997,-0.2,0.0,0.2,0.39999999999999997,0.30000000000000004,0.0,0.09999999999999998,-0.19999999999999996,0.0,0.0,-0.4,0.5,-0.20000000000000007,-0.19999999999999996,0.0,0.09999999999999998,0.0,-0.09999999999999998,0.09999999999999998,-0.09999999999999998,0.09999999999999998,-0.09999999999999998,0.09999999999999998,-0.3,0.39999999999999997,-0.09999999999999998,0.20000000000000007,-0.10000000000000009,-0.09999999999999998,0.09999999999999998,-0.19999999999999996,0.09999999999999998,0.09999999999999998,0.0,0.10000000000000009,0.0,0.09999999999999998,-0.30000000000000004,-0.09999999999999998,0.09999999999999998,0.0,-0.19999999999999996,0.19999999999999996,-0.09999999999999998,0.09999999999999998,-0.5,0.4,0.09999999999999998,-0.5,0.19999999999999998,0.10000000000000003,0.09999999999999998,0.19999999999999996,0.0,0.40000000000000013,-0.40000000000000013,0.0,0.10000000000000009,0.09999999999999998,0.09999999999999998,-0.19999999999999996,-0.4,0.0,0.29999999999999993,-0.39999999999999997,-0.19999999999999998,0.19999999999999998,0.2,-0.09999999999999998,0.19999999999999996,-0.09999999999999998,-0.09999999999999998,-0.10000000000000003,-0.19999999999999998,0.19999999999999998,0.0,0.2,0.19999999999999996,0.0,-0.19999999999999996,0.09999999999999998,0.09999999999999998,0.10000000000000009,-0.10000000000000009,0.0,-0.09999999999999998,0.0,-0.19999999999999996,0.19999999999999996,-0.19999999999999996,-0.10000000000000003,-0.19999999999999998,0.19999999999999998,0.2,0.09999999999999998,-0.19999999999999996,-0.10000000000000003,-0.3,0.5,0.09999999999999998,0.09999999999999998,0.0,0.0,0.30000000000000004,0.0,-0.09999999999999998,-0.09999999999999998,0.19999999999999996,-0.30000000000000004,0.10000000000000009,-0.10000000000000009,-0.39999999999999997,-0.19999999999999998,0.1,-0.1,0.0,0.4,0.19999999999999996,-0.29999999999999993,-0.30000000000000004,0.1,-0.2,0.6,0.20000000000000007,0.0,0.19999999999999996,0.19999999999999996,-0.5,0.10000000000000009,0.0,-0.10000000000000009,0.0,-0.09999999999999998,-0.09999999999999998,0.0,0.19999999999999996,-0.09999999999999998,-0.19999999999999996,0.0,0.09999999999999998,0.19999999999999996,-0.09999999999999998,-0.19999999999999996,-0.30000000000000004,0.30000000000000004,-0.2,0.3,0.09999999999999998,0.30000000000000004,0.0,-0.09999999999999998,0.19999999999999996,-0.09999999999999998,-0.09999999999999998,0.0,-0.10000000000000009,0.0,0.0,-0.19999999999999996,-0.09999999999999998,-0.2,0.09999999999999998,-0.19999999999999998,0.1,0.09999999999999998,-0.19999999999999998,0.19999999999999998,-0.3,0.1,0.4,0.19999999999999996,0.0,0.20000000000000007,-0.09999999999999998,0.09999999999999998,0.29999999999999993,0.0,-0.29999999999999993,-0.20000000000000007,-0.09999999999999998,0.20000000000000007,-0.4,-0.10000000000000003,0.0,0.3,-0.19999999999999996,-0.4,0.1,-0.1,0.2,-0.1,-0.1,0.3,0.10000000000000003,0.09999999999999998,0.30000000000000004,-0.10000000000000009,0.0,0.0,0.40000000000000013,0.2999999999999998,-0.9999999999999999,-0.10000000000000003,0.6000000000000001,-0.20000000000000007,-0.09999999999999998,-0.19999999999999996,-0.2,0.3,0.09999999999999998,-0.19999999999999996,0.0,0.0,-0.4,0.0,0.0,0.3,0.2,0.09999999999999998,0.0,0.0,0.09999999999999998,0.0,0.0,0.5,-0.29999999999999993,0.0,-0.09999999999999998,-0.20000000000000007,0.09999999999999998,0.10000000000000009,-0.20000000000000007,-0.3,0.10000000000000003,0.4,-0.4,0.09999999999999998,-0.2,0.0,0.0,-0.09999999999999998,-0.1,0.5,0.0,0.09999999999999998,0.0,0.20000000000000007,-0.09999999999999998,0.09999999999999998,0.29999999999999993,-0.29999999999999993,-0.09999999999999998,-0.10000000000000009,-0.09999999999999998,0.0,0.0,-0.3,0.2,-0.09999999999999998,-0.10000000000000003,-0.3,0.0,0.2,0.0,-0.1,0.30000000000000004,0.09999999999999998,0.0,0.09999999999999998,0.09999999999999998,0.20000000000000007,0.09999999999999998,-0.09999999999999998,0.0,0.09999999999999998,-0.09999999999999998,-0.20000000000000007,-0.09999999999999998,-0.5,-0.1,0.1,-0.1,0.0,0.0,0.0,0.0,0.0,0.0,0.2,0.39999999999999997,0.20000000000000007,-0.10000000000000009,0.10000000000000009,0.19999999999999996,0.0,0.10000000000000009,-0.40000000000000013,0.20000000000000007,0.09999999999999998,-0.09999999999999998,-0.09999999999999998,0.0,-0.10000000000000009,0.0,-0.09999999999999998,-0.09999999999999998,-0.5,0.0,0.0,0.0,0.2,0.2,0.19999999999999996,0.09999999999999998,0.10000000000000009,0.0,0.09999999999999998,0.20000000000000007,-0.10000000000000009,0.0,0.0,0.0,-0.09999999999999998,-0.09999999999999998,-0.10000000000000009,-0.29999999999999993,0.19999999999999996,-0.09999999999999998,0.09999999999999998,-0.09999999999999998,-0.3,0.0,0.0,-0.1,-0.1,0.0,0.0,0.3,0.3,0.20000000000000007,0.09999999999999998,0.0,0.09999999999999998,-0.09999999999999998,-0.09999999999999998,0.3999999999999999,-0.29999999999999993,0.09999999999999998,-0.30000000000000004,-0.09999999999999998,0.09999999999999998,-0.39999999999999997,-0.19999999999999998,0.30000000000000004,0.0,0.0,0.09999999999999998,-0.4,0.0,0.4,0.0,0.19999999999999996,0.0,0.10000000000000009,0.0,0.3999999999999999,0.10000000000000009,0.0,0.0,0.0,-0.30000000000000004,-0.09999999999999998,-0.20000000000000007,0.0,-0.09999999999999998,-0.39999999999999997,-0.1,-0.1,0.0,0.0,0.1,-0.1,0.0,0.0,0.0,0.3,0.5,0.09999999999999998,0.0,0.09999999999999998,0.19999999999999996,-0.19999999999999996,0.19999999999999996,-0.29999999999999993,0.0,-0.09999999999999998,-0.20000000000000007,-0.09999999999999998,-0.3,-0.1,0.4,-0.4,-0.1,0.0,0.0,0.0,0.0,0.0,0.1,0.1,0.39999999999999997,0.09999999999999998,0.10000000000000009,0.19999999999999996,-0.19999999999999996,0.0,0.09999999999999998,-0.09999999999999998,0.0,0.0,-0.20000000000000007,-0.09999999999999998,-0.09999999999999998,-0.10000000000000003,-0.3,0.2,-0.2,0.0,0.1,-0.1,0.0,0.0,0.2,0.39999999999999997,0.09999999999999998,0.0,0.0,0.0,0.0,0.10000000000000009,0.19999999999999996,0.0,-0.19999999999999996,-0.10000000000000009,0.0,-0.29999999999999993,-0.2,0.09999999999999998,-0.19999999999999998,-0.1,0.0,0.0,0.0,0.0,0.3,-0.3,0.1,0.19999999999999998,0.2,0.5,-0.19999999999999996,-0.10000000000000009,0.0,0.20000000000000007,0.0,0.09999999999999998,-0.19999999999999996,0.30000000000000004,-0.30000000000000004,-0.5,0.10000000000000003,-0.30000000000000004,-0.1,0.2,0.09999999999999998,0.10000000000000003,-0.30000000000000004,0.19999999999999998,0.0,-0.3,0.5,0.4,-0.09999999999999998,0.19999999999999996,-0.09999999999999998,0.09999999999999998,0.0,0.10000000000000009,-0.20000000000000007,0.0,0.0,0.09999999999999998,-0.19999999999999996,-0.20000000000000007,0.0,-0.09999999999999998,-0.09999999999999998,-0.2,-0.2,0.0,0.0,0.1,-0.1,0.0,0.0,0.2,0.39999999999999997,0.0,0.30000000000000004,-0.09999999999999998,0.30000000000000004,-0.30000000000000004,-0.10000000000000009,-0.09999999999999998,0.09999999999999998,0.0,-0.19999999999999996,-0.5,0.0,0.0,0.0,0.0,0.0,0.2,0.0,-0.1,0.0,-0.1,0.0,0.2,0.39999999999999997,0.09999999999999998,0.10000000000000009,0.09999999999999998,0.09999999999999998,-0.19999999999999996,-0.10000000000000009,0.10000000000000009,-0.10000000000000009,-0.29999999999999993,-0.4,0.0,0.0,0.0,0.2,-0.1,0.0,0.19999999999999998,-0.3,0.2,-0.2,0.2,-0.1,0.30000000000000004,0.19999999999999996,0.30000000000000004,0.0,0.0,0.0,0.09999999999999998,-0.19999999999999996,-0.10000000000000009,0.0,-0.29999999999999993,0.09999999999999998,-0.09999999999999998,0.19999999999999996,-0.09999999999999998,-0.4,0.1,0.0,-0.1,0.1,-0.2,0.0,0.0,0.6,-0.19999999999999996,0.09999999999999998,-0.09999999999999998,0.29999999999999993,0.10000000000000009,0.0,0.09999999999999998,0.0,-0.20000000000000007,0.10000000000000009,-0.10000000000000009,-0.29999999999999993,-0.4,0.0,0.0,0.0,0.0,0.0,0.0,0.0,0.1,-0.1,0.0,0.1,-0.1,0.3,0.3,0.20000000000000007,0.3999999999999999,-0.19999999999999996,0.10000000000000009,0.09999999999999987,-0.19999999999999996,0.0,-0.19999999999999996,-0.7000000000000001,0.19999999999999998,0.10000000000000003,-0.10000000000000003,0.0,-0.19999999999999998,0.1,-0.2,0.0,0.0,0.0,0.1,-0.1,0.0,0.2,-0.2,0.5,0.19999999999999996,0.20000000000000007,0.0,0.0,-0.09999999999999998,-0.10000000000000009,0.0,-0.39999999999999997,0.0,0.39999999999999997,-0.39999999999999997,0.39999999999999997,-0.39999999999999997,0.10000000000000003,0.19999999999999996,-0.19999999999999996,-0.4,0.4,0.09999999999999998,0.0,-0.09999999999999998,0.29999999999999993,0.40000000000000013,0.09999999999999987,-0.19999999999999996,0.10000000000000009,-0.20000000000000007,0.0,0.09999999999999998,-0.09999999999999998,-0.09999999999999998,-0.20000000000000007,-0.39999999999999997,0.09999999999999998,-0.3,0.0,0.0,0.0,0.0,0.0,0.0,0.0,0.0,0.2,0.09999999999999998,0.7,-0.09999999999999998,0.0,0.0,0.29999999999999993,-0.29999999999999993,-0.09999999999999998,0.19999999999999996,-0.09999999999999998,-0.4,-0.2,0.0,-0.3,0.1,-0.1,0.0,0.4,-0.2,-0.2,0.0,0.1,-0.1,0.1,-0.1,0.1,0.5,0.09999999999999998,0.20000000000000007,-0.30000000000000004,0.0,0.4,-0.30000000000000004,-0.19999999999999996,-0.5,0.0,0.0],\"type\":\"scatter\"}],                        {\"template\":{\"data\":{\"histogram2dcontour\":[{\"type\":\"histogram2dcontour\",\"colorbar\":{\"outlinewidth\":0,\"ticks\":\"\"},\"colorscale\":[[0.0,\"#0d0887\"],[0.1111111111111111,\"#46039f\"],[0.2222222222222222,\"#7201a8\"],[0.3333333333333333,\"#9c179e\"],[0.4444444444444444,\"#bd3786\"],[0.5555555555555556,\"#d8576b\"],[0.6666666666666666,\"#ed7953\"],[0.7777777777777778,\"#fb9f3a\"],[0.8888888888888888,\"#fdca26\"],[1.0,\"#f0f921\"]]}],\"choropleth\":[{\"type\":\"choropleth\",\"colorbar\":{\"outlinewidth\":0,\"ticks\":\"\"}}],\"histogram2d\":[{\"type\":\"histogram2d\",\"colorbar\":{\"outlinewidth\":0,\"ticks\":\"\"},\"colorscale\":[[0.0,\"#0d0887\"],[0.1111111111111111,\"#46039f\"],[0.2222222222222222,\"#7201a8\"],[0.3333333333333333,\"#9c179e\"],[0.4444444444444444,\"#bd3786\"],[0.5555555555555556,\"#d8576b\"],[0.6666666666666666,\"#ed7953\"],[0.7777777777777778,\"#fb9f3a\"],[0.8888888888888888,\"#fdca26\"],[1.0,\"#f0f921\"]]}],\"heatmap\":[{\"type\":\"heatmap\",\"colorbar\":{\"outlinewidth\":0,\"ticks\":\"\"},\"colorscale\":[[0.0,\"#0d0887\"],[0.1111111111111111,\"#46039f\"],[0.2222222222222222,\"#7201a8\"],[0.3333333333333333,\"#9c179e\"],[0.4444444444444444,\"#bd3786\"],[0.5555555555555556,\"#d8576b\"],[0.6666666666666666,\"#ed7953\"],[0.7777777777777778,\"#fb9f3a\"],[0.8888888888888888,\"#fdca26\"],[1.0,\"#f0f921\"]]}],\"heatmapgl\":[{\"type\":\"heatmapgl\",\"colorbar\":{\"outlinewidth\":0,\"ticks\":\"\"},\"colorscale\":[[0.0,\"#0d0887\"],[0.1111111111111111,\"#46039f\"],[0.2222222222222222,\"#7201a8\"],[0.3333333333333333,\"#9c179e\"],[0.4444444444444444,\"#bd3786\"],[0.5555555555555556,\"#d8576b\"],[0.6666666666666666,\"#ed7953\"],[0.7777777777777778,\"#fb9f3a\"],[0.8888888888888888,\"#fdca26\"],[1.0,\"#f0f921\"]]}],\"contourcarpet\":[{\"type\":\"contourcarpet\",\"colorbar\":{\"outlinewidth\":0,\"ticks\":\"\"}}],\"contour\":[{\"type\":\"contour\",\"colorbar\":{\"outlinewidth\":0,\"ticks\":\"\"},\"colorscale\":[[0.0,\"#0d0887\"],[0.1111111111111111,\"#46039f\"],[0.2222222222222222,\"#7201a8\"],[0.3333333333333333,\"#9c179e\"],[0.4444444444444444,\"#bd3786\"],[0.5555555555555556,\"#d8576b\"],[0.6666666666666666,\"#ed7953\"],[0.7777777777777778,\"#fb9f3a\"],[0.8888888888888888,\"#fdca26\"],[1.0,\"#f0f921\"]]}],\"surface\":[{\"type\":\"surface\",\"colorbar\":{\"outlinewidth\":0,\"ticks\":\"\"},\"colorscale\":[[0.0,\"#0d0887\"],[0.1111111111111111,\"#46039f\"],[0.2222222222222222,\"#7201a8\"],[0.3333333333333333,\"#9c179e\"],[0.4444444444444444,\"#bd3786\"],[0.5555555555555556,\"#d8576b\"],[0.6666666666666666,\"#ed7953\"],[0.7777777777777778,\"#fb9f3a\"],[0.8888888888888888,\"#fdca26\"],[1.0,\"#f0f921\"]]}],\"mesh3d\":[{\"type\":\"mesh3d\",\"colorbar\":{\"outlinewidth\":0,\"ticks\":\"\"}}],\"scatter\":[{\"fillpattern\":{\"fillmode\":\"overlay\",\"size\":10,\"solidity\":0.2},\"type\":\"scatter\"}],\"parcoords\":[{\"type\":\"parcoords\",\"line\":{\"colorbar\":{\"outlinewidth\":0,\"ticks\":\"\"}}}],\"scatterpolargl\":[{\"type\":\"scatterpolargl\",\"marker\":{\"colorbar\":{\"outlinewidth\":0,\"ticks\":\"\"}}}],\"bar\":[{\"error_x\":{\"color\":\"#2a3f5f\"},\"error_y\":{\"color\":\"#2a3f5f\"},\"marker\":{\"line\":{\"color\":\"#E5ECF6\",\"width\":0.5},\"pattern\":{\"fillmode\":\"overlay\",\"size\":10,\"solidity\":0.2}},\"type\":\"bar\"}],\"scattergeo\":[{\"type\":\"scattergeo\",\"marker\":{\"colorbar\":{\"outlinewidth\":0,\"ticks\":\"\"}}}],\"scatterpolar\":[{\"type\":\"scatterpolar\",\"marker\":{\"colorbar\":{\"outlinewidth\":0,\"ticks\":\"\"}}}],\"histogram\":[{\"marker\":{\"pattern\":{\"fillmode\":\"overlay\",\"size\":10,\"solidity\":0.2}},\"type\":\"histogram\"}],\"scattergl\":[{\"type\":\"scattergl\",\"marker\":{\"colorbar\":{\"outlinewidth\":0,\"ticks\":\"\"}}}],\"scatter3d\":[{\"type\":\"scatter3d\",\"line\":{\"colorbar\":{\"outlinewidth\":0,\"ticks\":\"\"}},\"marker\":{\"colorbar\":{\"outlinewidth\":0,\"ticks\":\"\"}}}],\"scattermapbox\":[{\"type\":\"scattermapbox\",\"marker\":{\"colorbar\":{\"outlinewidth\":0,\"ticks\":\"\"}}}],\"scatterternary\":[{\"type\":\"scatterternary\",\"marker\":{\"colorbar\":{\"outlinewidth\":0,\"ticks\":\"\"}}}],\"scattercarpet\":[{\"type\":\"scattercarpet\",\"marker\":{\"colorbar\":{\"outlinewidth\":0,\"ticks\":\"\"}}}],\"carpet\":[{\"aaxis\":{\"endlinecolor\":\"#2a3f5f\",\"gridcolor\":\"white\",\"linecolor\":\"white\",\"minorgridcolor\":\"white\",\"startlinecolor\":\"#2a3f5f\"},\"baxis\":{\"endlinecolor\":\"#2a3f5f\",\"gridcolor\":\"white\",\"linecolor\":\"white\",\"minorgridcolor\":\"white\",\"startlinecolor\":\"#2a3f5f\"},\"type\":\"carpet\"}],\"table\":[{\"cells\":{\"fill\":{\"color\":\"#EBF0F8\"},\"line\":{\"color\":\"white\"}},\"header\":{\"fill\":{\"color\":\"#C8D4E3\"},\"line\":{\"color\":\"white\"}},\"type\":\"table\"}],\"barpolar\":[{\"marker\":{\"line\":{\"color\":\"#E5ECF6\",\"width\":0.5},\"pattern\":{\"fillmode\":\"overlay\",\"size\":10,\"solidity\":0.2}},\"type\":\"barpolar\"}],\"pie\":[{\"automargin\":true,\"type\":\"pie\"}]},\"layout\":{\"autotypenumbers\":\"strict\",\"colorway\":[\"#636efa\",\"#EF553B\",\"#00cc96\",\"#ab63fa\",\"#FFA15A\",\"#19d3f3\",\"#FF6692\",\"#B6E880\",\"#FF97FF\",\"#FECB52\"],\"font\":{\"color\":\"#2a3f5f\"},\"hovermode\":\"closest\",\"hoverlabel\":{\"align\":\"left\"},\"paper_bgcolor\":\"white\",\"plot_bgcolor\":\"#E5ECF6\",\"polar\":{\"bgcolor\":\"#E5ECF6\",\"angularaxis\":{\"gridcolor\":\"white\",\"linecolor\":\"white\",\"ticks\":\"\"},\"radialaxis\":{\"gridcolor\":\"white\",\"linecolor\":\"white\",\"ticks\":\"\"}},\"ternary\":{\"bgcolor\":\"#E5ECF6\",\"aaxis\":{\"gridcolor\":\"white\",\"linecolor\":\"white\",\"ticks\":\"\"},\"baxis\":{\"gridcolor\":\"white\",\"linecolor\":\"white\",\"ticks\":\"\"},\"caxis\":{\"gridcolor\":\"white\",\"linecolor\":\"white\",\"ticks\":\"\"}},\"coloraxis\":{\"colorbar\":{\"outlinewidth\":0,\"ticks\":\"\"}},\"colorscale\":{\"sequential\":[[0.0,\"#0d0887\"],[0.1111111111111111,\"#46039f\"],[0.2222222222222222,\"#7201a8\"],[0.3333333333333333,\"#9c179e\"],[0.4444444444444444,\"#bd3786\"],[0.5555555555555556,\"#d8576b\"],[0.6666666666666666,\"#ed7953\"],[0.7777777777777778,\"#fb9f3a\"],[0.8888888888888888,\"#fdca26\"],[1.0,\"#f0f921\"]],\"sequentialminus\":[[0.0,\"#0d0887\"],[0.1111111111111111,\"#46039f\"],[0.2222222222222222,\"#7201a8\"],[0.3333333333333333,\"#9c179e\"],[0.4444444444444444,\"#bd3786\"],[0.5555555555555556,\"#d8576b\"],[0.6666666666666666,\"#ed7953\"],[0.7777777777777778,\"#fb9f3a\"],[0.8888888888888888,\"#fdca26\"],[1.0,\"#f0f921\"]],\"diverging\":[[0,\"#8e0152\"],[0.1,\"#c51b7d\"],[0.2,\"#de77ae\"],[0.3,\"#f1b6da\"],[0.4,\"#fde0ef\"],[0.5,\"#f7f7f7\"],[0.6,\"#e6f5d0\"],[0.7,\"#b8e186\"],[0.8,\"#7fbc41\"],[0.9,\"#4d9221\"],[1,\"#276419\"]]},\"xaxis\":{\"gridcolor\":\"white\",\"linecolor\":\"white\",\"ticks\":\"\",\"title\":{\"standoff\":15},\"zerolinecolor\":\"white\",\"automargin\":true,\"zerolinewidth\":2},\"yaxis\":{\"gridcolor\":\"white\",\"linecolor\":\"white\",\"ticks\":\"\",\"title\":{\"standoff\":15},\"zerolinecolor\":\"white\",\"automargin\":true,\"zerolinewidth\":2},\"scene\":{\"xaxis\":{\"backgroundcolor\":\"#E5ECF6\",\"gridcolor\":\"white\",\"linecolor\":\"white\",\"showbackground\":true,\"ticks\":\"\",\"zerolinecolor\":\"white\",\"gridwidth\":2},\"yaxis\":{\"backgroundcolor\":\"#E5ECF6\",\"gridcolor\":\"white\",\"linecolor\":\"white\",\"showbackground\":true,\"ticks\":\"\",\"zerolinecolor\":\"white\",\"gridwidth\":2},\"zaxis\":{\"backgroundcolor\":\"#E5ECF6\",\"gridcolor\":\"white\",\"linecolor\":\"white\",\"showbackground\":true,\"ticks\":\"\",\"zerolinecolor\":\"white\",\"gridwidth\":2}},\"shapedefaults\":{\"line\":{\"color\":\"#2a3f5f\"}},\"annotationdefaults\":{\"arrowcolor\":\"#2a3f5f\",\"arrowhead\":0,\"arrowwidth\":1},\"geo\":{\"bgcolor\":\"white\",\"landcolor\":\"#E5ECF6\",\"subunitcolor\":\"white\",\"showland\":true,\"showlakes\":true,\"lakecolor\":\"white\"},\"title\":{\"x\":0.05},\"mapbox\":{\"style\":\"light\"}}},\"title\":{\"text\":\"Average Wind Speed (After first order differencing)\"},\"yaxis\":{\"title\":{\"text\":\"Average Wind Speed\"}},\"xaxis\":{\"title\":{\"text\":\"Datetime\"}}},                        {\"responsive\": true}                    ).then(function(){\n",
              "                            \n",
              "var gd = document.getElementById('0652cca5-3720-466e-b050-14eadf8ca9ee');\n",
              "var x = new MutationObserver(function (mutations, observer) {{\n",
              "        var display = window.getComputedStyle(gd).display;\n",
              "        if (!display || display === 'none') {{\n",
              "            console.log([gd, 'removed!']);\n",
              "            Plotly.purge(gd);\n",
              "            observer.disconnect();\n",
              "        }}\n",
              "}});\n",
              "\n",
              "// Listen for the removal of the full notebook cells\n",
              "var notebookContainer = gd.closest('#notebook-container');\n",
              "if (notebookContainer) {{\n",
              "    x.observe(notebookContainer, {childList: true});\n",
              "}}\n",
              "\n",
              "// Listen for the clearing of the current output cell\n",
              "var outputEl = gd.closest('.output');\n",
              "if (outputEl) {{\n",
              "    x.observe(outputEl, {childList: true});\n",
              "}}\n",
              "\n",
              "                        })                };                            </script>        </div>\n",
              "</body>\n",
              "</html>"
            ]
          },
          "metadata": {}
        }
      ]
    },
    {
      "cell_type": "markdown",
      "source": [
        "## ADF Test:"
      ],
      "metadata": {
        "id": "eflfZEU_sBn7"
      }
    },
    {
      "cell_type": "code",
      "source": [
        "result = adfuller(df1['M1'].dropna().values, autolag = 'AIC')\n",
        "print(f'ADF Statistic: {result[0]}')\n",
        "print(f'p-value: {result[1]}')\n",
        "for key, value in result[4].items():\n",
        "    print(f'Critial Value at {key} = {value}')"
      ],
      "metadata": {
        "colab": {
          "base_uri": "https://localhost:8080/"
        },
        "id": "JSDxI3CXaVzV",
        "outputId": "4a5e1ddf-50e1-4875-f87a-1065ac2614c2"
      },
      "execution_count": 15,
      "outputs": [
        {
          "output_type": "stream",
          "name": "stdout",
          "text": [
            "ADF Statistic: -21.70696528044487\n",
            "p-value: 0.0\n",
            "Critial Value at 1% = -3.4334079904672232\n",
            "Critial Value at 5% = -2.8628909043977235\n",
            "Critial Value at 10% = -2.567489155536542\n"
          ]
        }
      ]
    },
    {
      "cell_type": "markdown",
      "source": [
        "## KPSS:"
      ],
      "metadata": {
        "id": "3_9wb1lssEq_"
      }
    },
    {
      "cell_type": "code",
      "source": [
        "result = kpss(df1['M1'].dropna().values)\n",
        "\n",
        "print(f'KPSS Statistic: {result[0]}')\n",
        "print(f'p-value: {result[1]}')"
      ],
      "metadata": {
        "colab": {
          "base_uri": "https://localhost:8080/"
        },
        "id": "PYyh1Kn3sGj-",
        "outputId": "2d788e01-eec8-47f9-95a4-f08275e6ae5e"
      },
      "execution_count": 16,
      "outputs": [
        {
          "output_type": "stream",
          "name": "stdout",
          "text": [
            "KPSS Statistic: 0.002040723232112566\n",
            "p-value: 0.1\n"
          ]
        },
        {
          "output_type": "stream",
          "name": "stderr",
          "text": [
            "/usr/local/lib/python3.10/dist-packages/statsmodels/tsa/stattools.py:2022: InterpolationWarning:\n",
            "\n",
            "The test statistic is outside of the range of p-values available in the\n",
            "look-up table. The actual p-value is greater than the p-value returned.\n",
            "\n",
            "\n"
          ]
        }
      ]
    },
    {
      "cell_type": "markdown",
      "source": [
        "## Since the p-value is less than 0.05 in ADF and greater than 0.5 in KPSS test hence we can state the time series is now stationary."
      ],
      "metadata": {
        "id": "E6QqGSR0a3S-"
      }
    },
    {
      "cell_type": "markdown",
      "source": [
        "## Hence, the lags value should be atleast 1 to get stationary and accurate results since we get stationary time series after first order differencing."
      ],
      "metadata": {
        "id": "tEy5sdVTctho"
      }
    },
    {
      "cell_type": "markdown",
      "source": [
        "## Identifying the values of order p and order q by using ACF and PACF:"
      ],
      "metadata": {
        "id": "RP0llfSrcPHa"
      }
    },
    {
      "cell_type": "code",
      "source": [
        "from statsmodels.graphics.tsaplots import plot_pacf"
      ],
      "metadata": {
        "id": "EY2rGwUealxD"
      },
      "execution_count": 17,
      "outputs": []
    },
    {
      "cell_type": "code",
      "source": [
        "pacf = plot_pacf(df1['wind_speed_avg'], lags = 25)"
      ],
      "metadata": {
        "colab": {
          "base_uri": "https://localhost:8080/",
          "height": 452
        },
        "id": "1q_MTT-dctfU",
        "outputId": "c59a42c1-72c9-4508-b7b3-40cfe70aec91"
      },
      "execution_count": 18,
      "outputs": [
        {
          "output_type": "display_data",
          "data": {
            "text/plain": [
              "<Figure size 640x480 with 1 Axes>"
            ],
            "image/png": "[encoded data removed]"
          },
          "metadata": {}
        }
      ]
    },
    {
      "cell_type": "markdown",
      "source": [
        "## In case of Autoregression we only consider PACF and for only Moving Average we consider ACF."
      ],
      "metadata": {
        "id": "FedMqpJTdOxo"
      }
    },
    {
      "cell_type": "markdown",
      "source": [
        "## Train and Test Splits:"
      ],
      "metadata": {
        "id": "pBY-Zn3nmYte"
      }
    },
    {
      "cell_type": "code",
      "source": [
        "train = df1['M1'].iloc[:-72]\n",
        "test = df1['M1'].iloc[-72:]"
      ],
      "metadata": {
        "id": "GTwQGurxma_X"
      },
      "execution_count": 19,
      "outputs": []
    },
    {
      "cell_type": "markdown",
      "source": [
        "## AR model:"
      ],
      "metadata": {
        "id": "gs7Vx13opyTR"
      }
    },
    {
      "cell_type": "code",
      "source": [
        "from statsmodels.tsa.ar_model import AutoReg"
      ],
      "metadata": {
        "id": "SdJWWUIGpxth"
      },
      "execution_count": 20,
      "outputs": []
    },
    {
      "cell_type": "markdown",
      "source": [
        "## When lags = 23 is considered, we get better results on test data and the forecasts are also good and are closest to the actual values when compared by checking on google."
      ],
      "metadata": {
        "id": "OElH2wfPb0r6"
      }
    },
    {
      "cell_type": "code",
      "source": [
        "model = AutoReg(train.dropna(), lags = 24).fit()\n",
        "model.summary()"
      ],
      "metadata": {
        "colab": {
          "base_uri": "https://localhost:8080/",
          "height": 1000
        },
        "id": "RYwzRL4tpxxR",
        "outputId": "7d9ea91c-c54f-43db-aaca-93abd33ab4c7"
      },
      "execution_count": 21,
      "outputs": [
        {
          "output_type": "stream",
          "name": "stderr",
          "text": [
            "/usr/local/lib/python3.10/dist-packages/statsmodels/tsa/base/tsa_model.py:471: ValueWarning:\n",
            "\n",
            "A date index has been provided, but it has no associated frequency information and so will be ignored when e.g. forecasting.\n",
            "\n"
          ]
        },
        {
          "output_type": "execute_result",
          "data": {
            "text/plain": [
              "<class 'statsmodels.iolib.summary.Summary'>\n",
              "\"\"\"\n",
              "                            AutoReg Model Results                             \n",
              "==============================================================================\n",
              "Dep. Variable:                     M1   No. Observations:                 2093\n",
              "Model:                    AutoReg(24)   Log Likelihood                 171.573\n",
              "Method:               Conditional MLE   S.D. of innovations              0.223\n",
              "Date:                Wed, 26 Jul 2023   AIC                           -291.145\n",
              "Time:                        04:53:41   BIC                           -144.640\n",
              "Sample:                            24   HQIC                          -237.444\n",
              "                                 2093                                         \n",
              "==============================================================================\n",
              "                 coef    std err          z      P>|z|      [0.025      0.975]\n",
              "------------------------------------------------------------------------------\n",
              "const         -0.0027      0.005     -0.556      0.578      -0.012       0.007\n",
              "M1.L1         -0.2654      0.022    -12.083      0.000      -0.308      -0.222\n",
              "M1.L2         -0.2762      0.023    -12.187      0.000      -0.321      -0.232\n",
              "M1.L3         -0.2870      0.023    -12.421      0.000      -0.332      -0.242\n",
              "M1.L4         -0.3108      0.023    -13.247      0.000      -0.357      -0.265\n",
              "M1.L5         -0.3060      0.024    -12.852      0.000      -0.353      -0.259\n",
              "M1.L6         -0.2838      0.024    -11.811      0.000      -0.331      -0.237\n",
              "M1.L7         -0.2902      0.024    -12.121      0.000      -0.337      -0.243\n",
              "M1.L8         -0.2737      0.024    -11.458      0.000      -0.321      -0.227\n",
              "M1.L9         -0.2729      0.024    -11.466      0.000      -0.320      -0.226\n",
              "M1.L10        -0.3141      0.024    -13.273      0.000      -0.360      -0.268\n",
              "M1.L11        -0.3373      0.023    -14.363      0.000      -0.383      -0.291\n",
              "M1.L12        -0.3331      0.023    -14.297      0.000      -0.379      -0.287\n",
              "M1.L13        -0.3631      0.023    -15.615      0.000      -0.409      -0.317\n",
              "M1.L14        -0.3403      0.023    -14.525      0.000      -0.386      -0.294\n",
              "M1.L15        -0.3000      0.024    -12.713      0.000      -0.346      -0.254\n",
              "M1.L16        -0.2916      0.024    -12.274      0.000      -0.338      -0.245\n",
              "M1.L17        -0.2959      0.024    -12.399      0.000      -0.343      -0.249\n",
              "M1.L18        -0.2989      0.024    -12.510      0.000      -0.346      -0.252\n",
              "M1.L19        -0.2647      0.024    -11.031      0.000      -0.312      -0.218\n",
              "M1.L20        -0.2477      0.024    -10.448      0.000      -0.294      -0.201\n",
              "M1.L21        -0.2168      0.023     -9.301      0.000      -0.263      -0.171\n",
              "M1.L22        -0.1850      0.023     -8.060      0.000      -0.230      -0.140\n",
              "M1.L23        -0.0825      0.023     -3.668      0.000      -0.127      -0.038\n",
              "M1.L24         0.0379      0.022      1.735      0.083      -0.005       0.081\n",
              "                                    Roots                                     \n",
              "==============================================================================\n",
              "                   Real          Imaginary           Modulus         Frequency\n",
              "------------------------------------------------------------------------------\n",
              "AR.1            -1.1425           -0.0000j            1.1425           -0.5000\n",
              "AR.2            -1.1024           -0.2747j            1.1361           -0.4611\n",
              "AR.3            -1.1024           +0.2747j            1.1361            0.4611\n",
              "AR.4            -0.9736           -0.5444j            1.1155           -0.4188\n",
              "AR.5            -0.9736           +0.5444j            1.1155            0.4188\n",
              "AR.6            -0.7985           -0.7850j            1.1198           -0.3764\n",
              "AR.7            -0.7985           +0.7850j            1.1198            0.3764\n",
              "AR.8            -0.5626           -0.9458j            1.1005           -0.3354\n",
              "AR.9            -0.5626           +0.9458j            1.1005            0.3354\n",
              "AR.10           -0.3055           -1.0697j            1.1125           -0.2943\n",
              "AR.11           -0.3055           +1.0697j            1.1125            0.2943\n",
              "AR.12            0.9714           -0.2614j            1.0060           -0.0418\n",
              "AR.13            0.9714           +0.2614j            1.0060            0.0418\n",
              "AR.14            0.9102           -0.5200j            1.0483           -0.0826\n",
              "AR.15            0.9102           +0.5200j            1.0483            0.0826\n",
              "AR.16            0.7367           -0.7367j            1.0419           -0.1250\n",
              "AR.17            0.7367           +0.7367j            1.0419            0.1250\n",
              "AR.18           -0.0131           -1.0824j            1.0825           -0.2519\n",
              "AR.19           -0.0131           +1.0824j            1.0825            0.2519\n",
              "AR.20            0.5448           -0.9385j            1.0852           -0.1663\n",
              "AR.21            0.5448           +0.9385j            1.0852            0.1663\n",
              "AR.22            0.2851           -1.0421j            1.0804           -0.2075\n",
              "AR.23            0.2851           +1.0421j            1.0804            0.2075\n",
              "AR.24            3.9357           -0.0000j            3.9357           -0.0000\n",
              "------------------------------------------------------------------------------\n",
              "\"\"\""
            ],
            "text/html": [
              "<table class=\"simpletable\">\n",
              "<caption>AutoReg Model Results</caption>\n",
              "<tr>\n",
              "  <th>Dep. Variable:</th>        <td>M1</td>        <th>  No. Observations:  </th>   <td>2093</td>  \n",
              "</tr>\n",
              "<tr>\n",
              "  <th>Model:</th>            <td>AutoReg(24)</td>   <th>  Log Likelihood     </th>  <td>171.573</td>\n",
              "</tr>\n",
              "<tr>\n",
              "  <th>Method:</th>         <td>Conditional MLE</td> <th>  S.D. of innovations</th>   <td>0.223</td> \n",
              "</tr>\n",
              "<tr>\n",
              "  <th>Date:</th>          <td>Wed, 26 Jul 2023</td> <th>  AIC                </th> <td>-291.145</td>\n",
              "</tr>\n",
              "<tr>\n",
              "  <th>Time:</th>              <td>04:53:41</td>     <th>  BIC                </th> <td>-144.640</td>\n",
              "</tr>\n",
              "<tr>\n",
              "  <th>Sample:</th>               <td>24</td>        <th>  HQIC               </th> <td>-237.444</td>\n",
              "</tr>\n",
              "<tr>\n",
              "  <th></th>                     <td>2093</td>       <th>                     </th>     <td> </td>   \n",
              "</tr>\n",
              "</table>\n",
              "<table class=\"simpletable\">\n",
              "<tr>\n",
              "     <td></td>       <th>coef</th>     <th>std err</th>      <th>z</th>      <th>P>|z|</th>  <th>[0.025</th>    <th>0.975]</th>  \n",
              "</tr>\n",
              "<tr>\n",
              "  <th>const</th>  <td>   -0.0027</td> <td>    0.005</td> <td>   -0.556</td> <td> 0.578</td> <td>   -0.012</td> <td>    0.007</td>\n",
              "</tr>\n",
              "<tr>\n",
              "  <th>M1.L1</th>  <td>   -0.2654</td> <td>    0.022</td> <td>  -12.083</td> <td> 0.000</td> <td>   -0.308</td> <td>   -0.222</td>\n",
              "</tr>\n",
              "<tr>\n",
              "  <th>M1.L2</th>  <td>   -0.2762</td> <td>    0.023</td> <td>  -12.187</td> <td> 0.000</td> <td>   -0.321</td> <td>   -0.232</td>\n",
              "</tr>\n",
              "<tr>\n",
              "  <th>M1.L3</th>  <td>   -0.2870</td> <td>    0.023</td> <td>  -12.421</td> <td> 0.000</td> <td>   -0.332</td> <td>   -0.242</td>\n",
              "</tr>\n",
              "<tr>\n",
              "  <th>M1.L4</th>  <td>   -0.3108</td> <td>    0.023</td> <td>  -13.247</td> <td> 0.000</td> <td>   -0.357</td> <td>   -0.265</td>\n",
              "</tr>\n",
              "<tr>\n",
              "  <th>M1.L5</th>  <td>   -0.3060</td> <td>    0.024</td> <td>  -12.852</td> <td> 0.000</td> <td>   -0.353</td> <td>   -0.259</td>\n",
              "</tr>\n",
              "<tr>\n",
              "  <th>M1.L6</th>  <td>   -0.2838</td> <td>    0.024</td> <td>  -11.811</td> <td> 0.000</td> <td>   -0.331</td> <td>   -0.237</td>\n",
              "</tr>\n",
              "<tr>\n",
              "  <th>M1.L7</th>  <td>   -0.2902</td> <td>    0.024</td> <td>  -12.121</td> <td> 0.000</td> <td>   -0.337</td> <td>   -0.243</td>\n",
              "</tr>\n",
              "<tr>\n",
              "  <th>M1.L8</th>  <td>   -0.2737</td> <td>    0.024</td> <td>  -11.458</td> <td> 0.000</td> <td>   -0.321</td> <td>   -0.227</td>\n",
              "</tr>\n",
              "<tr>\n",
              "  <th>M1.L9</th>  <td>   -0.2729</td> <td>    0.024</td> <td>  -11.466</td> <td> 0.000</td> <td>   -0.320</td> <td>   -0.226</td>\n",
              "</tr>\n",
              "<tr>\n",
              "  <th>M1.L10</th> <td>   -0.3141</td> <td>    0.024</td> <td>  -13.273</td> <td> 0.000</td> <td>   -0.360</td> <td>   -0.268</td>\n",
              "</tr>\n",
              "<tr>\n",
              "  <th>M1.L11</th> <td>   -0.3373</td> <td>    0.023</td> <td>  -14.363</td> <td> 0.000</td> <td>   -0.383</td> <td>   -0.291</td>\n",
              "</tr>\n",
              "<tr>\n",
              "  <th>M1.L12</th> <td>   -0.3331</td> <td>    0.023</td> <td>  -14.297</td> <td> 0.000</td> <td>   -0.379</td> <td>   -0.287</td>\n",
              "</tr>\n",
              "<tr>\n",
              "  <th>M1.L13</th> <td>   -0.3631</td> <td>    0.023</td> <td>  -15.615</td> <td> 0.000</td> <td>   -0.409</td> <td>   -0.317</td>\n",
              "</tr>\n",
              "<tr>\n",
              "  <th>M1.L14</th> <td>   -0.3403</td> <td>    0.023</td> <td>  -14.525</td> <td> 0.000</td> <td>   -0.386</td> <td>   -0.294</td>\n",
              "</tr>\n",
              "<tr>\n",
              "  <th>M1.L15</th> <td>   -0.3000</td> <td>    0.024</td> <td>  -12.713</td> <td> 0.000</td> <td>   -0.346</td> <td>   -0.254</td>\n",
              "</tr>\n",
              "<tr>\n",
              "  <th>M1.L16</th> <td>   -0.2916</td> <td>    0.024</td> <td>  -12.274</td> <td> 0.000</td> <td>   -0.338</td> <td>   -0.245</td>\n",
              "</tr>\n",
              "<tr>\n",
              "  <th>M1.L17</th> <td>   -0.2959</td> <td>    0.024</td> <td>  -12.399</td> <td> 0.000</td> <td>   -0.343</td> <td>   -0.249</td>\n",
              "</tr>\n",
              "<tr>\n",
              "  <th>M1.L18</th> <td>   -0.2989</td> <td>    0.024</td> <td>  -12.510</td> <td> 0.000</td> <td>   -0.346</td> <td>   -0.252</td>\n",
              "</tr>\n",
              "<tr>\n",
              "  <th>M1.L19</th> <td>   -0.2647</td> <td>    0.024</td> <td>  -11.031</td> <td> 0.000</td> <td>   -0.312</td> <td>   -0.218</td>\n",
              "</tr>\n",
              "<tr>\n",
              "  <th>M1.L20</th> <td>   -0.2477</td> <td>    0.024</td> <td>  -10.448</td> <td> 0.000</td> <td>   -0.294</td> <td>   -0.201</td>\n",
              "</tr>\n",
              "<tr>\n",
              "  <th>M1.L21</th> <td>   -0.2168</td> <td>    0.023</td> <td>   -9.301</td> <td> 0.000</td> <td>   -0.263</td> <td>   -0.171</td>\n",
              "</tr>\n",
              "<tr>\n",
              "  <th>M1.L22</th> <td>   -0.1850</td> <td>    0.023</td> <td>   -8.060</td> <td> 0.000</td> <td>   -0.230</td> <td>   -0.140</td>\n",
              "</tr>\n",
              "<tr>\n",
              "  <th>M1.L23</th> <td>   -0.0825</td> <td>    0.023</td> <td>   -3.668</td> <td> 0.000</td> <td>   -0.127</td> <td>   -0.038</td>\n",
              "</tr>\n",
              "<tr>\n",
              "  <th>M1.L24</th> <td>    0.0379</td> <td>    0.022</td> <td>    1.735</td> <td> 0.083</td> <td>   -0.005</td> <td>    0.081</td>\n",
              "</tr>\n",
              "</table>\n",
              "<table class=\"simpletable\">\n",
              "<caption>Roots</caption>\n",
              "<tr>\n",
              "    <td></td>    <th>            Real</th>  <th>         Imaginary</th> <th>         Modulus</th>  <th>        Frequency</th>\n",
              "</tr>\n",
              "<tr>\n",
              "  <th>AR.1</th>  <td>          -1.1425</td> <td>          -0.0000j</td> <td>           1.1425</td> <td>          -0.5000</td>\n",
              "</tr>\n",
              "<tr>\n",
              "  <th>AR.2</th>  <td>          -1.1024</td> <td>          -0.2747j</td> <td>           1.1361</td> <td>          -0.4611</td>\n",
              "</tr>\n",
              "<tr>\n",
              "  <th>AR.3</th>  <td>          -1.1024</td> <td>          +0.2747j</td> <td>           1.1361</td> <td>           0.4611</td>\n",
              "</tr>\n",
              "<tr>\n",
              "  <th>AR.4</th>  <td>          -0.9736</td> <td>          -0.5444j</td> <td>           1.1155</td> <td>          -0.4188</td>\n",
              "</tr>\n",
              "<tr>\n",
              "  <th>AR.5</th>  <td>          -0.9736</td> <td>          +0.5444j</td> <td>           1.1155</td> <td>           0.4188</td>\n",
              "</tr>\n",
              "<tr>\n",
              "  <th>AR.6</th>  <td>          -0.7985</td> <td>          -0.7850j</td> <td>           1.1198</td> <td>          -0.3764</td>\n",
              "</tr>\n",
              "<tr>\n",
              "  <th>AR.7</th>  <td>          -0.7985</td> <td>          +0.7850j</td> <td>           1.1198</td> <td>           0.3764</td>\n",
              "</tr>\n",
              "<tr>\n",
              "  <th>AR.8</th>  <td>          -0.5626</td> <td>          -0.9458j</td> <td>           1.1005</td> <td>          -0.3354</td>\n",
              "</tr>\n",
              "<tr>\n",
              "  <th>AR.9</th>  <td>          -0.5626</td> <td>          +0.9458j</td> <td>           1.1005</td> <td>           0.3354</td>\n",
              "</tr>\n",
              "<tr>\n",
              "  <th>AR.10</th> <td>          -0.3055</td> <td>          -1.0697j</td> <td>           1.1125</td> <td>          -0.2943</td>\n",
              "</tr>\n",
              "<tr>\n",
              "  <th>AR.11</th> <td>          -0.3055</td> <td>          +1.0697j</td> <td>           1.1125</td> <td>           0.2943</td>\n",
              "</tr>\n",
              "<tr>\n",
              "  <th>AR.12</th> <td>           0.9714</td> <td>          -0.2614j</td> <td>           1.0060</td> <td>          -0.0418</td>\n",
              "</tr>\n",
              "<tr>\n",
              "  <th>AR.13</th> <td>           0.9714</td> <td>          +0.2614j</td> <td>           1.0060</td> <td>           0.0418</td>\n",
              "</tr>\n",
              "<tr>\n",
              "  <th>AR.14</th> <td>           0.9102</td> <td>          -0.5200j</td> <td>           1.0483</td> <td>          -0.0826</td>\n",
              "</tr>\n",
              "<tr>\n",
              "  <th>AR.15</th> <td>           0.9102</td> <td>          +0.5200j</td> <td>           1.0483</td> <td>           0.0826</td>\n",
              "</tr>\n",
              "<tr>\n",
              "  <th>AR.16</th> <td>           0.7367</td> <td>          -0.7367j</td> <td>           1.0419</td> <td>          -0.1250</td>\n",
              "</tr>\n",
              "<tr>\n",
              "  <th>AR.17</th> <td>           0.7367</td> <td>          +0.7367j</td> <td>           1.0419</td> <td>           0.1250</td>\n",
              "</tr>\n",
              "<tr>\n",
              "  <th>AR.18</th> <td>          -0.0131</td> <td>          -1.0824j</td> <td>           1.0825</td> <td>          -0.2519</td>\n",
              "</tr>\n",
              "<tr>\n",
              "  <th>AR.19</th> <td>          -0.0131</td> <td>          +1.0824j</td> <td>           1.0825</td> <td>           0.2519</td>\n",
              "</tr>\n",
              "<tr>\n",
              "  <th>AR.20</th> <td>           0.5448</td> <td>          -0.9385j</td> <td>           1.0852</td> <td>          -0.1663</td>\n",
              "</tr>\n",
              "<tr>\n",
              "  <th>AR.21</th> <td>           0.5448</td> <td>          +0.9385j</td> <td>           1.0852</td> <td>           0.1663</td>\n",
              "</tr>\n",
              "<tr>\n",
              "  <th>AR.22</th> <td>           0.2851</td> <td>          -1.0421j</td> <td>           1.0804</td> <td>          -0.2075</td>\n",
              "</tr>\n",
              "<tr>\n",
              "  <th>AR.23</th> <td>           0.2851</td> <td>          +1.0421j</td> <td>           1.0804</td> <td>           0.2075</td>\n",
              "</tr>\n",
              "<tr>\n",
              "  <th>AR.24</th> <td>           3.9357</td> <td>          -0.0000j</td> <td>           3.9357</td> <td>          -0.0000</td>\n",
              "</tr>\n",
              "</table>"
            ]
          },
          "metadata": {},
          "execution_count": 21
        }
      ]
    },
    {
      "cell_type": "code",
      "source": [
        "start = len(train)\n",
        "end = len(train) + len(test) - 1"
      ],
      "metadata": {
        "id": "y4Eh4gIDTSsS"
      },
      "execution_count": 22,
      "outputs": []
    },
    {
      "cell_type": "code",
      "source": [
        "pred = model.predict(start = start, end = end, dynamic = False)\n",
        "pred_list = pred.values\n",
        "\n",
        "last_value = df1.iloc[-73][0]\n",
        "\n",
        "og_scale_pred = [last_value]\n",
        "for diff in pred_list:\n",
        "  og_scale_pred.append(og_scale_pred[-1]+diff)"
      ],
      "metadata": {
        "id": "ttwiUSRVpx0Z",
        "colab": {
          "base_uri": "https://localhost:8080/"
        },
        "outputId": "018529f3-9e42-416f-a89f-fd800ecb2f2c"
      },
      "execution_count": 23,
      "outputs": [
        {
          "output_type": "stream",
          "name": "stderr",
          "text": [
            "/usr/local/lib/python3.10/dist-packages/statsmodels/tsa/base/tsa_model.py:834: ValueWarning:\n",
            "\n",
            "No supported index is available. Prediction results will be given with an integer index beginning at `start`.\n",
            "\n"
          ]
        }
      ]
    },
    {
      "cell_type": "code",
      "source": [
        "pred_df = pd.DataFrame(og_scale_pred, columns = ['Pred'], index = df.index[-73:])\n",
        "pred_df['Actual'] = df1['wind_speed_avg'].iloc[-73:]"
      ],
      "metadata": {
        "id": "A4wHJRJbI3ho"
      },
      "execution_count": 24,
      "outputs": []
    },
    {
      "cell_type": "code",
      "source": [
        "pred_df.dropna().head()"
      ],
      "metadata": {
        "colab": {
          "base_uri": "https://localhost:8080/",
          "height": 237
        },
        "id": "LQKsGN9IiU1R",
        "outputId": "a0361227-2342-4347-f24e-826e7cac3623"
      },
      "execution_count": 25,
      "outputs": [
        {
          "output_type": "execute_result",
          "data": {
            "text/plain": [
              "                         Pred  Actual\n",
              "Date/Time                            \n",
              "2023-07-21 20:00:00  0.300000     0.3\n",
              "2023-07-21 21:00:00  0.243174     0.7\n",
              "2023-07-21 22:00:00  0.188278     0.3\n",
              "2023-07-21 23:00:00  0.110355     0.7\n",
              "2023-07-22 00:00:00  0.046642     0.3"
            ],
            "text/html": [
              "\n",
              "\n",
              "  <div id=\"df-150d6a88-0620-4f4c-9692-6f5f6498be91\">\n",
              "    <div class=\"colab-df-container\">\n",
              "      <div>\n",
              "<style scoped>\n",
              "    .dataframe tbody tr th:only-of-type {\n",
              "        vertical-align: middle;\n",
              "    }\n",
              "\n",
              "    .dataframe tbody tr th {\n",
              "        vertical-align: top;\n",
              "    }\n",
              "\n",
              "    .dataframe thead th {\n",
              "        text-align: right;\n",
              "    }\n",
              "</style>\n",
              "<table border=\"1\" class=\"dataframe\">\n",
              "  <thead>\n",
              "    <tr style=\"text-align: right;\">\n",
              "      <th></th>\n",
              "      <th>Pred</th>\n",
              "      <th>Actual</th>\n",
              "    </tr>\n",
              "    <tr>\n",
              "      <th>Date/Time</th>\n",
              "      <th></th>\n",
              "      <th></th>\n",
              "    </tr>\n",
              "  </thead>\n",
              "  <tbody>\n",
              "    <tr>\n",
              "      <th>2023-07-21 20:00:00</th>\n",
              "      <td>0.300000</td>\n",
              "      <td>0.3</td>\n",
              "    </tr>\n",
              "    <tr>\n",
              "      <th>2023-07-21 21:00:00</th>\n",
              "      <td>0.243174</td>\n",
              "      <td>0.7</td>\n",
              "    </tr>\n",
              "    <tr>\n",
              "      <th>2023-07-21 22:00:00</th>\n",
              "      <td>0.188278</td>\n",
              "      <td>0.3</td>\n",
              "    </tr>\n",
              "    <tr>\n",
              "      <th>2023-07-21 23:00:00</th>\n",
              "      <td>0.110355</td>\n",
              "      <td>0.7</td>\n",
              "    </tr>\n",
              "    <tr>\n",
              "      <th>2023-07-22 00:00:00</th>\n",
              "      <td>0.046642</td>\n",
              "      <td>0.3</td>\n",
              "    </tr>\n",
              "  </tbody>\n",
              "</table>\n",
              "</div>\n",
              "      <button class=\"colab-df-convert\" onclick=\"convertToInteractive('df-150d6a88-0620-4f4c-9692-6f5f6498be91')\"\n",
              "              title=\"Convert this dataframe to an interactive table.\"\n",
              "              style=\"display:none;\">\n",
              "\n",
              "  <svg xmlns=\"http://www.w3.org/2000/svg\" height=\"24px\"viewBox=\"0 0 24 24\"\n",
              "       width=\"24px\">\n",
              "    <path d=\"M0 0h24v24H0V0z\" fill=\"none\"/>\n",
              "    <path d=\"M18.56 5.44l.94 2.06.94-2.06 2.06-.94-2.06-.94-.94-2.06-.94 2.06-2.06.94zm-11 1L8.5 8.5l.94-2.06 2.06-.94-2.06-.94L8.5 2.5l-.94 2.06-2.06.94zm10 10l.94 2.06.94-2.06 2.06-.94-2.06-.94-.94-2.06-.94 2.06-2.06.94z\"/><path d=\"M17.41 7.96l-1.37-1.37c-.4-.4-.92-.59-1.43-.59-.52 0-1.04.2-1.43.59L10.3 9.45l-7.72 7.72c-.78.78-.78 2.05 0 2.83L4 21.41c.39.39.9.59 1.41.59.51 0 1.02-.2 1.41-.59l7.78-7.78 2.81-2.81c.8-.78.8-2.07 0-2.86zM5.41 20L4 18.59l7.72-7.72 1.47 1.35L5.41 20z\"/>\n",
              "  </svg>\n",
              "      </button>\n",
              "\n",
              "\n",
              "\n",
              "    <div id=\"df-880b8f96-b41e-4877-b31a-5e566b693958\">\n",
              "      <button class=\"colab-df-quickchart\" onclick=\"quickchart('df-880b8f96-b41e-4877-b31a-5e566b693958')\"\n",
              "              title=\"Suggest charts.\"\n",
              "              style=\"display:none;\">\n",
              "\n",
              "<svg xmlns=\"http://www.w3.org/2000/svg\" height=\"24px\"viewBox=\"0 0 24 24\"\n",
              "     width=\"24px\">\n",
              "    <g>\n",
              "        <path d=\"M19 3H5c-1.1 0-2 .9-2 2v14c0 1.1.9 2 2 2h14c1.1 0 2-.9 2-2V5c0-1.1-.9-2-2-2zM9 17H7v-7h2v7zm4 0h-2V7h2v10zm4 0h-2v-4h2v4z\"/>\n",
              "    </g>\n",
              "</svg>\n",
              "      </button>\n",
              "    </div>\n",
              "\n",
              "<style>\n",
              "  .colab-df-quickchart {\n",
              "    background-color: #E8F0FE;\n",
              "    border: none;\n",
              "    border-radius: 50%;\n",
              "    cursor: pointer;\n",
              "    display: none;\n",
              "    fill: #1967D2;\n",
              "    height: 32px;\n",
              "    padding: 0 0 0 0;\n",
              "    width: 32px;\n",
              "  }\n",
              "\n",
              "  .colab-df-quickchart:hover {\n",
              "    background-color: #E2EBFA;\n",
              "    box-shadow: 0px 1px 2px rgba(60, 64, 67, 0.3), 0px 1px 3px 1px rgba(60, 64, 67, 0.15);\n",
              "    fill: #174EA6;\n",
              "  }\n",
              "\n",
              "  [theme=dark] .colab-df-quickchart {\n",
              "    background-color: #3B4455;\n",
              "    fill: #D2E3FC;\n",
              "  }\n",
              "\n",
              "  [theme=dark] .colab-df-quickchart:hover {\n",
              "    background-color: #434B5C;\n",
              "    box-shadow: 0px 1px 3px 1px rgba(0, 0, 0, 0.15);\n",
              "    filter: drop-shadow(0px 1px 2px rgba(0, 0, 0, 0.3));\n",
              "    fill: #FFFFFF;\n",
              "  }\n",
              "</style>\n",
              "\n",
              "    <script>\n",
              "      async function quickchart(key) {\n",
              "        const containerElement = document.querySelector('#' + key);\n",
              "        const charts = await google.colab.kernel.invokeFunction(\n",
              "            'suggestCharts', [key], {});\n",
              "      }\n",
              "    </script>\n",
              "\n",
              "      <script>\n",
              "\n",
              "function displayQuickchartButton(domScope) {\n",
              "  let quickchartButtonEl =\n",
              "    domScope.querySelector('#df-880b8f96-b41e-4877-b31a-5e566b693958 button.colab-df-quickchart');\n",
              "  quickchartButtonEl.style.display =\n",
              "    google.colab.kernel.accessAllowed ? 'block' : 'none';\n",
              "}\n",
              "\n",
              "        displayQuickchartButton(document);\n",
              "      </script>\n",
              "      <style>\n",
              "    .colab-df-container {\n",
              "      display:flex;\n",
              "      flex-wrap:wrap;\n",
              "      gap: 12px;\n",
              "    }\n",
              "\n",
              "    .colab-df-convert {\n",
              "      background-color: #E8F0FE;\n",
              "      border: none;\n",
              "      border-radius: 50%;\n",
              "      cursor: pointer;\n",
              "      display: none;\n",
              "      fill: #1967D2;\n",
              "      height: 32px;\n",
              "      padding: 0 0 0 0;\n",
              "      width: 32px;\n",
              "    }\n",
              "\n",
              "    .colab-df-convert:hover {\n",
              "      background-color: #E2EBFA;\n",
              "      box-shadow: 0px 1px 2px rgba(60, 64, 67, 0.3), 0px 1px 3px 1px rgba(60, 64, 67, 0.15);\n",
              "      fill: #174EA6;\n",
              "    }\n",
              "\n",
              "    [theme=dark] .colab-df-convert {\n",
              "      background-color: #3B4455;\n",
              "      fill: #D2E3FC;\n",
              "    }\n",
              "\n",
              "    [theme=dark] .colab-df-convert:hover {\n",
              "      background-color: #434B5C;\n",
              "      box-shadow: 0px 1px 3px 1px rgba(0, 0, 0, 0.15);\n",
              "      filter: drop-shadow(0px 1px 2px rgba(0, 0, 0, 0.3));\n",
              "      fill: #FFFFFF;\n",
              "    }\n",
              "  </style>\n",
              "\n",
              "      <script>\n",
              "        const buttonEl =\n",
              "          document.querySelector('#df-150d6a88-0620-4f4c-9692-6f5f6498be91 button.colab-df-convert');\n",
              "        buttonEl.style.display =\n",
              "          google.colab.kernel.accessAllowed ? 'block' : 'none';\n",
              "\n",
              "        async function convertToInteractive(key) {\n",
              "          const element = document.querySelector('#df-150d6a88-0620-4f4c-9692-6f5f6498be91');\n",
              "          const dataTable =\n",
              "            await google.colab.kernel.invokeFunction('convertToInteractive',\n",
              "                                                     [key], {});\n",
              "          if (!dataTable) return;\n",
              "\n",
              "          const docLinkHtml = 'Like what you see? Visit the ' +\n",
              "            '<a target=\"_blank\" href=https://colab.research.google.com/notebooks/data_table.ipynb>data table notebook</a>'\n",
              "            + ' to learn more about interactive tables.';\n",
              "          element.innerHTML = '';\n",
              "          dataTable['output_type'] = 'display_data';\n",
              "          await google.colab.output.renderOutput(dataTable, element);\n",
              "          const docLink = document.createElement('div');\n",
              "          docLink.innerHTML = docLinkHtml;\n",
              "          element.appendChild(docLink);\n",
              "        }\n",
              "      </script>\n",
              "    </div>\n",
              "  </div>\n"
            ]
          },
          "metadata": {},
          "execution_count": 25
        }
      ]
    },
    {
      "cell_type": "markdown",
      "source": [
        "## Plotting Predictions and Actuals:"
      ],
      "metadata": {
        "id": "BmldhOauw9Yx"
      }
    },
    {
      "cell_type": "code",
      "source": [
        "fig = go.Figure()\n",
        "\n",
        "fig.add_trace(go.Scatter(x = pred_df.index, y = pred_df['Actual'], mode = 'lines+markers', name = 'Actual'))\n",
        "fig.add_trace(go.Scatter(x = pred_df.index, y = pred_df['Pred'], mode = 'lines+markers', name = 'Predictions'))\n",
        "\n",
        "fig.update_layout(title = \"Average Wind Speed\")\n",
        "fig.update_yaxes(title_text = \"Average Wind Speed\")\n",
        "fig.update_xaxes(title_text = \"Datetime\")\n",
        "\n",
        "fig.show()"
      ],
      "metadata": {
        "colab": {
          "base_uri": "https://localhost:8080/",
          "height": 542
        },
        "id": "ZJrGv4jwpx3k",
        "outputId": "50a746d7-409e-4e37-9ac7-7d8fa595c099"
      },
      "execution_count": 26,
      "outputs": [
        {
          "output_type": "display_data",
          "data": {
            "text/html": [
              "<html>\n",
              "<head><meta charset=\"utf-8\" /></head>\n",
              "<body>\n",
              "    <div>            <script src=\"https://cdnjs.cloudflare.com/ajax/libs/mathjax/2.7.5/MathJax.js?config=TeX-AMS-MML_SVG\"></script><script type=\"text/javascript\">if (window.MathJax && window.MathJax.Hub && window.MathJax.Hub.Config) {window.MathJax.Hub.Config({SVG: {font: \"STIX-Web\"}});}</script>                <script type=\"text/javascript\">window.PlotlyConfig = {MathJaxConfig: 'local'};</script>\n",
              "        <script src=\"https://cdn.plot.ly/plotly-2.18.2.min.js\"></script>                <div id=\"2d6899a1-9037-4179-b884-84dcc1e9e37c\" class=\"plotly-graph-div\" style=\"height:525px; width:100%;\"></div>            <script type=\"text/javascript\">                                    window.PLOTLYENV=window.PLOTLYENV || {};                                    if (document.getElementById(\"2d6899a1-9037-4179-b884-84dcc1e9e37c\")) {                    Plotly.newPlot(                        \"2d6899a1-9037-4179-b884-84dcc1e9e37c\",                        [{\"mode\":\"lines+markers\",\"name\":\"Actual\",\"x\":[\"2023-07-21 20:00:00\",\"2023-07-21 21:00:00\",\"2023-07-21 22:00:00\",\"2023-07-21 23:00:00\",\"2023-07-22 00:00:00\",\"2023-07-22 01:00:00\",\"2023-07-22 02:00:00\",\"2023-07-22 03:00:00\",\"2023-07-22 04:00:00\",\"2023-07-22 05:00:00\",\"2023-07-22 06:00:00\",\"2023-07-22 07:00:00\",\"2023-07-22 08:00:00\",\"2023-07-22 09:00:00\",\"2023-07-22 10:00:00\",\"2023-07-22 11:00:00\",\"2023-07-22 12:00:00\",\"2023-07-22 13:00:00\",\"2023-07-22 14:00:00\",\"2023-07-22 15:00:00\",\"2023-07-22 16:00:00\",\"2023-07-22 17:00:00\",\"2023-07-22 18:00:00\",\"2023-07-22 19:00:00\",\"2023-07-22 20:00:00\",\"2023-07-22 21:00:00\",\"2023-07-22 22:00:00\",\"2023-07-22 23:00:00\",\"2023-07-23 00:00:00\",\"2023-07-23 01:00:00\",\"2023-07-23 02:00:00\",\"2023-07-23 03:00:00\",\"2023-07-23 04:00:00\",\"2023-07-23 05:00:00\",\"2023-07-23 06:00:00\",\"2023-07-23 07:00:00\",\"2023-07-23 08:00:00\",\"2023-07-23 09:00:00\",\"2023-07-23 10:00:00\",\"2023-07-23 11:00:00\",\"2023-07-23 12:00:00\",\"2023-07-23 13:00:00\",\"2023-07-23 14:00:00\",\"2023-07-23 15:00:00\",\"2023-07-23 16:00:00\",\"2023-07-23 17:00:00\",\"2023-07-23 18:00:00\",\"2023-07-23 19:00:00\",\"2023-07-23 20:00:00\",\"2023-07-23 21:00:00\",\"2023-07-23 22:00:00\",\"2023-07-23 23:00:00\",\"2023-07-24 00:00:00\",\"2023-07-24 01:00:00\",\"2023-07-24 02:00:00\",\"2023-07-24 03:00:00\",\"2023-07-24 04:00:00\",\"2023-07-24 05:00:00\",\"2023-07-24 06:00:00\",\"2023-07-24 07:00:00\",\"2023-07-24 08:00:00\",\"2023-07-24 09:00:00\",\"2023-07-24 10:00:00\",\"2023-07-24 11:00:00\",\"2023-07-24 12:00:00\",\"2023-07-24 13:00:00\",\"2023-07-24 14:00:00\",\"2023-07-24 15:00:00\",\"2023-07-24 16:00:00\",\"2023-07-24 17:00:00\",\"2023-07-24 18:00:00\",\"2023-07-24 19:00:00\",\"2023-07-24 20:00:00\"],\"y\":[0.3,0.7,0.3,0.7,0.3,0.4,0.6,0.4,0.0,0.4,0.5,0.5,0.4,0.7,1.1,1.2,1.0,1.1,0.9,0.9,1.0,0.9,0.8,0.6,0.2,0.3,0.0,0.0,0.0,0.0,0.0,0.0,0.0,0.0,0.0,0.2,0.3,1.0,0.9,0.9,0.9,1.2,0.9,0.8,1.0,0.9,0.5,0.3,0.3,0.0,0.1,0.0,0.0,0.4,0.2,0.0,0.0,0.1,0.0,0.1,0.0,0.1,0.6,0.7,0.9,0.6,0.6,1.0,0.7,0.5,0.0,0.0,0.0],\"type\":\"scatter\"},{\"mode\":\"lines+markers\",\"name\":\"Predictions\",\"x\":[\"2023-07-21 20:00:00\",\"2023-07-21 21:00:00\",\"2023-07-21 22:00:00\",\"2023-07-21 23:00:00\",\"2023-07-22 00:00:00\",\"2023-07-22 01:00:00\",\"2023-07-22 02:00:00\",\"2023-07-22 03:00:00\",\"2023-07-22 04:00:00\",\"2023-07-22 05:00:00\",\"2023-07-22 06:00:00\",\"2023-07-22 07:00:00\",\"2023-07-22 08:00:00\",\"2023-07-22 09:00:00\",\"2023-07-22 10:00:00\",\"2023-07-22 11:00:00\",\"2023-07-22 12:00:00\",\"2023-07-22 13:00:00\",\"2023-07-22 14:00:00\",\"2023-07-22 15:00:00\",\"2023-07-22 16:00:00\",\"2023-07-22 17:00:00\",\"2023-07-22 18:00:00\",\"2023-07-22 19:00:00\",\"2023-07-22 20:00:00\",\"2023-07-22 21:00:00\",\"2023-07-22 22:00:00\",\"2023-07-22 23:00:00\",\"2023-07-23 00:00:00\",\"2023-07-23 01:00:00\",\"2023-07-23 02:00:00\",\"2023-07-23 03:00:00\",\"2023-07-23 04:00:00\",\"2023-07-23 05:00:00\",\"2023-07-23 06:00:00\",\"2023-07-23 07:00:00\",\"2023-07-23 08:00:00\",\"2023-07-23 09:00:00\",\"2023-07-23 10:00:00\",\"2023-07-23 11:00:00\",\"2023-07-23 12:00:00\",\"2023-07-23 13:00:00\",\"2023-07-23 14:00:00\",\"2023-07-23 15:00:00\",\"2023-07-23 16:00:00\",\"2023-07-23 17:00:00\",\"2023-07-23 18:00:00\",\"2023-07-23 19:00:00\",\"2023-07-23 20:00:00\",\"2023-07-23 21:00:00\",\"2023-07-23 22:00:00\",\"2023-07-23 23:00:00\",\"2023-07-24 00:00:00\",\"2023-07-24 01:00:00\",\"2023-07-24 02:00:00\",\"2023-07-24 03:00:00\",\"2023-07-24 04:00:00\",\"2023-07-24 05:00:00\",\"2023-07-24 06:00:00\",\"2023-07-24 07:00:00\",\"2023-07-24 08:00:00\",\"2023-07-24 09:00:00\",\"2023-07-24 10:00:00\",\"2023-07-24 11:00:00\",\"2023-07-24 12:00:00\",\"2023-07-24 13:00:00\",\"2023-07-24 14:00:00\",\"2023-07-24 15:00:00\",\"2023-07-24 16:00:00\",\"2023-07-24 17:00:00\",\"2023-07-24 18:00:00\",\"2023-07-24 19:00:00\",\"2023-07-24 20:00:00\"],\"y\":[0.3,0.24317396802201388,0.1882776476845367,0.1103547721240573,0.04664176423078119,-0.004273081678497007,-0.013405103815883147,-0.0017970928966837343,0.029489336532876997,0.08124489540160035,0.1083793066281242,0.17829447911622193,0.2502296003705481,0.3215812016151371,0.46639350865087953,0.596309300586681,0.7017894169378356,0.746666715413351,0.750558728467658,0.7102740453794253,0.654358824932341,0.5717581187789146,0.45788324037788425,0.3841673108678131,0.31462001255111965,0.24177069249448965,0.17090975633186745,0.10174297463495263,0.045007201701712504,0.009881007213462495,0.0014598215110731769,0.016110355196425695,0.05072573617372213,0.09852966610971427,0.15416975652289375,0.22256533425997865,0.2955546803332938,0.3752817829799083,0.4640573133102588,0.5475111853153037,0.6131096521392336,0.6499937111601185,0.6568466395168578,0.635587909423955,0.5925465041441061,0.5307340170010096,0.4581509179905543,0.38542690552637066,0.31203352050892463,0.23951739004763278,0.17110529106889816,0.11055761189386618,0.06367254592194838,0.03563052906502121,0.028967611531732242,0.0429348966663929,0.07487840922866068,0.1207922658784665,0.17737744498764946,0.24201145479185845,0.31098612165807393,0.38186102179306414,0.4510892676624219,0.5124872753776225,0.5594597260518607,0.5868341058256328,0.5924297479418851,0.5767718540724038,0.5424803503833886,0.49317224706642104,0.4336940453462626,0.36871592179263607,0.3015776502554225],\"type\":\"scatter\"}],                        {\"template\":{\"data\":{\"histogram2dcontour\":[{\"type\":\"histogram2dcontour\",\"colorbar\":{\"outlinewidth\":0,\"ticks\":\"\"},\"colorscale\":[[0.0,\"#0d0887\"],[0.1111111111111111,\"#46039f\"],[0.2222222222222222,\"#7201a8\"],[0.3333333333333333,\"#9c179e\"],[0.4444444444444444,\"#bd3786\"],[0.5555555555555556,\"#d8576b\"],[0.6666666666666666,\"#ed7953\"],[0.7777777777777778,\"#fb9f3a\"],[0.8888888888888888,\"#fdca26\"],[1.0,\"#f0f921\"]]}],\"choropleth\":[{\"type\":\"choropleth\",\"colorbar\":{\"outlinewidth\":0,\"ticks\":\"\"}}],\"histogram2d\":[{\"type\":\"histogram2d\",\"colorbar\":{\"outlinewidth\":0,\"ticks\":\"\"},\"colorscale\":[[0.0,\"#0d0887\"],[0.1111111111111111,\"#46039f\"],[0.2222222222222222,\"#7201a8\"],[0.3333333333333333,\"#9c179e\"],[0.4444444444444444,\"#bd3786\"],[0.5555555555555556,\"#d8576b\"],[0.6666666666666666,\"#ed7953\"],[0.7777777777777778,\"#fb9f3a\"],[0.8888888888888888,\"#fdca26\"],[1.0,\"#f0f921\"]]}],\"heatmap\":[{\"type\":\"heatmap\",\"colorbar\":{\"outlinewidth\":0,\"ticks\":\"\"},\"colorscale\":[[0.0,\"#0d0887\"],[0.1111111111111111,\"#46039f\"],[0.2222222222222222,\"#7201a8\"],[0.3333333333333333,\"#9c179e\"],[0.4444444444444444,\"#bd3786\"],[0.5555555555555556,\"#d8576b\"],[0.6666666666666666,\"#ed7953\"],[0.7777777777777778,\"#fb9f3a\"],[0.8888888888888888,\"#fdca26\"],[1.0,\"#f0f921\"]]}],\"heatmapgl\":[{\"type\":\"heatmapgl\",\"colorbar\":{\"outlinewidth\":0,\"ticks\":\"\"},\"colorscale\":[[0.0,\"#0d0887\"],[0.1111111111111111,\"#46039f\"],[0.2222222222222222,\"#7201a8\"],[0.3333333333333333,\"#9c179e\"],[0.4444444444444444,\"#bd3786\"],[0.5555555555555556,\"#d8576b\"],[0.6666666666666666,\"#ed7953\"],[0.7777777777777778,\"#fb9f3a\"],[0.8888888888888888,\"#fdca26\"],[1.0,\"#f0f921\"]]}],\"contourcarpet\":[{\"type\":\"contourcarpet\",\"colorbar\":{\"outlinewidth\":0,\"ticks\":\"\"}}],\"contour\":[{\"type\":\"contour\",\"colorbar\":{\"outlinewidth\":0,\"ticks\":\"\"},\"colorscale\":[[0.0,\"#0d0887\"],[0.1111111111111111,\"#46039f\"],[0.2222222222222222,\"#7201a8\"],[0.3333333333333333,\"#9c179e\"],[0.4444444444444444,\"#bd3786\"],[0.5555555555555556,\"#d8576b\"],[0.6666666666666666,\"#ed7953\"],[0.7777777777777778,\"#fb9f3a\"],[0.8888888888888888,\"#fdca26\"],[1.0,\"#f0f921\"]]}],\"surface\":[{\"type\":\"surface\",\"colorbar\":{\"outlinewidth\":0,\"ticks\":\"\"},\"colorscale\":[[0.0,\"#0d0887\"],[0.1111111111111111,\"#46039f\"],[0.2222222222222222,\"#7201a8\"],[0.3333333333333333,\"#9c179e\"],[0.4444444444444444,\"#bd3786\"],[0.5555555555555556,\"#d8576b\"],[0.6666666666666666,\"#ed7953\"],[0.7777777777777778,\"#fb9f3a\"],[0.8888888888888888,\"#fdca26\"],[1.0,\"#f0f921\"]]}],\"mesh3d\":[{\"type\":\"mesh3d\",\"colorbar\":{\"outlinewidth\":0,\"ticks\":\"\"}}],\"scatter\":[{\"fillpattern\":{\"fillmode\":\"overlay\",\"size\":10,\"solidity\":0.2},\"type\":\"scatter\"}],\"parcoords\":[{\"type\":\"parcoords\",\"line\":{\"colorbar\":{\"outlinewidth\":0,\"ticks\":\"\"}}}],\"scatterpolargl\":[{\"type\":\"scatterpolargl\",\"marker\":{\"colorbar\":{\"outlinewidth\":0,\"ticks\":\"\"}}}],\"bar\":[{\"error_x\":{\"color\":\"#2a3f5f\"},\"error_y\":{\"color\":\"#2a3f5f\"},\"marker\":{\"line\":{\"color\":\"#E5ECF6\",\"width\":0.5},\"pattern\":{\"fillmode\":\"overlay\",\"size\":10,\"solidity\":0.2}},\"type\":\"bar\"}],\"scattergeo\":[{\"type\":\"scattergeo\",\"marker\":{\"colorbar\":{\"outlinewidth\":0,\"ticks\":\"\"}}}],\"scatterpolar\":[{\"type\":\"scatterpolar\",\"marker\":{\"colorbar\":{\"outlinewidth\":0,\"ticks\":\"\"}}}],\"histogram\":[{\"marker\":{\"pattern\":{\"fillmode\":\"overlay\",\"size\":10,\"solidity\":0.2}},\"type\":\"histogram\"}],\"scattergl\":[{\"type\":\"scattergl\",\"marker\":{\"colorbar\":{\"outlinewidth\":0,\"ticks\":\"\"}}}],\"scatter3d\":[{\"type\":\"scatter3d\",\"line\":{\"colorbar\":{\"outlinewidth\":0,\"ticks\":\"\"}},\"marker\":{\"colorbar\":{\"outlinewidth\":0,\"ticks\":\"\"}}}],\"scattermapbox\":[{\"type\":\"scattermapbox\",\"marker\":{\"colorbar\":{\"outlinewidth\":0,\"ticks\":\"\"}}}],\"scatterternary\":[{\"type\":\"scatterternary\",\"marker\":{\"colorbar\":{\"outlinewidth\":0,\"ticks\":\"\"}}}],\"scattercarpet\":[{\"type\":\"scattercarpet\",\"marker\":{\"colorbar\":{\"outlinewidth\":0,\"ticks\":\"\"}}}],\"carpet\":[{\"aaxis\":{\"endlinecolor\":\"#2a3f5f\",\"gridcolor\":\"white\",\"linecolor\":\"white\",\"minorgridcolor\":\"white\",\"startlinecolor\":\"#2a3f5f\"},\"baxis\":{\"endlinecolor\":\"#2a3f5f\",\"gridcolor\":\"white\",\"linecolor\":\"white\",\"minorgridcolor\":\"white\",\"startlinecolor\":\"#2a3f5f\"},\"type\":\"carpet\"}],\"table\":[{\"cells\":{\"fill\":{\"color\":\"#EBF0F8\"},\"line\":{\"color\":\"white\"}},\"header\":{\"fill\":{\"color\":\"#C8D4E3\"},\"line\":{\"color\":\"white\"}},\"type\":\"table\"}],\"barpolar\":[{\"marker\":{\"line\":{\"color\":\"#E5ECF6\",\"width\":0.5},\"pattern\":{\"fillmode\":\"overlay\",\"size\":10,\"solidity\":0.2}},\"type\":\"barpolar\"}],\"pie\":[{\"automargin\":true,\"type\":\"pie\"}]},\"layout\":{\"autotypenumbers\":\"strict\",\"colorway\":[\"#636efa\",\"#EF553B\",\"#00cc96\",\"#ab63fa\",\"#FFA15A\",\"#19d3f3\",\"#FF6692\",\"#B6E880\",\"#FF97FF\",\"#FECB52\"],\"font\":{\"color\":\"#2a3f5f\"},\"hovermode\":\"closest\",\"hoverlabel\":{\"align\":\"left\"},\"paper_bgcolor\":\"white\",\"plot_bgcolor\":\"#E5ECF6\",\"polar\":{\"bgcolor\":\"#E5ECF6\",\"angularaxis\":{\"gridcolor\":\"white\",\"linecolor\":\"white\",\"ticks\":\"\"},\"radialaxis\":{\"gridcolor\":\"white\",\"linecolor\":\"white\",\"ticks\":\"\"}},\"ternary\":{\"bgcolor\":\"#E5ECF6\",\"aaxis\":{\"gridcolor\":\"white\",\"linecolor\":\"white\",\"ticks\":\"\"},\"baxis\":{\"gridcolor\":\"white\",\"linecolor\":\"white\",\"ticks\":\"\"},\"caxis\":{\"gridcolor\":\"white\",\"linecolor\":\"white\",\"ticks\":\"\"}},\"coloraxis\":{\"colorbar\":{\"outlinewidth\":0,\"ticks\":\"\"}},\"colorscale\":{\"sequential\":[[0.0,\"#0d0887\"],[0.1111111111111111,\"#46039f\"],[0.2222222222222222,\"#7201a8\"],[0.3333333333333333,\"#9c179e\"],[0.4444444444444444,\"#bd3786\"],[0.5555555555555556,\"#d8576b\"],[0.6666666666666666,\"#ed7953\"],[0.7777777777777778,\"#fb9f3a\"],[0.8888888888888888,\"#fdca26\"],[1.0,\"#f0f921\"]],\"sequentialminus\":[[0.0,\"#0d0887\"],[0.1111111111111111,\"#46039f\"],[0.2222222222222222,\"#7201a8\"],[0.3333333333333333,\"#9c179e\"],[0.4444444444444444,\"#bd3786\"],[0.5555555555555556,\"#d8576b\"],[0.6666666666666666,\"#ed7953\"],[0.7777777777777778,\"#fb9f3a\"],[0.8888888888888888,\"#fdca26\"],[1.0,\"#f0f921\"]],\"diverging\":[[0,\"#8e0152\"],[0.1,\"#c51b7d\"],[0.2,\"#de77ae\"],[0.3,\"#f1b6da\"],[0.4,\"#fde0ef\"],[0.5,\"#f7f7f7\"],[0.6,\"#e6f5d0\"],[0.7,\"#b8e186\"],[0.8,\"#7fbc41\"],[0.9,\"#4d9221\"],[1,\"#276419\"]]},\"xaxis\":{\"gridcolor\":\"white\",\"linecolor\":\"white\",\"ticks\":\"\",\"title\":{\"standoff\":15},\"zerolinecolor\":\"white\",\"automargin\":true,\"zerolinewidth\":2},\"yaxis\":{\"gridcolor\":\"white\",\"linecolor\":\"white\",\"ticks\":\"\",\"title\":{\"standoff\":15},\"zerolinecolor\":\"white\",\"automargin\":true,\"zerolinewidth\":2},\"scene\":{\"xaxis\":{\"backgroundcolor\":\"#E5ECF6\",\"gridcolor\":\"white\",\"linecolor\":\"white\",\"showbackground\":true,\"ticks\":\"\",\"zerolinecolor\":\"white\",\"gridwidth\":2},\"yaxis\":{\"backgroundcolor\":\"#E5ECF6\",\"gridcolor\":\"white\",\"linecolor\":\"white\",\"showbackground\":true,\"ticks\":\"\",\"zerolinecolor\":\"white\",\"gridwidth\":2},\"zaxis\":{\"backgroundcolor\":\"#E5ECF6\",\"gridcolor\":\"white\",\"linecolor\":\"white\",\"showbackground\":true,\"ticks\":\"\",\"zerolinecolor\":\"white\",\"gridwidth\":2}},\"shapedefaults\":{\"line\":{\"color\":\"#2a3f5f\"}},\"annotationdefaults\":{\"arrowcolor\":\"#2a3f5f\",\"arrowhead\":0,\"arrowwidth\":1},\"geo\":{\"bgcolor\":\"white\",\"landcolor\":\"#E5ECF6\",\"subunitcolor\":\"white\",\"showland\":true,\"showlakes\":true,\"lakecolor\":\"white\"},\"title\":{\"x\":0.05},\"mapbox\":{\"style\":\"light\"}}},\"title\":{\"text\":\"Average Wind Speed\"},\"yaxis\":{\"title\":{\"text\":\"Average Wind Speed\"}},\"xaxis\":{\"title\":{\"text\":\"Datetime\"}}},                        {\"responsive\": true}                    ).then(function(){\n",
              "                            \n",
              "var gd = document.getElementById('2d6899a1-9037-4179-b884-84dcc1e9e37c');\n",
              "var x = new MutationObserver(function (mutations, observer) {{\n",
              "        var display = window.getComputedStyle(gd).display;\n",
              "        if (!display || display === 'none') {{\n",
              "            console.log([gd, 'removed!']);\n",
              "            Plotly.purge(gd);\n",
              "            observer.disconnect();\n",
              "        }}\n",
              "}});\n",
              "\n",
              "// Listen for the removal of the full notebook cells\n",
              "var notebookContainer = gd.closest('#notebook-container');\n",
              "if (notebookContainer) {{\n",
              "    x.observe(notebookContainer, {childList: true});\n",
              "}}\n",
              "\n",
              "// Listen for the clearing of the current output cell\n",
              "var outputEl = gd.closest('.output');\n",
              "if (outputEl) {{\n",
              "    x.observe(outputEl, {childList: true});\n",
              "}}\n",
              "\n",
              "                        })                };                            </script>        </div>\n",
              "</body>\n",
              "</html>"
            ]
          },
          "metadata": {}
        }
      ]
    },
    {
      "cell_type": "code",
      "source": [
        "from sklearn.metrics import mean_squared_error, mean_absolute_error"
      ],
      "metadata": {
        "id": "5mhFRzq6px6Z"
      },
      "execution_count": 27,
      "outputs": []
    },
    {
      "cell_type": "code",
      "source": [
        "print(\"MSE = \", mean_squared_error(pred_df['Actual'].dropna(), pred_df['Pred'].dropna()))\n",
        "print(\"MAE = \", mean_absolute_error(pred_df['Actual'].dropna(), pred_df['Pred'].dropna()))"
      ],
      "metadata": {
        "colab": {
          "base_uri": "https://localhost:8080/"
        },
        "id": "U0ftEOlGpx9D",
        "outputId": "4d15b3f2-2b0e-4de7-afce-d9c2bc79aa73"
      },
      "execution_count": 28,
      "outputs": [
        {
          "output_type": "stream",
          "name": "stdout",
          "text": [
            "MSE =  0.08409656109705102\n",
            "MAE =  0.22963046805648912\n"
          ]
        }
      ]
    },
    {
      "cell_type": "markdown",
      "source": [
        "## Forecasting:"
      ],
      "metadata": {
        "id": "vDdQTVDhR9BD"
      }
    },
    {
      "cell_type": "code",
      "source": [
        "def future_pred(mod, num_forecasts):\n",
        "\n",
        "  # Specifying the start and end for forecasts\n",
        "  strt = len(df1) + 1\n",
        "  ed = len(df1) + num_forecasts\n",
        "\n",
        "  # Predicting\n",
        "  pred_future = mod.predict(start = strt, end = ed, dynamic = False)\n",
        "  pred_values = pred_future.values\n",
        "\n",
        "  #rescaling:\n",
        "  last_val = df1.iloc[-1][0]\n",
        "  forecast_list = [last_val]\n",
        "\n",
        "  for f in pred_values:\n",
        "    forecast_list.append(forecast_list[-1]+f)\n",
        "\n",
        "  # Setting new index\n",
        "  index_future_pred = pd.date_range(start = df1.index[-1], periods = num_forecasts, freq = '1H')\n",
        "\n",
        "  # Creating dataframe for forecasts\n",
        "  forecast_df = pd.DataFrame(forecast_list[1:], index = index_future_pred, columns = ['Forecasts'])\n",
        "\n",
        "  return forecast_df"
      ],
      "metadata": {
        "id": "n9cBdf9JYmFh"
      },
      "execution_count": 29,
      "outputs": []
    },
    {
      "cell_type": "code",
      "source": [
        "num_forecasts = 72  # 3 day forecasts\n",
        "forecast_df = future_pred(model, num_forecasts)\n",
        "forecast_df.head()"
      ],
      "metadata": {
        "colab": {
          "base_uri": "https://localhost:8080/",
          "height": 275
        },
        "id": "wVFQ3HEIZcIL",
        "outputId": "46ffb67a-c0ba-4864-f9fb-3c858113df11"
      },
      "execution_count": 30,
      "outputs": [
        {
          "output_type": "stream",
          "name": "stderr",
          "text": [
            "/usr/local/lib/python3.10/dist-packages/statsmodels/tsa/base/tsa_model.py:834: ValueWarning:\n",
            "\n",
            "No supported index is available. Prediction results will be given with an integer index beginning at `start`.\n",
            "\n"
          ]
        },
        {
          "output_type": "execute_result",
          "data": {
            "text/plain": [
              "                     Forecasts\n",
              "2023-07-24 20:00:00  -0.060841\n",
              "2023-07-24 21:00:00  -0.112721\n",
              "2023-07-24 22:00:00  -0.151600\n",
              "2023-07-24 23:00:00  -0.174227\n",
              "2023-07-25 00:00:00  -0.178944"
            ],
            "text/html": [
              "\n",
              "\n",
              "  <div id=\"df-c66ab5dd-08a2-4eb5-a29c-60e012ff1ee5\">\n",
              "    <div class=\"colab-df-container\">\n",
              "      <div>\n",
              "<style scoped>\n",
              "    .dataframe tbody tr th:only-of-type {\n",
              "        vertical-align: middle;\n",
              "    }\n",
              "\n",
              "    .dataframe tbody tr th {\n",
              "        vertical-align: top;\n",
              "    }\n",
              "\n",
              "    .dataframe thead th {\n",
              "        text-align: right;\n",
              "    }\n",
              "</style>\n",
              "<table border=\"1\" class=\"dataframe\">\n",
              "  <thead>\n",
              "    <tr style=\"text-align: right;\">\n",
              "      <th></th>\n",
              "      <th>Forecasts</th>\n",
              "    </tr>\n",
              "  </thead>\n",
              "  <tbody>\n",
              "    <tr>\n",
              "      <th>2023-07-24 20:00:00</th>\n",
              "      <td>-0.060841</td>\n",
              "    </tr>\n",
              "    <tr>\n",
              "      <th>2023-07-24 21:00:00</th>\n",
              "      <td>-0.112721</td>\n",
              "    </tr>\n",
              "    <tr>\n",
              "      <th>2023-07-24 22:00:00</th>\n",
              "      <td>-0.151600</td>\n",
              "    </tr>\n",
              "    <tr>\n",
              "      <th>2023-07-24 23:00:00</th>\n",
              "      <td>-0.174227</td>\n",
              "    </tr>\n",
              "    <tr>\n",
              "      <th>2023-07-25 00:00:00</th>\n",
              "      <td>-0.178944</td>\n",
              "    </tr>\n",
              "  </tbody>\n",
              "</table>\n",
              "</div>\n",
              "      <button class=\"colab-df-convert\" onclick=\"convertToInteractive('df-c66ab5dd-08a2-4eb5-a29c-60e012ff1ee5')\"\n",
              "              title=\"Convert this dataframe to an interactive table.\"\n",
              "              style=\"display:none;\">\n",
              "\n",
              "  <svg xmlns=\"http://www.w3.org/2000/svg\" height=\"24px\"viewBox=\"0 0 24 24\"\n",
              "       width=\"24px\">\n",
              "    <path d=\"M0 0h24v24H0V0z\" fill=\"none\"/>\n",
              "    <path d=\"M18.56 5.44l.94 2.06.94-2.06 2.06-.94-2.06-.94-.94-2.06-.94 2.06-2.06.94zm-11 1L8.5 8.5l.94-2.06 2.06-.94-2.06-.94L8.5 2.5l-.94 2.06-2.06.94zm10 10l.94 2.06.94-2.06 2.06-.94-2.06-.94-.94-2.06-.94 2.06-2.06.94z\"/><path d=\"M17.41 7.96l-1.37-1.37c-.4-.4-.92-.59-1.43-.59-.52 0-1.04.2-1.43.59L10.3 9.45l-7.72 7.72c-.78.78-.78 2.05 0 2.83L4 21.41c.39.39.9.59 1.41.59.51 0 1.02-.2 1.41-.59l7.78-7.78 2.81-2.81c.8-.78.8-2.07 0-2.86zM5.41 20L4 18.59l7.72-7.72 1.47 1.35L5.41 20z\"/>\n",
              "  </svg>\n",
              "      </button>\n",
              "\n",
              "\n",
              "\n",
              "    <div id=\"df-f3e70800-31e1-41e9-8a48-1c1a9628d869\">\n",
              "      <button class=\"colab-df-quickchart\" onclick=\"quickchart('df-f3e70800-31e1-41e9-8a48-1c1a9628d869')\"\n",
              "              title=\"Suggest charts.\"\n",
              "              style=\"display:none;\">\n",
              "\n",
              "<svg xmlns=\"http://www.w3.org/2000/svg\" height=\"24px\"viewBox=\"0 0 24 24\"\n",
              "     width=\"24px\">\n",
              "    <g>\n",
              "        <path d=\"M19 3H5c-1.1 0-2 .9-2 2v14c0 1.1.9 2 2 2h14c1.1 0 2-.9 2-2V5c0-1.1-.9-2-2-2zM9 17H7v-7h2v7zm4 0h-2V7h2v10zm4 0h-2v-4h2v4z\"/>\n",
              "    </g>\n",
              "</svg>\n",
              "      </button>\n",
              "    </div>\n",
              "\n",
              "<style>\n",
              "  .colab-df-quickchart {\n",
              "    background-color: #E8F0FE;\n",
              "    border: none;\n",
              "    border-radius: 50%;\n",
              "    cursor: pointer;\n",
              "    display: none;\n",
              "    fill: #1967D2;\n",
              "    height: 32px;\n",
              "    padding: 0 0 0 0;\n",
              "    width: 32px;\n",
              "  }\n",
              "\n",
              "  .colab-df-quickchart:hover {\n",
              "    background-color: #E2EBFA;\n",
              "    box-shadow: 0px 1px 2px rgba(60, 64, 67, 0.3), 0px 1px 3px 1px rgba(60, 64, 67, 0.15);\n",
              "    fill: #174EA6;\n",
              "  }\n",
              "\n",
              "  [theme=dark] .colab-df-quickchart {\n",
              "    background-color: #3B4455;\n",
              "    fill: #D2E3FC;\n",
              "  }\n",
              "\n",
              "  [theme=dark] .colab-df-quickchart:hover {\n",
              "    background-color: #434B5C;\n",
              "    box-shadow: 0px 1px 3px 1px rgba(0, 0, 0, 0.15);\n",
              "    filter: drop-shadow(0px 1px 2px rgba(0, 0, 0, 0.3));\n",
              "    fill: #FFFFFF;\n",
              "  }\n",
              "</style>\n",
              "\n",
              "    <script>\n",
              "      async function quickchart(key) {\n",
              "        const containerElement = document.querySelector('#' + key);\n",
              "        const charts = await google.colab.kernel.invokeFunction(\n",
              "            'suggestCharts', [key], {});\n",
              "      }\n",
              "    </script>\n",
              "\n",
              "      <script>\n",
              "\n",
              "function displayQuickchartButton(domScope) {\n",
              "  let quickchartButtonEl =\n",
              "    domScope.querySelector('#df-f3e70800-31e1-41e9-8a48-1c1a9628d869 button.colab-df-quickchart');\n",
              "  quickchartButtonEl.style.display =\n",
              "    google.colab.kernel.accessAllowed ? 'block' : 'none';\n",
              "}\n",
              "\n",
              "        displayQuickchartButton(document);\n",
              "      </script>\n",
              "      <style>\n",
              "    .colab-df-container {\n",
              "      display:flex;\n",
              "      flex-wrap:wrap;\n",
              "      gap: 12px;\n",
              "    }\n",
              "\n",
              "    .colab-df-convert {\n",
              "      background-color: #E8F0FE;\n",
              "      border: none;\n",
              "      border-radius: 50%;\n",
              "      cursor: pointer;\n",
              "      display: none;\n",
              "      fill: #1967D2;\n",
              "      height: 32px;\n",
              "      padding: 0 0 0 0;\n",
              "      width: 32px;\n",
              "    }\n",
              "\n",
              "    .colab-df-convert:hover {\n",
              "      background-color: #E2EBFA;\n",
              "      box-shadow: 0px 1px 2px rgba(60, 64, 67, 0.3), 0px 1px 3px 1px rgba(60, 64, 67, 0.15);\n",
              "      fill: #174EA6;\n",
              "    }\n",
              "\n",
              "    [theme=dark] .colab-df-convert {\n",
              "      background-color: #3B4455;\n",
              "      fill: #D2E3FC;\n",
              "    }\n",
              "\n",
              "    [theme=dark] .colab-df-convert:hover {\n",
              "      background-color: #434B5C;\n",
              "      box-shadow: 0px 1px 3px 1px rgba(0, 0, 0, 0.15);\n",
              "      filter: drop-shadow(0px 1px 2px rgba(0, 0, 0, 0.3));\n",
              "      fill: #FFFFFF;\n",
              "    }\n",
              "  </style>\n",
              "\n",
              "      <script>\n",
              "        const buttonEl =\n",
              "          document.querySelector('#df-c66ab5dd-08a2-4eb5-a29c-60e012ff1ee5 button.colab-df-convert');\n",
              "        buttonEl.style.display =\n",
              "          google.colab.kernel.accessAllowed ? 'block' : 'none';\n",
              "\n",
              "        async function convertToInteractive(key) {\n",
              "          const element = document.querySelector('#df-c66ab5dd-08a2-4eb5-a29c-60e012ff1ee5');\n",
              "          const dataTable =\n",
              "            await google.colab.kernel.invokeFunction('convertToInteractive',\n",
              "                                                     [key], {});\n",
              "          if (!dataTable) return;\n",
              "\n",
              "          const docLinkHtml = 'Like what you see? Visit the ' +\n",
              "            '<a target=\"_blank\" href=https://colab.research.google.com/notebooks/data_table.ipynb>data table notebook</a>'\n",
              "            + ' to learn more about interactive tables.';\n",
              "          element.innerHTML = '';\n",
              "          dataTable['output_type'] = 'display_data';\n",
              "          await google.colab.output.renderOutput(dataTable, element);\n",
              "          const docLink = document.createElement('div');\n",
              "          docLink.innerHTML = docLinkHtml;\n",
              "          element.appendChild(docLink);\n",
              "        }\n",
              "      </script>\n",
              "    </div>\n",
              "  </div>\n"
            ]
          },
          "metadata": {},
          "execution_count": 30
        }
      ]
    },
    {
      "cell_type": "markdown",
      "source": [
        "## Plotting Forecasts:"
      ],
      "metadata": {
        "id": "plMQgWFjZrFb"
      }
    },
    {
      "cell_type": "code",
      "source": [
        "fig = go.Figure()\n",
        "\n",
        "fig.add_trace(go.Scatter(x = forecast_df.index, y = forecast_df['Forecasts'], mode = 'lines+markers', line=dict(color=\"#f4b916\")))\n",
        "\n",
        "fig.update_layout(title = \"Average Wind Speed Forecasts\")\n",
        "fig.update_yaxes(title_text = \"Average Wind Speed\")\n",
        "fig.update_xaxes(title_text = \"Future Datetime\")\n",
        "\n",
        "fig.show()"
      ],
      "metadata": {
        "colab": {
          "base_uri": "https://localhost:8080/",
          "height": 542
        },
        "id": "Guvh2IRrR_FV",
        "outputId": "b702f83a-3dd2-443a-8aec-84a470c3d9bd"
      },
      "execution_count": 31,
      "outputs": [
        {
          "output_type": "display_data",
          "data": {
            "text/html": [
              "<html>\n",
              "<head><meta charset=\"utf-8\" /></head>\n",
              "<body>\n",
              "    <div>            <script src=\"https://cdnjs.cloudflare.com/ajax/libs/mathjax/2.7.5/MathJax.js?config=TeX-AMS-MML_SVG\"></script><script type=\"text/javascript\">if (window.MathJax && window.MathJax.Hub && window.MathJax.Hub.Config) {window.MathJax.Hub.Config({SVG: {font: \"STIX-Web\"}});}</script>                <script type=\"text/javascript\">window.PlotlyConfig = {MathJaxConfig: 'local'};</script>\n",
              "        <script src=\"https://cdn.plot.ly/plotly-2.18.2.min.js\"></script>                <div id=\"37fb250d-2ae9-4ddd-a37f-d66bab685d95\" class=\"plotly-graph-div\" style=\"height:525px; width:100%;\"></div>            <script type=\"text/javascript\">                                    window.PLOTLYENV=window.PLOTLYENV || {};                                    if (document.getElementById(\"37fb250d-2ae9-4ddd-a37f-d66bab685d95\")) {                    Plotly.newPlot(                        \"37fb250d-2ae9-4ddd-a37f-d66bab685d95\",                        [{\"line\":{\"color\":\"#f4b916\"},\"mode\":\"lines+markers\",\"x\":[\"2023-07-24T20:00:00\",\"2023-07-24T21:00:00\",\"2023-07-24T22:00:00\",\"2023-07-24T23:00:00\",\"2023-07-25T00:00:00\",\"2023-07-25T01:00:00\",\"2023-07-25T02:00:00\",\"2023-07-25T03:00:00\",\"2023-07-25T04:00:00\",\"2023-07-25T05:00:00\",\"2023-07-25T06:00:00\",\"2023-07-25T07:00:00\",\"2023-07-25T08:00:00\",\"2023-07-25T09:00:00\",\"2023-07-25T10:00:00\",\"2023-07-25T11:00:00\",\"2023-07-25T12:00:00\",\"2023-07-25T13:00:00\",\"2023-07-25T14:00:00\",\"2023-07-25T15:00:00\",\"2023-07-25T16:00:00\",\"2023-07-25T17:00:00\",\"2023-07-25T18:00:00\",\"2023-07-25T19:00:00\",\"2023-07-25T20:00:00\",\"2023-07-25T21:00:00\",\"2023-07-25T22:00:00\",\"2023-07-25T23:00:00\",\"2023-07-26T00:00:00\",\"2023-07-26T01:00:00\",\"2023-07-26T02:00:00\",\"2023-07-26T03:00:00\",\"2023-07-26T04:00:00\",\"2023-07-26T05:00:00\",\"2023-07-26T06:00:00\",\"2023-07-26T07:00:00\",\"2023-07-26T08:00:00\",\"2023-07-26T09:00:00\",\"2023-07-26T10:00:00\",\"2023-07-26T11:00:00\",\"2023-07-26T12:00:00\",\"2023-07-26T13:00:00\",\"2023-07-26T14:00:00\",\"2023-07-26T15:00:00\",\"2023-07-26T16:00:00\",\"2023-07-26T17:00:00\",\"2023-07-26T18:00:00\",\"2023-07-26T19:00:00\",\"2023-07-26T20:00:00\",\"2023-07-26T21:00:00\",\"2023-07-26T22:00:00\",\"2023-07-26T23:00:00\",\"2023-07-27T00:00:00\",\"2023-07-27T01:00:00\",\"2023-07-27T02:00:00\",\"2023-07-27T03:00:00\",\"2023-07-27T04:00:00\",\"2023-07-27T05:00:00\",\"2023-07-27T06:00:00\",\"2023-07-27T07:00:00\",\"2023-07-27T08:00:00\",\"2023-07-27T09:00:00\",\"2023-07-27T10:00:00\",\"2023-07-27T11:00:00\",\"2023-07-27T12:00:00\",\"2023-07-27T13:00:00\",\"2023-07-27T14:00:00\",\"2023-07-27T15:00:00\",\"2023-07-27T16:00:00\",\"2023-07-27T17:00:00\",\"2023-07-27T18:00:00\",\"2023-07-27T19:00:00\"],\"y\":[-0.06084128267186911,-0.11272068665629321,-0.1516004306501495,-0.1742268948646185,-0.17894424035948214,-0.16596888464900753,-0.13706888625154343,-0.09501405492459407,-0.04292173607932715,0.0158780752025559,0.07786242879932914,0.13951649589254705,0.19696394305081558,0.24592349230034924,0.28231383133305393,0.3030225204618086,0.3064874190367177,0.2928296417740767,0.26364630494219504,0.22163080663002266,0.17020283347114767,0.11300499622275088,0.0536480047976227,-0.004217158666931696,-0.05694341185665298,-0.10101777386644288,-0.13331862906402772,-0.15151912884617555,-0.15444421927268404,-0.1422108963638408,-0.11611622318575486,-0.07836185909075136,-0.03174719072800027,0.020543696232186007,0.07510694283222792,0.12844188530576556,0.17701366679172523,0.21741691756730214,0.24668717153725217,0.2626589736919846,0.26424138431856475,0.25152244226283554,0.22569767565515714,0.18887434541731132,0.1438143299289126,0.09366804810471688,0.04177692979242999,-0.00846552027599845,-0.053762593333010186,-0.09109380711928172,-0.11793480480776633,-0.132494368391919,-0.13390180412925407,-0.12228357326285577,-0.09871202373329219,-0.06505641508666521,-0.02379062918603015,0.022198295829267127,0.0697889991970759,0.11578857074647259,0.15709193209539601,0.19086855529999017,0.21477792991504885,0.22717866043896612,0.2272829636266694,0.21522032143745223,0.19200125457544942,0.15939808685112006,0.11977340660728547,0.07588982051597973,0.030726606090507723,-0.012694503478172227],\"type\":\"scatter\"}],                        {\"template\":{\"data\":{\"histogram2dcontour\":[{\"type\":\"histogram2dcontour\",\"colorbar\":{\"outlinewidth\":0,\"ticks\":\"\"},\"colorscale\":[[0.0,\"#0d0887\"],[0.1111111111111111,\"#46039f\"],[0.2222222222222222,\"#7201a8\"],[0.3333333333333333,\"#9c179e\"],[0.4444444444444444,\"#bd3786\"],[0.5555555555555556,\"#d8576b\"],[0.6666666666666666,\"#ed7953\"],[0.7777777777777778,\"#fb9f3a\"],[0.8888888888888888,\"#fdca26\"],[1.0,\"#f0f921\"]]}],\"choropleth\":[{\"type\":\"choropleth\",\"colorbar\":{\"outlinewidth\":0,\"ticks\":\"\"}}],\"histogram2d\":[{\"type\":\"histogram2d\",\"colorbar\":{\"outlinewidth\":0,\"ticks\":\"\"},\"colorscale\":[[0.0,\"#0d0887\"],[0.1111111111111111,\"#46039f\"],[0.2222222222222222,\"#7201a8\"],[0.3333333333333333,\"#9c179e\"],[0.4444444444444444,\"#bd3786\"],[0.5555555555555556,\"#d8576b\"],[0.6666666666666666,\"#ed7953\"],[0.7777777777777778,\"#fb9f3a\"],[0.8888888888888888,\"#fdca26\"],[1.0,\"#f0f921\"]]}],\"heatmap\":[{\"type\":\"heatmap\",\"colorbar\":{\"outlinewidth\":0,\"ticks\":\"\"},\"colorscale\":[[0.0,\"#0d0887\"],[0.1111111111111111,\"#46039f\"],[0.2222222222222222,\"#7201a8\"],[0.3333333333333333,\"#9c179e\"],[0.4444444444444444,\"#bd3786\"],[0.5555555555555556,\"#d8576b\"],[0.6666666666666666,\"#ed7953\"],[0.7777777777777778,\"#fb9f3a\"],[0.8888888888888888,\"#fdca26\"],[1.0,\"#f0f921\"]]}],\"heatmapgl\":[{\"type\":\"heatmapgl\",\"colorbar\":{\"outlinewidth\":0,\"ticks\":\"\"},\"colorscale\":[[0.0,\"#0d0887\"],[0.1111111111111111,\"#46039f\"],[0.2222222222222222,\"#7201a8\"],[0.3333333333333333,\"#9c179e\"],[0.4444444444444444,\"#bd3786\"],[0.5555555555555556,\"#d8576b\"],[0.6666666666666666,\"#ed7953\"],[0.7777777777777778,\"#fb9f3a\"],[0.8888888888888888,\"#fdca26\"],[1.0,\"#f0f921\"]]}],\"contourcarpet\":[{\"type\":\"contourcarpet\",\"colorbar\":{\"outlinewidth\":0,\"ticks\":\"\"}}],\"contour\":[{\"type\":\"contour\",\"colorbar\":{\"outlinewidth\":0,\"ticks\":\"\"},\"colorscale\":[[0.0,\"#0d0887\"],[0.1111111111111111,\"#46039f\"],[0.2222222222222222,\"#7201a8\"],[0.3333333333333333,\"#9c179e\"],[0.4444444444444444,\"#bd3786\"],[0.5555555555555556,\"#d8576b\"],[0.6666666666666666,\"#ed7953\"],[0.7777777777777778,\"#fb9f3a\"],[0.8888888888888888,\"#fdca26\"],[1.0,\"#f0f921\"]]}],\"surface\":[{\"type\":\"surface\",\"colorbar\":{\"outlinewidth\":0,\"ticks\":\"\"},\"colorscale\":[[0.0,\"#0d0887\"],[0.1111111111111111,\"#46039f\"],[0.2222222222222222,\"#7201a8\"],[0.3333333333333333,\"#9c179e\"],[0.4444444444444444,\"#bd3786\"],[0.5555555555555556,\"#d8576b\"],[0.6666666666666666,\"#ed7953\"],[0.7777777777777778,\"#fb9f3a\"],[0.8888888888888888,\"#fdca26\"],[1.0,\"#f0f921\"]]}],\"mesh3d\":[{\"type\":\"mesh3d\",\"colorbar\":{\"outlinewidth\":0,\"ticks\":\"\"}}],\"scatter\":[{\"fillpattern\":{\"fillmode\":\"overlay\",\"size\":10,\"solidity\":0.2},\"type\":\"scatter\"}],\"parcoords\":[{\"type\":\"parcoords\",\"line\":{\"colorbar\":{\"outlinewidth\":0,\"ticks\":\"\"}}}],\"scatterpolargl\":[{\"type\":\"scatterpolargl\",\"marker\":{\"colorbar\":{\"outlinewidth\":0,\"ticks\":\"\"}}}],\"bar\":[{\"error_x\":{\"color\":\"#2a3f5f\"},\"error_y\":{\"color\":\"#2a3f5f\"},\"marker\":{\"line\":{\"color\":\"#E5ECF6\",\"width\":0.5},\"pattern\":{\"fillmode\":\"overlay\",\"size\":10,\"solidity\":0.2}},\"type\":\"bar\"}],\"scattergeo\":[{\"type\":\"scattergeo\",\"marker\":{\"colorbar\":{\"outlinewidth\":0,\"ticks\":\"\"}}}],\"scatterpolar\":[{\"type\":\"scatterpolar\",\"marker\":{\"colorbar\":{\"outlinewidth\":0,\"ticks\":\"\"}}}],\"histogram\":[{\"marker\":{\"pattern\":{\"fillmode\":\"overlay\",\"size\":10,\"solidity\":0.2}},\"type\":\"histogram\"}],\"scattergl\":[{\"type\":\"scattergl\",\"marker\":{\"colorbar\":{\"outlinewidth\":0,\"ticks\":\"\"}}}],\"scatter3d\":[{\"type\":\"scatter3d\",\"line\":{\"colorbar\":{\"outlinewidth\":0,\"ticks\":\"\"}},\"marker\":{\"colorbar\":{\"outlinewidth\":0,\"ticks\":\"\"}}}],\"scattermapbox\":[{\"type\":\"scattermapbox\",\"marker\":{\"colorbar\":{\"outlinewidth\":0,\"ticks\":\"\"}}}],\"scatterternary\":[{\"type\":\"scatterternary\",\"marker\":{\"colorbar\":{\"outlinewidth\":0,\"ticks\":\"\"}}}],\"scattercarpet\":[{\"type\":\"scattercarpet\",\"marker\":{\"colorbar\":{\"outlinewidth\":0,\"ticks\":\"\"}}}],\"carpet\":[{\"aaxis\":{\"endlinecolor\":\"#2a3f5f\",\"gridcolor\":\"white\",\"linecolor\":\"white\",\"minorgridcolor\":\"white\",\"startlinecolor\":\"#2a3f5f\"},\"baxis\":{\"endlinecolor\":\"#2a3f5f\",\"gridcolor\":\"white\",\"linecolor\":\"white\",\"minorgridcolor\":\"white\",\"startlinecolor\":\"#2a3f5f\"},\"type\":\"carpet\"}],\"table\":[{\"cells\":{\"fill\":{\"color\":\"#EBF0F8\"},\"line\":{\"color\":\"white\"}},\"header\":{\"fill\":{\"color\":\"#C8D4E3\"},\"line\":{\"color\":\"white\"}},\"type\":\"table\"}],\"barpolar\":[{\"marker\":{\"line\":{\"color\":\"#E5ECF6\",\"width\":0.5},\"pattern\":{\"fillmode\":\"overlay\",\"size\":10,\"solidity\":0.2}},\"type\":\"barpolar\"}],\"pie\":[{\"automargin\":true,\"type\":\"pie\"}]},\"layout\":{\"autotypenumbers\":\"strict\",\"colorway\":[\"#636efa\",\"#EF553B\",\"#00cc96\",\"#ab63fa\",\"#FFA15A\",\"#19d3f3\",\"#FF6692\",\"#B6E880\",\"#FF97FF\",\"#FECB52\"],\"font\":{\"color\":\"#2a3f5f\"},\"hovermode\":\"closest\",\"hoverlabel\":{\"align\":\"left\"},\"paper_bgcolor\":\"white\",\"plot_bgcolor\":\"#E5ECF6\",\"polar\":{\"bgcolor\":\"#E5ECF6\",\"angularaxis\":{\"gridcolor\":\"white\",\"linecolor\":\"white\",\"ticks\":\"\"},\"radialaxis\":{\"gridcolor\":\"white\",\"linecolor\":\"white\",\"ticks\":\"\"}},\"ternary\":{\"bgcolor\":\"#E5ECF6\",\"aaxis\":{\"gridcolor\":\"white\",\"linecolor\":\"white\",\"ticks\":\"\"},\"baxis\":{\"gridcolor\":\"white\",\"linecolor\":\"white\",\"ticks\":\"\"},\"caxis\":{\"gridcolor\":\"white\",\"linecolor\":\"white\",\"ticks\":\"\"}},\"coloraxis\":{\"colorbar\":{\"outlinewidth\":0,\"ticks\":\"\"}},\"colorscale\":{\"sequential\":[[0.0,\"#0d0887\"],[0.1111111111111111,\"#46039f\"],[0.2222222222222222,\"#7201a8\"],[0.3333333333333333,\"#9c179e\"],[0.4444444444444444,\"#bd3786\"],[0.5555555555555556,\"#d8576b\"],[0.6666666666666666,\"#ed7953\"],[0.7777777777777778,\"#fb9f3a\"],[0.8888888888888888,\"#fdca26\"],[1.0,\"#f0f921\"]],\"sequentialminus\":[[0.0,\"#0d0887\"],[0.1111111111111111,\"#46039f\"],[0.2222222222222222,\"#7201a8\"],[0.3333333333333333,\"#9c179e\"],[0.4444444444444444,\"#bd3786\"],[0.5555555555555556,\"#d8576b\"],[0.6666666666666666,\"#ed7953\"],[0.7777777777777778,\"#fb9f3a\"],[0.8888888888888888,\"#fdca26\"],[1.0,\"#f0f921\"]],\"diverging\":[[0,\"#8e0152\"],[0.1,\"#c51b7d\"],[0.2,\"#de77ae\"],[0.3,\"#f1b6da\"],[0.4,\"#fde0ef\"],[0.5,\"#f7f7f7\"],[0.6,\"#e6f5d0\"],[0.7,\"#b8e186\"],[0.8,\"#7fbc41\"],[0.9,\"#4d9221\"],[1,\"#276419\"]]},\"xaxis\":{\"gridcolor\":\"white\",\"linecolor\":\"white\",\"ticks\":\"\",\"title\":{\"standoff\":15},\"zerolinecolor\":\"white\",\"automargin\":true,\"zerolinewidth\":2},\"yaxis\":{\"gridcolor\":\"white\",\"linecolor\":\"white\",\"ticks\":\"\",\"title\":{\"standoff\":15},\"zerolinecolor\":\"white\",\"automargin\":true,\"zerolinewidth\":2},\"scene\":{\"xaxis\":{\"backgroundcolor\":\"#E5ECF6\",\"gridcolor\":\"white\",\"linecolor\":\"white\",\"showbackground\":true,\"ticks\":\"\",\"zerolinecolor\":\"white\",\"gridwidth\":2},\"yaxis\":{\"backgroundcolor\":\"#E5ECF6\",\"gridcolor\":\"white\",\"linecolor\":\"white\",\"showbackground\":true,\"ticks\":\"\",\"zerolinecolor\":\"white\",\"gridwidth\":2},\"zaxis\":{\"backgroundcolor\":\"#E5ECF6\",\"gridcolor\":\"white\",\"linecolor\":\"white\",\"showbackground\":true,\"ticks\":\"\",\"zerolinecolor\":\"white\",\"gridwidth\":2}},\"shapedefaults\":{\"line\":{\"color\":\"#2a3f5f\"}},\"annotationdefaults\":{\"arrowcolor\":\"#2a3f5f\",\"arrowhead\":0,\"arrowwidth\":1},\"geo\":{\"bgcolor\":\"white\",\"landcolor\":\"#E5ECF6\",\"subunitcolor\":\"white\",\"showland\":true,\"showlakes\":true,\"lakecolor\":\"white\"},\"title\":{\"x\":0.05},\"mapbox\":{\"style\":\"light\"}}},\"title\":{\"text\":\"Average Wind Speed Forecasts\"},\"yaxis\":{\"title\":{\"text\":\"Average Wind Speed\"}},\"xaxis\":{\"title\":{\"text\":\"Future Datetime\"}}},                        {\"responsive\": true}                    ).then(function(){\n",
              "                            \n",
              "var gd = document.getElementById('37fb250d-2ae9-4ddd-a37f-d66bab685d95');\n",
              "var x = new MutationObserver(function (mutations, observer) {{\n",
              "        var display = window.getComputedStyle(gd).display;\n",
              "        if (!display || display === 'none') {{\n",
              "            console.log([gd, 'removed!']);\n",
              "            Plotly.purge(gd);\n",
              "            observer.disconnect();\n",
              "        }}\n",
              "}});\n",
              "\n",
              "// Listen for the removal of the full notebook cells\n",
              "var notebookContainer = gd.closest('#notebook-container');\n",
              "if (notebookContainer) {{\n",
              "    x.observe(notebookContainer, {childList: true});\n",
              "}}\n",
              "\n",
              "// Listen for the clearing of the current output cell\n",
              "var outputEl = gd.closest('.output');\n",
              "if (outputEl) {{\n",
              "    x.observe(outputEl, {childList: true});\n",
              "}}\n",
              "\n",
              "                        })                };                            </script>        </div>\n",
              "</body>\n",
              "</html>"
            ]
          },
          "metadata": {}
        }
      ]
    }
  ]
}